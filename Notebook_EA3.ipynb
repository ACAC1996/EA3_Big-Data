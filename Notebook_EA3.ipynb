{
 "cells": [
  {
   "cell_type": "markdown",
   "metadata": {
    "application/vnd.databricks.v1+cell": {
     "cellMetadata": {},
     "inputWidgets": {},
     "nuid": "96816ed7-b08a-4ca3-abb9-f99880c3535d",
     "showTitle": false,
     "title": ""
    }
   },
   "source": [
    "\n",
    "## Overview\n",
    "\n",
    "This notebook will show you how to create and query a table or DataFrame that you uploaded to DBFS. [DBFS](https://docs.databricks.com/user-guide/dbfs-databricks-file-system.html) is a Databricks File System that allows you to store data for querying inside of Databricks. This notebook assumes that you have a file already inside of DBFS that you would like to read from.\n",
    "\n",
    "This notebook is written in **Python** so the default cell type is Python. However, you can use different languages by using the `%LANGUAGE` syntax. Python, Scala, SQL, and R are all supported."
   ]
  },
  {
   "cell_type": "markdown",
   "metadata": {
    "application/vnd.databricks.v1+cell": {
     "cellMetadata": {},
     "inputWidgets": {},
     "nuid": "5e17be5c-651c-411b-a360-3f27baae0b5a",
     "showTitle": false,
     "title": ""
    }
   },
   "source": [
    "# Evidencia de aprendizaje 3\n",
    "# Por Andres Camilo Arango Calle\n",
    "# Asignatura: Big Data\n",
    "# Grupo: PREICA2401B020087\n",
    "# Institución Universitaria Digital de Antioquia\n"
   ]
  },
  {
   "cell_type": "markdown",
   "metadata": {
    "application/vnd.databricks.v1+cell": {
     "cellMetadata": {},
     "inputWidgets": {},
     "nuid": "96a23989-e044-4c08-b368-da7b641b1f9a",
     "showTitle": false,
     "title": ""
    }
   },
   "source": [
    "## Creación DataFrames a partir de los archivos CSV"
   ]
  },
  {
   "cell_type": "markdown",
   "metadata": {
    "application/vnd.databricks.v1+cell": {
     "cellMetadata": {},
     "inputWidgets": {},
     "nuid": "539015a7-a4c7-4ca7-a52f-8cb3f514e7a7",
     "showTitle": false,
     "title": ""
    }
   },
   "source": []
  },
  {
   "cell_type": "code",
   "execution_count": 0,
   "metadata": {
    "application/vnd.databricks.v1+cell": {
     "cellMetadata": {
      "byteLimit": 2048000,
      "rowLimit": 10000
     },
     "inputWidgets": {},
     "nuid": "6482be4c-f067-47c9-b0ac-35c938b94601",
     "showTitle": false,
     "title": ""
    }
   },
   "outputs": [
    {
     "output_type": "display_data",
     "data": {
      "text/html": [
       "<style scoped>\n",
       "  .table-result-container {\n",
       "    max-height: 300px;\n",
       "    overflow: auto;\n",
       "  }\n",
       "  table, th, td {\n",
       "    border: 1px solid black;\n",
       "    border-collapse: collapse;\n",
       "  }\n",
       "  th, td {\n",
       "    padding: 5px;\n",
       "  }\n",
       "  th {\n",
       "    text-align: left;\n",
       "  }\n",
       "</style><div class='table-result-container'><table class='table-result'><thead style='background-color: white'><tr><th>codigo_municipio</th><th>nombre_municipio</th></tr></thead><tbody><tr><td>5001</td><td>MEDELLÍN</td></tr><tr><td>5002</td><td>ABEJORRAL</td></tr><tr><td>5004</td><td>ABRIAQUÍ</td></tr><tr><td>5021</td><td>ALEJANDRÍA</td></tr><tr><td>5030</td><td>AMAGÁ</td></tr><tr><td>5031</td><td>AMALFI</td></tr><tr><td>5034</td><td>ANDES</td></tr><tr><td>5036</td><td>ANGELÓPOLIS</td></tr><tr><td>5038</td><td>ANGOSTURA</td></tr><tr><td>5040</td><td>ANORÍ</td></tr><tr><td>5044</td><td>ANZA</td></tr><tr><td>5045</td><td>APARTADÓ</td></tr><tr><td>5051</td><td>ARBOLETES</td></tr><tr><td>5055</td><td>ARGELIA</td></tr><tr><td>5059</td><td>ARMENIA</td></tr><tr><td>5079</td><td>BARBOSA</td></tr><tr><td>5088</td><td>BELLO</td></tr><tr><td>5091</td><td>BETANIA</td></tr><tr><td>5093</td><td>BETULIA</td></tr><tr><td>5101</td><td>CIUDAD BOLÍVAR</td></tr><tr><td>5107</td><td>BRICEÑO</td></tr><tr><td>5113</td><td>BURITICÁ</td></tr><tr><td>5120</td><td>CÁCERES</td></tr><tr><td>5125</td><td>CAICEDO</td></tr><tr><td>5129</td><td>CALDAS</td></tr><tr><td>5134</td><td>CAMPAMENTO</td></tr><tr><td>5138</td><td>CAÑASGORDAS</td></tr><tr><td>5142</td><td>CARACOLÍ</td></tr><tr><td>5145</td><td>CARAMANTA</td></tr><tr><td>5147</td><td>CAREPA</td></tr><tr><td>5150</td><td>CAROLINA</td></tr><tr><td>5154</td><td>CAUCASIA</td></tr><tr><td>5172</td><td>CHIGORODÓ</td></tr><tr><td>5190</td><td>CISNEROS</td></tr><tr><td>5197</td><td>COCORNÁ</td></tr><tr><td>5206</td><td>CONCEPCIÓN</td></tr><tr><td>5209</td><td>CONCORDIA</td></tr><tr><td>5212</td><td>COPACABANA</td></tr><tr><td>5234</td><td>DABEIBA</td></tr><tr><td>5237</td><td>DONMATÍAS</td></tr><tr><td>5240</td><td>EBÉJICO</td></tr><tr><td>5250</td><td>EL BAGRE</td></tr><tr><td>5264</td><td>ENTRERRIOS</td></tr><tr><td>5266</td><td>ENVIGADO</td></tr><tr><td>5282</td><td>FREDONIA</td></tr><tr><td>5306</td><td>GIRALDO</td></tr><tr><td>5308</td><td>GIRARDOTA</td></tr><tr><td>5310</td><td>GÓMEZ PLATA</td></tr><tr><td>5315</td><td>GUADALUPE</td></tr><tr><td>5318</td><td>GUARNE</td></tr><tr><td>5321</td><td>GUATAPE</td></tr><tr><td>5347</td><td>HELICONIA</td></tr><tr><td>5353</td><td>HISPANIA</td></tr><tr><td>5360</td><td>ITAGUI</td></tr><tr><td>5361</td><td>ITUANGO</td></tr><tr><td>5086</td><td>BELMIRA</td></tr><tr><td>5368</td><td>JERICÓ</td></tr><tr><td>5376</td><td>LA CEJA</td></tr><tr><td>5380</td><td>LA ESTRELLA</td></tr><tr><td>5390</td><td>LA PINTADA</td></tr><tr><td>5400</td><td>LA UNIÓN</td></tr><tr><td>5411</td><td>LIBORINA</td></tr><tr><td>5425</td><td>MACEO</td></tr><tr><td>5440</td><td>MARINILLA</td></tr><tr><td>5467</td><td>MONTEBELLO</td></tr><tr><td>5475</td><td>MURINDÓ</td></tr><tr><td>5480</td><td>MUTATÁ</td></tr><tr><td>5483</td><td>NARIÑO</td></tr><tr><td>5490</td><td>NECOCLÍ</td></tr><tr><td>5495</td><td>NECHÍ</td></tr><tr><td>5501</td><td>OLAYA</td></tr><tr><td>5541</td><td>PEÑOL</td></tr><tr><td>5543</td><td>PEQUE</td></tr><tr><td>5576</td><td>PUEBLORRICO</td></tr><tr><td>5579</td><td>PUERTO BERRÍO</td></tr><tr><td>5585</td><td>PUERTO NARE</td></tr><tr><td>5591</td><td>PUERTO TRIUNFO</td></tr><tr><td>5604</td><td>REMEDIOS</td></tr><tr><td>5607</td><td>RETIRO</td></tr><tr><td>5615</td><td>RIONEGRO</td></tr><tr><td>5628</td><td>SABANALARGA</td></tr><tr><td>5631</td><td>SABANETA</td></tr><tr><td>5642</td><td>SALGAR</td></tr><tr><td>5652</td><td>SAN FRANCISCO</td></tr><tr><td>5656</td><td>SAN JERÓNIMO</td></tr><tr><td>5660</td><td>SAN LUIS</td></tr><tr><td>5664</td><td>SAN PEDRO DE LOS MILAGROS</td></tr><tr><td>5667</td><td>SAN RAFAEL</td></tr><tr><td>5670</td><td>SAN ROQUE</td></tr><tr><td>5674</td><td>SAN VICENTE FERRER</td></tr><tr><td>5679</td><td>SANTA BÁRBARA</td></tr><tr><td>5690</td><td>SANTO DOMINGO</td></tr><tr><td>5697</td><td>EL SANTUARIO</td></tr><tr><td>5736</td><td>SEGOVIA</td></tr><tr><td>5761</td><td>SOPETRÁN</td></tr><tr><td>5789</td><td>TÁMESIS</td></tr><tr><td>5790</td><td>TARAZÁ</td></tr><tr><td>5792</td><td>TARSO</td></tr><tr><td>5809</td><td>TITIRIBÍ</td></tr><tr><td>5819</td><td>TOLEDO</td></tr><tr><td>5837</td><td>TURBO</td></tr><tr><td>5842</td><td>URAMITA</td></tr><tr><td>5847</td><td>URRAO</td></tr><tr><td>5854</td><td>VALDIVIA</td></tr><tr><td>5856</td><td>VALPARAÍSO</td></tr><tr><td>5858</td><td>VEGACHÍ</td></tr><tr><td>5861</td><td>VENECIA</td></tr><tr><td>5885</td><td>YALÍ</td></tr><tr><td>5887</td><td>YARUMAL</td></tr><tr><td>5890</td><td>YOLOMBÓ</td></tr><tr><td>5893</td><td>YONDÓ</td></tr><tr><td>5895</td><td>ZARAGOZA</td></tr><tr><td>5665</td><td>SAN PEDRO DE URABA</td></tr><tr><td>5042</td><td>SANTAFÉ DE ANTIOQUIA</td></tr><tr><td>5686</td><td>SANTA ROSA DE OSOS</td></tr><tr><td>5647</td><td>SAN ANDRÉS DE CUERQUÍA</td></tr><tr><td>5873</td><td>VIGÍA DEL FUERTE</td></tr><tr><td>5658</td><td>SAN JOSÉ DE LA MONTAÑA</td></tr><tr><td>5659</td><td>SAN JUAN DE URABÁ</td></tr><tr><td>5148</td><td>EL CARMEN DE VIBORAL</td></tr><tr><td>5649</td><td>SAN CARLOS</td></tr><tr><td>5284</td><td>FRONTINO</td></tr><tr><td>5313</td><td>GRANADA</td></tr><tr><td>5364</td><td>JARDÍN</td></tr><tr><td>5756</td><td>SONSON</td></tr></tbody></table></div>"
      ]
     },
     "metadata": {
      "application/vnd.databricks.v1+output": {
       "addedWidgets": {},
       "aggData": [],
       "aggError": "",
       "aggOverflow": false,
       "aggSchema": [],
       "aggSeriesLimitReached": false,
       "aggType": "",
       "arguments": {},
       "columnCustomDisplayInfos": {},
       "data": [
        [
         "5001",
         "MEDELLÍN"
        ],
        [
         "5002",
         "ABEJORRAL"
        ],
        [
         "5004",
         "ABRIAQUÍ"
        ],
        [
         "5021",
         "ALEJANDRÍA"
        ],
        [
         "5030",
         "AMAGÁ"
        ],
        [
         "5031",
         "AMALFI"
        ],
        [
         "5034",
         "ANDES"
        ],
        [
         "5036",
         "ANGELÓPOLIS"
        ],
        [
         "5038",
         "ANGOSTURA"
        ],
        [
         "5040",
         "ANORÍ"
        ],
        [
         "5044",
         "ANZA"
        ],
        [
         "5045",
         "APARTADÓ"
        ],
        [
         "5051",
         "ARBOLETES"
        ],
        [
         "5055",
         "ARGELIA"
        ],
        [
         "5059",
         "ARMENIA"
        ],
        [
         "5079",
         "BARBOSA"
        ],
        [
         "5088",
         "BELLO"
        ],
        [
         "5091",
         "BETANIA"
        ],
        [
         "5093",
         "BETULIA"
        ],
        [
         "5101",
         "CIUDAD BOLÍVAR"
        ],
        [
         "5107",
         "BRICEÑO"
        ],
        [
         "5113",
         "BURITICÁ"
        ],
        [
         "5120",
         "CÁCERES"
        ],
        [
         "5125",
         "CAICEDO"
        ],
        [
         "5129",
         "CALDAS"
        ],
        [
         "5134",
         "CAMPAMENTO"
        ],
        [
         "5138",
         "CAÑASGORDAS"
        ],
        [
         "5142",
         "CARACOLÍ"
        ],
        [
         "5145",
         "CARAMANTA"
        ],
        [
         "5147",
         "CAREPA"
        ],
        [
         "5150",
         "CAROLINA"
        ],
        [
         "5154",
         "CAUCASIA"
        ],
        [
         "5172",
         "CHIGORODÓ"
        ],
        [
         "5190",
         "CISNEROS"
        ],
        [
         "5197",
         "COCORNÁ"
        ],
        [
         "5206",
         "CONCEPCIÓN"
        ],
        [
         "5209",
         "CONCORDIA"
        ],
        [
         "5212",
         "COPACABANA"
        ],
        [
         "5234",
         "DABEIBA"
        ],
        [
         "5237",
         "DONMATÍAS"
        ],
        [
         "5240",
         "EBÉJICO"
        ],
        [
         "5250",
         "EL BAGRE"
        ],
        [
         "5264",
         "ENTRERRIOS"
        ],
        [
         "5266",
         "ENVIGADO"
        ],
        [
         "5282",
         "FREDONIA"
        ],
        [
         "5306",
         "GIRALDO"
        ],
        [
         "5308",
         "GIRARDOTA"
        ],
        [
         "5310",
         "GÓMEZ PLATA"
        ],
        [
         "5315",
         "GUADALUPE"
        ],
        [
         "5318",
         "GUARNE"
        ],
        [
         "5321",
         "GUATAPE"
        ],
        [
         "5347",
         "HELICONIA"
        ],
        [
         "5353",
         "HISPANIA"
        ],
        [
         "5360",
         "ITAGUI"
        ],
        [
         "5361",
         "ITUANGO"
        ],
        [
         "5086",
         "BELMIRA"
        ],
        [
         "5368",
         "JERICÓ"
        ],
        [
         "5376",
         "LA CEJA"
        ],
        [
         "5380",
         "LA ESTRELLA"
        ],
        [
         "5390",
         "LA PINTADA"
        ],
        [
         "5400",
         "LA UNIÓN"
        ],
        [
         "5411",
         "LIBORINA"
        ],
        [
         "5425",
         "MACEO"
        ],
        [
         "5440",
         "MARINILLA"
        ],
        [
         "5467",
         "MONTEBELLO"
        ],
        [
         "5475",
         "MURINDÓ"
        ],
        [
         "5480",
         "MUTATÁ"
        ],
        [
         "5483",
         "NARIÑO"
        ],
        [
         "5490",
         "NECOCLÍ"
        ],
        [
         "5495",
         "NECHÍ"
        ],
        [
         "5501",
         "OLAYA"
        ],
        [
         "5541",
         "PEÑOL"
        ],
        [
         "5543",
         "PEQUE"
        ],
        [
         "5576",
         "PUEBLORRICO"
        ],
        [
         "5579",
         "PUERTO BERRÍO"
        ],
        [
         "5585",
         "PUERTO NARE"
        ],
        [
         "5591",
         "PUERTO TRIUNFO"
        ],
        [
         "5604",
         "REMEDIOS"
        ],
        [
         "5607",
         "RETIRO"
        ],
        [
         "5615",
         "RIONEGRO"
        ],
        [
         "5628",
         "SABANALARGA"
        ],
        [
         "5631",
         "SABANETA"
        ],
        [
         "5642",
         "SALGAR"
        ],
        [
         "5652",
         "SAN FRANCISCO"
        ],
        [
         "5656",
         "SAN JERÓNIMO"
        ],
        [
         "5660",
         "SAN LUIS"
        ],
        [
         "5664",
         "SAN PEDRO DE LOS MILAGROS"
        ],
        [
         "5667",
         "SAN RAFAEL"
        ],
        [
         "5670",
         "SAN ROQUE"
        ],
        [
         "5674",
         "SAN VICENTE FERRER"
        ],
        [
         "5679",
         "SANTA BÁRBARA"
        ],
        [
         "5690",
         "SANTO DOMINGO"
        ],
        [
         "5697",
         "EL SANTUARIO"
        ],
        [
         "5736",
         "SEGOVIA"
        ],
        [
         "5761",
         "SOPETRÁN"
        ],
        [
         "5789",
         "TÁMESIS"
        ],
        [
         "5790",
         "TARAZÁ"
        ],
        [
         "5792",
         "TARSO"
        ],
        [
         "5809",
         "TITIRIBÍ"
        ],
        [
         "5819",
         "TOLEDO"
        ],
        [
         "5837",
         "TURBO"
        ],
        [
         "5842",
         "URAMITA"
        ],
        [
         "5847",
         "URRAO"
        ],
        [
         "5854",
         "VALDIVIA"
        ],
        [
         "5856",
         "VALPARAÍSO"
        ],
        [
         "5858",
         "VEGACHÍ"
        ],
        [
         "5861",
         "VENECIA"
        ],
        [
         "5885",
         "YALÍ"
        ],
        [
         "5887",
         "YARUMAL"
        ],
        [
         "5890",
         "YOLOMBÓ"
        ],
        [
         "5893",
         "YONDÓ"
        ],
        [
         "5895",
         "ZARAGOZA"
        ],
        [
         "5665",
         "SAN PEDRO DE URABA"
        ],
        [
         "5042",
         "SANTAFÉ DE ANTIOQUIA"
        ],
        [
         "5686",
         "SANTA ROSA DE OSOS"
        ],
        [
         "5647",
         "SAN ANDRÉS DE CUERQUÍA"
        ],
        [
         "5873",
         "VIGÍA DEL FUERTE"
        ],
        [
         "5658",
         "SAN JOSÉ DE LA MONTAÑA"
        ],
        [
         "5659",
         "SAN JUAN DE URABÁ"
        ],
        [
         "5148",
         "EL CARMEN DE VIBORAL"
        ],
        [
         "5649",
         "SAN CARLOS"
        ],
        [
         "5284",
         "FRONTINO"
        ],
        [
         "5313",
         "GRANADA"
        ],
        [
         "5364",
         "JARDÍN"
        ],
        [
         "5756",
         "SONSON"
        ]
       ],
       "datasetInfos": [],
       "dbfsResultPath": null,
       "isJsonSchema": true,
       "metadata": {},
       "overflow": false,
       "plotOptions": {
        "customPlotOptions": {},
        "displayType": "table",
        "pivotAggregation": null,
        "pivotColumns": null,
        "xColumns": null,
        "yColumns": null
       },
       "removedWidgets": [],
       "schema": [
        {
         "metadata": "{}",
         "name": "codigo_municipio",
         "type": "\"string\""
        },
        {
         "metadata": "{}",
         "name": "nombre_municipio",
         "type": "\"string\""
        }
       ],
       "type": "table"
      }
     },
     "output_type": "display_data"
    },
    {
     "output_type": "display_data",
     "data": {
      "text/html": [
       "<style scoped>\n",
       "  .table-result-container {\n",
       "    max-height: 300px;\n",
       "    overflow: auto;\n",
       "  }\n",
       "  table, th, td {\n",
       "    border: 1px solid black;\n",
       "    border-collapse: collapse;\n",
       "  }\n",
       "  th, td {\n",
       "    padding: 5px;\n",
       "  }\n",
       "  th {\n",
       "    text-align: left;\n",
       "  }\n",
       "</style><div class='table-result-container'><table class='table-result'><thead style='background-color: white'><tr><th>codigo_municipio</th><th>nombre_alcalde</th><th>titulo_alcalde</th><th>telefono_alcalde</th><th>email_alcalde</th></tr></thead><tbody><tr><td>5001</td><td>FEDERICO GUTIÉRREZ ZULUAGA</td><td>Alcalde</td><td>4444144-3855208-3855209</td><td>federico.gutierrez@medellin.gov.co</td></tr><tr><td>5002</td><td>MANUEL ALBERTO GUZMÁN MARÍN</td><td>Alcalde</td><td>8647611-8647384 Ext 102 - 8647182-8647004)</td><td>alcalde@abejorral-antioquia.gov.co</td></tr><tr><td>5004</td><td>DANIEL ALBERTO SALAS GALLEGO</td><td>Alcalde</td><td>8520024-8520086-8520019-8520120</td><td>alcaldia@abriaqui-antioquia.gov.co</td></tr><tr><td>5021</td><td>GLORIA CECILIA NARANJO OSORIO</td><td>Alcaldesa</td><td>8660102-8660016-866 0140-8660133</td><td>alcaldia@alejandria-antioquia.gov.co</td></tr><tr><td>5030</td><td>WILSER DARÍO MOLINA MOLINA</td><td>Alcalde</td><td>8472122-8474920-8470126</td><td>alcaldia@amaga-antioquia.gov.co</td></tr><tr><td>5031</td><td>WILMAR ALONSO VÉLEZ LONDOÑO</td><td>Alcalde</td><td>8301919 - 8300155</td><td>alcaldia@amalfi-antioquia.gov.co</td></tr><tr><td>5034</td><td>GERMÁN ALEXANDER VÉLEZ OROZCO</td><td>Alcalde</td><td>8414101-8414619-8414291-8414652</td><td>alcaldia@andes-antioquia.gov.co</td></tr><tr><td>5036</td><td>JOSÉ LUIS MONTOYA QUICENO</td><td>Alcalde</td><td>8421948-8421793</td><td>alcaldia@angelopolis-antioquia.gov.co</td></tr><tr><td>5038</td><td>VÍCTOR IGNACIO MEDINA GÓMEZ</td><td>Alcalde</td><td>8645161-8645046-8645162</td><td>alcaldia@angostura-antioquia.gov.co</td></tr><tr><td>5040</td><td>GUSTAVO ALFREDO SILVA GUTIÉRREZ</td><td>Alcalde</td><td>8350842-8350404-8350449-8350849</td><td>alcaldia@anori-antioquia.gov.co</td></tr><tr><td>5044</td><td>JUAN GUILLERMO HINCAPIÉ FIGUEROA</td><td>Alcalde</td><td>8522082-8522042-8522102</td><td>alcaldia@anza-antioquia.gov.co</td></tr><tr><td>5045</td><td>HÉCTOR RANGEL PALACIOS RODRÍGUEZ</td><td>Alcalde</td><td>8280457-8281038-8282188</td><td>alcaldia@apartado.gov.co</td></tr><tr><td>5051</td><td>ÁLVARO GONZÁLEZ ÁVILA</td><td>Alcalde</td><td>8200367-8200973-8201289-8200130</td><td>alcaldia@arboletes-antioquia.gov.co</td></tr><tr><td>5055</td><td>DIEGO ALEXANDER LÓPEZ GIRALDO</td><td>Alcalde</td><td>8650077-8650106-8650405-8650057</td><td>alcaldia@argelia-antioquia.gov.co</td></tr><tr><td>5059</td><td>MARTHA LIBIA PARRA GIL</td><td>Alcaldesa</td><td>8559015-8559064</td><td>alcaldia@armenia-antioquia.gov.co</td></tr><tr><td>5079</td><td>JUAN DAVID ROJAS AGUDELO</td><td>Alcalde</td><td>4548300-4548311-4548311-4065441-4065441</td><td>alcaldia@barbosa.gov.co</td></tr><tr><td>5088</td><td>YULIETH LORENA GONZÁLEZ OSPINA</td><td>Alcaldesa</td><td>604 79 44</td><td>contactenos@bello.gov.co</td></tr><tr><td>5086</td><td>DARCY ESTEBAN ARBOLEDA RUA</td><td>Alcalde</td><td>8674030</td><td>alcaldia@belmira-antioquia.gov.co</td></tr><tr><td>5091</td><td>DIEGO ARLEY DE JESÚS GUERRA GUTIÉRREZ</td><td>Alcalde</td><td>8435127 Ext 105- 8435180</td><td>alcaldia@betania-antioquia.gov.co</td></tr><tr><td>5093</td><td>NÉSTOR CAMILO SERNA HERNÁNDEZ</td><td>Alcalde</td><td>8436093-8436157-8430631</td><td>alcaldia@betulia-antioquia.gov.co</td></tr><tr><td>5107</td><td>NOÉ DE JESÚS ESPINOSA VÁSQUEZ</td><td>Alcalde</td><td>8570051-8570140</td><td>alcaldia@briceno-antioquia.gov.co</td></tr><tr><td>5113</td><td>JOSÉ LUIS RODRÍGUEZ ÚSUGA</td><td>Alcalde</td><td>8527015-8527041</td><td>alcaldia@buritica-antioquia.gov.co</td></tr><tr><td>5120</td><td>DAMIANA MARÍA MONTERROSA PÉREZ</td><td>Alcaldesa</td><td>8362201-8362203-8362202</td><td>alcaldia@caceres-antioquia.gov.co</td></tr><tr><td>5125</td><td>YÚBER FELIPE MOLINA MURILLO</td><td>Alcalde</td><td>8572002 Ext 103 - 8572134</td><td>alcaldia@caicedo-antioquia.gov.co</td></tr><tr><td>5129</td><td>JORGE MARIO RENDÓN VÉLEZ</td><td>Alcalde</td><td>3788500 - 3788504 - 3788515 - 3788502</td><td>alcaldia@caldasantioquia.gov.co</td></tr><tr><td>5134</td><td>CRISTIÁN ÁNDRÉS AGUDELO POSADA</td><td>Alcalde</td><td>8614020-8614055-8614229</td><td>alcaldia@campamento-antioquia.gov.co</td></tr><tr><td>5138</td><td>DIEGO ALONSO VANEGAS ARANGO</td><td>Alcalde</td><td>8564101-8564903-8564319</td><td>alcaldia@canasgordas-antioquia.gov.co</td></tr><tr><td>5142</td><td>RODRIGO ALVEIRO CADAVID HERRERA</td><td>Alcalde</td><td>8336025 Ext 102-8336045</td><td>alcaldia@caracoli-antioquia.gov.co</td></tr><tr><td>5145</td><td>JUAN ESTEBAN CORREA CÁRDENAS</td><td>Alcalde</td><td>8553354 - 8553414 - 8553310</td><td>alcaldia@caramanta-antioquia.gov.co</td></tr><tr><td>5147</td><td>AGAPITO MURILLO PALACIOS</td><td>Alcalde</td><td>8239402- 8236706- 8236581-8237131</td><td>alcaldia@carepa-antioquia.gov.co</td></tr><tr><td>5150</td><td>ANA ISABEL AVENDAÑO DUQUE</td><td>Alcaldesa</td><td>8634033-8634259 Ext 103 - 8434029</td><td>alcaldia@carolinadelprincipe-antioquia.gov.co</td></tr><tr><td>5154</td><td>JHOAN ODERIS MONTES CORTÉS</td><td>Alcalde</td><td>8391595 - 8394444</td><td>alcaldia@caucasia-antioquia.gov.co</td></tr><tr><td>5190</td><td>LINA MARÍA CORREA VALENCIA</td><td>Alcaldesa</td><td>8631567</td><td>alcaldia@cisneros-antioquia.gov.co</td></tr><tr><td>5101</td><td>LEÓN DARÍO ACEVEDO VARGAS</td><td>Alcalde</td><td>8411183 Ext 12-8412552 - 8411144</td><td>alcaldia@ciudadbolivar-antioquia.gov.co</td></tr><tr><td>5197</td><td>DAVID ALEJANDRO GÓMEZ HOYOS</td><td>Alcalde</td><td>8343404-8343425-8343096-8343529</td><td>alcaldia@cocorna-antioquia.gov.co</td></tr><tr><td>5206</td><td>ADRIÁN HENAO CARVAJAL</td><td>Alcalde</td><td>8567084-8567274-8567176-8567034</td><td>alcaldia@concepcion-antioquia.gov.co</td></tr><tr><td>5209</td><td>ALEXANDRA MARÍA HERRERA QUIJANO</td><td>Alcaldesa</td><td>8446089-8446101-8446275-8447492</td><td>alcaldia@concordia-antioquia.gov.co</td></tr><tr><td>5212</td><td>JOHNNATAN ANDRÉS PINEDA AGUDELO</td><td>Alcalde</td><td>2740069-2740041-2742582</td><td>alcaldia@copacabana.gov.co</td></tr><tr><td>5172</td><td>TULIA IRENE RUIZ GARCÍA</td><td>Alcaldesa</td><td>8253630 - 8253868 - 8255885</td><td>alcaldia@chigorodo-antioquia.gov.co</td></tr><tr><td>5234</td><td>DANIEL HIGUITA HERRERA</td><td>Alcalde</td><td>8590300-8590475-8591234-8591293</td><td>alcaldia@dabeiba-antioquia.gov.co</td></tr><tr><td>5237</td><td>JAVIER DARÍO LÓPEZ RESTREPO</td><td>Alcalde</td><td>8663243-8666230 Ext 109</td><td>alcaldia@donmatias-antioquia.gov.co</td></tr><tr><td>5240</td><td>DAVID ALONSO RESTREPO CASTRILLÓN</td><td>Alcalde</td><td>8562190 EXT 101-8562016</td><td>alcaldia@ebejico-antioquia.gov.co</td></tr><tr><td>5250</td><td>MARCO FIDEL TRESPALACIO BULLOSO</td><td>Alcalde</td><td>8372429</td><td>alcaldia@elbagre-antioquia.gov.co</td></tr><tr><td>5148</td><td>HUGO ALFONSO JÍMENEZ CUERVO</td><td>Alcalde</td><td>5432000 Ext 129 - 5432467-5432116-5432020-5432149</td><td>alcaldia@elcarmendeviboral-antioquia.gov.co</td></tr><tr><td>5541</td><td>SANDRA ARELIS DUQUE VELÁSQUEZ</td><td>Alcaldesa</td><td>8515855-8515851-8515944</td><td>alcaldia@elpenol-antioquia.gov.co</td></tr><tr><td>5607</td><td>SANTIAGO MONTOYA GIRALDO</td><td>Alcalde</td><td>5411860-5410175-5413067-5410180-5410190</td><td>alcaldia@elretiro.gov.co</td></tr><tr><td>5697</td><td>MARTÍN ALBERTO DUQUE GALLO</td><td>Alcalde</td><td>5460080 Ext 101-5461172-5460201-5461362</td><td>despachoalcaldia@elsantuario-antioquia.gov.co</td></tr><tr><td>5264</td><td>JULIO CÉSAR LOPERA POSADA</td><td>Alcalde</td><td>8670411-8670147-8670412</td><td>alcaldia@entrerrios-antioquia.gov.co</td></tr><tr><td>5266</td><td>RAÚL EDUARDO CARDONA GONZÁLEZ</td><td>Alcalde</td><td>3394000 - 3394017  - 3394018</td><td>alcaldia@envigado.gov.co</td></tr><tr><td>5282</td><td>ALDUBAR DE JESÚS VANEGAS MARÍN</td><td>Alcalde</td><td>8401264-8401026-8402096-8401393-8402334</td><td>alcaldia@fredonia-antioquia.gov.co</td></tr><tr><td>5284</td><td>LUZ GABRIELA RIVERA CANO</td><td>Alcaldesa</td><td>8595032 Ext 0-8595037-8595835</td><td>alcaldia@frontino-antioquia.gov.co</td></tr><tr><td>5306</td><td>MARÍA CAMILA MANCO SUÁREZ</td><td>Alcaldesa</td><td>8571107 Ext 108-8571106</td><td>alcaldia@giraldo-antioquia.gov.co</td></tr><tr><td>5308</td><td>KEVIN RENÉ BERNAL MORALES</td><td>Alcalde</td><td>4054200 Ext 102-4052050</td><td>contactenos@girardota.gov.co</td></tr><tr><td>5310</td><td>LUIS GUILLERMO PÉREZ ECHEVERRI</td><td>Alcalde</td><td>8627704-8627806-8627522</td><td>alcaldia@gomezplata-antioquia.gov.co</td></tr><tr><td>5313</td><td>DANIEL ANDRÉS HOYOS YEPES</td><td>Alcalde</td><td>8320549 - 8320802</td><td>alcalde@granada-antioquia.gov.co</td></tr><tr><td>5315</td><td>JOSÉ FERNANDO SALAZAR OSPINA</td><td>Alcalde</td><td>8616440 Ext 103 - 8616066</td><td>alcaldia@guadalupe-antioquia.gov.co</td></tr><tr><td>5318</td><td>DIEGO MAURICIO GRISALES GALLEGO</td><td>Alcalde</td><td>5510025-5511026-5510044-5511733</td><td>alcaldia@guarne-antioquia.gov.co</td></tr><tr><td>5321</td><td>DAVID ESTEBAN FRANCO VALLEJO</td><td>Alcalde</td><td>8610539-8610555 Ext 12</td><td>alcaldia@guatape-antioquia.gov.co</td></tr><tr><td>5347</td><td>JORGE ALEXANDER ÁLVAREZ ARANGO</td><td>Alcalde</td><td>8549635 Ext 115</td><td>alcaldia@heliconia-antioquia.gov.co</td></tr><tr><td>5353</td><td>ORLANDO ARTURO MARÍN ATEHORTUA</td><td>Alcalde</td><td>8432862-8432249</td><td>alcaldia@hispania-antioquia.gov.co</td></tr><tr><td>5360</td><td>DIEGO LEÓN TORRES SÁNCHEZ</td><td>Alcalde</td><td>3737676-3764879</td><td>contactenos@itagui.gov.co</td></tr><tr><td>5361</td><td>JAVIER DE JESÚS PARIAS POSSO</td><td>Alcalde</td><td>8643020-8643174-8643175</td><td>alcaldia@ituango-antioquia.gov.co</td></tr><tr><td>5364</td><td>CLAUDIA YANETH NARANJO AGUDELO</td><td>Alcaldesa</td><td>8455550-8455684-8455520</td><td>despachoalcalde@eljardin-antioquia.gov.co</td></tr><tr><td>5368</td><td>SEBASTIÁN GARCÉS PIEDRAHITA</td><td>Alcalde</td><td>8523101-8523502-8523665-8524278</td><td>alcaldia@jerico-antioquia.gov.co</td></tr><tr><td>5376</td><td>MARÍA ILBED SANTA SANTA</td><td>Alcaldesa</td><td>5531414 Ext 101-114</td><td>alcaldia@laceja-antioquia.gov.co</td></tr><tr><td>5380</td><td>CARLOS MARIO GUTIÉRREZ</td><td>Alcalde</td><td>3092687 - 2795841 - 2790058</td><td>alcalde@laestrella.gov.co</td></tr><tr><td>5390</td><td>HERMÁN ANTONIO CORREA BEDOYA</td><td>Alcalde</td><td>8453562-8454216</td><td>alcaldia@lapintada-antioquia.gov.co</td></tr><tr><td>5400</td><td>CARMEN JUDITH VALENCIA MORENO</td><td>Alcaldesa</td><td>5560610-5560654-5560630</td><td>alcaldia@launion-antioquia.gov.co</td></tr><tr><td>5411</td><td>NANCY AMPARO AVENDAÑO MORENO</td><td>Alcaldesa</td><td>8561865-8561113</td><td>alcaldia@liborina-antioquia.gov.co</td></tr><tr><td>5425</td><td>CAROLINA ANDREA SOSA GÓMEZ</td><td>Alcaldesa</td><td>8640209-8640277-8640217</td><td>alcaldia@maceo-antioquia.gov.co</td></tr><tr><td>5440</td><td>JULIO CÉSAR SERNA GÓMEZ</td><td>Alcalde</td><td>5484410-5484101-5484884-5480265</td><td>alcaldia@marinilla-antioquia.gov.co</td></tr><tr><td>5467</td><td>ÓSCAR ERNESTO CUERVO VILLADA</td><td>Alcalde</td><td>8480564 Ext 103-8480561</td><td>alcaldia@montebello-antioquia.gov.co</td></tr><tr><td>5475</td><td>EMPERATRIZ MENA PALACIO</td><td>Alcaldesa</td><td>8575015-8575021-8575085-8575041 8575017</td><td>alcaldia@murindo-antioquia.gov.co</td></tr><tr><td>5480</td><td>JAIRO ENRIQUE ORTIZ PALACIOS</td><td>Alcalde</td><td>8578602-8578812-8578799-8578663-8578113-8578740</td><td>alcaldia@mutata-antioquia.gov.co</td></tr><tr><td>5483</td><td>ÉRIKA CARDONA PÉREZ</td><td>Alcaldesa</td><td>8680077-8680113-8680084-8680117-8680259</td><td>alcaldia@narino-antioquia.gov.co</td></tr><tr><td>5495</td><td>YUMARIS PATRICIA HENRÍQUEZ BANQUET</td><td>Alcaldesa</td><td>8368156-8680204</td><td>alcaldia@nechi-antioquia.gov.co</td></tr><tr><td>5490</td><td>GUILLERMO JOSÉ CARDONA MORENO</td><td>Alcalde</td><td>8214166-8214564-8215039</td><td>alcaldia@necocli-antioquia.gov.co</td></tr><tr><td>5501</td><td>JESÚS DAVID HERNÁNDEZ LONDOÑO</td><td>Alcalde</td><td>8550117-8550116-8550119-8550221</td><td>alcaldia@olaya-antioquia.gov.co</td></tr><tr><td>5543</td><td>EMILSON DE JESÚS HERNÁNDEZ HERNÁNDEZ</td><td>Alcalde</td><td>8552043-8552213-8552136</td><td>alcaldia@peque-antioquia.gov.co</td></tr><tr><td>5576</td><td>CRISTIAN CAMILO ZAPATA RAMÍREZ</td><td>Alcalde</td><td>8498865-8498020-8498324</td><td>alcalde@pueblorrico-antioquia.gov.co</td></tr><tr><td>5579</td><td>ROBINSON ALBERTO BAENA ZULUAGA</td><td>Alcalde</td><td>8332120-8332517 Ext 205</td><td>alcaldia@puertoberrio-antioquia.gov.co</td></tr><tr><td>5585</td><td>JUAN CARLOS ACEVEDO ALZATE</td><td>Alcalde</td><td>8347047-8346201</td><td>alcaldia@puertonare-antioquia.gov.co</td></tr><tr><td>5591</td><td>FRANKLIN PORTILLO GÓMEZ</td><td>Alcalde</td><td>8352025-8352117-8352566</td><td>alcaldia@puertotriunfo-antioquia.gov.co</td></tr><tr><td>5604</td><td>ALBEIRO ARENAS MOLINA</td><td>Alcalde</td><td>8303130-8303078-8303791-8303130</td><td>alcaldia@remedios-antioquia.gov.co</td></tr><tr><td>5615</td><td>JORGE HUMBERTO RIVAS URREA</td><td>Alcalde</td><td>5204060</td><td>alcaldia@rionegro.gov.co</td></tr><tr><td>5628</td><td>CÉSAR ALONSO CUADROS GEORGE</td><td>Alcalde</td><td>8554201 - 8554154</td><td>alcaldia@sabanalarga-antioquia.gov.co</td></tr><tr><td>5631</td><td>ALDER JAMES CRUZ OCAMPO</td><td>Alcalde</td><td>2880098-2885294-4440088 Ext 102-2885634</td><td>alcaldia@sabaneta.gov.co</td></tr><tr><td>5642</td><td>VÍCTOR RAÚL MAYA CEBALLOS</td><td>Alcalde</td><td>8442330-8442301-8442213-8442562</td><td>alcaldia@salgar-antioquia.gov.co</td></tr><tr><td>5647</td><td>JOSÉ FERNANDO CHAVARRÍA CHAVARRÍA</td><td>Alcalde</td><td>8618206-8618173-8618154-8618232</td><td>alcaldia@sanandresdecuerquia-antioquia.gov.co</td></tr><tr><td>5649</td><td>SANTIAGO DAZA ESPINOSA</td><td>Alcalde</td><td>8358090-8358051-8358253-8358066</td><td>alcaldia@sancarlos-antioquia.gov.co</td></tr><tr><td>5652</td><td>ARTURO ALEXANDER ARIAS DUQUE</td><td>Alcalde</td><td>8323030 - 8323236</td><td>alcaldia@sanfrancisco-antioquia.gov.co</td></tr><tr><td>5656</td><td>DONALDO FERNÁN VIVARES GALLEGO</td><td>Alcalde</td><td>8582024-8582580-8582162-8582123</td><td>alcaldia@sanjeronimo-antioquia.gov.co</td></tr><tr><td>5658</td><td>JULIÁN ANDRÉS GONZÁLEZ POSADA</td><td>Alcalde</td><td>8622714-8622904</td><td>alcaldia@sanjosedelamontana-antioquia.gov.co</td></tr><tr><td>5659</td><td>LUIS FERNANDO RUIZ DÍAZ</td><td>Alcalde</td><td>8212100 Ext 108-8212375-8212630-8208100</td><td>alcaldia@sanjuandeuraba-antioquia.gov.co</td></tr><tr><td>5660</td><td>CÉSAR ABAD BUITRAGO ARIAS</td><td>Alcalde</td><td>8348115-8348102-8348720-8348716</td><td>contactenos@sanluis-antioquia.gov.co</td></tr><tr><td>5664</td><td>JOSÉ DANILO ÁLVAREZ RODRÍGUEZ</td><td>Alcalde</td><td>8687039-8205502-8205033</td><td>alcaldia@sanpedrodelosmilagros-antioquia.gov.co</td></tr><tr><td>5665</td><td>NEVER JACINTO CARVAJAL MIRANDA</td><td>Alcalde</td><td>8205502-8205503-8205033</td><td>alcaldia@sanpedrodeuraba-antioquia.gov.co</td></tr><tr><td>5667</td><td>EDUIN ANICENO GIRALDO QUINTANA</td><td>Alcalde</td><td>8586681-8586927-8586836-8586681</td><td>alcaldia@sanrafael-antioquia.gov.co</td></tr><tr><td>5670</td><td>LUIS ALEJANDRO VILLEGAS CANO</td><td>Alcalde</td><td>8656562-8656755-8656628</td><td>alcaldia@sanroque-antioquia.gov.co</td></tr><tr><td>5674</td><td>NELSON DE JESÚS HENAO ZAPATA</td><td>Alcalde</td><td>8544938-8544212-8544154-8544856</td><td>alcaldia@sanvicente-antioquia.gov.co</td></tr><tr><td>5679</td><td>JORGE MARIO QUINTANA CAÑAVERAL</td><td>Alcalde</td><td>8461060-8463607-8464151-8464302</td><td>alcaldia@santabarbara-antioquia.gov.co</td></tr><tr><td>5042</td><td>YAMID CARVAJAL CARVAJAL</td><td>Alcalde</td><td>8531136-8531793-8531152-8531841</td><td>alcaldia@santafedeantioquia-antioquia.gov.co</td></tr><tr><td>5686</td><td>LUIS BERNADO MOLINA GRANDA</td><td>Alcalde</td><td>8608020-8608336-8608120-8608416</td><td>alcaldia@santarosadeosos.gov.co</td></tr><tr><td>5690</td><td>FABIO IGNACIO MIRA VALENCIA</td><td>Alcalde</td><td>8621069-8621101 Ext 103 - 8621313</td><td>contactenos@santodomingo-antioquia.gov.co</td></tr><tr><td>5736</td><td>EDWIN ALEXANDER CASTAÑEDA VAHOS</td><td>Alcalde</td><td>8314351-8315613-8317196-8314031</td><td>alcaldia@segovia-antioquia.gov.co</td></tr><tr><td>5756</td><td>JUAN DIEGO ZULUAGA PULGARÍN</td><td>Alcalde</td><td>8694444-8691296</td><td>alcalde@sonson-antioquia.gov.co</td></tr><tr><td>5761</td><td>TATIANA ALEXANDRA CARBALLO HOYOS</td><td>Alcaldesa</td><td>8541560 ext. 102 - 8541561</td><td>alcaldia@sopetran-antioquia.gov.co</td></tr><tr><td>5789</td><td>JUAN PABLO PÉREZ RÁMIREZ</td><td>Alcalde</td><td>8494595-8496010-</td><td>alcaldia@tamesis-antioquia.gov.co</td></tr><tr><td>5790</td><td>YOMER FABIÁN ÁLVAREZ CORREA</td><td>Alcalde</td><td>8365628-8366288-8365817</td><td>alcaldia@taraza-antioquia.gov.co</td></tr><tr><td>5792</td><td>HUGO ALEXANDER OCAMPO RÍOS</td><td>Alcalde</td><td>8458541-8458780-8458535-8458718-8458639-8458991</td><td>alcaldia@tarso-antioquia.gov.co</td></tr><tr><td>5809</td><td>ALEX DAVID RESTREPO SALAZAR</td><td>Alcalde</td><td>8482649-8482344-8482790</td><td>alcaldia@titiribi-antioquia.gov.co</td></tr><tr><td>5819</td><td>JHONNY ALBERTO MARÍN MUÑETÓN</td><td>Alcalde</td><td>8619020 - 8619012</td><td>alcaldia@toledo-antioquia.gov.co</td></tr><tr><td>5837</td><td>ALEJANDRO ABUCHAR GONZÁLEZ</td><td>Alcalde</td><td>8273273 Ext 11-8275159-8272140</td><td>alcaldia@turbo-antioquia.gov.co</td></tr><tr><td>5842</td><td>LEONARDO ÚSUGA CORREA</td><td>Alcalde</td><td>8574062-8574066-8574131-8574240-8574169</td><td>alcaldia@uramita-antioquia.gov.co</td></tr><tr><td>5847</td><td>NELSON JAVIER BARRERA HOLGUÍN</td><td>Alcalde</td><td>8502300-8502181-8502145-8502181</td><td>alcaldia@urrao-antioquia.gov.co</td></tr><tr><td>5854</td><td>CARLOS DANOBER MOLINA BETANCUR</td><td>Alcalde</td><td>8360412-8360246-8360406-8360400-8360264</td><td>alcaldia@valdivia-antioquia.gov.co</td></tr><tr><td>5856</td><td>JOSÉ MARIO HERNÁNDEZ DEVIA</td><td>Alcalde</td><td>8493807-8493882-8492109</td><td>alcaldia@valparaiso-antioquia.gov.co</td></tr><tr><td>5858</td><td>JOSÉ MARÍA OCHOA MUÑOZ</td><td>Alcalde</td><td>8305625-8305626-8305006-8305318</td><td>alcaldia@vegachi-antioquia.gov.co</td></tr><tr><td>5861</td><td>FERNEY DARIO FERNÁNDEZ</td><td>Alcalde</td><td>8490042-8490023-8490052</td><td>alcaldia@venecia-antioquia.gov.co</td></tr><tr><td>5873</td><td>JHOSELIN LOZANO MENA</td><td>Alcalde</td><td>8678080-8678034-8678175</td><td>contactenos@vigiadelfuerte-antioquia.gov.co</td></tr><tr><td>5885</td><td>JHON JAIRO GIRALDO POSADA</td><td>Alcalde</td><td>8675023-8675653-8675656</td><td>alcaldia@yali-antioquia.gov.co</td></tr><tr><td>5887</td><td>CRISTIAN DAVID CÉSPEDES CORREA</td><td>Alcalde</td><td>8537429-8537430-8537429</td><td>alcaldia@yarumal.gov.co</td></tr><tr><td>5890</td><td>JESÚS AMADOR PÉREZ PALACIO</td><td>Alcalde</td><td>8654181-8654337-8654200-8655312</td><td>alcaldia@yolombo-antioquia.gov.co</td></tr><tr><td>5893</td><td>YERSON ANTONIO ARIZA RIVERA</td><td>Alcalde</td><td>8325109-8325461-8325025-8325212-8325111</td><td>alcaldia@yondo-antioquia.gov.co</td></tr><tr><td>5895</td><td>ANDRÉS EMILIO LUJAN MONROY</td><td>Alcalde</td><td>8388209-8388221-8388209-8388123</td><td>alcaldia@zaragoza-antioquia.gov.co</td></tr></tbody></table></div>"
      ]
     },
     "metadata": {
      "application/vnd.databricks.v1+output": {
       "addedWidgets": {},
       "aggData": [],
       "aggError": "",
       "aggOverflow": false,
       "aggSchema": [],
       "aggSeriesLimitReached": false,
       "aggType": "",
       "arguments": {},
       "columnCustomDisplayInfos": {},
       "data": [
        [
         "5001",
         "FEDERICO GUTIÉRREZ ZULUAGA",
         "Alcalde",
         "4444144-3855208-3855209",
         "federico.gutierrez@medellin.gov.co"
        ],
        [
         "5002",
         "MANUEL ALBERTO GUZMÁN MARÍN",
         "Alcalde",
         "8647611-8647384 Ext 102 - 8647182-8647004)",
         "alcalde@abejorral-antioquia.gov.co"
        ],
        [
         "5004",
         "DANIEL ALBERTO SALAS GALLEGO",
         "Alcalde",
         "8520024-8520086-8520019-8520120",
         "alcaldia@abriaqui-antioquia.gov.co"
        ],
        [
         "5021",
         "GLORIA CECILIA NARANJO OSORIO",
         "Alcaldesa",
         "8660102-8660016-866 0140-8660133",
         "alcaldia@alejandria-antioquia.gov.co"
        ],
        [
         "5030",
         "WILSER DARÍO MOLINA MOLINA",
         "Alcalde",
         "8472122-8474920-8470126",
         "alcaldia@amaga-antioquia.gov.co"
        ],
        [
         "5031",
         "WILMAR ALONSO VÉLEZ LONDOÑO",
         "Alcalde",
         "8301919 - 8300155",
         "alcaldia@amalfi-antioquia.gov.co"
        ],
        [
         "5034",
         "GERMÁN ALEXANDER VÉLEZ OROZCO",
         "Alcalde",
         "8414101-8414619-8414291-8414652",
         "alcaldia@andes-antioquia.gov.co"
        ],
        [
         "5036",
         "JOSÉ LUIS MONTOYA QUICENO",
         "Alcalde",
         "8421948-8421793",
         "alcaldia@angelopolis-antioquia.gov.co"
        ],
        [
         "5038",
         "VÍCTOR IGNACIO MEDINA GÓMEZ",
         "Alcalde",
         "8645161-8645046-8645162",
         "alcaldia@angostura-antioquia.gov.co"
        ],
        [
         "5040",
         "GUSTAVO ALFREDO SILVA GUTIÉRREZ",
         "Alcalde",
         "8350842-8350404-8350449-8350849",
         "alcaldia@anori-antioquia.gov.co"
        ],
        [
         "5044",
         "JUAN GUILLERMO HINCAPIÉ FIGUEROA",
         "Alcalde",
         "8522082-8522042-8522102",
         "alcaldia@anza-antioquia.gov.co"
        ],
        [
         "5045",
         "HÉCTOR RANGEL PALACIOS RODRÍGUEZ",
         "Alcalde",
         "8280457-8281038-8282188",
         "alcaldia@apartado.gov.co"
        ],
        [
         "5051",
         "ÁLVARO GONZÁLEZ ÁVILA",
         "Alcalde",
         "8200367-8200973-8201289-8200130",
         "alcaldia@arboletes-antioquia.gov.co"
        ],
        [
         "5055",
         "DIEGO ALEXANDER LÓPEZ GIRALDO",
         "Alcalde",
         "8650077-8650106-8650405-8650057",
         "alcaldia@argelia-antioquia.gov.co"
        ],
        [
         "5059",
         "MARTHA LIBIA PARRA GIL",
         "Alcaldesa",
         "8559015-8559064",
         "alcaldia@armenia-antioquia.gov.co"
        ],
        [
         "5079",
         "JUAN DAVID ROJAS AGUDELO",
         "Alcalde",
         "4548300-4548311-4548311-4065441-4065441",
         "alcaldia@barbosa.gov.co"
        ],
        [
         "5088",
         "YULIETH LORENA GONZÁLEZ OSPINA",
         "Alcaldesa",
         "604 79 44",
         "contactenos@bello.gov.co"
        ],
        [
         "5086",
         "DARCY ESTEBAN ARBOLEDA RUA",
         "Alcalde",
         "8674030",
         "alcaldia@belmira-antioquia.gov.co"
        ],
        [
         "5091",
         "DIEGO ARLEY DE JESÚS GUERRA GUTIÉRREZ",
         "Alcalde",
         "8435127 Ext 105- 8435180",
         "alcaldia@betania-antioquia.gov.co"
        ],
        [
         "5093",
         "NÉSTOR CAMILO SERNA HERNÁNDEZ",
         "Alcalde",
         "8436093-8436157-8430631",
         "alcaldia@betulia-antioquia.gov.co"
        ],
        [
         "5107",
         "NOÉ DE JESÚS ESPINOSA VÁSQUEZ",
         "Alcalde",
         "8570051-8570140",
         "alcaldia@briceno-antioquia.gov.co"
        ],
        [
         "5113",
         "JOSÉ LUIS RODRÍGUEZ ÚSUGA",
         "Alcalde",
         "8527015-8527041",
         "alcaldia@buritica-antioquia.gov.co"
        ],
        [
         "5120",
         "DAMIANA MARÍA MONTERROSA PÉREZ",
         "Alcaldesa",
         "8362201-8362203-8362202",
         "alcaldia@caceres-antioquia.gov.co"
        ],
        [
         "5125",
         "YÚBER FELIPE MOLINA MURILLO",
         "Alcalde",
         "8572002 Ext 103 - 8572134",
         "alcaldia@caicedo-antioquia.gov.co"
        ],
        [
         "5129",
         "JORGE MARIO RENDÓN VÉLEZ",
         "Alcalde",
         "3788500 - 3788504 - 3788515 - 3788502",
         "alcaldia@caldasantioquia.gov.co"
        ],
        [
         "5134",
         "CRISTIÁN ÁNDRÉS AGUDELO POSADA",
         "Alcalde",
         "8614020-8614055-8614229",
         "alcaldia@campamento-antioquia.gov.co"
        ],
        [
         "5138",
         "DIEGO ALONSO VANEGAS ARANGO",
         "Alcalde",
         "8564101-8564903-8564319",
         "alcaldia@canasgordas-antioquia.gov.co"
        ],
        [
         "5142",
         "RODRIGO ALVEIRO CADAVID HERRERA",
         "Alcalde",
         "8336025 Ext 102-8336045",
         "alcaldia@caracoli-antioquia.gov.co"
        ],
        [
         "5145",
         "JUAN ESTEBAN CORREA CÁRDENAS",
         "Alcalde",
         "8553354 - 8553414 - 8553310",
         "alcaldia@caramanta-antioquia.gov.co"
        ],
        [
         "5147",
         "AGAPITO MURILLO PALACIOS",
         "Alcalde",
         "8239402- 8236706- 8236581-8237131",
         "alcaldia@carepa-antioquia.gov.co"
        ],
        [
         "5150",
         "ANA ISABEL AVENDAÑO DUQUE",
         "Alcaldesa",
         "8634033-8634259 Ext 103 - 8434029",
         "alcaldia@carolinadelprincipe-antioquia.gov.co"
        ],
        [
         "5154",
         "JHOAN ODERIS MONTES CORTÉS",
         "Alcalde",
         "8391595 - 8394444",
         "alcaldia@caucasia-antioquia.gov.co"
        ],
        [
         "5190",
         "LINA MARÍA CORREA VALENCIA",
         "Alcaldesa",
         "8631567",
         "alcaldia@cisneros-antioquia.gov.co"
        ],
        [
         "5101",
         "LEÓN DARÍO ACEVEDO VARGAS",
         "Alcalde",
         "8411183 Ext 12-8412552 - 8411144",
         "alcaldia@ciudadbolivar-antioquia.gov.co"
        ],
        [
         "5197",
         "DAVID ALEJANDRO GÓMEZ HOYOS",
         "Alcalde",
         "8343404-8343425-8343096-8343529",
         "alcaldia@cocorna-antioquia.gov.co"
        ],
        [
         "5206",
         "ADRIÁN HENAO CARVAJAL",
         "Alcalde",
         "8567084-8567274-8567176-8567034",
         "alcaldia@concepcion-antioquia.gov.co"
        ],
        [
         "5209",
         "ALEXANDRA MARÍA HERRERA QUIJANO",
         "Alcaldesa",
         "8446089-8446101-8446275-8447492",
         "alcaldia@concordia-antioquia.gov.co"
        ],
        [
         "5212",
         "JOHNNATAN ANDRÉS PINEDA AGUDELO",
         "Alcalde",
         "2740069-2740041-2742582",
         "alcaldia@copacabana.gov.co"
        ],
        [
         "5172",
         "TULIA IRENE RUIZ GARCÍA",
         "Alcaldesa",
         "8253630 - 8253868 - 8255885",
         "alcaldia@chigorodo-antioquia.gov.co"
        ],
        [
         "5234",
         "DANIEL HIGUITA HERRERA",
         "Alcalde",
         "8590300-8590475-8591234-8591293",
         "alcaldia@dabeiba-antioquia.gov.co"
        ],
        [
         "5237",
         "JAVIER DARÍO LÓPEZ RESTREPO",
         "Alcalde",
         "8663243-8666230 Ext 109",
         "alcaldia@donmatias-antioquia.gov.co"
        ],
        [
         "5240",
         "DAVID ALONSO RESTREPO CASTRILLÓN",
         "Alcalde",
         "8562190 EXT 101-8562016",
         "alcaldia@ebejico-antioquia.gov.co"
        ],
        [
         "5250",
         "MARCO FIDEL TRESPALACIO BULLOSO",
         "Alcalde",
         "8372429",
         "alcaldia@elbagre-antioquia.gov.co"
        ],
        [
         "5148",
         "HUGO ALFONSO JÍMENEZ CUERVO",
         "Alcalde",
         "5432000 Ext 129 - 5432467-5432116-5432020-5432149",
         "alcaldia@elcarmendeviboral-antioquia.gov.co"
        ],
        [
         "5541",
         "SANDRA ARELIS DUQUE VELÁSQUEZ",
         "Alcaldesa",
         "8515855-8515851-8515944",
         "alcaldia@elpenol-antioquia.gov.co"
        ],
        [
         "5607",
         "SANTIAGO MONTOYA GIRALDO",
         "Alcalde",
         "5411860-5410175-5413067-5410180-5410190",
         "alcaldia@elretiro.gov.co"
        ],
        [
         "5697",
         "MARTÍN ALBERTO DUQUE GALLO",
         "Alcalde",
         "5460080 Ext 101-5461172-5460201-5461362",
         "despachoalcaldia@elsantuario-antioquia.gov.co"
        ],
        [
         "5264",
         "JULIO CÉSAR LOPERA POSADA",
         "Alcalde",
         "8670411-8670147-8670412",
         "alcaldia@entrerrios-antioquia.gov.co"
        ],
        [
         "5266",
         "RAÚL EDUARDO CARDONA GONZÁLEZ",
         "Alcalde",
         "3394000 - 3394017  - 3394018",
         "alcaldia@envigado.gov.co"
        ],
        [
         "5282",
         "ALDUBAR DE JESÚS VANEGAS MARÍN",
         "Alcalde",
         "8401264-8401026-8402096-8401393-8402334",
         "alcaldia@fredonia-antioquia.gov.co"
        ],
        [
         "5284",
         "LUZ GABRIELA RIVERA CANO",
         "Alcaldesa",
         "8595032 Ext 0-8595037-8595835",
         "alcaldia@frontino-antioquia.gov.co"
        ],
        [
         "5306",
         "MARÍA CAMILA MANCO SUÁREZ",
         "Alcaldesa",
         "8571107 Ext 108-8571106",
         "alcaldia@giraldo-antioquia.gov.co"
        ],
        [
         "5308",
         "KEVIN RENÉ BERNAL MORALES",
         "Alcalde",
         "4054200 Ext 102-4052050",
         "contactenos@girardota.gov.co"
        ],
        [
         "5310",
         "LUIS GUILLERMO PÉREZ ECHEVERRI",
         "Alcalde",
         "8627704-8627806-8627522",
         "alcaldia@gomezplata-antioquia.gov.co"
        ],
        [
         "5313",
         "DANIEL ANDRÉS HOYOS YEPES",
         "Alcalde",
         "8320549 - 8320802",
         "alcalde@granada-antioquia.gov.co"
        ],
        [
         "5315",
         "JOSÉ FERNANDO SALAZAR OSPINA",
         "Alcalde",
         "8616440 Ext 103 - 8616066",
         "alcaldia@guadalupe-antioquia.gov.co"
        ],
        [
         "5318",
         "DIEGO MAURICIO GRISALES GALLEGO",
         "Alcalde",
         "5510025-5511026-5510044-5511733",
         "alcaldia@guarne-antioquia.gov.co"
        ],
        [
         "5321",
         "DAVID ESTEBAN FRANCO VALLEJO",
         "Alcalde",
         "8610539-8610555 Ext 12",
         "alcaldia@guatape-antioquia.gov.co"
        ],
        [
         "5347",
         "JORGE ALEXANDER ÁLVAREZ ARANGO",
         "Alcalde",
         "8549635 Ext 115",
         "alcaldia@heliconia-antioquia.gov.co"
        ],
        [
         "5353",
         "ORLANDO ARTURO MARÍN ATEHORTUA",
         "Alcalde",
         "8432862-8432249",
         "alcaldia@hispania-antioquia.gov.co"
        ],
        [
         "5360",
         "DIEGO LEÓN TORRES SÁNCHEZ",
         "Alcalde",
         "3737676-3764879",
         "contactenos@itagui.gov.co"
        ],
        [
         "5361",
         "JAVIER DE JESÚS PARIAS POSSO",
         "Alcalde",
         "8643020-8643174-8643175",
         "alcaldia@ituango-antioquia.gov.co"
        ],
        [
         "5364",
         "CLAUDIA YANETH NARANJO AGUDELO",
         "Alcaldesa",
         "8455550-8455684-8455520",
         "despachoalcalde@eljardin-antioquia.gov.co"
        ],
        [
         "5368",
         "SEBASTIÁN GARCÉS PIEDRAHITA",
         "Alcalde",
         "8523101-8523502-8523665-8524278",
         "alcaldia@jerico-antioquia.gov.co"
        ],
        [
         "5376",
         "MARÍA ILBED SANTA SANTA",
         "Alcaldesa",
         "5531414 Ext 101-114",
         "alcaldia@laceja-antioquia.gov.co"
        ],
        [
         "5380",
         "CARLOS MARIO GUTIÉRREZ",
         "Alcalde",
         "3092687 - 2795841 - 2790058",
         "alcalde@laestrella.gov.co"
        ],
        [
         "5390",
         "HERMÁN ANTONIO CORREA BEDOYA",
         "Alcalde",
         "8453562-8454216",
         "alcaldia@lapintada-antioquia.gov.co"
        ],
        [
         "5400",
         "CARMEN JUDITH VALENCIA MORENO",
         "Alcaldesa",
         "5560610-5560654-5560630",
         "alcaldia@launion-antioquia.gov.co"
        ],
        [
         "5411",
         "NANCY AMPARO AVENDAÑO MORENO",
         "Alcaldesa",
         "8561865-8561113",
         "alcaldia@liborina-antioquia.gov.co"
        ],
        [
         "5425",
         "CAROLINA ANDREA SOSA GÓMEZ",
         "Alcaldesa",
         "8640209-8640277-8640217",
         "alcaldia@maceo-antioquia.gov.co"
        ],
        [
         "5440",
         "JULIO CÉSAR SERNA GÓMEZ",
         "Alcalde",
         "5484410-5484101-5484884-5480265",
         "alcaldia@marinilla-antioquia.gov.co"
        ],
        [
         "5467",
         "ÓSCAR ERNESTO CUERVO VILLADA",
         "Alcalde",
         "8480564 Ext 103-8480561",
         "alcaldia@montebello-antioquia.gov.co"
        ],
        [
         "5475",
         "EMPERATRIZ MENA PALACIO",
         "Alcaldesa",
         "8575015-8575021-8575085-8575041 8575017",
         "alcaldia@murindo-antioquia.gov.co"
        ],
        [
         "5480",
         "JAIRO ENRIQUE ORTIZ PALACIOS",
         "Alcalde",
         "8578602-8578812-8578799-8578663-8578113-8578740",
         "alcaldia@mutata-antioquia.gov.co"
        ],
        [
         "5483",
         "ÉRIKA CARDONA PÉREZ",
         "Alcaldesa",
         "8680077-8680113-8680084-8680117-8680259",
         "alcaldia@narino-antioquia.gov.co"
        ],
        [
         "5495",
         "YUMARIS PATRICIA HENRÍQUEZ BANQUET",
         "Alcaldesa",
         "8368156-8680204",
         "alcaldia@nechi-antioquia.gov.co"
        ],
        [
         "5490",
         "GUILLERMO JOSÉ CARDONA MORENO",
         "Alcalde",
         "8214166-8214564-8215039",
         "alcaldia@necocli-antioquia.gov.co"
        ],
        [
         "5501",
         "JESÚS DAVID HERNÁNDEZ LONDOÑO",
         "Alcalde",
         "8550117-8550116-8550119-8550221",
         "alcaldia@olaya-antioquia.gov.co"
        ],
        [
         "5543",
         "EMILSON DE JESÚS HERNÁNDEZ HERNÁNDEZ",
         "Alcalde",
         "8552043-8552213-8552136",
         "alcaldia@peque-antioquia.gov.co"
        ],
        [
         "5576",
         "CRISTIAN CAMILO ZAPATA RAMÍREZ",
         "Alcalde",
         "8498865-8498020-8498324",
         "alcalde@pueblorrico-antioquia.gov.co"
        ],
        [
         "5579",
         "ROBINSON ALBERTO BAENA ZULUAGA",
         "Alcalde",
         "8332120-8332517 Ext 205",
         "alcaldia@puertoberrio-antioquia.gov.co"
        ],
        [
         "5585",
         "JUAN CARLOS ACEVEDO ALZATE",
         "Alcalde",
         "8347047-8346201",
         "alcaldia@puertonare-antioquia.gov.co"
        ],
        [
         "5591",
         "FRANKLIN PORTILLO GÓMEZ",
         "Alcalde",
         "8352025-8352117-8352566",
         "alcaldia@puertotriunfo-antioquia.gov.co"
        ],
        [
         "5604",
         "ALBEIRO ARENAS MOLINA",
         "Alcalde",
         "8303130-8303078-8303791-8303130",
         "alcaldia@remedios-antioquia.gov.co"
        ],
        [
         "5615",
         "JORGE HUMBERTO RIVAS URREA",
         "Alcalde",
         "5204060",
         "alcaldia@rionegro.gov.co"
        ],
        [
         "5628",
         "CÉSAR ALONSO CUADROS GEORGE",
         "Alcalde",
         "8554201 - 8554154",
         "alcaldia@sabanalarga-antioquia.gov.co"
        ],
        [
         "5631",
         "ALDER JAMES CRUZ OCAMPO",
         "Alcalde",
         "2880098-2885294-4440088 Ext 102-2885634",
         "alcaldia@sabaneta.gov.co"
        ],
        [
         "5642",
         "VÍCTOR RAÚL MAYA CEBALLOS",
         "Alcalde",
         "8442330-8442301-8442213-8442562",
         "alcaldia@salgar-antioquia.gov.co"
        ],
        [
         "5647",
         "JOSÉ FERNANDO CHAVARRÍA CHAVARRÍA",
         "Alcalde",
         "8618206-8618173-8618154-8618232",
         "alcaldia@sanandresdecuerquia-antioquia.gov.co"
        ],
        [
         "5649",
         "SANTIAGO DAZA ESPINOSA",
         "Alcalde",
         "8358090-8358051-8358253-8358066",
         "alcaldia@sancarlos-antioquia.gov.co"
        ],
        [
         "5652",
         "ARTURO ALEXANDER ARIAS DUQUE",
         "Alcalde",
         "8323030 - 8323236",
         "alcaldia@sanfrancisco-antioquia.gov.co"
        ],
        [
         "5656",
         "DONALDO FERNÁN VIVARES GALLEGO",
         "Alcalde",
         "8582024-8582580-8582162-8582123",
         "alcaldia@sanjeronimo-antioquia.gov.co"
        ],
        [
         "5658",
         "JULIÁN ANDRÉS GONZÁLEZ POSADA",
         "Alcalde",
         "8622714-8622904",
         "alcaldia@sanjosedelamontana-antioquia.gov.co"
        ],
        [
         "5659",
         "LUIS FERNANDO RUIZ DÍAZ",
         "Alcalde",
         "8212100 Ext 108-8212375-8212630-8208100",
         "alcaldia@sanjuandeuraba-antioquia.gov.co"
        ],
        [
         "5660",
         "CÉSAR ABAD BUITRAGO ARIAS",
         "Alcalde",
         "8348115-8348102-8348720-8348716",
         "contactenos@sanluis-antioquia.gov.co"
        ],
        [
         "5664",
         "JOSÉ DANILO ÁLVAREZ RODRÍGUEZ",
         "Alcalde",
         "8687039-8205502-8205033",
         "alcaldia@sanpedrodelosmilagros-antioquia.gov.co"
        ],
        [
         "5665",
         "NEVER JACINTO CARVAJAL MIRANDA",
         "Alcalde",
         "8205502-8205503-8205033",
         "alcaldia@sanpedrodeuraba-antioquia.gov.co"
        ],
        [
         "5667",
         "EDUIN ANICENO GIRALDO QUINTANA",
         "Alcalde",
         "8586681-8586927-8586836-8586681",
         "alcaldia@sanrafael-antioquia.gov.co"
        ],
        [
         "5670",
         "LUIS ALEJANDRO VILLEGAS CANO",
         "Alcalde",
         "8656562-8656755-8656628",
         "alcaldia@sanroque-antioquia.gov.co"
        ],
        [
         "5674",
         "NELSON DE JESÚS HENAO ZAPATA",
         "Alcalde",
         "8544938-8544212-8544154-8544856",
         "alcaldia@sanvicente-antioquia.gov.co"
        ],
        [
         "5679",
         "JORGE MARIO QUINTANA CAÑAVERAL",
         "Alcalde",
         "8461060-8463607-8464151-8464302",
         "alcaldia@santabarbara-antioquia.gov.co"
        ],
        [
         "5042",
         "YAMID CARVAJAL CARVAJAL",
         "Alcalde",
         "8531136-8531793-8531152-8531841",
         "alcaldia@santafedeantioquia-antioquia.gov.co"
        ],
        [
         "5686",
         "LUIS BERNADO MOLINA GRANDA",
         "Alcalde",
         "8608020-8608336-8608120-8608416",
         "alcaldia@santarosadeosos.gov.co"
        ],
        [
         "5690",
         "FABIO IGNACIO MIRA VALENCIA",
         "Alcalde",
         "8621069-8621101 Ext 103 - 8621313",
         "contactenos@santodomingo-antioquia.gov.co"
        ],
        [
         "5736",
         "EDWIN ALEXANDER CASTAÑEDA VAHOS",
         "Alcalde",
         "8314351-8315613-8317196-8314031",
         "alcaldia@segovia-antioquia.gov.co"
        ],
        [
         "5756",
         "JUAN DIEGO ZULUAGA PULGARÍN",
         "Alcalde",
         "8694444-8691296",
         "alcalde@sonson-antioquia.gov.co"
        ],
        [
         "5761",
         "TATIANA ALEXANDRA CARBALLO HOYOS",
         "Alcaldesa",
         "8541560 ext. 102 - 8541561",
         "alcaldia@sopetran-antioquia.gov.co"
        ],
        [
         "5789",
         "JUAN PABLO PÉREZ RÁMIREZ",
         "Alcalde",
         "8494595-8496010-",
         "alcaldia@tamesis-antioquia.gov.co"
        ],
        [
         "5790",
         "YOMER FABIÁN ÁLVAREZ CORREA",
         "Alcalde",
         "8365628-8366288-8365817",
         "alcaldia@taraza-antioquia.gov.co"
        ],
        [
         "5792",
         "HUGO ALEXANDER OCAMPO RÍOS",
         "Alcalde",
         "8458541-8458780-8458535-8458718-8458639-8458991",
         "alcaldia@tarso-antioquia.gov.co"
        ],
        [
         "5809",
         "ALEX DAVID RESTREPO SALAZAR",
         "Alcalde",
         "8482649-8482344-8482790",
         "alcaldia@titiribi-antioquia.gov.co"
        ],
        [
         "5819",
         "JHONNY ALBERTO MARÍN MUÑETÓN",
         "Alcalde",
         "8619020 - 8619012",
         "alcaldia@toledo-antioquia.gov.co"
        ],
        [
         "5837",
         "ALEJANDRO ABUCHAR GONZÁLEZ",
         "Alcalde",
         "8273273 Ext 11-8275159-8272140",
         "alcaldia@turbo-antioquia.gov.co"
        ],
        [
         "5842",
         "LEONARDO ÚSUGA CORREA",
         "Alcalde",
         "8574062-8574066-8574131-8574240-8574169",
         "alcaldia@uramita-antioquia.gov.co"
        ],
        [
         "5847",
         "NELSON JAVIER BARRERA HOLGUÍN",
         "Alcalde",
         "8502300-8502181-8502145-8502181",
         "alcaldia@urrao-antioquia.gov.co"
        ],
        [
         "5854",
         "CARLOS DANOBER MOLINA BETANCUR",
         "Alcalde",
         "8360412-8360246-8360406-8360400-8360264",
         "alcaldia@valdivia-antioquia.gov.co"
        ],
        [
         "5856",
         "JOSÉ MARIO HERNÁNDEZ DEVIA",
         "Alcalde",
         "8493807-8493882-8492109",
         "alcaldia@valparaiso-antioquia.gov.co"
        ],
        [
         "5858",
         "JOSÉ MARÍA OCHOA MUÑOZ",
         "Alcalde",
         "8305625-8305626-8305006-8305318",
         "alcaldia@vegachi-antioquia.gov.co"
        ],
        [
         "5861",
         "FERNEY DARIO FERNÁNDEZ",
         "Alcalde",
         "8490042-8490023-8490052",
         "alcaldia@venecia-antioquia.gov.co"
        ],
        [
         "5873",
         "JHOSELIN LOZANO MENA",
         "Alcalde",
         "8678080-8678034-8678175",
         "contactenos@vigiadelfuerte-antioquia.gov.co"
        ],
        [
         "5885",
         "JHON JAIRO GIRALDO POSADA",
         "Alcalde",
         "8675023-8675653-8675656",
         "alcaldia@yali-antioquia.gov.co"
        ],
        [
         "5887",
         "CRISTIAN DAVID CÉSPEDES CORREA",
         "Alcalde",
         "8537429-8537430-8537429",
         "alcaldia@yarumal.gov.co"
        ],
        [
         "5890",
         "JESÚS AMADOR PÉREZ PALACIO",
         "Alcalde",
         "8654181-8654337-8654200-8655312",
         "alcaldia@yolombo-antioquia.gov.co"
        ],
        [
         "5893",
         "YERSON ANTONIO ARIZA RIVERA",
         "Alcalde",
         "8325109-8325461-8325025-8325212-8325111",
         "alcaldia@yondo-antioquia.gov.co"
        ],
        [
         "5895",
         "ANDRÉS EMILIO LUJAN MONROY",
         "Alcalde",
         "8388209-8388221-8388209-8388123",
         "alcaldia@zaragoza-antioquia.gov.co"
        ]
       ],
       "datasetInfos": [],
       "dbfsResultPath": null,
       "isJsonSchema": true,
       "metadata": {},
       "overflow": false,
       "plotOptions": {
        "customPlotOptions": {},
        "displayType": "table",
        "pivotAggregation": null,
        "pivotColumns": null,
        "xColumns": null,
        "yColumns": null
       },
       "removedWidgets": [],
       "schema": [
        {
         "metadata": "{}",
         "name": "codigo_municipio",
         "type": "\"string\""
        },
        {
         "metadata": "{}",
         "name": "nombre_alcalde",
         "type": "\"string\""
        },
        {
         "metadata": "{}",
         "name": "titulo_alcalde",
         "type": "\"string\""
        },
        {
         "metadata": "{}",
         "name": "telefono_alcalde",
         "type": "\"string\""
        },
        {
         "metadata": "{}",
         "name": "email_alcalde",
         "type": "\"string\""
        }
       ],
       "type": "table"
      }
     },
     "output_type": "display_data"
    },
    {
     "output_type": "display_data",
     "data": {
      "text/html": [
       "<style scoped>\n",
       "  .table-result-container {\n",
       "    max-height: 300px;\n",
       "    overflow: auto;\n",
       "  }\n",
       "  table, th, td {\n",
       "    border: 1px solid black;\n",
       "    border-collapse: collapse;\n",
       "  }\n",
       "  th, td {\n",
       "    padding: 5px;\n",
       "  }\n",
       "  th {\n",
       "    text-align: left;\n",
       "  }\n",
       "</style><div class='table-result-container'><table class='table-result'><thead style='background-color: white'><tr><th>codigo_municipio</th><th>nombre_region</th><th>codigo_habilitacion</th><th>razon_social_hospital</th><th>nombre_hospital</th><th>nit_hospital</th><th>direccion_hospital</th><th>telefono_hospital</th><th>email_hospital</th><th>coordenadas_hospital</th></tr></thead><tbody><tr><td>5001</td><td>Valle de Aburra</td><td>50010214401</td><td>EMPRESA SOCIAL DEL ESTADO HOSPITAL GENERAL DE MEDELLIN LUZ CASTRO DE GUTIERREZ</td><td>EMPRESA SOCIAL DEL ESTADO HOSPITAL GENERAL DE MEDELLIN LUZ CASTRO DE GUTIERREZ</td><td>890,904,647</td><td>KR 48 # 32-102</td><td>3847302</td><td>gestioncalidad@hgm.gov.co</td><td>(6.23477, -75.572848)</td></tr><tr><td>5002</td><td>Oriente</td><td>50020436001</td><td>E.S.E HOSPITAL SAN JUAN DE DIOS DE ABEJORRAL</td><td>HOSPITAL SAN JUAN DE DIOS ABEJORRAL</td><td>890,980,643</td><td>CL Circular X Kr Calibio</td><td>5748647181</td><td>abejhs01@gmail.com</td><td>(5.788458, -75.426663)</td></tr><tr><td>5004</td><td>Occidente</td><td>50040588001</td><td>ESE HOSPITAL NUEVO HORIZONTE</td><td>ESE HOSPITAL NUEVO HORIZONTE</td><td>811,032,722</td><td>CL 9A # 12-59</td><td>3104323014</td><td>ese@abriaqui-antioquia.gov.co</td><td>(6.632296, -76.067405)</td></tr><tr><td>5021</td><td>Oriente</td><td>50210509801</td><td>ESE HOSPITAL PBRO LUIS FELIPE ARBELAEZ</td><td>ESE HOSPITAL PBRO LUIS FELIPE ARBELAEZ</td><td>800,029,509</td><td>KR 19 # 16-70</td><td>5748660077</td><td>hospitalalejandria@gmail.com</td><td>(6.373932, -75.140366)</td></tr><tr><td>5030</td><td>Suroeste</td><td>50300437401</td><td>E.S.E. HOSPITAL SAN FERNANDO</td><td>E.S.E. HOSPITAL SAN FERNANDO</td><td>890,906,346</td><td>Cra 51 No 52 81</td><td>5748300353</td><td>hospital@eseamaga-antioquia.gov.co</td><td>(6.040678, -75.704572)</td></tr><tr><td>5031</td><td>Nordeste</td><td>50310209101</td><td>E.S.E HOSPITAL EL CARMEN</td><td>E.S.E HOSPITAL EL CARMEN</td><td>890,982,101</td><td>CL 23 # 23 - 40</td><td>5748301803</td><td>gerencia@hospitalelcarmen-amalfi-antioquia.gov.co</td><td>(6.910925, -75.077171)</td></tr><tr><td>5034</td><td>Suroeste</td><td>50340443201</td><td>E.S.E. HOSPITAL SAN RAFAEL</td><td>E.S.E. HOSPITAL SAN RAFAEL</td><td>890,980,814</td><td>AV MEDELLIN # 48-20</td><td>5748414343</td><td>gestiondocumental@hospitaldeandes.gov.co</td><td>(5.653782, -75.877633)</td></tr><tr><td>5036</td><td>Suroeste</td><td>50360510801</td><td>NUEVA EMPRESA SOCIAL DEL ESTADO HOSPITAL LA MISERICORDIA</td><td>NUEVA E.S.E HOSPITAL LA MISERICORDIA</td><td>890,980,959</td><td>CL 8 # 7-108</td><td>5748421146</td><td>archivodocumental.es@eselamisericordia-angelopolis-antioquia.gov.co</td><td>(6.111182, -75.708992)</td></tr><tr><td>5038</td><td>Norte</td><td>50380153801</td><td>E.S.E. EMPRESA SOCIAL DEL ESTADO HOSPITAL SAN RAFAEL DE  ANGOSTURA</td><td>E.S.E. EMPRESA SOCIAL DEL ESTADO HOSPITAL SAN RAFAEL</td><td>890,982,183</td><td>Kr 10 # 16-1</td><td>5748645099</td><td>ANGOHS01@EDATEL.NET.CO</td><td>(6.887402, -75.334797)</td></tr><tr><td>5040</td><td>Nordeste</td><td>50400326101</td><td>ESE HOSPITAL SAN JUAN DE DIOS DE ANORI</td><td>ESE HOSPITAL SAN JUAN DE DIOS DE ANORI</td><td>890,982,138</td><td>CL ZEA (CALLE 30 CON CARRERA 29)</td><td>5748350803</td><td>anorhs@hospitalanori.gov.co</td><td>(7.072657, -75.145669)</td></tr><tr><td>5042</td><td>Occidente</td><td>50420547801</td><td>E.S.E. HOSPITAL SAN JUAN DE DIOS ANTIOQUIA</td><td>E.S.E. HOSPITAL SAN JUAN DE DIOS ANTIOQUIA</td><td>890,982,264</td><td>CL 10 # 3-24</td><td>5748531020</td><td>info@esehospitalsantafedeantioquia.gov.co</td><td>(6.553647, -75.823157)</td></tr><tr><td>5044</td><td>Occidente</td><td>50440501401</td><td>E.S.E. HOSPITAL SAN FRANCISCO DE ASIS</td><td>E.S.E. HOSPITAL SAN FRANCISCO DE ASIS</td><td>890,397,282</td><td>KR 8 # 7-29</td><td>5748522029</td><td>hospitalanza@hospitalanza.gov.co</td><td>null</td></tr><tr><td>5045</td><td>Uraba</td><td>50450214301</td><td>EMPRESA SOCIAL DEL ESTADO HOSPITAL ANTONIO ROLDAN BETANCUR</td><td>EMPRESA SOCIAL DEL ESTADO HOSPITAL ANTONIO ROLDAN BETANCUR</td><td>890,905,991</td><td>KR 98 # 106-176 BARRIO LA CHINITA</td><td>5748283105</td><td>apartah01@edatel.net.co</td><td>(7.887654, -76.628555)</td></tr><tr><td>5051</td><td>Uraba</td><td>50510232301</td><td>E.S.E. HOSPITAL PEDRO NEL CARDONA</td><td>E.S.E. HOSPITAL PEDRO NEL CARMONA</td><td>890,982,134</td><td>BARRIO EL DEPORTIVO</td><td>948200026</td><td>secretaria@esehpncarboletes-antioquia.gov.co</td><td>(8.851489, -76.421499)</td></tr><tr><td>5055</td><td>Oriente</td><td>50550547901</td><td>EMPRESA SOCIAL DEL ESTADO HOSPITAL SAN JULIAN</td><td>EMPRESA SOCIAL DEL ESTADO HOSPITAL SAN JULIAN</td><td>890,981,851</td><td>CL 31 # 32-14</td><td>8650000 - 3146182345</td><td>gerencia@hospitalsanjulian.gov.co</td><td>(5.731866, -75.144671)</td></tr><tr><td>5059</td><td>Occidente</td><td>50590550601</td><td>EMPRES SOCIAL DEL ESTADO HOSPITAL SAN MARTIN DE PORRES</td><td>EMPRES SOCIAL DEL ESTADO HOSPITAL SAN MARTIN DE PORRES</td><td>890,982,153</td><td>CL 11 # 6-69</td><td>5748559352</td><td>hsmpgerencia@gmail.com</td><td>(6.159244, -75.785966)</td></tr><tr><td>5079</td><td>Valle de Aburra</td><td>50790407701</td><td>ESE HOSPITAL SAN VICENTE DE PAUL</td><td>ESE HOSPITAL SAN VICENTE DE PAUL</td><td>890,905,193</td><td>KR 17 # 10 - 34</td><td>5744061341</td><td>esebarbosa@une.net.co</td><td>(6.43651, -75.333209)</td></tr><tr><td>5086</td><td>Norte</td><td>50860550701</td><td>EMPRESA SOCIAL DEL ESTADO HOSPITAL NUESTRA SEÑORA DEL ROSARIO</td><td>EMPRESA SOCIAL DEL ESTADO HOSPITAL NUESTRA SEÑORA DEL ROSARIO</td><td>890,982,065</td><td>KR 19# 19 93</td><td>5748674147</td><td>gerencia@esehospital-belmira-antioquia.gov.co</td><td>(6.607103, -75.666736)</td></tr><tr><td>5088</td><td>Valle de Aburra</td><td>50880561801</td><td>E.S.E. HOSPITAL MARCO FIDEL SUAREZ</td><td>EMPRESA SOCIAL DEL ESTADO HOSPITAL MARCO FIDEL SUAREZ</td><td>890,985,703</td><td>CL 44 # 49B-90</td><td>4547510</td><td>gerencia@hmfs.gov.co</td><td>(6.330313, -75.557731)</td></tr><tr><td>5091</td><td>Suroeste</td><td>50910457201</td><td>E.S.E. HOSPITAL SAN ANTONIO DE BETANIA</td><td>E.S.E. HOSPITAL SAN ANTONIO DE BETANIA</td><td>890,981,494</td><td>CL 20 # 26-173</td><td>548435050</td><td>betahs01@gmail.com</td><td>(5.748156, -75.980673)</td></tr><tr><td>5093</td><td>Suroeste</td><td>50930237101</td><td>E.S.E. HOSPITAL GERMAN VELEZ GUTIERREZ</td><td>E.S.E. HOSPITAL GERMAN VELEZ GUTIERREZ</td><td>890,982,116</td><td>CL 21 # 15 - 20 SALIDA A MEDELLIN</td><td>604 843 60 85</td><td>hospital@esebetulia-antioquia.gov.co</td><td>(6.113337, -75.984712)</td></tr><tr><td>5101</td><td>Suroeste</td><td>51010213901</td><td>E.S.E. HOSPITAL LA MERCED DE CIUDAD BOLIVAR</td><td>E.S.E. HOSPITAL LA MERCED</td><td>890,907,241</td><td>CL 49 # 36-298</td><td>8411182</td><td>gerencia@hlamerced.gov.co</td><td>(5.846031, -76.007988)</td></tr><tr><td>5107</td><td>Norte</td><td>51070231101</td><td>EMPRESA SOCIAL DEL ESTADO HOSPITAL EL SAGRADO CORAZON</td><td>ESE HOSPITAL EL SAGRADO CORAZON</td><td>800,044,320</td><td>CL 11 # 8-31</td><td>5748570099</td><td>brichs01@edatel.net.co</td><td>(7.113115, -75.551047)</td></tr><tr><td>5113</td><td>Occidente</td><td>51130559601</td><td>E.S.E. HOSPITAL SAN ANTONIO DE BURITICA</td><td>E.S.E. HOSPITAL SAN ANTONIO DE BURITICA</td><td>890,983,843</td><td>CL 8 # 3-56</td><td>948527035</td><td>hsaburitica@gmail.com</td><td>(6.719975, -75.907202)</td></tr><tr><td>5120</td><td>Bajo Cauca</td><td>51200554701</td><td>EMPRESA SOCIAL DEL ESTADO HOSPITAL ISABEL LA CATOLICA</td><td>EMPRESA SOCIAL DEL ESTADO HOSPITAL ISABEL LA CATOLICA</td><td>890,982,430</td><td>KR 50 # 52-48</td><td>5748362039</td><td>hospitalcaceres@gmail.com</td><td>(7.581577, -75.347834)</td></tr><tr><td>5125</td><td>Occidente</td><td>51250831301</td><td>E.S.E. HOSPITAL GUILLERMO GAVIRIA CORREA</td><td>E.S.E. HOSPITAL GUILLERMO GAVIRIA CORREA</td><td>800,037,244</td><td>KR 5 # 3-23</td><td>5748572123</td><td>gerencia@hospitalcaicedo.gov.co</td><td>(6.404312, -75.982647)</td></tr><tr><td>5129</td><td>Valle de Aburra</td><td>51290214601</td><td>E.S.E.  HOSPITAL SAN VICENTE DE PAUL DE CALDAS</td><td>E.S.E. HOSPITAL SAN VICENTE DE PAUL DE CALDAS</td><td>890,907,215</td><td>KR 48 # 135S-41</td><td>094- 3786301</td><td>hospicaldas@esehospicaldas.gov.co</td><td>(6.08673, -75.634566)</td></tr><tr><td>5134</td><td>Norte</td><td>51340593001</td><td>E.S.E. HOSPITAL LA SAGRADA FAMILIA</td><td>E.S.E. HOSPITAL LA SAGRADA FAMILIA</td><td>890,985,457</td><td>CL BOLIVAR # 15-07</td><td>094-8614112</td><td>hospitalcampamento@hotmail.com</td><td>(6.979421, -75.299327)</td></tr><tr><td>5138</td><td>Occidente</td><td>51380491401</td><td>E.S.E. HOSPITAL SAN CARLOS</td><td>E.S.E. HOSPITAL SAN CARLOS</td><td>890,980,784</td><td>KR 31 # 33-140</td><td>5748564181</td><td>canahs01@edatel.net.co</td><td>(6.750362, -76.02582)</td></tr><tr><td>5142</td><td>Magdalena Medio</td><td>51420410301</td><td>HOSPITAL SAN PIO X</td><td>HOSPITAL SAN PIO X</td><td>890,981,266</td><td>CL 21# 20-32</td><td>5748336014</td><td>gerencia@esesanpioxcaracoli.gov.co</td><td>(6.411135, -74.754925)</td></tr><tr><td>5145</td><td>Suroeste</td><td>51450158501</td><td>E.S.E. HOSPITAL SAN ANTONIO</td><td>E.S.E. HOSPITAL SAN ANTONIO</td><td>890,981,163</td><td>KR 21 BOLIVAR # 16-33</td><td>3128337704</td><td>gerenciaesecaramanta@hotmail.com</td><td>(5.545532, -75.644077)</td></tr><tr><td>5147</td><td>Uraba</td><td>51470631101</td><td>EMPRESA SOCIAL DEL ESTADO HOSPITAL FRANCISCO LUIS JIMENEZ MARTINEZ</td><td>E.S.E HOSPITAL FRANCISCO LUIS JIMENEZ MARTINEZ</td><td>800,227,877</td><td>CL 70  # 68 - 03</td><td>5748236548</td><td>gestiondocumental@hospitaldecarepa.gov.co</td><td>(7.750753, -76.65483)</td></tr><tr><td>5148</td><td>Oriente</td><td>51480431001</td><td>E.S.E. HOSPITAL SAN JUAN DE DIOS DEL CARMEN DE VIBORAL</td><td>E.S.E. HOSPITAL SAN JUAN DE DIOS</td><td>890,907,279</td><td>KR 31 # 19-58</td><td>5745434343</td><td>gerencia@hospitalcarmenv.gov.co</td><td>(6.075086, -75.331621)</td></tr><tr><td>5150</td><td>Norte</td><td>51500458401</td><td>EMPRESA SOCIAL DEL ESTADO HOSPITAL SAN RAFAEL</td><td>EMPRESA SOCIAL DEL ESTADO HOSPITAL SAN RAFAEL</td><td>890,906,344</td><td>CL 52 B # 54-70</td><td>5748634045</td><td>carohs01@edatel.net.co</td><td>(6.723214, -75.280809)</td></tr><tr><td>5154</td><td>Bajo Cauca</td><td>51540220101</td><td>E.S.E. HOSPITAL CESAR URIBE PIEDARHITA</td><td>HOSPITAL CESAR URIBE PIEDARHITA</td><td>890,980,757</td><td>Carrera 20 # 1A-100 Barrio El Man</td><td>3201212</td><td>gerencia@hcup.gov.co</td><td>(7.995211, -75.19809)</td></tr><tr><td>5172</td><td>Uraba</td><td>51720630501</td><td>EMPRESA SOCIAL DEL ESTADO HOSPITAL MARIA AUXILIADORA</td><td>EMPRESA SOCIAL DEL ESTADO HOSPITAL MARIA AUXILIADORA</td><td>890,980,997</td><td>KR 108 # 101 A - 57</td><td>5748253191</td><td>admin@hospitalma.gov.co</td><td>(7.672513, -76.687805)</td></tr><tr><td>5190</td><td>Nordeste</td><td>51900559201</td><td>EMPRESA SOCIAL DEL ESTADO HOSPITAL SAN ANTONIO</td><td>E.S.E HOSPITAL SAN ANTONIO</td><td>890,980,444</td><td>CL 18 # 17-105</td><td>8631847</td><td>gerencia@esesanantonio-cisneros-antioquia.gov.co</td><td>(6.537253, -75.088447)</td></tr><tr><td>5197</td><td>Oriente</td><td>51970559301</td><td>ESE HOSPITAL SAN JUAN DE DIOS DE COCORNA</td><td>ESE HOSPITAL SAN JUAN DE DIOS</td><td>890,981,108</td><td>CL 21 # 23-45</td><td>5748343685</td><td>gerencia@hospitaldecocorna.com</td><td>(6.057621, -75.186546)</td></tr><tr><td>5206</td><td>Oriente</td><td>52060478001</td><td>ESE HOSPITAL JOSE MARIA CORDOBA</td><td>ESE HOSPITAL JOSE MARIA CORDOBA</td><td>890,980,512</td><td>KR 19 # 19-83</td><td>5748567024</td><td>administrador@esehospitaljosemariacordobaconcepcionantioquia.gov.co</td><td>(6.041964, -74.992971)</td></tr><tr><td>5209</td><td>Suroeste</td><td>52090581901</td><td>E.S.E. HOSPITAL SAN JUAN DE DIOS DE CONCORDIA</td><td>E.S.E. HOSPITAL SAN JUAN DE DIOS</td><td>89,090,797</td><td>KR 18 # 16-05</td><td>844 77 24</td><td>hospitaldeconcordia@hospital-concordia.gov.co</td><td>(6.045373, -75.904713)</td></tr><tr><td>5212</td><td>Valle de Aburra</td><td>52120230801</td><td>E.S.E. HOSPITAL SANTA MARGARITA</td><td>E.S.E. HOSPITAL SANTA MARGARITA</td><td>890,980,949</td><td>KR 64 Nº 48-80 La misericordia</td><td>4802390 ext 176</td><td>gerencia@santamargarita.gov.co</td><td>(6.349485, -75.505182)</td></tr><tr><td>5234</td><td>Occidente</td><td>52340231401</td><td>EMPRESA SOCIAL DEL ESTADO HOSPITAL NUESTRA SEÑORA DEL PERPETUO SOCORRO</td><td>E.S.E HOSPITAL NUESTRA SEÑORA DEL PERPETUO SOCORRO</td><td>890,984,670</td><td>KR URIBE URIBE # 622</td><td>5748590045</td><td>gerencia@hospitaldabeiba.gov.co</td><td>(6.997737, -76.261725)</td></tr><tr><td>5237</td><td>Norte</td><td>52370594801</td><td>E.S.E. HOSPITAL FRANCISCO ELADIO BARRERA</td><td>E.S.E. HOSPITAL FRANCISCO ELADIO BARRERA</td><td>890,905,097</td><td>CL 36A # 29-55</td><td>5748663737</td><td>gerencia@hospitaldonmatias.gov.co</td><td>(6.489024, -75.395705)</td></tr><tr><td>5240</td><td>Occidente</td><td>52400374401</td><td>EMPRESA SOCIAL DEL ESTADO  HOSPITAL SAN RAFAEL</td><td>EMPRESA SOCIAL DEL ESTADO HOSPITAL SAN RAFAEL</td><td>890,982,370</td><td>BRR VEREDA FATIMA</td><td>5748562681</td><td>hospebejico@gmail.com</td><td>(6.325962, -75.767641)</td></tr><tr><td>5250</td><td>Bajo Cauca</td><td>52500213301</td><td>EMPRESA SOCIAL DEL ESTADO HOSPITAL NUESTRA SEÑORA DEL CARMEN</td><td>ESE HOSPITAL NUESTRA SEÑORA DEL CARMEN</td><td>800,138,311</td><td>CL 50 # 46D-37</td><td>5748372381</td><td>bagrhs01@edatel.net.co</td><td>(7.590835, -74.809856)</td></tr><tr><td>5264</td><td>Norte</td><td>52640230901</td><td>ESE HOSPITAL PRESBITERO EMIGDIO PALACIO</td><td>ESE HOSPITAL PRESBITERO EMIGDIO PALACIO</td><td>890,984,779</td><td>TRANSVERSAL 13 CALLE 2-17</td><td>5748670051</td><td>entrhs01@edatel.net.co</td><td>(6.567066, -75.517965)</td></tr><tr><td>5266</td><td>Valle de Aburra</td><td>52660491001</td><td>E.S.E. HOSPITAL MANUEL URIBE ANGEL</td><td>ESE HOSPITAL MANUEL URIBE ANGEL</td><td>890,906,347</td><td>DG 31 # 36 A SUR - 80</td><td>5742703511</td><td>radicacion@hospitalmua.gov.co</td><td>(6.166892, -75.580128)</td></tr><tr><td>5282</td><td>Suroeste</td><td>52820217101</td><td>E.S.E. HOSPITAL DE SANTA LUCIA</td><td>E.S.E. HOSPITAL SANTA LUCIA</td><td>890,980,181</td><td>CL 69 # 50-220 VEREDA EL EDEN</td><td>5748401101</td><td>esefredonia@gmail.com</td><td>(5.932994, -75.679965)</td></tr><tr><td>5284</td><td>Occidente</td><td>52840217001</td><td>EMPRESA SOCIAL DEL ESTADO HOSPITAL MARIA ANTONIA TORO DE ELEJALDE</td><td>EMPRESA SOCIAL DEL ESTADO HOSPITAL MARIA ANTONIA TORO DE ELEJALDE</td><td>890,906,991</td><td>KR 27 # 31 - 38</td><td>5748595050</td><td>gerencia@hospitalfrontino.gov.co</td><td>(6.780833, -76.126499)</td></tr><tr><td>5306</td><td>Occidente</td><td>53060447701</td><td>E.S.E. HOSPITAL SAN ISIDRO</td><td>E.S.E. HOSPITAL SAN ISIDRO</td><td>800,193,392</td><td>CALLE SANTANDER</td><td>3146494249 - 8571325</td><td>esehospitalsanisidro@gmail.com</td><td>(6.681158, -75.953248)</td></tr><tr><td>5308</td><td>Valle de Aburra</td><td>53080610401</td><td>E.S.E. HOSPITAL SAN RAFAEL</td><td>E.S.E. HOSPITAL SAN RAFAEL</td><td>890,980,727</td><td>KR 16 # 11-01</td><td>0514052440 ext:115 102 113</td><td>laboratoriohsrg@gmail.com</td><td>(6.375113, -75.449558)</td></tr><tr><td>5310</td><td>Norte</td><td>53100501501</td><td>E.S.E. HOSPITAL SANTA ISABEL</td><td>E.S.E. HOSPITAL SANTA ISABEL</td><td>890,902,151</td><td>KR 52 # 48-47</td><td>862 82 00</td><td>gerencia@esehospitalsantaisabel.gov.co</td><td>(6.679196, -75.221613)</td></tr><tr><td>5313</td><td>Oriente</td><td>53130510901</td><td>ESE HOSPITAL PADRE CLEMENTE GIRALDO</td><td>ESE HOSPITAL PADRE CLEMENTE GIRALDO</td><td>890,981,182</td><td>CL 21 # 25-02</td><td>8320102 8320742</td><td>granhs00@gmail.com</td><td>(6.140427, -75.183778)</td></tr><tr><td>5315</td><td>Norte</td><td>53150458601</td><td>E.S.E. NUESTRA SEÑORA DE GUADALUPE</td><td>E.S.E. HOSPITAL NUESTRA SEÑORA DE GUADALUPE</td><td>890,981,690</td><td>CL 50 # 51-12</td><td>5748616110</td><td>hospitalguadalupe@gmail.com</td><td>(6.814711, -75.241542)</td></tr><tr><td>5318</td><td>Oriente</td><td>53180243601</td><td>E.S.E. NUETRA SEÑORA DE LA CANDELARIA</td><td>E.S.E. NUETRA SEÑORA DE LA CANDELARIA</td><td>890,981,719</td><td>KR 52 # 52-177</td><td>(054)551 13 13 - 576 70 90</td><td>gerencia@hospitalguarne.com</td><td>(6.281456, -75.445352)</td></tr><tr><td>5321</td><td>Oriente</td><td>53210442901</td><td>E.S.E. HOSPITAL LA INMACULADA</td><td>E.S.E. HOSPITAL LA INMACULADA</td><td>890,981,817</td><td>KR 23A # 31-35</td><td>8610800 - 3016242530 - 3122590939</td><td>gerencia@hospitalguatape.com</td><td>(6.232029, -75.156559)</td></tr><tr><td>5347</td><td>Occidente</td><td>53470219201</td><td>EMPRESA SOCIAL DEL ESTADO HOSPITAL SAN RAFAEL</td><td>EMPRESA SOCIAL DEL ESTADO HOSPITAL SAN RAFAEL</td><td>890,981,074</td><td>CL 22 B No 20-21</td><td>5748549897</td><td>eseheliconia@gmail.com</td><td>(6.208224, -75.732622)</td></tr><tr><td>5353</td><td>Suroeste</td><td>53530238101</td><td>ESE HOSPITAL SAN JUAN DEL SUROESTE</td><td>ESE HOSPITAL SAN JUAN DEL SUROESTE</td><td>800,068,653</td><td>CL 50 # 46-47</td><td>3113798288</td><td>facturacionhospitalhispania@gmail.com</td><td>(5.799986, -75.904745)</td></tr><tr><td>5360</td><td>Valle de Aburra</td><td>53600433901</td><td>E.S.E. HOSPITAL SAN RAFAEL DE ITAGUI</td><td>E.S.E. HOSPITAL SAN RAFAEL DE ITAGUI</td><td>890,980,066</td><td>KR 51A # 45-51</td><td>4482224</td><td>gerencia@hsanrafael.gov.co</td><td>(6.171281, -75.613242)</td></tr><tr><td>5361</td><td>Norte</td><td>53610450501</td><td>E.S.E.  HOSPITAL SAN JUAN DE DIOS DE ITUANGO</td><td>E.S.E.  HOSPITAL SAN JUAN DE DIOS DE ITUANGO</td><td>890,980,840</td><td>KR QUINDIO #  25-54</td><td>5748643100</td><td>notificacioneshospitalituango@gmail.com</td><td>(7.170186, -75.764535)</td></tr><tr><td>5364</td><td>Suroeste</td><td>53640476801</td><td>E.S.E HOSPITAL GABRIEL PELÁEZ MONTOYA</td><td>E.S.E HOSPITAL GABRIEL PELÁEZ MONTOYA</td><td>890,980,732</td><td>CL 5 UNION # 1 24</td><td>5748455555</td><td>hospital@esehospitalgabrielpelaezmontoya.gov.co</td><td>(5.602425, -75.821784)</td></tr><tr><td>5368</td><td>Suroeste</td><td>53680483301</td><td>NUEVA ESE HOSPITAL SAN RAFAEL JERICO</td><td>NUEVA ESE HOSPITAL SAN RAFAEL JERICO</td><td>890,980,765</td><td>KR 5 # 9-157</td><td>60485231656</td><td>hospital@hospitalsanrafaeljerico.gov.co</td><td>(5.789472, -75.787382)</td></tr><tr><td>5376</td><td>Oriente</td><td>53760592601</td><td>E.S.E. HOSPITAL DE LA CEJA</td><td>ESE HOSPITAL DE LA CEJA</td><td>890,980,758</td><td>CL 17 # 19-55</td><td>5745531444</td><td>hospitalceja@une.net.co</td><td>(6.028307, -75.431319)</td></tr><tr><td>5380</td><td>Valle de Aburra</td><td>53800501601</td><td>E.S.E. HOSPITAL LA ESTRELLA</td><td>EMPRESA SOCIAL DEL ESTADO HOSPITAL LA ESTRELLA</td><td>800,138,968</td><td>CL 83 A SUR N° 60 - 45</td><td>5743106070</td><td>infohospital@eselaestrella.gov.co</td><td>(6.157163, -75.64302)</td></tr><tr><td>5390</td><td>Suroeste</td><td>53900509001</td><td>EMPRESA SOCIAL DEL ESTADO HOSPITAL ANTONIO ROLDAN BETANCUR</td><td>EMPRESA SOCIAL DEL ESTADO HOSPITAL ANTONIO ROLDAN BETANCUR</td><td>811,013,792</td><td>KR 30 # 30A - 45</td><td>5748454063</td><td>harbgerencia@gmail.com</td><td>(5.740705, -75.606859)</td></tr><tr><td>5400</td><td>Oriente</td><td>54000242001</td><td>E.S.E. HOSPITAL SAN ROQUE  LA UNION</td><td>E.S.E. HOSPITAL SAN ROQUE</td><td>890,980,866</td><td>CL 2 # 11-54</td><td>5745560619</td><td>hospitallaunion890@gmail.com</td><td>(5.967984, -75.359452)</td></tr><tr><td>5411</td><td>Occidente</td><td>54110157901</td><td>EMPRESA SOCIAL DEL ESTADO HOSPITAL SAN LORENZO</td><td>EMPRESA SOCIAL DEL ESTADO HOSPITAL SAN LORENZO</td><td>890,982,139</td><td>KR 13 # 6-21</td><td>5748561826</td><td>libohs01@edatel.net.co</td><td>(6.676713, -75.814548)</td></tr><tr><td>5425</td><td>Magdalena Medio</td><td>54250510501</td><td>EMPRESA SOCIAL DEL ESTADO MARCO A. CARDONA</td><td>EMPRESA SOCIAL DEL ESTADO HOSPITAL  MARCO A. CARDONA</td><td>890,906,966</td><td>KR 30 # 33-237</td><td>5748640283</td><td>archivo@hospitalmaceo.gov.co</td><td>(6.556282, -74.788297)</td></tr><tr><td>5440</td><td>Oriente</td><td>54400527301</td><td>E.S.E. SAN JUAN DE DIOS DE MARINILLA</td><td>E.S.E. SAN JUAN DE DIOS DE MARINILLA</td><td>890,980,752</td><td>KR 36 # 28-85</td><td>5745484044</td><td>gerencia@hospitalmarinilla.com</td><td>null</td></tr><tr><td>5467</td><td>Suroeste</td><td>54670396201</td><td>E.S.E. HOSPITAL SAN ANTONIO DE MONTEBELLO</td><td>E.S.E. HOSPITAL SAN ANTONIO</td><td>890,981,096</td><td>CL 18 # 18-85</td><td>5748480559</td><td>hospisanantonio@esemontebello.gov.co</td><td>(5.948656, -75.52304)</td></tr><tr><td>5475</td><td>Uraba</td><td>54750502001</td><td>ESE HOSPITAL SAN BARTOLOMÉ</td><td>ESE HOSPITAL SAN BARTOLOMÉ</td><td>800,165,050</td><td>CL 2 # 14 - 20</td><td>8575093</td><td>hospitalmurindo@hotmail.com</td><td>(6.980954, -76.821213)</td></tr><tr><td>5480</td><td>Uraba</td><td>54800491601</td><td>E.S.E. HOSPITAL LA ANUNCIACION</td><td>E.S.E. HOSPITAL LA ANUNCIACION</td><td>890,981,268</td><td>KR 10 # 10-08</td><td>8578700 - 8578100</td><td>hospital@eselaanunciacion-mutata-antioquia.gov.co</td><td>(7.247664, -76.439309)</td></tr><tr><td>5483</td><td>Oriente</td><td>54830592801</td><td>E.S.E. HOSPITAL SAN JOAQUIN</td><td>E.S.E. HOSPITAL SAN JOAQUIN</td><td>890,981,652</td><td>Calle13 No 6-33</td><td>8680109 8680273 8680363</td><td>admonesesanjoaquin@gmail.com</td><td>(5.609793, -75.174637)</td></tr><tr><td>5490</td><td>Uraba</td><td>54900481101</td><td>E.S.E. HOSPITAL SAN SEBASTIAN DE URABA</td><td>E.S.E. HOSPITAL SAN SEBASTIAN DE URABÁ</td><td>890,985,603</td><td>CL 50 # 36 - 37 KM 2 VIA TURBO</td><td>5748214546</td><td>neyderpupo@hospitalnecocli.gov.co</td><td>(8.424319, -76.78393)</td></tr><tr><td>5495</td><td>Bajo Cauca</td><td>54950491501</td><td>ESE HOSPITAL LA MISERICORDIA</td><td>ESE HOSPITAL LA MISERICORDIA</td><td>800,138,011</td><td>CL LA MISERICORDIA</td><td>5748368053</td><td>gerencia@hospitalnechi.gov.co</td><td>(8.092287, -74.781103)</td></tr><tr><td>5501</td><td>Occidente</td><td>55010556901</td><td>ESE HOSPITAL SAN MIGUEL</td><td>ESE HOSPITAL SAN MIGUEL</td><td>800,202,398</td><td>KR 10 # 10 - 34</td><td>8550359</td><td>siauhso@gmail.com</td><td>(6.613513, -75.764862)</td></tr><tr><td>5541</td><td>Oriente</td><td>55410197901</td><td>EMPRESA SOCIAL DEL ESTADO HOSPITAL SAN JUAN DE DIOS</td><td>E.S.E HOSPITAL SAN JUAN DE DIOS</td><td>890,980,486</td><td>TV 7A # 11-84</td><td>5748515750</td><td>gerencia@esesanjuandedios-penol-antioquia.gov.co</td><td>(6.216002, -75.238819)</td></tr><tr><td>5543</td><td>Occidente</td><td>55430629901</td><td>E.S.E. HOSPITAL SAN FRANCISCO</td><td>E.S.E. HOSPITAL SAN FRANCISCO</td><td>890,983,675</td><td>KR BOLIVAR # 11-170</td><td>6048552045 - 6048552132</td><td>gerencia@hospitalpeque.gov.co</td><td>null</td></tr><tr><td>5576</td><td>Suroeste</td><td>55760592901</td><td>E.S.E. HOSPITAL SAN VICENTE DE PAUL DE PUEBLO RICO</td><td>E.S.E. HOSPITAL SAN VICENTE DE PAUL</td><td>890,981,532</td><td>CL 32 #  26A-38</td><td>8498080-8498326-8499054</td><td>hospitalpueblorrico@gmail.com</td><td>(5.793464, -75.838787)</td></tr><tr><td>5579</td><td>Magdalena Medio</td><td>55790607001</td><td>EMPRESA SOCIAL DEL ESTADO HOSPITAL LA CRUZ</td><td>E.S.E HOSPITAL LA CRUZ</td><td>890,980,063</td><td>KR 7 # 48-03</td><td>5748332490</td><td>pberhs01@edatel.net.co</td><td>(6.488732, -74.404202)</td></tr><tr><td>5585</td><td>Magdalena Medio</td><td>55850472501</td><td>EMPRESA SOCIAL DEL ESTADO HOSPITAL OCTAVIO OLIVARES</td><td>EMPRESA SOCIAL DEL ESTADO HOSPITAL OCTAVIO OLIVARES</td><td>890,985,810</td><td>KR 5 # 45-103</td><td>5748347208</td><td>pnarehoo@gmail.com - hoogerencia@gmail.com</td><td>(6.18466, -74.583856)</td></tr><tr><td>5591</td><td>Magdalena Medio</td><td>55910421901</td><td>ESE HOSPITAL LA PAZ</td><td>ESE HOSPITAL LA PAZ</td><td>800,072,678</td><td>CL 14 # 10 - 25</td><td>5748352098</td><td>ptrihs01@edatel.net.co</td><td>(5.872305, -74.64018)</td></tr><tr><td>5604</td><td>Nordeste</td><td>56040550901</td><td>EMPRESA SOCIAL DEL ESTADO HOSPITAL SAN VICENTE DE PAUL</td><td>EMPRESA SOCIAL DEL ESTADO HOSPITAL SAN VICENTE DE PAUL</td><td>890,985,092</td><td>CL LAS PALMAS # 12 - 120</td><td>8303727 8303899 8303471</td><td>info@hsvpremedios.gov.co</td><td>(7.07385, -74.697847)</td></tr><tr><td>5607</td><td>Oriente</td><td>56070238301</td><td>E.S.E. HOSPITAL SAN JUAN DE DIOS DEL RETIRO</td><td>E.S.E. HOSPITAL SAN JUAN DE DIOS DEL RETIRO</td><td>890,982,124</td><td>CL 18 # 21-103</td><td>5745410055</td><td>eseretiro@epm.net.co</td><td>(6.05621, -75.503709)</td></tr><tr><td>5615</td><td>Oriente</td><td>56150137601</td><td>E.S.E. HOSPITAL SAN JUAN DE DIOS</td><td>E.S.E. HOSPITAL SAN JUAN DE DIOS</td><td>890,907,254</td><td>KR 48 # 56-59</td><td>945313700</td><td>eserionegro@hsjdeserionegro.com</td><td>(6.158646, -75.371353)</td></tr><tr><td>5628</td><td>Occidente</td><td>56280510701</td><td>E.S.E. HOSPITAL SAN PEDRO</td><td>E.S.E. HOSPITAL SAN PEDRO</td><td>890,982,140</td><td>KR 17 # 15-94</td><td>6048554209</td><td>gerencia@hspsabanalarga.gov.co</td><td>(6.84718, -75.816565)</td></tr><tr><td>5631</td><td>Valle de Aburra</td><td>56310220601</td><td>E.S.E. HOSPITAL VENANCIO DIAZ DIAZ</td><td>E.S.E. HOSPITAL VENACIO DIAZ DIAZ</td><td>800,123,106</td><td>KR 46B # 77 SUR 36</td><td>5742889701</td><td>gerencia@hospitalsabaneta.gov.co</td><td>(6.148166, -75.621836)</td></tr><tr><td>5642</td><td>Suroeste</td><td>56420457601</td><td>E.S.E. HOSPITAL SAN JOSE</td><td>E.S.E. HOSPITAL SAN JOSE</td><td>890,981,424</td><td>CL 32A # 33-04</td><td>5748442020</td><td>gerencia@hsjsalgar.gov.co</td><td>(5.965121, -75.980536)</td></tr><tr><td>5647</td><td>Norte</td><td>56470217401</td><td>EMPRESA SOCIAL DEL ESTADO GUSTAVO GONZALEZ OCHOA</td><td>E.S.E GUSTAVO GONZALEZ OCHOA</td><td>890,982,113</td><td>BRR EL CRUCERO</td><td>5748618101</td><td>hospital.sanandresdecuerquia@gmail.com</td><td>(6.914669, -75.675287)</td></tr><tr><td>5649</td><td>Oriente</td><td>56490398301</td><td>E.S.E. HOSPITAL SAN VICENTE DE PAUL SAN CARLOS</td><td>E.S.E. HOSPITAL SAN VICENTE DE PAUL</td><td>890,981,561</td><td>CL 21 # 24-58</td><td>5748358794</td><td>gerencia@hsvpsancarlos.gov.co</td><td>(6.187542, -74.996393)</td></tr><tr><td>5652</td><td>Oriente</td><td>56520601601</td><td>EMPRESA SOCIAL DEL ESTADO HOSPITAL SAN FRANCISCO DE ASIS</td><td>EMPRESA SOCIAL DEL ESTADO HOSPITAL SAN FRANCISCO DE ASIS</td><td>800,133,887</td><td>Carrera 10 No 9 -09</td><td>8323027</td><td>gerencia@esehospitaldesanfrancisco-antioquia.gov.co</td><td>(5.964372, -75.100077)</td></tr><tr><td>5656</td><td>Occidente</td><td>56560509201</td><td>E.S.E. HOSPITAL SAN LUIS BELTRAN</td><td>E.S.E. HOSPITAL SAN LUIS BELTRAN</td><td>890,981,848</td><td>KR 10 # 23-08</td><td>8585997</td><td>gerencia@hospitaldesanjeronimo.gov.co</td><td>(6.444441, -75.729146)</td></tr><tr><td>5658</td><td>Norte</td><td>56580559101</td><td>E.S.E. HOSPITAL LAUREANO PINO</td><td>E.S.E. HOSPITAL LAUREANO PINO</td><td>890,984,427</td><td>KR 21 # 15-11</td><td>5748622663</td><td>hospitallaureanopino@gmail.com, snmohs01@edatel.net.co,</td><td>(6.847521, -75.681767)</td></tr><tr><td>5659</td><td>Uraba</td><td>56590215901</td><td>E.S.E. HOSPITAL HECTOR ABAD GOMEZ</td><td>E.S.E. HOSPITAL HECTOR ABAD GOMEZ</td><td>800,143,438</td><td>KR 20 # 24-20</td><td>8212626- 8212627</td><td>contactenos@esehhagsanjuandeuraba-antioquia.gov.co</td><td>(8.762896, -76.525698)</td></tr><tr><td>5660</td><td>Oriente</td><td>56600227701</td><td>E.S.E. HOSPITAL SAN RAFAEL DE SAN LUIS</td><td>E.S.E. HOSPITAL SAN RAFAEL DE SAN LUIS</td><td>890,982,091</td><td>KR 19 #17-63</td><td>5748348505</td><td>gerencia@hospitaldesanluis.com.co</td><td>(6.041148, -74.991914)</td></tr><tr><td>5664</td><td>Norte</td><td>56640448101</td><td>E.S.E. HOSPITAL SANTA ISABEL</td><td>E.S.E. HOSPITAL SANTA ISABEL</td><td>800,014,405</td><td>CL 43A #  52A-109</td><td>5748687610</td><td>hospital@esesantaisabel.gov.co</td><td>(6.45668, -75.559802)</td></tr><tr><td>5665</td><td>Uraba</td><td>56650551401</td><td>E.S.E. HOSPITAL OSCAR EMIRO VERGARA CRUZ</td><td>E.S.E. HOSPITAL OSCAR EMIRO VERGARA CRUZ</td><td>890,985,660</td><td>CL 54 # 47 - 102</td><td>5748205065</td><td>gerencia@esehoevc.gov.co</td><td>(8.284117, -76.383648)</td></tr><tr><td>5667</td><td>Oriente</td><td>56670151201</td><td>E.S.E. HOSPITAL PRESBITERO ALONSO MARIA GIRALDO</td><td>ESE HOSPITAL PBRO ALONSO MARIA GIRALDO</td><td>891,982,128</td><td>KR 29 # 26-189</td><td>5748586612</td><td>gerencia@esepresbiteroalonso-sanrafael.gov.co</td><td>(6.294397, -75.026343)</td></tr><tr><td>5670</td><td>Nordeste</td><td>56700581401</td><td>E.S.E. HOSPITAL MUNICIPAL SAN ROQUE</td><td>ESE HOSPITAL MUNICIPAL SAN ROQUE</td><td>890,906,211</td><td>CL 25 # 18-30</td><td>5748656735</td><td>esehospitalsr@gmail.com</td><td>(6.487918, -75.018205)</td></tr><tr><td>5674</td><td>Oriente</td><td>56740479201</td><td>E S E HOSPITAL MUNICIPIO DE SAN VICENTE</td><td>E S E HOSPITAL MUNICIPIO DE SAN VICENTE</td><td>890,983,738</td><td>AV CARVAJAL # 31-36</td><td>5748544100</td><td>snvihs01@edatel.net.co</td><td>(6.282818, -75.332085)</td></tr><tr><td>5679</td><td>Suroeste</td><td>56790458201</td><td>EMPRESA SOCIAL DEL ESTADO HOSPITAL SANTAMARIA</td><td>EMPRESA SOCIAL DEL ESTADO HOSPITAL SANTAMARIA</td><td>890,905,198</td><td>KR 50 # 45 90</td><td>5748463131</td><td>jorge.valencia@hospitalsantamaria.gov.co</td><td>(5.87398, -75.565225)</td></tr><tr><td>5686</td><td>Norte</td><td>56860464901</td><td>E.S.E. HOSPITAL SAN JUAN DE DIOS DE SANTA ROSA DE OSOS</td><td>E.S.E. HOSPITAL SAN JUAN DE DIOS DE SANTA ROSA DE OSOS</td><td>890,981,298</td><td>KR 28 # 26A-34</td><td>5748609474</td><td>stlo01@edatel.com.co</td><td>(6.646108, -75.461059)</td></tr><tr><td>5690</td><td>Nordeste</td><td>56900483701</td><td>ESE HOSPITAL SAN RAFAEL DE SANTO DOMINGO</td><td>ESE HOSPITAL SAN RAFAEL</td><td>890,906,560</td><td>KR 16 # 18 29</td><td>5748621155</td><td>stdohs01@edatel.net.co</td><td>(6.474783, -75.162024)</td></tr><tr><td>5697</td><td>Oriente</td><td>56970242701</td><td>E.S.E. HOSPITAL SAN JUAN DE DIOS EL SANTUARIO</td><td>E.S.E. HOSPITAL SAN JUAN DE DIOS EL SANTUARIO</td><td>890,980,326</td><td>CL 49 # 41-63</td><td>5745460050</td><td>cadsant@hospitalelsantuario.gov.co</td><td>(6.136576, -75.261921)</td></tr><tr><td>5736</td><td>Nordeste</td><td>57360612501</td><td>E.S.E. HOSPITAL SAN JUAN DE DIOS</td><td>E.S.E. HOSPITAL SAN JUAN DE DIOS</td><td>800,080,586</td><td>CAMPAMENTO LA SALADA</td><td>8317382 - 8315992</td><td>gerencia@hospitaldesegovia.gov.co</td><td>(7.079003, -74.693899)</td></tr><tr><td>5756</td><td>Oriente</td><td>57560239401</td><td>EMPRESA SOCIAL DEL ESTADO SAN JUAN DE DIOS</td><td>EMPRESA SOCIAL DEL ESTADO SAN JUAN DE DIOS</td><td>890,980,003</td><td>CL 16 # 7 - 151</td><td>8695050</td><td>institucional@hospitalsonson.gov.co</td><td>(5.716899, -75.309005)</td></tr><tr><td>5761</td><td>Occidente</td><td>57610561201</td><td>EMPRESA SOCIAL DEL ESTADO HORACIO MUÑOZ SUESCUN</td><td>EMPRESA SOCIAL DEL ESTADO HORACIO MUÑOZ SUESCUN</td><td>890,982,184</td><td>CL BENJAMIN HERRERA # 11 - 53</td><td>5748541555</td><td>gerencia@hospitalsopetranantioquia.gov.co</td><td>(6.500707, -75.743845)</td></tr><tr><td>5789</td><td>Suroeste</td><td>57890457901</td><td>EMPRESA SOCIAL DEL ESTADO HOSPITAL SAN JUAN DE DIOS</td><td>E.S.E HOSPITAL SAN JUAN DE DIOS</td><td>890,980,855</td><td>KR 10 # 13 - 52</td><td>5748494802</td><td>hospital@tamesis-antioquia.gov.co</td><td>(5.664982, -75.713031)</td></tr><tr><td>5790</td><td>Bajo Cauca</td><td>57900551301</td><td>E.S.E. HOSPITAL SAN ANTONIO</td><td>E.S.E. HOSPITAL SAN ANTONIO</td><td>890,984,696</td><td>CL 26 # 32-1311</td><td>5748365616</td><td>gerenciahospitaltaraza@gmail.com</td><td>null</td></tr><tr><td>5792</td><td>Suroeste</td><td>57920458701</td><td>EMPRESA SOCIAL DEL ESTADO HOSPITAL SAN PABLO</td><td>E.S.E SAN PABLO</td><td>890,982,182</td><td>KR 18 # 21 - 02</td><td>5748458606</td><td>hospitaltarso@gmail.com</td><td>(5.865957, -75.820945)</td></tr><tr><td>5809</td><td>Suroeste</td><td>58090434901</td><td>ESE HOSPITAL SAN JUAN DE DIOS</td><td>ESE HOSPITAL SAN JUAN DE DIOS</td><td>890,980,346</td><td>Kr Bolivar 18-55</td><td>(4) 848 27 40</td><td>hospitaltitiribi@hotmail.com</td><td>(6.062678, -75.791556)</td></tr><tr><td>5819</td><td>Norte</td><td>58190612301</td><td>E.S.E. HOSPITAL PEDRO CLAVER AGUIRRE</td><td>EMPRESA SOCIAL DEL ESTADO HOSPITAL PEDRO CLAVER AGUIRRE Y</td><td>800,139,704</td><td>CALLE 11 NUMERO 09-07</td><td>8619061</td><td>gerenciahpca@gmail.com</td><td>(7.011666, -75.691509)</td></tr><tr><td>5837</td><td>Uraba</td><td>58370228701</td><td>EMPRESA SOCIAL DEL ESTADO HOSPITAL FRANCISCO VALDERRAMA</td><td>EMPRESA SOCIAL DEL ESTADO HOSPITAL FRANCISCO VALDERRAMA</td><td>890,981,137</td><td>KM 1 SALIDA TURBO - APARTADO</td><td>5748272088</td><td>turbhs01@edatel.net.co</td><td>(8.094491, -76.714541)</td></tr><tr><td>5842</td><td>Occidente</td><td>58420643101</td><td>EMPRESA SOCIAL DEL ESTADO HOSPITAL TOBIAS PUERTA</td><td>EMPRESA SOCIAL DEL ESTADO HOSPITAL TOBIAS PUERTA</td><td>800,065,395</td><td>CL 20  # 22 170  BRR EL TOTUMO</td><td>5748574048</td><td>uramhs01@edatel.net.co</td><td>(6.902526, -76.174049)</td></tr><tr><td>5847</td><td>Suroeste</td><td>58470483901</td><td>EMPRESA SOCIAL DEL ESTADO IVAN RESTREPO GOMEZ</td><td>ESE HOSPITAL IVAN RESTREPO GOMEZ</td><td>890,980,971</td><td>KR 32 # 23-61</td><td>8503898</td><td>gerencia@hospitalurrao.gov.co</td><td>(6.311033, -76.132915)</td></tr><tr><td>5854</td><td>Norte</td><td>58540457701</td><td>EMPRESA SOCIAL DEL ESTADO HOSPITAL SAN JAUN DE DIOS VALDIVIA</td><td>E.S.E HOSPITAL SAN JUAN DE DIOS DE VALDIVIA</td><td>891,982,129</td><td>KR 8 # 7 - 18</td><td>5748360218</td><td>esevaldivia@gmail.com</td><td>(7.289894, -75.392647)</td></tr><tr><td>5856</td><td>Suroeste</td><td>58560238201</td><td>E.S.E. HOSPITAL SAN JUAN DE DIOS</td><td>E.S.E. HOSPITAL SAN JUAN DE DIOS</td><td>890,980,828</td><td>CRA 12 NRO 6-31</td><td>8493854</td><td>admonesevalparaiso@gmail.com</td><td>(5.614395, -75.624261)</td></tr><tr><td>5858</td><td>Nordeste</td><td>58580629401</td><td>E.S.E. HOSPITAL SAN CAMILO DE LELIS</td><td>E.S.E. HOSPITAL SAN CAMILO DE LELIS</td><td>800,114,286</td><td>CALLE 49 # 40 - 209</td><td>8305122/ 8305698/8305474 3103709160</td><td>gerenciahospitalvegachi@gmail.com</td><td>(6.762892, -74.788828)</td></tr><tr><td>5861</td><td>Suroeste</td><td>58610145201</td><td>E.S.E.  HOSPITAL SAN RAFAEL DE VENECIA</td><td>ESE HOSPITAL SAN RAFAEL DE VENECIA</td><td>890,980,367</td><td>CL 52 # 50-82</td><td>5748490313</td><td>cad@hospitalvenecia.gov.co</td><td>(5.965161, -75.735084)</td></tr><tr><td>5873</td><td>Uraba</td><td>58730436301</td><td>EMPRESA SOCIAL DEL ESTADO HOSPITAL ATRATO MEDIO ANTIOQUEÑO</td><td>E.S.E HOSPITAL ATRATO MEDIO ANTIOQUEÑO</td><td>811,020,943</td><td>CRA 1°#20A-66 BARRIO PUERTO CARIBE</td><td>5748678151</td><td>esehama@esehama-vigiadelfuerte-antioquia.gov.co</td><td>(6.589922, -76.879578)</td></tr><tr><td>5885</td><td>Nordeste</td><td>58850211201</td><td>E.S.E. HOSPITAL LA MISERICORDIA</td><td>E.S.E. HOSPITAL LA MISERICORDIA</td><td>890,982,162</td><td>CL 18 # 23-24</td><td>5748675655</td><td>yalihs01@edatel.net.co</td><td>(6.673346, -74.842429)</td></tr><tr><td>5887</td><td>Norte</td><td>58870228401</td><td>E.S.E. HOSPITAL SAN JUAN DE DIOS YARUMAL</td><td>E.S.E. HOSPITAL SAN JUAN DE DIOS YARUMAL</td><td>890,981,726</td><td>KR 23 # 12 - 13</td><td>094 8 53 73 73</td><td>cuentasmedicas@hospitalyarumal.gov.co</td><td>(6.957323, -75.414931)</td></tr><tr><td>5890</td><td>Nordeste</td><td>58900243101</td><td>EMPRESA SOCIAL DEL ESTADO HOSPITAL SAN RAFAEL DE YOLOMBO</td><td>EMPRESA SOCIAL DEL ESTADO HOSPITAL SAN RAFAEL DE YOLOMBO</td><td>890,981,536</td><td>KR 24 # 13 - 466</td><td>5748654859</td><td>esehospitalyolombo@gmail.com</td><td>(6.597681, -75.017438)</td></tr><tr><td>5893</td><td>Magdalena Medio</td><td>58930322701</td><td>ESE HOSPITAL HECTOR ABAD GOMEZ</td><td>ESE HOSPITAL HECTOR ABAD GOMEZ</td><td>800,014,884</td><td>KR 58 # 47B-50</td><td>5748325050</td><td>esehectorabadgomez@hospitalyondo.gov.co</td><td>(7.005532, -73.914267)</td></tr><tr><td>5895</td><td>Bajo Cauca</td><td>58950588401</td><td>ESE HOSPITAL SAN RAFAEL</td><td>ESE HOSPITAL SAN RAFAEL</td><td>890,981,117</td><td>Brr San Gregorio Diagonal Urbanización Miraflores</td><td>5748389044</td><td>zarahs01@edatel.net.co</td><td>(7.491112, -74.868221)</td></tr></tbody></table></div>"
      ]
     },
     "metadata": {
      "application/vnd.databricks.v1+output": {
       "addedWidgets": {},
       "aggData": [],
       "aggError": "",
       "aggOverflow": false,
       "aggSchema": [],
       "aggSeriesLimitReached": false,
       "aggType": "",
       "arguments": {},
       "columnCustomDisplayInfos": {},
       "data": [
        [
         "5001",
         "Valle de Aburra",
         "50010214401",
         "EMPRESA SOCIAL DEL ESTADO HOSPITAL GENERAL DE MEDELLIN LUZ CASTRO DE GUTIERREZ",
         "EMPRESA SOCIAL DEL ESTADO HOSPITAL GENERAL DE MEDELLIN LUZ CASTRO DE GUTIERREZ",
         "890,904,647",
         "KR 48 # 32-102",
         "3847302",
         "gestioncalidad@hgm.gov.co",
         "(6.23477, -75.572848)"
        ],
        [
         "5002",
         "Oriente",
         "50020436001",
         "E.S.E HOSPITAL SAN JUAN DE DIOS DE ABEJORRAL",
         "HOSPITAL SAN JUAN DE DIOS ABEJORRAL",
         "890,980,643",
         "CL Circular X Kr Calibio",
         "5748647181",
         "abejhs01@gmail.com",
         "(5.788458, -75.426663)"
        ],
        [
         "5004",
         "Occidente",
         "50040588001",
         "ESE HOSPITAL NUEVO HORIZONTE",
         "ESE HOSPITAL NUEVO HORIZONTE",
         "811,032,722",
         "CL 9A # 12-59",
         "3104323014",
         "ese@abriaqui-antioquia.gov.co",
         "(6.632296, -76.067405)"
        ],
        [
         "5021",
         "Oriente",
         "50210509801",
         "ESE HOSPITAL PBRO LUIS FELIPE ARBELAEZ",
         "ESE HOSPITAL PBRO LUIS FELIPE ARBELAEZ",
         "800,029,509",
         "KR 19 # 16-70",
         "5748660077",
         "hospitalalejandria@gmail.com",
         "(6.373932, -75.140366)"
        ],
        [
         "5030",
         "Suroeste",
         "50300437401",
         "E.S.E. HOSPITAL SAN FERNANDO",
         "E.S.E. HOSPITAL SAN FERNANDO",
         "890,906,346",
         "Cra 51 No 52 81",
         "5748300353",
         "hospital@eseamaga-antioquia.gov.co",
         "(6.040678, -75.704572)"
        ],
        [
         "5031",
         "Nordeste",
         "50310209101",
         "E.S.E HOSPITAL EL CARMEN",
         "E.S.E HOSPITAL EL CARMEN",
         "890,982,101",
         "CL 23 # 23 - 40",
         "5748301803",
         "gerencia@hospitalelcarmen-amalfi-antioquia.gov.co",
         "(6.910925, -75.077171)"
        ],
        [
         "5034",
         "Suroeste",
         "50340443201",
         "E.S.E. HOSPITAL SAN RAFAEL",
         "E.S.E. HOSPITAL SAN RAFAEL",
         "890,980,814",
         "AV MEDELLIN # 48-20",
         "5748414343",
         "gestiondocumental@hospitaldeandes.gov.co",
         "(5.653782, -75.877633)"
        ],
        [
         "5036",
         "Suroeste",
         "50360510801",
         "NUEVA EMPRESA SOCIAL DEL ESTADO HOSPITAL LA MISERICORDIA",
         "NUEVA E.S.E HOSPITAL LA MISERICORDIA",
         "890,980,959",
         "CL 8 # 7-108",
         "5748421146",
         "archivodocumental.es@eselamisericordia-angelopolis-antioquia.gov.co",
         "(6.111182, -75.708992)"
        ],
        [
         "5038",
         "Norte",
         "50380153801",
         "E.S.E. EMPRESA SOCIAL DEL ESTADO HOSPITAL SAN RAFAEL DE  ANGOSTURA",
         "E.S.E. EMPRESA SOCIAL DEL ESTADO HOSPITAL SAN RAFAEL",
         "890,982,183",
         "Kr 10 # 16-1",
         "5748645099",
         "ANGOHS01@EDATEL.NET.CO",
         "(6.887402, -75.334797)"
        ],
        [
         "5040",
         "Nordeste",
         "50400326101",
         "ESE HOSPITAL SAN JUAN DE DIOS DE ANORI",
         "ESE HOSPITAL SAN JUAN DE DIOS DE ANORI",
         "890,982,138",
         "CL ZEA (CALLE 30 CON CARRERA 29)",
         "5748350803",
         "anorhs@hospitalanori.gov.co",
         "(7.072657, -75.145669)"
        ],
        [
         "5042",
         "Occidente",
         "50420547801",
         "E.S.E. HOSPITAL SAN JUAN DE DIOS ANTIOQUIA",
         "E.S.E. HOSPITAL SAN JUAN DE DIOS ANTIOQUIA",
         "890,982,264",
         "CL 10 # 3-24",
         "5748531020",
         "info@esehospitalsantafedeantioquia.gov.co",
         "(6.553647, -75.823157)"
        ],
        [
         "5044",
         "Occidente",
         "50440501401",
         "E.S.E. HOSPITAL SAN FRANCISCO DE ASIS",
         "E.S.E. HOSPITAL SAN FRANCISCO DE ASIS",
         "890,397,282",
         "KR 8 # 7-29",
         "5748522029",
         "hospitalanza@hospitalanza.gov.co",
         null
        ],
        [
         "5045",
         "Uraba",
         "50450214301",
         "EMPRESA SOCIAL DEL ESTADO HOSPITAL ANTONIO ROLDAN BETANCUR",
         "EMPRESA SOCIAL DEL ESTADO HOSPITAL ANTONIO ROLDAN BETANCUR",
         "890,905,991",
         "KR 98 # 106-176 BARRIO LA CHINITA",
         "5748283105",
         "apartah01@edatel.net.co",
         "(7.887654, -76.628555)"
        ],
        [
         "5051",
         "Uraba",
         "50510232301",
         "E.S.E. HOSPITAL PEDRO NEL CARDONA",
         "E.S.E. HOSPITAL PEDRO NEL CARMONA",
         "890,982,134",
         "BARRIO EL DEPORTIVO",
         "948200026",
         "secretaria@esehpncarboletes-antioquia.gov.co",
         "(8.851489, -76.421499)"
        ],
        [
         "5055",
         "Oriente",
         "50550547901",
         "EMPRESA SOCIAL DEL ESTADO HOSPITAL SAN JULIAN",
         "EMPRESA SOCIAL DEL ESTADO HOSPITAL SAN JULIAN",
         "890,981,851",
         "CL 31 # 32-14",
         "8650000 - 3146182345",
         "gerencia@hospitalsanjulian.gov.co",
         "(5.731866, -75.144671)"
        ],
        [
         "5059",
         "Occidente",
         "50590550601",
         "EMPRES SOCIAL DEL ESTADO HOSPITAL SAN MARTIN DE PORRES",
         "EMPRES SOCIAL DEL ESTADO HOSPITAL SAN MARTIN DE PORRES",
         "890,982,153",
         "CL 11 # 6-69",
         "5748559352",
         "hsmpgerencia@gmail.com",
         "(6.159244, -75.785966)"
        ],
        [
         "5079",
         "Valle de Aburra",
         "50790407701",
         "ESE HOSPITAL SAN VICENTE DE PAUL",
         "ESE HOSPITAL SAN VICENTE DE PAUL",
         "890,905,193",
         "KR 17 # 10 - 34",
         "5744061341",
         "esebarbosa@une.net.co",
         "(6.43651, -75.333209)"
        ],
        [
         "5086",
         "Norte",
         "50860550701",
         "EMPRESA SOCIAL DEL ESTADO HOSPITAL NUESTRA SEÑORA DEL ROSARIO",
         "EMPRESA SOCIAL DEL ESTADO HOSPITAL NUESTRA SEÑORA DEL ROSARIO",
         "890,982,065",
         "KR 19# 19 93",
         "5748674147",
         "gerencia@esehospital-belmira-antioquia.gov.co",
         "(6.607103, -75.666736)"
        ],
        [
         "5088",
         "Valle de Aburra",
         "50880561801",
         "E.S.E. HOSPITAL MARCO FIDEL SUAREZ",
         "EMPRESA SOCIAL DEL ESTADO HOSPITAL MARCO FIDEL SUAREZ",
         "890,985,703",
         "CL 44 # 49B-90",
         "4547510",
         "gerencia@hmfs.gov.co",
         "(6.330313, -75.557731)"
        ],
        [
         "5091",
         "Suroeste",
         "50910457201",
         "E.S.E. HOSPITAL SAN ANTONIO DE BETANIA",
         "E.S.E. HOSPITAL SAN ANTONIO DE BETANIA",
         "890,981,494",
         "CL 20 # 26-173",
         "548435050",
         "betahs01@gmail.com",
         "(5.748156, -75.980673)"
        ],
        [
         "5093",
         "Suroeste",
         "50930237101",
         "E.S.E. HOSPITAL GERMAN VELEZ GUTIERREZ",
         "E.S.E. HOSPITAL GERMAN VELEZ GUTIERREZ",
         "890,982,116",
         "CL 21 # 15 - 20 SALIDA A MEDELLIN",
         "604 843 60 85",
         "hospital@esebetulia-antioquia.gov.co",
         "(6.113337, -75.984712)"
        ],
        [
         "5101",
         "Suroeste",
         "51010213901",
         "E.S.E. HOSPITAL LA MERCED DE CIUDAD BOLIVAR",
         "E.S.E. HOSPITAL LA MERCED",
         "890,907,241",
         "CL 49 # 36-298",
         "8411182",
         "gerencia@hlamerced.gov.co",
         "(5.846031, -76.007988)"
        ],
        [
         "5107",
         "Norte",
         "51070231101",
         "EMPRESA SOCIAL DEL ESTADO HOSPITAL EL SAGRADO CORAZON",
         "ESE HOSPITAL EL SAGRADO CORAZON",
         "800,044,320",
         "CL 11 # 8-31",
         "5748570099",
         "brichs01@edatel.net.co",
         "(7.113115, -75.551047)"
        ],
        [
         "5113",
         "Occidente",
         "51130559601",
         "E.S.E. HOSPITAL SAN ANTONIO DE BURITICA",
         "E.S.E. HOSPITAL SAN ANTONIO DE BURITICA",
         "890,983,843",
         "CL 8 # 3-56",
         "948527035",
         "hsaburitica@gmail.com",
         "(6.719975, -75.907202)"
        ],
        [
         "5120",
         "Bajo Cauca",
         "51200554701",
         "EMPRESA SOCIAL DEL ESTADO HOSPITAL ISABEL LA CATOLICA",
         "EMPRESA SOCIAL DEL ESTADO HOSPITAL ISABEL LA CATOLICA",
         "890,982,430",
         "KR 50 # 52-48",
         "5748362039",
         "hospitalcaceres@gmail.com",
         "(7.581577, -75.347834)"
        ],
        [
         "5125",
         "Occidente",
         "51250831301",
         "E.S.E. HOSPITAL GUILLERMO GAVIRIA CORREA",
         "E.S.E. HOSPITAL GUILLERMO GAVIRIA CORREA",
         "800,037,244",
         "KR 5 # 3-23",
         "5748572123",
         "gerencia@hospitalcaicedo.gov.co",
         "(6.404312, -75.982647)"
        ],
        [
         "5129",
         "Valle de Aburra",
         "51290214601",
         "E.S.E.  HOSPITAL SAN VICENTE DE PAUL DE CALDAS",
         "E.S.E. HOSPITAL SAN VICENTE DE PAUL DE CALDAS",
         "890,907,215",
         "KR 48 # 135S-41",
         "094- 3786301",
         "hospicaldas@esehospicaldas.gov.co",
         "(6.08673, -75.634566)"
        ],
        [
         "5134",
         "Norte",
         "51340593001",
         "E.S.E. HOSPITAL LA SAGRADA FAMILIA",
         "E.S.E. HOSPITAL LA SAGRADA FAMILIA",
         "890,985,457",
         "CL BOLIVAR # 15-07",
         "094-8614112",
         "hospitalcampamento@hotmail.com",
         "(6.979421, -75.299327)"
        ],
        [
         "5138",
         "Occidente",
         "51380491401",
         "E.S.E. HOSPITAL SAN CARLOS",
         "E.S.E. HOSPITAL SAN CARLOS",
         "890,980,784",
         "KR 31 # 33-140",
         "5748564181",
         "canahs01@edatel.net.co",
         "(6.750362, -76.02582)"
        ],
        [
         "5142",
         "Magdalena Medio",
         "51420410301",
         "HOSPITAL SAN PIO X",
         "HOSPITAL SAN PIO X",
         "890,981,266",
         "CL 21# 20-32",
         "5748336014",
         "gerencia@esesanpioxcaracoli.gov.co",
         "(6.411135, -74.754925)"
        ],
        [
         "5145",
         "Suroeste",
         "51450158501",
         "E.S.E. HOSPITAL SAN ANTONIO",
         "E.S.E. HOSPITAL SAN ANTONIO",
         "890,981,163",
         "KR 21 BOLIVAR # 16-33",
         "3128337704",
         "gerenciaesecaramanta@hotmail.com",
         "(5.545532, -75.644077)"
        ],
        [
         "5147",
         "Uraba",
         "51470631101",
         "EMPRESA SOCIAL DEL ESTADO HOSPITAL FRANCISCO LUIS JIMENEZ MARTINEZ",
         "E.S.E HOSPITAL FRANCISCO LUIS JIMENEZ MARTINEZ",
         "800,227,877",
         "CL 70  # 68 - 03",
         "5748236548",
         "gestiondocumental@hospitaldecarepa.gov.co",
         "(7.750753, -76.65483)"
        ],
        [
         "5148",
         "Oriente",
         "51480431001",
         "E.S.E. HOSPITAL SAN JUAN DE DIOS DEL CARMEN DE VIBORAL",
         "E.S.E. HOSPITAL SAN JUAN DE DIOS",
         "890,907,279",
         "KR 31 # 19-58",
         "5745434343",
         "gerencia@hospitalcarmenv.gov.co",
         "(6.075086, -75.331621)"
        ],
        [
         "5150",
         "Norte",
         "51500458401",
         "EMPRESA SOCIAL DEL ESTADO HOSPITAL SAN RAFAEL",
         "EMPRESA SOCIAL DEL ESTADO HOSPITAL SAN RAFAEL",
         "890,906,344",
         "CL 52 B # 54-70",
         "5748634045",
         "carohs01@edatel.net.co",
         "(6.723214, -75.280809)"
        ],
        [
         "5154",
         "Bajo Cauca",
         "51540220101",
         "E.S.E. HOSPITAL CESAR URIBE PIEDARHITA",
         "HOSPITAL CESAR URIBE PIEDARHITA",
         "890,980,757",
         "Carrera 20 # 1A-100 Barrio El Man",
         "3201212",
         "gerencia@hcup.gov.co",
         "(7.995211, -75.19809)"
        ],
        [
         "5172",
         "Uraba",
         "51720630501",
         "EMPRESA SOCIAL DEL ESTADO HOSPITAL MARIA AUXILIADORA",
         "EMPRESA SOCIAL DEL ESTADO HOSPITAL MARIA AUXILIADORA",
         "890,980,997",
         "KR 108 # 101 A - 57",
         "5748253191",
         "admin@hospitalma.gov.co",
         "(7.672513, -76.687805)"
        ],
        [
         "5190",
         "Nordeste",
         "51900559201",
         "EMPRESA SOCIAL DEL ESTADO HOSPITAL SAN ANTONIO",
         "E.S.E HOSPITAL SAN ANTONIO",
         "890,980,444",
         "CL 18 # 17-105",
         "8631847",
         "gerencia@esesanantonio-cisneros-antioquia.gov.co",
         "(6.537253, -75.088447)"
        ],
        [
         "5197",
         "Oriente",
         "51970559301",
         "ESE HOSPITAL SAN JUAN DE DIOS DE COCORNA",
         "ESE HOSPITAL SAN JUAN DE DIOS",
         "890,981,108",
         "CL 21 # 23-45",
         "5748343685",
         "gerencia@hospitaldecocorna.com",
         "(6.057621, -75.186546)"
        ],
        [
         "5206",
         "Oriente",
         "52060478001",
         "ESE HOSPITAL JOSE MARIA CORDOBA",
         "ESE HOSPITAL JOSE MARIA CORDOBA",
         "890,980,512",
         "KR 19 # 19-83",
         "5748567024",
         "administrador@esehospitaljosemariacordobaconcepcionantioquia.gov.co",
         "(6.041964, -74.992971)"
        ],
        [
         "5209",
         "Suroeste",
         "52090581901",
         "E.S.E. HOSPITAL SAN JUAN DE DIOS DE CONCORDIA",
         "E.S.E. HOSPITAL SAN JUAN DE DIOS",
         "89,090,797",
         "KR 18 # 16-05",
         "844 77 24",
         "hospitaldeconcordia@hospital-concordia.gov.co",
         "(6.045373, -75.904713)"
        ],
        [
         "5212",
         "Valle de Aburra",
         "52120230801",
         "E.S.E. HOSPITAL SANTA MARGARITA",
         "E.S.E. HOSPITAL SANTA MARGARITA",
         "890,980,949",
         "KR 64 Nº 48-80 La misericordia",
         "4802390 ext 176",
         "gerencia@santamargarita.gov.co",
         "(6.349485, -75.505182)"
        ],
        [
         "5234",
         "Occidente",
         "52340231401",
         "EMPRESA SOCIAL DEL ESTADO HOSPITAL NUESTRA SEÑORA DEL PERPETUO SOCORRO",
         "E.S.E HOSPITAL NUESTRA SEÑORA DEL PERPETUO SOCORRO",
         "890,984,670",
         "KR URIBE URIBE # 622",
         "5748590045",
         "gerencia@hospitaldabeiba.gov.co",
         "(6.997737, -76.261725)"
        ],
        [
         "5237",
         "Norte",
         "52370594801",
         "E.S.E. HOSPITAL FRANCISCO ELADIO BARRERA",
         "E.S.E. HOSPITAL FRANCISCO ELADIO BARRERA",
         "890,905,097",
         "CL 36A # 29-55",
         "5748663737",
         "gerencia@hospitaldonmatias.gov.co",
         "(6.489024, -75.395705)"
        ],
        [
         "5240",
         "Occidente",
         "52400374401",
         "EMPRESA SOCIAL DEL ESTADO  HOSPITAL SAN RAFAEL",
         "EMPRESA SOCIAL DEL ESTADO HOSPITAL SAN RAFAEL",
         "890,982,370",
         "BRR VEREDA FATIMA",
         "5748562681",
         "hospebejico@gmail.com",
         "(6.325962, -75.767641)"
        ],
        [
         "5250",
         "Bajo Cauca",
         "52500213301",
         "EMPRESA SOCIAL DEL ESTADO HOSPITAL NUESTRA SEÑORA DEL CARMEN",
         "ESE HOSPITAL NUESTRA SEÑORA DEL CARMEN",
         "800,138,311",
         "CL 50 # 46D-37",
         "5748372381",
         "bagrhs01@edatel.net.co",
         "(7.590835, -74.809856)"
        ],
        [
         "5264",
         "Norte",
         "52640230901",
         "ESE HOSPITAL PRESBITERO EMIGDIO PALACIO",
         "ESE HOSPITAL PRESBITERO EMIGDIO PALACIO",
         "890,984,779",
         "TRANSVERSAL 13 CALLE 2-17",
         "5748670051",
         "entrhs01@edatel.net.co",
         "(6.567066, -75.517965)"
        ],
        [
         "5266",
         "Valle de Aburra",
         "52660491001",
         "E.S.E. HOSPITAL MANUEL URIBE ANGEL",
         "ESE HOSPITAL MANUEL URIBE ANGEL",
         "890,906,347",
         "DG 31 # 36 A SUR - 80",
         "5742703511",
         "radicacion@hospitalmua.gov.co",
         "(6.166892, -75.580128)"
        ],
        [
         "5282",
         "Suroeste",
         "52820217101",
         "E.S.E. HOSPITAL DE SANTA LUCIA",
         "E.S.E. HOSPITAL SANTA LUCIA",
         "890,980,181",
         "CL 69 # 50-220 VEREDA EL EDEN",
         "5748401101",
         "esefredonia@gmail.com",
         "(5.932994, -75.679965)"
        ],
        [
         "5284",
         "Occidente",
         "52840217001",
         "EMPRESA SOCIAL DEL ESTADO HOSPITAL MARIA ANTONIA TORO DE ELEJALDE",
         "EMPRESA SOCIAL DEL ESTADO HOSPITAL MARIA ANTONIA TORO DE ELEJALDE",
         "890,906,991",
         "KR 27 # 31 - 38",
         "5748595050",
         "gerencia@hospitalfrontino.gov.co",
         "(6.780833, -76.126499)"
        ],
        [
         "5306",
         "Occidente",
         "53060447701",
         "E.S.E. HOSPITAL SAN ISIDRO",
         "E.S.E. HOSPITAL SAN ISIDRO",
         "800,193,392",
         "CALLE SANTANDER",
         "3146494249 - 8571325",
         "esehospitalsanisidro@gmail.com",
         "(6.681158, -75.953248)"
        ],
        [
         "5308",
         "Valle de Aburra",
         "53080610401",
         "E.S.E. HOSPITAL SAN RAFAEL",
         "E.S.E. HOSPITAL SAN RAFAEL",
         "890,980,727",
         "KR 16 # 11-01",
         "0514052440 ext:115 102 113",
         "laboratoriohsrg@gmail.com",
         "(6.375113, -75.449558)"
        ],
        [
         "5310",
         "Norte",
         "53100501501",
         "E.S.E. HOSPITAL SANTA ISABEL",
         "E.S.E. HOSPITAL SANTA ISABEL",
         "890,902,151",
         "KR 52 # 48-47",
         "862 82 00",
         "gerencia@esehospitalsantaisabel.gov.co",
         "(6.679196, -75.221613)"
        ],
        [
         "5313",
         "Oriente",
         "53130510901",
         "ESE HOSPITAL PADRE CLEMENTE GIRALDO",
         "ESE HOSPITAL PADRE CLEMENTE GIRALDO",
         "890,981,182",
         "CL 21 # 25-02",
         "8320102 8320742",
         "granhs00@gmail.com",
         "(6.140427, -75.183778)"
        ],
        [
         "5315",
         "Norte",
         "53150458601",
         "E.S.E. NUESTRA SEÑORA DE GUADALUPE",
         "E.S.E. HOSPITAL NUESTRA SEÑORA DE GUADALUPE",
         "890,981,690",
         "CL 50 # 51-12",
         "5748616110",
         "hospitalguadalupe@gmail.com",
         "(6.814711, -75.241542)"
        ],
        [
         "5318",
         "Oriente",
         "53180243601",
         "E.S.E. NUETRA SEÑORA DE LA CANDELARIA",
         "E.S.E. NUETRA SEÑORA DE LA CANDELARIA",
         "890,981,719",
         "KR 52 # 52-177",
         "(054)551 13 13 - 576 70 90",
         "gerencia@hospitalguarne.com",
         "(6.281456, -75.445352)"
        ],
        [
         "5321",
         "Oriente",
         "53210442901",
         "E.S.E. HOSPITAL LA INMACULADA",
         "E.S.E. HOSPITAL LA INMACULADA",
         "890,981,817",
         "KR 23A # 31-35",
         "8610800 - 3016242530 - 3122590939",
         "gerencia@hospitalguatape.com",
         "(6.232029, -75.156559)"
        ],
        [
         "5347",
         "Occidente",
         "53470219201",
         "EMPRESA SOCIAL DEL ESTADO HOSPITAL SAN RAFAEL",
         "EMPRESA SOCIAL DEL ESTADO HOSPITAL SAN RAFAEL",
         "890,981,074",
         "CL 22 B No 20-21",
         "5748549897",
         "eseheliconia@gmail.com",
         "(6.208224, -75.732622)"
        ],
        [
         "5353",
         "Suroeste",
         "53530238101",
         "ESE HOSPITAL SAN JUAN DEL SUROESTE",
         "ESE HOSPITAL SAN JUAN DEL SUROESTE",
         "800,068,653",
         "CL 50 # 46-47",
         "3113798288",
         "facturacionhospitalhispania@gmail.com",
         "(5.799986, -75.904745)"
        ],
        [
         "5360",
         "Valle de Aburra",
         "53600433901",
         "E.S.E. HOSPITAL SAN RAFAEL DE ITAGUI",
         "E.S.E. HOSPITAL SAN RAFAEL DE ITAGUI",
         "890,980,066",
         "KR 51A # 45-51",
         "4482224",
         "gerencia@hsanrafael.gov.co",
         "(6.171281, -75.613242)"
        ],
        [
         "5361",
         "Norte",
         "53610450501",
         "E.S.E.  HOSPITAL SAN JUAN DE DIOS DE ITUANGO",
         "E.S.E.  HOSPITAL SAN JUAN DE DIOS DE ITUANGO",
         "890,980,840",
         "KR QUINDIO #  25-54",
         "5748643100",
         "notificacioneshospitalituango@gmail.com",
         "(7.170186, -75.764535)"
        ],
        [
         "5364",
         "Suroeste",
         "53640476801",
         "E.S.E HOSPITAL GABRIEL PELÁEZ MONTOYA",
         "E.S.E HOSPITAL GABRIEL PELÁEZ MONTOYA",
         "890,980,732",
         "CL 5 UNION # 1 24",
         "5748455555",
         "hospital@esehospitalgabrielpelaezmontoya.gov.co",
         "(5.602425, -75.821784)"
        ],
        [
         "5368",
         "Suroeste",
         "53680483301",
         "NUEVA ESE HOSPITAL SAN RAFAEL JERICO",
         "NUEVA ESE HOSPITAL SAN RAFAEL JERICO",
         "890,980,765",
         "KR 5 # 9-157",
         "60485231656",
         "hospital@hospitalsanrafaeljerico.gov.co",
         "(5.789472, -75.787382)"
        ],
        [
         "5376",
         "Oriente",
         "53760592601",
         "E.S.E. HOSPITAL DE LA CEJA",
         "ESE HOSPITAL DE LA CEJA",
         "890,980,758",
         "CL 17 # 19-55",
         "5745531444",
         "hospitalceja@une.net.co",
         "(6.028307, -75.431319)"
        ],
        [
         "5380",
         "Valle de Aburra",
         "53800501601",
         "E.S.E. HOSPITAL LA ESTRELLA",
         "EMPRESA SOCIAL DEL ESTADO HOSPITAL LA ESTRELLA",
         "800,138,968",
         "CL 83 A SUR N° 60 - 45",
         "5743106070",
         "infohospital@eselaestrella.gov.co",
         "(6.157163, -75.64302)"
        ],
        [
         "5390",
         "Suroeste",
         "53900509001",
         "EMPRESA SOCIAL DEL ESTADO HOSPITAL ANTONIO ROLDAN BETANCUR",
         "EMPRESA SOCIAL DEL ESTADO HOSPITAL ANTONIO ROLDAN BETANCUR",
         "811,013,792",
         "KR 30 # 30A - 45",
         "5748454063",
         "harbgerencia@gmail.com",
         "(5.740705, -75.606859)"
        ],
        [
         "5400",
         "Oriente",
         "54000242001",
         "E.S.E. HOSPITAL SAN ROQUE  LA UNION",
         "E.S.E. HOSPITAL SAN ROQUE",
         "890,980,866",
         "CL 2 # 11-54",
         "5745560619",
         "hospitallaunion890@gmail.com",
         "(5.967984, -75.359452)"
        ],
        [
         "5411",
         "Occidente",
         "54110157901",
         "EMPRESA SOCIAL DEL ESTADO HOSPITAL SAN LORENZO",
         "EMPRESA SOCIAL DEL ESTADO HOSPITAL SAN LORENZO",
         "890,982,139",
         "KR 13 # 6-21",
         "5748561826",
         "libohs01@edatel.net.co",
         "(6.676713, -75.814548)"
        ],
        [
         "5425",
         "Magdalena Medio",
         "54250510501",
         "EMPRESA SOCIAL DEL ESTADO MARCO A. CARDONA",
         "EMPRESA SOCIAL DEL ESTADO HOSPITAL  MARCO A. CARDONA",
         "890,906,966",
         "KR 30 # 33-237",
         "5748640283",
         "archivo@hospitalmaceo.gov.co",
         "(6.556282, -74.788297)"
        ],
        [
         "5440",
         "Oriente",
         "54400527301",
         "E.S.E. SAN JUAN DE DIOS DE MARINILLA",
         "E.S.E. SAN JUAN DE DIOS DE MARINILLA",
         "890,980,752",
         "KR 36 # 28-85",
         "5745484044",
         "gerencia@hospitalmarinilla.com",
         null
        ],
        [
         "5467",
         "Suroeste",
         "54670396201",
         "E.S.E. HOSPITAL SAN ANTONIO DE MONTEBELLO",
         "E.S.E. HOSPITAL SAN ANTONIO",
         "890,981,096",
         "CL 18 # 18-85",
         "5748480559",
         "hospisanantonio@esemontebello.gov.co",
         "(5.948656, -75.52304)"
        ],
        [
         "5475",
         "Uraba",
         "54750502001",
         "ESE HOSPITAL SAN BARTOLOMÉ",
         "ESE HOSPITAL SAN BARTOLOMÉ",
         "800,165,050",
         "CL 2 # 14 - 20",
         "8575093",
         "hospitalmurindo@hotmail.com",
         "(6.980954, -76.821213)"
        ],
        [
         "5480",
         "Uraba",
         "54800491601",
         "E.S.E. HOSPITAL LA ANUNCIACION",
         "E.S.E. HOSPITAL LA ANUNCIACION",
         "890,981,268",
         "KR 10 # 10-08",
         "8578700 - 8578100",
         "hospital@eselaanunciacion-mutata-antioquia.gov.co",
         "(7.247664, -76.439309)"
        ],
        [
         "5483",
         "Oriente",
         "54830592801",
         "E.S.E. HOSPITAL SAN JOAQUIN",
         "E.S.E. HOSPITAL SAN JOAQUIN",
         "890,981,652",
         "Calle13 No 6-33",
         "8680109 8680273 8680363",
         "admonesesanjoaquin@gmail.com",
         "(5.609793, -75.174637)"
        ],
        [
         "5490",
         "Uraba",
         "54900481101",
         "E.S.E. HOSPITAL SAN SEBASTIAN DE URABA",
         "E.S.E. HOSPITAL SAN SEBASTIAN DE URABÁ",
         "890,985,603",
         "CL 50 # 36 - 37 KM 2 VIA TURBO",
         "5748214546",
         "neyderpupo@hospitalnecocli.gov.co",
         "(8.424319, -76.78393)"
        ],
        [
         "5495",
         "Bajo Cauca",
         "54950491501",
         "ESE HOSPITAL LA MISERICORDIA",
         "ESE HOSPITAL LA MISERICORDIA",
         "800,138,011",
         "CL LA MISERICORDIA",
         "5748368053",
         "gerencia@hospitalnechi.gov.co",
         "(8.092287, -74.781103)"
        ],
        [
         "5501",
         "Occidente",
         "55010556901",
         "ESE HOSPITAL SAN MIGUEL",
         "ESE HOSPITAL SAN MIGUEL",
         "800,202,398",
         "KR 10 # 10 - 34",
         "8550359",
         "siauhso@gmail.com",
         "(6.613513, -75.764862)"
        ],
        [
         "5541",
         "Oriente",
         "55410197901",
         "EMPRESA SOCIAL DEL ESTADO HOSPITAL SAN JUAN DE DIOS",
         "E.S.E HOSPITAL SAN JUAN DE DIOS",
         "890,980,486",
         "TV 7A # 11-84",
         "5748515750",
         "gerencia@esesanjuandedios-penol-antioquia.gov.co",
         "(6.216002, -75.238819)"
        ],
        [
         "5543",
         "Occidente",
         "55430629901",
         "E.S.E. HOSPITAL SAN FRANCISCO",
         "E.S.E. HOSPITAL SAN FRANCISCO",
         "890,983,675",
         "KR BOLIVAR # 11-170",
         "6048552045 - 6048552132",
         "gerencia@hospitalpeque.gov.co",
         null
        ],
        [
         "5576",
         "Suroeste",
         "55760592901",
         "E.S.E. HOSPITAL SAN VICENTE DE PAUL DE PUEBLO RICO",
         "E.S.E. HOSPITAL SAN VICENTE DE PAUL",
         "890,981,532",
         "CL 32 #  26A-38",
         "8498080-8498326-8499054",
         "hospitalpueblorrico@gmail.com",
         "(5.793464, -75.838787)"
        ],
        [
         "5579",
         "Magdalena Medio",
         "55790607001",
         "EMPRESA SOCIAL DEL ESTADO HOSPITAL LA CRUZ",
         "E.S.E HOSPITAL LA CRUZ",
         "890,980,063",
         "KR 7 # 48-03",
         "5748332490",
         "pberhs01@edatel.net.co",
         "(6.488732, -74.404202)"
        ],
        [
         "5585",
         "Magdalena Medio",
         "55850472501",
         "EMPRESA SOCIAL DEL ESTADO HOSPITAL OCTAVIO OLIVARES",
         "EMPRESA SOCIAL DEL ESTADO HOSPITAL OCTAVIO OLIVARES",
         "890,985,810",
         "KR 5 # 45-103",
         "5748347208",
         "pnarehoo@gmail.com - hoogerencia@gmail.com",
         "(6.18466, -74.583856)"
        ],
        [
         "5591",
         "Magdalena Medio",
         "55910421901",
         "ESE HOSPITAL LA PAZ",
         "ESE HOSPITAL LA PAZ",
         "800,072,678",
         "CL 14 # 10 - 25",
         "5748352098",
         "ptrihs01@edatel.net.co",
         "(5.872305, -74.64018)"
        ],
        [
         "5604",
         "Nordeste",
         "56040550901",
         "EMPRESA SOCIAL DEL ESTADO HOSPITAL SAN VICENTE DE PAUL",
         "EMPRESA SOCIAL DEL ESTADO HOSPITAL SAN VICENTE DE PAUL",
         "890,985,092",
         "CL LAS PALMAS # 12 - 120",
         "8303727 8303899 8303471",
         "info@hsvpremedios.gov.co",
         "(7.07385, -74.697847)"
        ],
        [
         "5607",
         "Oriente",
         "56070238301",
         "E.S.E. HOSPITAL SAN JUAN DE DIOS DEL RETIRO",
         "E.S.E. HOSPITAL SAN JUAN DE DIOS DEL RETIRO",
         "890,982,124",
         "CL 18 # 21-103",
         "5745410055",
         "eseretiro@epm.net.co",
         "(6.05621, -75.503709)"
        ],
        [
         "5615",
         "Oriente",
         "56150137601",
         "E.S.E. HOSPITAL SAN JUAN DE DIOS",
         "E.S.E. HOSPITAL SAN JUAN DE DIOS",
         "890,907,254",
         "KR 48 # 56-59",
         "945313700",
         "eserionegro@hsjdeserionegro.com",
         "(6.158646, -75.371353)"
        ],
        [
         "5628",
         "Occidente",
         "56280510701",
         "E.S.E. HOSPITAL SAN PEDRO",
         "E.S.E. HOSPITAL SAN PEDRO",
         "890,982,140",
         "KR 17 # 15-94",
         "6048554209",
         "gerencia@hspsabanalarga.gov.co",
         "(6.84718, -75.816565)"
        ],
        [
         "5631",
         "Valle de Aburra",
         "56310220601",
         "E.S.E. HOSPITAL VENANCIO DIAZ DIAZ",
         "E.S.E. HOSPITAL VENACIO DIAZ DIAZ",
         "800,123,106",
         "KR 46B # 77 SUR 36",
         "5742889701",
         "gerencia@hospitalsabaneta.gov.co",
         "(6.148166, -75.621836)"
        ],
        [
         "5642",
         "Suroeste",
         "56420457601",
         "E.S.E. HOSPITAL SAN JOSE",
         "E.S.E. HOSPITAL SAN JOSE",
         "890,981,424",
         "CL 32A # 33-04",
         "5748442020",
         "gerencia@hsjsalgar.gov.co",
         "(5.965121, -75.980536)"
        ],
        [
         "5647",
         "Norte",
         "56470217401",
         "EMPRESA SOCIAL DEL ESTADO GUSTAVO GONZALEZ OCHOA",
         "E.S.E GUSTAVO GONZALEZ OCHOA",
         "890,982,113",
         "BRR EL CRUCERO",
         "5748618101",
         "hospital.sanandresdecuerquia@gmail.com",
         "(6.914669, -75.675287)"
        ],
        [
         "5649",
         "Oriente",
         "56490398301",
         "E.S.E. HOSPITAL SAN VICENTE DE PAUL SAN CARLOS",
         "E.S.E. HOSPITAL SAN VICENTE DE PAUL",
         "890,981,561",
         "CL 21 # 24-58",
         "5748358794",
         "gerencia@hsvpsancarlos.gov.co",
         "(6.187542, -74.996393)"
        ],
        [
         "5652",
         "Oriente",
         "56520601601",
         "EMPRESA SOCIAL DEL ESTADO HOSPITAL SAN FRANCISCO DE ASIS",
         "EMPRESA SOCIAL DEL ESTADO HOSPITAL SAN FRANCISCO DE ASIS",
         "800,133,887",
         "Carrera 10 No 9 -09",
         "8323027",
         "gerencia@esehospitaldesanfrancisco-antioquia.gov.co",
         "(5.964372, -75.100077)"
        ],
        [
         "5656",
         "Occidente",
         "56560509201",
         "E.S.E. HOSPITAL SAN LUIS BELTRAN",
         "E.S.E. HOSPITAL SAN LUIS BELTRAN",
         "890,981,848",
         "KR 10 # 23-08",
         "8585997",
         "gerencia@hospitaldesanjeronimo.gov.co",
         "(6.444441, -75.729146)"
        ],
        [
         "5658",
         "Norte",
         "56580559101",
         "E.S.E. HOSPITAL LAUREANO PINO",
         "E.S.E. HOSPITAL LAUREANO PINO",
         "890,984,427",
         "KR 21 # 15-11",
         "5748622663",
         "hospitallaureanopino@gmail.com, snmohs01@edatel.net.co,",
         "(6.847521, -75.681767)"
        ],
        [
         "5659",
         "Uraba",
         "56590215901",
         "E.S.E. HOSPITAL HECTOR ABAD GOMEZ",
         "E.S.E. HOSPITAL HECTOR ABAD GOMEZ",
         "800,143,438",
         "KR 20 # 24-20",
         "8212626- 8212627",
         "contactenos@esehhagsanjuandeuraba-antioquia.gov.co",
         "(8.762896, -76.525698)"
        ],
        [
         "5660",
         "Oriente",
         "56600227701",
         "E.S.E. HOSPITAL SAN RAFAEL DE SAN LUIS",
         "E.S.E. HOSPITAL SAN RAFAEL DE SAN LUIS",
         "890,982,091",
         "KR 19 #17-63",
         "5748348505",
         "gerencia@hospitaldesanluis.com.co",
         "(6.041148, -74.991914)"
        ],
        [
         "5664",
         "Norte",
         "56640448101",
         "E.S.E. HOSPITAL SANTA ISABEL",
         "E.S.E. HOSPITAL SANTA ISABEL",
         "800,014,405",
         "CL 43A #  52A-109",
         "5748687610",
         "hospital@esesantaisabel.gov.co",
         "(6.45668, -75.559802)"
        ],
        [
         "5665",
         "Uraba",
         "56650551401",
         "E.S.E. HOSPITAL OSCAR EMIRO VERGARA CRUZ",
         "E.S.E. HOSPITAL OSCAR EMIRO VERGARA CRUZ",
         "890,985,660",
         "CL 54 # 47 - 102",
         "5748205065",
         "gerencia@esehoevc.gov.co",
         "(8.284117, -76.383648)"
        ],
        [
         "5667",
         "Oriente",
         "56670151201",
         "E.S.E. HOSPITAL PRESBITERO ALONSO MARIA GIRALDO",
         "ESE HOSPITAL PBRO ALONSO MARIA GIRALDO",
         "891,982,128",
         "KR 29 # 26-189",
         "5748586612",
         "gerencia@esepresbiteroalonso-sanrafael.gov.co",
         "(6.294397, -75.026343)"
        ],
        [
         "5670",
         "Nordeste",
         "56700581401",
         "E.S.E. HOSPITAL MUNICIPAL SAN ROQUE",
         "ESE HOSPITAL MUNICIPAL SAN ROQUE",
         "890,906,211",
         "CL 25 # 18-30",
         "5748656735",
         "esehospitalsr@gmail.com",
         "(6.487918, -75.018205)"
        ],
        [
         "5674",
         "Oriente",
         "56740479201",
         "E S E HOSPITAL MUNICIPIO DE SAN VICENTE",
         "E S E HOSPITAL MUNICIPIO DE SAN VICENTE",
         "890,983,738",
         "AV CARVAJAL # 31-36",
         "5748544100",
         "snvihs01@edatel.net.co",
         "(6.282818, -75.332085)"
        ],
        [
         "5679",
         "Suroeste",
         "56790458201",
         "EMPRESA SOCIAL DEL ESTADO HOSPITAL SANTAMARIA",
         "EMPRESA SOCIAL DEL ESTADO HOSPITAL SANTAMARIA",
         "890,905,198",
         "KR 50 # 45 90",
         "5748463131",
         "jorge.valencia@hospitalsantamaria.gov.co",
         "(5.87398, -75.565225)"
        ],
        [
         "5686",
         "Norte",
         "56860464901",
         "E.S.E. HOSPITAL SAN JUAN DE DIOS DE SANTA ROSA DE OSOS",
         "E.S.E. HOSPITAL SAN JUAN DE DIOS DE SANTA ROSA DE OSOS",
         "890,981,298",
         "KR 28 # 26A-34",
         "5748609474",
         "stlo01@edatel.com.co",
         "(6.646108, -75.461059)"
        ],
        [
         "5690",
         "Nordeste",
         "56900483701",
         "ESE HOSPITAL SAN RAFAEL DE SANTO DOMINGO",
         "ESE HOSPITAL SAN RAFAEL",
         "890,906,560",
         "KR 16 # 18 29",
         "5748621155",
         "stdohs01@edatel.net.co",
         "(6.474783, -75.162024)"
        ],
        [
         "5697",
         "Oriente",
         "56970242701",
         "E.S.E. HOSPITAL SAN JUAN DE DIOS EL SANTUARIO",
         "E.S.E. HOSPITAL SAN JUAN DE DIOS EL SANTUARIO",
         "890,980,326",
         "CL 49 # 41-63",
         "5745460050",
         "cadsant@hospitalelsantuario.gov.co",
         "(6.136576, -75.261921)"
        ],
        [
         "5736",
         "Nordeste",
         "57360612501",
         "E.S.E. HOSPITAL SAN JUAN DE DIOS",
         "E.S.E. HOSPITAL SAN JUAN DE DIOS",
         "800,080,586",
         "CAMPAMENTO LA SALADA",
         "8317382 - 8315992",
         "gerencia@hospitaldesegovia.gov.co",
         "(7.079003, -74.693899)"
        ],
        [
         "5756",
         "Oriente",
         "57560239401",
         "EMPRESA SOCIAL DEL ESTADO SAN JUAN DE DIOS",
         "EMPRESA SOCIAL DEL ESTADO SAN JUAN DE DIOS",
         "890,980,003",
         "CL 16 # 7 - 151",
         "8695050",
         "institucional@hospitalsonson.gov.co",
         "(5.716899, -75.309005)"
        ],
        [
         "5761",
         "Occidente",
         "57610561201",
         "EMPRESA SOCIAL DEL ESTADO HORACIO MUÑOZ SUESCUN",
         "EMPRESA SOCIAL DEL ESTADO HORACIO MUÑOZ SUESCUN",
         "890,982,184",
         "CL BENJAMIN HERRERA # 11 - 53",
         "5748541555",
         "gerencia@hospitalsopetranantioquia.gov.co",
         "(6.500707, -75.743845)"
        ],
        [
         "5789",
         "Suroeste",
         "57890457901",
         "EMPRESA SOCIAL DEL ESTADO HOSPITAL SAN JUAN DE DIOS",
         "E.S.E HOSPITAL SAN JUAN DE DIOS",
         "890,980,855",
         "KR 10 # 13 - 52",
         "5748494802",
         "hospital@tamesis-antioquia.gov.co",
         "(5.664982, -75.713031)"
        ],
        [
         "5790",
         "Bajo Cauca",
         "57900551301",
         "E.S.E. HOSPITAL SAN ANTONIO",
         "E.S.E. HOSPITAL SAN ANTONIO",
         "890,984,696",
         "CL 26 # 32-1311",
         "5748365616",
         "gerenciahospitaltaraza@gmail.com",
         null
        ],
        [
         "5792",
         "Suroeste",
         "57920458701",
         "EMPRESA SOCIAL DEL ESTADO HOSPITAL SAN PABLO",
         "E.S.E SAN PABLO",
         "890,982,182",
         "KR 18 # 21 - 02",
         "5748458606",
         "hospitaltarso@gmail.com",
         "(5.865957, -75.820945)"
        ],
        [
         "5809",
         "Suroeste",
         "58090434901",
         "ESE HOSPITAL SAN JUAN DE DIOS",
         "ESE HOSPITAL SAN JUAN DE DIOS",
         "890,980,346",
         "Kr Bolivar 18-55",
         "(4) 848 27 40",
         "hospitaltitiribi@hotmail.com",
         "(6.062678, -75.791556)"
        ],
        [
         "5819",
         "Norte",
         "58190612301",
         "E.S.E. HOSPITAL PEDRO CLAVER AGUIRRE",
         "EMPRESA SOCIAL DEL ESTADO HOSPITAL PEDRO CLAVER AGUIRRE Y",
         "800,139,704",
         "CALLE 11 NUMERO 09-07",
         "8619061",
         "gerenciahpca@gmail.com",
         "(7.011666, -75.691509)"
        ],
        [
         "5837",
         "Uraba",
         "58370228701",
         "EMPRESA SOCIAL DEL ESTADO HOSPITAL FRANCISCO VALDERRAMA",
         "EMPRESA SOCIAL DEL ESTADO HOSPITAL FRANCISCO VALDERRAMA",
         "890,981,137",
         "KM 1 SALIDA TURBO - APARTADO",
         "5748272088",
         "turbhs01@edatel.net.co",
         "(8.094491, -76.714541)"
        ],
        [
         "5842",
         "Occidente",
         "58420643101",
         "EMPRESA SOCIAL DEL ESTADO HOSPITAL TOBIAS PUERTA",
         "EMPRESA SOCIAL DEL ESTADO HOSPITAL TOBIAS PUERTA",
         "800,065,395",
         "CL 20  # 22 170  BRR EL TOTUMO",
         "5748574048",
         "uramhs01@edatel.net.co",
         "(6.902526, -76.174049)"
        ],
        [
         "5847",
         "Suroeste",
         "58470483901",
         "EMPRESA SOCIAL DEL ESTADO IVAN RESTREPO GOMEZ",
         "ESE HOSPITAL IVAN RESTREPO GOMEZ",
         "890,980,971",
         "KR 32 # 23-61",
         "8503898",
         "gerencia@hospitalurrao.gov.co",
         "(6.311033, -76.132915)"
        ],
        [
         "5854",
         "Norte",
         "58540457701",
         "EMPRESA SOCIAL DEL ESTADO HOSPITAL SAN JAUN DE DIOS VALDIVIA",
         "E.S.E HOSPITAL SAN JUAN DE DIOS DE VALDIVIA",
         "891,982,129",
         "KR 8 # 7 - 18",
         "5748360218",
         "esevaldivia@gmail.com",
         "(7.289894, -75.392647)"
        ],
        [
         "5856",
         "Suroeste",
         "58560238201",
         "E.S.E. HOSPITAL SAN JUAN DE DIOS",
         "E.S.E. HOSPITAL SAN JUAN DE DIOS",
         "890,980,828",
         "CRA 12 NRO 6-31",
         "8493854",
         "admonesevalparaiso@gmail.com",
         "(5.614395, -75.624261)"
        ],
        [
         "5858",
         "Nordeste",
         "58580629401",
         "E.S.E. HOSPITAL SAN CAMILO DE LELIS",
         "E.S.E. HOSPITAL SAN CAMILO DE LELIS",
         "800,114,286",
         "CALLE 49 # 40 - 209",
         "8305122/ 8305698/8305474 3103709160",
         "gerenciahospitalvegachi@gmail.com",
         "(6.762892, -74.788828)"
        ],
        [
         "5861",
         "Suroeste",
         "58610145201",
         "E.S.E.  HOSPITAL SAN RAFAEL DE VENECIA",
         "ESE HOSPITAL SAN RAFAEL DE VENECIA",
         "890,980,367",
         "CL 52 # 50-82",
         "5748490313",
         "cad@hospitalvenecia.gov.co",
         "(5.965161, -75.735084)"
        ],
        [
         "5873",
         "Uraba",
         "58730436301",
         "EMPRESA SOCIAL DEL ESTADO HOSPITAL ATRATO MEDIO ANTIOQUEÑO",
         "E.S.E HOSPITAL ATRATO MEDIO ANTIOQUEÑO",
         "811,020,943",
         "CRA 1°#20A-66 BARRIO PUERTO CARIBE",
         "5748678151",
         "esehama@esehama-vigiadelfuerte-antioquia.gov.co",
         "(6.589922, -76.879578)"
        ],
        [
         "5885",
         "Nordeste",
         "58850211201",
         "E.S.E. HOSPITAL LA MISERICORDIA",
         "E.S.E. HOSPITAL LA MISERICORDIA",
         "890,982,162",
         "CL 18 # 23-24",
         "5748675655",
         "yalihs01@edatel.net.co",
         "(6.673346, -74.842429)"
        ],
        [
         "5887",
         "Norte",
         "58870228401",
         "E.S.E. HOSPITAL SAN JUAN DE DIOS YARUMAL",
         "E.S.E. HOSPITAL SAN JUAN DE DIOS YARUMAL",
         "890,981,726",
         "KR 23 # 12 - 13",
         "094 8 53 73 73",
         "cuentasmedicas@hospitalyarumal.gov.co",
         "(6.957323, -75.414931)"
        ],
        [
         "5890",
         "Nordeste",
         "58900243101",
         "EMPRESA SOCIAL DEL ESTADO HOSPITAL SAN RAFAEL DE YOLOMBO",
         "EMPRESA SOCIAL DEL ESTADO HOSPITAL SAN RAFAEL DE YOLOMBO",
         "890,981,536",
         "KR 24 # 13 - 466",
         "5748654859",
         "esehospitalyolombo@gmail.com",
         "(6.597681, -75.017438)"
        ],
        [
         "5893",
         "Magdalena Medio",
         "58930322701",
         "ESE HOSPITAL HECTOR ABAD GOMEZ",
         "ESE HOSPITAL HECTOR ABAD GOMEZ",
         "800,014,884",
         "KR 58 # 47B-50",
         "5748325050",
         "esehectorabadgomez@hospitalyondo.gov.co",
         "(7.005532, -73.914267)"
        ],
        [
         "5895",
         "Bajo Cauca",
         "58950588401",
         "ESE HOSPITAL SAN RAFAEL",
         "ESE HOSPITAL SAN RAFAEL",
         "890,981,117",
         "Brr San Gregorio Diagonal Urbanización Miraflores",
         "5748389044",
         "zarahs01@edatel.net.co",
         "(7.491112, -74.868221)"
        ]
       ],
       "datasetInfos": [],
       "dbfsResultPath": null,
       "isJsonSchema": true,
       "metadata": {},
       "overflow": false,
       "plotOptions": {
        "customPlotOptions": {},
        "displayType": "table",
        "pivotAggregation": null,
        "pivotColumns": null,
        "xColumns": null,
        "yColumns": null
       },
       "removedWidgets": [],
       "schema": [
        {
         "metadata": "{}",
         "name": "codigo_municipio",
         "type": "\"string\""
        },
        {
         "metadata": "{}",
         "name": "nombre_region",
         "type": "\"string\""
        },
        {
         "metadata": "{}",
         "name": "codigo_habilitacion",
         "type": "\"string\""
        },
        {
         "metadata": "{}",
         "name": "razon_social_hospital",
         "type": "\"string\""
        },
        {
         "metadata": "{}",
         "name": "nombre_hospital",
         "type": "\"string\""
        },
        {
         "metadata": "{}",
         "name": "nit_hospital",
         "type": "\"string\""
        },
        {
         "metadata": "{}",
         "name": "direccion_hospital",
         "type": "\"string\""
        },
        {
         "metadata": "{}",
         "name": "telefono_hospital",
         "type": "\"string\""
        },
        {
         "metadata": "{}",
         "name": "email_hospital",
         "type": "\"string\""
        },
        {
         "metadata": "{}",
         "name": "coordenadas_hospital",
         "type": "\"string\""
        }
       ],
       "type": "table"
      }
     },
     "output_type": "display_data"
    }
   ],
   "source": [
    "# File location and type\n",
    "file_municipios = \"/FileStore/tables/datos_gob/antioquia/municipios.csv\"\n",
    "file_alcaldes = \"/FileStore/tables/datos_gob/antioquia/alcaldes.csv\"\n",
    "file_hospitales = \"/FileStore/tables/datos_gob/antioquia/hospitales.csv\"\n",
    "file_type = \"csv\"\n",
    "\n",
    "# CSV options\n",
    "infer_schema = \"false\"\n",
    "first_row_is_header = \"true\"\n",
    "delimiter = \";\"\n",
    "\n",
    "# The applied options are for CSV files. For other file types, these will be ignored.\n",
    "df_municipios = spark.read.format(file_type) \\\n",
    "  .option(\"inferSchema\", infer_schema) \\\n",
    "  .option(\"header\", first_row_is_header) \\\n",
    "  .option(\"sep\", delimiter) \\\n",
    "  .load(file_municipios)\n",
    "\n",
    "df_alcaldes = spark.read.format(file_type) \\\n",
    "  .option(\"inferSchema\", infer_schema) \\\n",
    "  .option(\"header\", first_row_is_header) \\\n",
    "  .option(\"sep\", delimiter) \\\n",
    "  .load(file_alcaldes)\n",
    "\n",
    "df_hospitales = spark.read.format(file_type) \\\n",
    "  .option(\"inferSchema\", infer_schema) \\\n",
    "  .option(\"header\", first_row_is_header) \\\n",
    "  .option(\"sep\", delimiter) \\\n",
    "  .load(file_hospitales)\n",
    "\n",
    "display(df_municipios)\n",
    "display(df_alcaldes)\n",
    "display(df_hospitales)"
   ]
  },
  {
   "cell_type": "markdown",
   "metadata": {
    "application/vnd.databricks.v1+cell": {
     "cellMetadata": {},
     "inputWidgets": {},
     "nuid": "09f46ef2-6aca-4d54-8fb2-a9dbf5d8909f",
     "showTitle": false,
     "title": ""
    }
   },
   "source": [
    "## Creación tablas temporales para cada archivo"
   ]
  },
  {
   "cell_type": "code",
   "execution_count": 0,
   "metadata": {
    "application/vnd.databricks.v1+cell": {
     "cellMetadata": {
      "byteLimit": 2048000,
      "rowLimit": 10000
     },
     "inputWidgets": {},
     "nuid": "bd82bb99-1479-4d5c-be10-8c36df0f1d44",
     "showTitle": false,
     "title": ""
    }
   },
   "outputs": [],
   "source": [
    "# Create a view or table\n",
    "\n",
    "temp_table_name = \"municipios_csv\"\n",
    "\n",
    "df_municipios.createOrReplaceTempView(temp_table_name)\n",
    "\n",
    "temp_table_name = \"alcaldes_csv\"\n",
    "\n",
    "df_alcaldes.createOrReplaceTempView(temp_table_name)\n",
    "\n",
    "temp_table_name = \"hospitales_csv\"\n",
    "\n",
    "df_hospitales.createOrReplaceTempView(temp_table_name)"
   ]
  },
  {
   "cell_type": "markdown",
   "metadata": {
    "application/vnd.databricks.v1+cell": {
     "cellMetadata": {},
     "inputWidgets": {},
     "nuid": "397bb743-b5ce-43aa-b60f-74841a91e652",
     "showTitle": false,
     "title": ""
    }
   },
   "source": [
    "## Creación tabla final (municipios_info) con el cruce de información de las tres tablas temporales"
   ]
  },
  {
   "cell_type": "code",
   "execution_count": 0,
   "metadata": {
    "application/vnd.databricks.v1+cell": {
     "cellMetadata": {
      "byteLimit": 2048000,
      "implicitDf": true,
      "rowLimit": 10000
     },
     "inputWidgets": {},
     "nuid": "b5f66379-6f7f-42ec-8e82-d0e0926a1721",
     "showTitle": false,
     "title": ""
    }
   },
   "outputs": [
    {
     "output_type": "display_data",
     "data": {
      "text/html": [
       "<style scoped>\n",
       "  .table-result-container {\n",
       "    max-height: 300px;\n",
       "    overflow: auto;\n",
       "  }\n",
       "  table, th, td {\n",
       "    border: 1px solid black;\n",
       "    border-collapse: collapse;\n",
       "  }\n",
       "  th, td {\n",
       "    padding: 5px;\n",
       "  }\n",
       "  th {\n",
       "    text-align: left;\n",
       "  }\n",
       "</style><div class='table-result-container'><table class='table-result'><thead style='background-color: white'><tr><th>codigo_municipio</th><th>nombre_municipio</th><th>nombre_region</th><th>nombre_alcalde</th><th>titulo_alcalde</th><th>telefono_alcalde</th><th>email_alcalde</th><th>razon_social_hospital</th><th>nombre_hospital</th><th>codigo_habilitacion</th><th>nit_hospital</th><th>direccion_hospital</th><th>coordenadas_hospital</th><th>telefono_hospital</th><th>email_hospital</th></tr></thead><tbody><tr><td>5001</td><td>MEDELLÍN</td><td>Valle de Aburra</td><td>FEDERICO GUTIÉRREZ ZULUAGA</td><td>Alcalde</td><td>4444144-3855208-3855209</td><td>federico.gutierrez@medellin.gov.co</td><td>EMPRESA SOCIAL DEL ESTADO HOSPITAL GENERAL DE MEDELLIN LUZ CASTRO DE GUTIERREZ</td><td>EMPRESA SOCIAL DEL ESTADO HOSPITAL GENERAL DE MEDELLIN LUZ CASTRO DE GUTIERREZ</td><td>50010214401</td><td>890,904,647</td><td>KR 48 # 32-102</td><td>(6.23477, -75.572848)</td><td>3847302</td><td>gestioncalidad@hgm.gov.co</td></tr><tr><td>5002</td><td>ABEJORRAL</td><td>Oriente</td><td>MANUEL ALBERTO GUZMÁN MARÍN</td><td>Alcalde</td><td>8647611-8647384 Ext 102 - 8647182-8647004)</td><td>alcalde@abejorral-antioquia.gov.co</td><td>E.S.E HOSPITAL SAN JUAN DE DIOS DE ABEJORRAL</td><td>HOSPITAL SAN JUAN DE DIOS ABEJORRAL</td><td>50020436001</td><td>890,980,643</td><td>CL Circular X Kr Calibio</td><td>(5.788458, -75.426663)</td><td>5748647181</td><td>abejhs01@gmail.com</td></tr><tr><td>5004</td><td>ABRIAQUÍ</td><td>Occidente</td><td>DANIEL ALBERTO SALAS GALLEGO</td><td>Alcalde</td><td>8520024-8520086-8520019-8520120</td><td>alcaldia@abriaqui-antioquia.gov.co</td><td>ESE HOSPITAL NUEVO HORIZONTE</td><td>ESE HOSPITAL NUEVO HORIZONTE</td><td>50040588001</td><td>811,032,722</td><td>CL 9A # 12-59</td><td>(6.632296, -76.067405)</td><td>3104323014</td><td>ese@abriaqui-antioquia.gov.co</td></tr><tr><td>5021</td><td>ALEJANDRÍA</td><td>Oriente</td><td>GLORIA CECILIA NARANJO OSORIO</td><td>Alcaldesa</td><td>8660102-8660016-866 0140-8660133</td><td>alcaldia@alejandria-antioquia.gov.co</td><td>ESE HOSPITAL PBRO LUIS FELIPE ARBELAEZ</td><td>ESE HOSPITAL PBRO LUIS FELIPE ARBELAEZ</td><td>50210509801</td><td>800,029,509</td><td>KR 19 # 16-70</td><td>(6.373932, -75.140366)</td><td>5748660077</td><td>hospitalalejandria@gmail.com</td></tr><tr><td>5030</td><td>AMAGÁ</td><td>Suroeste</td><td>WILSER DARÍO MOLINA MOLINA</td><td>Alcalde</td><td>8472122-8474920-8470126</td><td>alcaldia@amaga-antioquia.gov.co</td><td>E.S.E. HOSPITAL SAN FERNANDO</td><td>E.S.E. HOSPITAL SAN FERNANDO</td><td>50300437401</td><td>890,906,346</td><td>Cra 51 No 52 81</td><td>(6.040678, -75.704572)</td><td>5748300353</td><td>hospital@eseamaga-antioquia.gov.co</td></tr><tr><td>5031</td><td>AMALFI</td><td>Nordeste</td><td>WILMAR ALONSO VÉLEZ LONDOÑO</td><td>Alcalde</td><td>8301919 - 8300155</td><td>alcaldia@amalfi-antioquia.gov.co</td><td>E.S.E HOSPITAL EL CARMEN</td><td>E.S.E HOSPITAL EL CARMEN</td><td>50310209101</td><td>890,982,101</td><td>CL 23 # 23 - 40</td><td>(6.910925, -75.077171)</td><td>5748301803</td><td>gerencia@hospitalelcarmen-amalfi-antioquia.gov.co</td></tr><tr><td>5034</td><td>ANDES</td><td>Suroeste</td><td>GERMÁN ALEXANDER VÉLEZ OROZCO</td><td>Alcalde</td><td>8414101-8414619-8414291-8414652</td><td>alcaldia@andes-antioquia.gov.co</td><td>E.S.E. HOSPITAL SAN RAFAEL</td><td>E.S.E. HOSPITAL SAN RAFAEL</td><td>50340443201</td><td>890,980,814</td><td>AV MEDELLIN # 48-20</td><td>(5.653782, -75.877633)</td><td>5748414343</td><td>gestiondocumental@hospitaldeandes.gov.co</td></tr><tr><td>5036</td><td>ANGELÓPOLIS</td><td>Suroeste</td><td>JOSÉ LUIS MONTOYA QUICENO</td><td>Alcalde</td><td>8421948-8421793</td><td>alcaldia@angelopolis-antioquia.gov.co</td><td>NUEVA EMPRESA SOCIAL DEL ESTADO HOSPITAL LA MISERICORDIA</td><td>NUEVA E.S.E HOSPITAL LA MISERICORDIA</td><td>50360510801</td><td>890,980,959</td><td>CL 8 # 7-108</td><td>(6.111182, -75.708992)</td><td>5748421146</td><td>archivodocumental.es@eselamisericordia-angelopolis-antioquia.gov.co</td></tr><tr><td>5038</td><td>ANGOSTURA</td><td>Norte</td><td>VÍCTOR IGNACIO MEDINA GÓMEZ</td><td>Alcalde</td><td>8645161-8645046-8645162</td><td>alcaldia@angostura-antioquia.gov.co</td><td>E.S.E. EMPRESA SOCIAL DEL ESTADO HOSPITAL SAN RAFAEL DE  ANGOSTURA</td><td>E.S.E. EMPRESA SOCIAL DEL ESTADO HOSPITAL SAN RAFAEL</td><td>50380153801</td><td>890,982,183</td><td>Kr 10 # 16-1</td><td>(6.887402, -75.334797)</td><td>5748645099</td><td>ANGOHS01@EDATEL.NET.CO</td></tr><tr><td>5040</td><td>ANORÍ</td><td>Nordeste</td><td>GUSTAVO ALFREDO SILVA GUTIÉRREZ</td><td>Alcalde</td><td>8350842-8350404-8350449-8350849</td><td>alcaldia@anori-antioquia.gov.co</td><td>ESE HOSPITAL SAN JUAN DE DIOS DE ANORI</td><td>ESE HOSPITAL SAN JUAN DE DIOS DE ANORI</td><td>50400326101</td><td>890,982,138</td><td>CL ZEA (CALLE 30 CON CARRERA 29)</td><td>(7.072657, -75.145669)</td><td>5748350803</td><td>anorhs@hospitalanori.gov.co</td></tr><tr><td>5044</td><td>ANZA</td><td>Occidente</td><td>JUAN GUILLERMO HINCAPIÉ FIGUEROA</td><td>Alcalde</td><td>8522082-8522042-8522102</td><td>alcaldia@anza-antioquia.gov.co</td><td>E.S.E. HOSPITAL SAN FRANCISCO DE ASIS</td><td>E.S.E. HOSPITAL SAN FRANCISCO DE ASIS</td><td>50440501401</td><td>890,397,282</td><td>KR 8 # 7-29</td><td>null</td><td>5748522029</td><td>hospitalanza@hospitalanza.gov.co</td></tr><tr><td>5045</td><td>APARTADÓ</td><td>Uraba</td><td>HÉCTOR RANGEL PALACIOS RODRÍGUEZ</td><td>Alcalde</td><td>8280457-8281038-8282188</td><td>alcaldia@apartado.gov.co</td><td>EMPRESA SOCIAL DEL ESTADO HOSPITAL ANTONIO ROLDAN BETANCUR</td><td>EMPRESA SOCIAL DEL ESTADO HOSPITAL ANTONIO ROLDAN BETANCUR</td><td>50450214301</td><td>890,905,991</td><td>KR 98 # 106-176 BARRIO LA CHINITA</td><td>(7.887654, -76.628555)</td><td>5748283105</td><td>apartah01@edatel.net.co</td></tr><tr><td>5051</td><td>ARBOLETES</td><td>Uraba</td><td>ÁLVARO GONZÁLEZ ÁVILA</td><td>Alcalde</td><td>8200367-8200973-8201289-8200130</td><td>alcaldia@arboletes-antioquia.gov.co</td><td>E.S.E. HOSPITAL PEDRO NEL CARDONA</td><td>E.S.E. HOSPITAL PEDRO NEL CARMONA</td><td>50510232301</td><td>890,982,134</td><td>BARRIO EL DEPORTIVO</td><td>(8.851489, -76.421499)</td><td>948200026</td><td>secretaria@esehpncarboletes-antioquia.gov.co</td></tr><tr><td>5055</td><td>ARGELIA</td><td>Oriente</td><td>DIEGO ALEXANDER LÓPEZ GIRALDO</td><td>Alcalde</td><td>8650077-8650106-8650405-8650057</td><td>alcaldia@argelia-antioquia.gov.co</td><td>EMPRESA SOCIAL DEL ESTADO HOSPITAL SAN JULIAN</td><td>EMPRESA SOCIAL DEL ESTADO HOSPITAL SAN JULIAN</td><td>50550547901</td><td>890,981,851</td><td>CL 31 # 32-14</td><td>(5.731866, -75.144671)</td><td>8650000 - 3146182345</td><td>gerencia@hospitalsanjulian.gov.co</td></tr><tr><td>5059</td><td>ARMENIA</td><td>Occidente</td><td>MARTHA LIBIA PARRA GIL</td><td>Alcaldesa</td><td>8559015-8559064</td><td>alcaldia@armenia-antioquia.gov.co</td><td>EMPRES SOCIAL DEL ESTADO HOSPITAL SAN MARTIN DE PORRES</td><td>EMPRES SOCIAL DEL ESTADO HOSPITAL SAN MARTIN DE PORRES</td><td>50590550601</td><td>890,982,153</td><td>CL 11 # 6-69</td><td>(6.159244, -75.785966)</td><td>5748559352</td><td>hsmpgerencia@gmail.com</td></tr><tr><td>5079</td><td>BARBOSA</td><td>Valle de Aburra</td><td>JUAN DAVID ROJAS AGUDELO</td><td>Alcalde</td><td>4548300-4548311-4548311-4065441-4065441</td><td>alcaldia@barbosa.gov.co</td><td>ESE HOSPITAL SAN VICENTE DE PAUL</td><td>ESE HOSPITAL SAN VICENTE DE PAUL</td><td>50790407701</td><td>890,905,193</td><td>KR 17 # 10 - 34</td><td>(6.43651, -75.333209)</td><td>5744061341</td><td>esebarbosa@une.net.co</td></tr><tr><td>5088</td><td>BELLO</td><td>Valle de Aburra</td><td>YULIETH LORENA GONZÁLEZ OSPINA</td><td>Alcaldesa</td><td>604 79 44</td><td>contactenos@bello.gov.co</td><td>E.S.E. HOSPITAL MARCO FIDEL SUAREZ</td><td>EMPRESA SOCIAL DEL ESTADO HOSPITAL MARCO FIDEL SUAREZ</td><td>50880561801</td><td>890,985,703</td><td>CL 44 # 49B-90</td><td>(6.330313, -75.557731)</td><td>4547510</td><td>gerencia@hmfs.gov.co</td></tr><tr><td>5091</td><td>BETANIA</td><td>Suroeste</td><td>DIEGO ARLEY DE JESÚS GUERRA GUTIÉRREZ</td><td>Alcalde</td><td>8435127 Ext 105- 8435180</td><td>alcaldia@betania-antioquia.gov.co</td><td>E.S.E. HOSPITAL SAN ANTONIO DE BETANIA</td><td>E.S.E. HOSPITAL SAN ANTONIO DE BETANIA</td><td>50910457201</td><td>890,981,494</td><td>CL 20 # 26-173</td><td>(5.748156, -75.980673)</td><td>548435050</td><td>betahs01@gmail.com</td></tr><tr><td>5093</td><td>BETULIA</td><td>Suroeste</td><td>NÉSTOR CAMILO SERNA HERNÁNDEZ</td><td>Alcalde</td><td>8436093-8436157-8430631</td><td>alcaldia@betulia-antioquia.gov.co</td><td>E.S.E. HOSPITAL GERMAN VELEZ GUTIERREZ</td><td>E.S.E. HOSPITAL GERMAN VELEZ GUTIERREZ</td><td>50930237101</td><td>890,982,116</td><td>CL 21 # 15 - 20 SALIDA A MEDELLIN</td><td>(6.113337, -75.984712)</td><td>604 843 60 85</td><td>hospital@esebetulia-antioquia.gov.co</td></tr><tr><td>5101</td><td>CIUDAD BOLÍVAR</td><td>Suroeste</td><td>LEÓN DARÍO ACEVEDO VARGAS</td><td>Alcalde</td><td>8411183 Ext 12-8412552 - 8411144</td><td>alcaldia@ciudadbolivar-antioquia.gov.co</td><td>E.S.E. HOSPITAL LA MERCED DE CIUDAD BOLIVAR</td><td>E.S.E. HOSPITAL LA MERCED</td><td>51010213901</td><td>890,907,241</td><td>CL 49 # 36-298</td><td>(5.846031, -76.007988)</td><td>8411182</td><td>gerencia@hlamerced.gov.co</td></tr><tr><td>5107</td><td>BRICEÑO</td><td>Norte</td><td>NOÉ DE JESÚS ESPINOSA VÁSQUEZ</td><td>Alcalde</td><td>8570051-8570140</td><td>alcaldia@briceno-antioquia.gov.co</td><td>EMPRESA SOCIAL DEL ESTADO HOSPITAL EL SAGRADO CORAZON</td><td>ESE HOSPITAL EL SAGRADO CORAZON</td><td>51070231101</td><td>800,044,320</td><td>CL 11 # 8-31</td><td>(7.113115, -75.551047)</td><td>5748570099</td><td>brichs01@edatel.net.co</td></tr><tr><td>5113</td><td>BURITICÁ</td><td>Occidente</td><td>JOSÉ LUIS RODRÍGUEZ ÚSUGA</td><td>Alcalde</td><td>8527015-8527041</td><td>alcaldia@buritica-antioquia.gov.co</td><td>E.S.E. HOSPITAL SAN ANTONIO DE BURITICA</td><td>E.S.E. HOSPITAL SAN ANTONIO DE BURITICA</td><td>51130559601</td><td>890,983,843</td><td>CL 8 # 3-56</td><td>(6.719975, -75.907202)</td><td>948527035</td><td>hsaburitica@gmail.com</td></tr><tr><td>5120</td><td>CÁCERES</td><td>Bajo Cauca</td><td>DAMIANA MARÍA MONTERROSA PÉREZ</td><td>Alcaldesa</td><td>8362201-8362203-8362202</td><td>alcaldia@caceres-antioquia.gov.co</td><td>EMPRESA SOCIAL DEL ESTADO HOSPITAL ISABEL LA CATOLICA</td><td>EMPRESA SOCIAL DEL ESTADO HOSPITAL ISABEL LA CATOLICA</td><td>51200554701</td><td>890,982,430</td><td>KR 50 # 52-48</td><td>(7.581577, -75.347834)</td><td>5748362039</td><td>hospitalcaceres@gmail.com</td></tr><tr><td>5125</td><td>CAICEDO</td><td>Occidente</td><td>YÚBER FELIPE MOLINA MURILLO</td><td>Alcalde</td><td>8572002 Ext 103 - 8572134</td><td>alcaldia@caicedo-antioquia.gov.co</td><td>E.S.E. HOSPITAL GUILLERMO GAVIRIA CORREA</td><td>E.S.E. HOSPITAL GUILLERMO GAVIRIA CORREA</td><td>51250831301</td><td>800,037,244</td><td>KR 5 # 3-23</td><td>(6.404312, -75.982647)</td><td>5748572123</td><td>gerencia@hospitalcaicedo.gov.co</td></tr><tr><td>5129</td><td>CALDAS</td><td>Valle de Aburra</td><td>JORGE MARIO RENDÓN VÉLEZ</td><td>Alcalde</td><td>3788500 - 3788504 - 3788515 - 3788502</td><td>alcaldia@caldasantioquia.gov.co</td><td>E.S.E.  HOSPITAL SAN VICENTE DE PAUL DE CALDAS</td><td>E.S.E. HOSPITAL SAN VICENTE DE PAUL DE CALDAS</td><td>51290214601</td><td>890,907,215</td><td>KR 48 # 135S-41</td><td>(6.08673, -75.634566)</td><td>094- 3786301</td><td>hospicaldas@esehospicaldas.gov.co</td></tr><tr><td>5134</td><td>CAMPAMENTO</td><td>Norte</td><td>CRISTIÁN ÁNDRÉS AGUDELO POSADA</td><td>Alcalde</td><td>8614020-8614055-8614229</td><td>alcaldia@campamento-antioquia.gov.co</td><td>E.S.E. HOSPITAL LA SAGRADA FAMILIA</td><td>E.S.E. HOSPITAL LA SAGRADA FAMILIA</td><td>51340593001</td><td>890,985,457</td><td>CL BOLIVAR # 15-07</td><td>(6.979421, -75.299327)</td><td>094-8614112</td><td>hospitalcampamento@hotmail.com</td></tr><tr><td>5138</td><td>CAÑASGORDAS</td><td>Occidente</td><td>DIEGO ALONSO VANEGAS ARANGO</td><td>Alcalde</td><td>8564101-8564903-8564319</td><td>alcaldia@canasgordas-antioquia.gov.co</td><td>E.S.E. HOSPITAL SAN CARLOS</td><td>E.S.E. HOSPITAL SAN CARLOS</td><td>51380491401</td><td>890,980,784</td><td>KR 31 # 33-140</td><td>(6.750362, -76.02582)</td><td>5748564181</td><td>canahs01@edatel.net.co</td></tr><tr><td>5142</td><td>CARACOLÍ</td><td>Magdalena Medio</td><td>RODRIGO ALVEIRO CADAVID HERRERA</td><td>Alcalde</td><td>8336025 Ext 102-8336045</td><td>alcaldia@caracoli-antioquia.gov.co</td><td>HOSPITAL SAN PIO X</td><td>HOSPITAL SAN PIO X</td><td>51420410301</td><td>890,981,266</td><td>CL 21# 20-32</td><td>(6.411135, -74.754925)</td><td>5748336014</td><td>gerencia@esesanpioxcaracoli.gov.co</td></tr><tr><td>5145</td><td>CARAMANTA</td><td>Suroeste</td><td>JUAN ESTEBAN CORREA CÁRDENAS</td><td>Alcalde</td><td>8553354 - 8553414 - 8553310</td><td>alcaldia@caramanta-antioquia.gov.co</td><td>E.S.E. HOSPITAL SAN ANTONIO</td><td>E.S.E. HOSPITAL SAN ANTONIO</td><td>51450158501</td><td>890,981,163</td><td>KR 21 BOLIVAR # 16-33</td><td>(5.545532, -75.644077)</td><td>3128337704</td><td>gerenciaesecaramanta@hotmail.com</td></tr><tr><td>5147</td><td>CAREPA</td><td>Uraba</td><td>AGAPITO MURILLO PALACIOS</td><td>Alcalde</td><td>8239402- 8236706- 8236581-8237131</td><td>alcaldia@carepa-antioquia.gov.co</td><td>EMPRESA SOCIAL DEL ESTADO HOSPITAL FRANCISCO LUIS JIMENEZ MARTINEZ</td><td>E.S.E HOSPITAL FRANCISCO LUIS JIMENEZ MARTINEZ</td><td>51470631101</td><td>800,227,877</td><td>CL 70  # 68 - 03</td><td>(7.750753, -76.65483)</td><td>5748236548</td><td>gestiondocumental@hospitaldecarepa.gov.co</td></tr><tr><td>5150</td><td>CAROLINA</td><td>Norte</td><td>ANA ISABEL AVENDAÑO DUQUE</td><td>Alcaldesa</td><td>8634033-8634259 Ext 103 - 8434029</td><td>alcaldia@carolinadelprincipe-antioquia.gov.co</td><td>EMPRESA SOCIAL DEL ESTADO HOSPITAL SAN RAFAEL</td><td>EMPRESA SOCIAL DEL ESTADO HOSPITAL SAN RAFAEL</td><td>51500458401</td><td>890,906,344</td><td>CL 52 B # 54-70</td><td>(6.723214, -75.280809)</td><td>5748634045</td><td>carohs01@edatel.net.co</td></tr><tr><td>5154</td><td>CAUCASIA</td><td>Bajo Cauca</td><td>JHOAN ODERIS MONTES CORTÉS</td><td>Alcalde</td><td>8391595 - 8394444</td><td>alcaldia@caucasia-antioquia.gov.co</td><td>E.S.E. HOSPITAL CESAR URIBE PIEDARHITA</td><td>HOSPITAL CESAR URIBE PIEDARHITA</td><td>51540220101</td><td>890,980,757</td><td>Carrera 20 # 1A-100 Barrio El Man</td><td>(7.995211, -75.19809)</td><td>3201212</td><td>gerencia@hcup.gov.co</td></tr><tr><td>5172</td><td>CHIGORODÓ</td><td>Uraba</td><td>TULIA IRENE RUIZ GARCÍA</td><td>Alcaldesa</td><td>8253630 - 8253868 - 8255885</td><td>alcaldia@chigorodo-antioquia.gov.co</td><td>EMPRESA SOCIAL DEL ESTADO HOSPITAL MARIA AUXILIADORA</td><td>EMPRESA SOCIAL DEL ESTADO HOSPITAL MARIA AUXILIADORA</td><td>51720630501</td><td>890,980,997</td><td>KR 108 # 101 A - 57</td><td>(7.672513, -76.687805)</td><td>5748253191</td><td>admin@hospitalma.gov.co</td></tr><tr><td>5190</td><td>CISNEROS</td><td>Nordeste</td><td>LINA MARÍA CORREA VALENCIA</td><td>Alcaldesa</td><td>8631567</td><td>alcaldia@cisneros-antioquia.gov.co</td><td>EMPRESA SOCIAL DEL ESTADO HOSPITAL SAN ANTONIO</td><td>E.S.E HOSPITAL SAN ANTONIO</td><td>51900559201</td><td>890,980,444</td><td>CL 18 # 17-105</td><td>(6.537253, -75.088447)</td><td>8631847</td><td>gerencia@esesanantonio-cisneros-antioquia.gov.co</td></tr><tr><td>5197</td><td>COCORNÁ</td><td>Oriente</td><td>DAVID ALEJANDRO GÓMEZ HOYOS</td><td>Alcalde</td><td>8343404-8343425-8343096-8343529</td><td>alcaldia@cocorna-antioquia.gov.co</td><td>ESE HOSPITAL SAN JUAN DE DIOS DE COCORNA</td><td>ESE HOSPITAL SAN JUAN DE DIOS</td><td>51970559301</td><td>890,981,108</td><td>CL 21 # 23-45</td><td>(6.057621, -75.186546)</td><td>5748343685</td><td>gerencia@hospitaldecocorna.com</td></tr><tr><td>5206</td><td>CONCEPCIÓN</td><td>Oriente</td><td>ADRIÁN HENAO CARVAJAL</td><td>Alcalde</td><td>8567084-8567274-8567176-8567034</td><td>alcaldia@concepcion-antioquia.gov.co</td><td>ESE HOSPITAL JOSE MARIA CORDOBA</td><td>ESE HOSPITAL JOSE MARIA CORDOBA</td><td>52060478001</td><td>890,980,512</td><td>KR 19 # 19-83</td><td>(6.041964, -74.992971)</td><td>5748567024</td><td>administrador@esehospitaljosemariacordobaconcepcionantioquia.gov.co</td></tr><tr><td>5209</td><td>CONCORDIA</td><td>Suroeste</td><td>ALEXANDRA MARÍA HERRERA QUIJANO</td><td>Alcaldesa</td><td>8446089-8446101-8446275-8447492</td><td>alcaldia@concordia-antioquia.gov.co</td><td>E.S.E. HOSPITAL SAN JUAN DE DIOS DE CONCORDIA</td><td>E.S.E. HOSPITAL SAN JUAN DE DIOS</td><td>52090581901</td><td>89,090,797</td><td>KR 18 # 16-05</td><td>(6.045373, -75.904713)</td><td>844 77 24</td><td>hospitaldeconcordia@hospital-concordia.gov.co</td></tr><tr><td>5212</td><td>COPACABANA</td><td>Valle de Aburra</td><td>JOHNNATAN ANDRÉS PINEDA AGUDELO</td><td>Alcalde</td><td>2740069-2740041-2742582</td><td>alcaldia@copacabana.gov.co</td><td>E.S.E. HOSPITAL SANTA MARGARITA</td><td>E.S.E. HOSPITAL SANTA MARGARITA</td><td>52120230801</td><td>890,980,949</td><td>KR 64 Nº 48-80 La misericordia</td><td>(6.349485, -75.505182)</td><td>4802390 ext 176</td><td>gerencia@santamargarita.gov.co</td></tr><tr><td>5234</td><td>DABEIBA</td><td>Occidente</td><td>DANIEL HIGUITA HERRERA</td><td>Alcalde</td><td>8590300-8590475-8591234-8591293</td><td>alcaldia@dabeiba-antioquia.gov.co</td><td>EMPRESA SOCIAL DEL ESTADO HOSPITAL NUESTRA SEÑORA DEL PERPETUO SOCORRO</td><td>E.S.E HOSPITAL NUESTRA SEÑORA DEL PERPETUO SOCORRO</td><td>52340231401</td><td>890,984,670</td><td>KR URIBE URIBE # 622</td><td>(6.997737, -76.261725)</td><td>5748590045</td><td>gerencia@hospitaldabeiba.gov.co</td></tr><tr><td>5237</td><td>DONMATÍAS</td><td>Norte</td><td>JAVIER DARÍO LÓPEZ RESTREPO</td><td>Alcalde</td><td>8663243-8666230 Ext 109</td><td>alcaldia@donmatias-antioquia.gov.co</td><td>E.S.E. HOSPITAL FRANCISCO ELADIO BARRERA</td><td>E.S.E. HOSPITAL FRANCISCO ELADIO BARRERA</td><td>52370594801</td><td>890,905,097</td><td>CL 36A # 29-55</td><td>(6.489024, -75.395705)</td><td>5748663737</td><td>gerencia@hospitaldonmatias.gov.co</td></tr><tr><td>5240</td><td>EBÉJICO</td><td>Occidente</td><td>DAVID ALONSO RESTREPO CASTRILLÓN</td><td>Alcalde</td><td>8562190 EXT 101-8562016</td><td>alcaldia@ebejico-antioquia.gov.co</td><td>EMPRESA SOCIAL DEL ESTADO  HOSPITAL SAN RAFAEL</td><td>EMPRESA SOCIAL DEL ESTADO HOSPITAL SAN RAFAEL</td><td>52400374401</td><td>890,982,370</td><td>BRR VEREDA FATIMA</td><td>(6.325962, -75.767641)</td><td>5748562681</td><td>hospebejico@gmail.com</td></tr><tr><td>5250</td><td>EL BAGRE</td><td>Bajo Cauca</td><td>MARCO FIDEL TRESPALACIO BULLOSO</td><td>Alcalde</td><td>8372429</td><td>alcaldia@elbagre-antioquia.gov.co</td><td>EMPRESA SOCIAL DEL ESTADO HOSPITAL NUESTRA SEÑORA DEL CARMEN</td><td>ESE HOSPITAL NUESTRA SEÑORA DEL CARMEN</td><td>52500213301</td><td>800,138,311</td><td>CL 50 # 46D-37</td><td>(7.590835, -74.809856)</td><td>5748372381</td><td>bagrhs01@edatel.net.co</td></tr><tr><td>5264</td><td>ENTRERRIOS</td><td>Norte</td><td>JULIO CÉSAR LOPERA POSADA</td><td>Alcalde</td><td>8670411-8670147-8670412</td><td>alcaldia@entrerrios-antioquia.gov.co</td><td>ESE HOSPITAL PRESBITERO EMIGDIO PALACIO</td><td>ESE HOSPITAL PRESBITERO EMIGDIO PALACIO</td><td>52640230901</td><td>890,984,779</td><td>TRANSVERSAL 13 CALLE 2-17</td><td>(6.567066, -75.517965)</td><td>5748670051</td><td>entrhs01@edatel.net.co</td></tr><tr><td>5266</td><td>ENVIGADO</td><td>Valle de Aburra</td><td>RAÚL EDUARDO CARDONA GONZÁLEZ</td><td>Alcalde</td><td>3394000 - 3394017  - 3394018</td><td>alcaldia@envigado.gov.co</td><td>E.S.E. HOSPITAL MANUEL URIBE ANGEL</td><td>ESE HOSPITAL MANUEL URIBE ANGEL</td><td>52660491001</td><td>890,906,347</td><td>DG 31 # 36 A SUR - 80</td><td>(6.166892, -75.580128)</td><td>5742703511</td><td>radicacion@hospitalmua.gov.co</td></tr><tr><td>5282</td><td>FREDONIA</td><td>Suroeste</td><td>ALDUBAR DE JESÚS VANEGAS MARÍN</td><td>Alcalde</td><td>8401264-8401026-8402096-8401393-8402334</td><td>alcaldia@fredonia-antioquia.gov.co</td><td>E.S.E. HOSPITAL DE SANTA LUCIA</td><td>E.S.E. HOSPITAL SANTA LUCIA</td><td>52820217101</td><td>890,980,181</td><td>CL 69 # 50-220 VEREDA EL EDEN</td><td>(5.932994, -75.679965)</td><td>5748401101</td><td>esefredonia@gmail.com</td></tr><tr><td>5306</td><td>GIRALDO</td><td>Occidente</td><td>MARÍA CAMILA MANCO SUÁREZ</td><td>Alcaldesa</td><td>8571107 Ext 108-8571106</td><td>alcaldia@giraldo-antioquia.gov.co</td><td>E.S.E. HOSPITAL SAN ISIDRO</td><td>E.S.E. HOSPITAL SAN ISIDRO</td><td>53060447701</td><td>800,193,392</td><td>CALLE SANTANDER</td><td>(6.681158, -75.953248)</td><td>3146494249 - 8571325</td><td>esehospitalsanisidro@gmail.com</td></tr><tr><td>5308</td><td>GIRARDOTA</td><td>Valle de Aburra</td><td>KEVIN RENÉ BERNAL MORALES</td><td>Alcalde</td><td>4054200 Ext 102-4052050</td><td>contactenos@girardota.gov.co</td><td>E.S.E. HOSPITAL SAN RAFAEL</td><td>E.S.E. HOSPITAL SAN RAFAEL</td><td>53080610401</td><td>890,980,727</td><td>KR 16 # 11-01</td><td>(6.375113, -75.449558)</td><td>0514052440 ext:115 102 113</td><td>laboratoriohsrg@gmail.com</td></tr><tr><td>5310</td><td>GÓMEZ PLATA</td><td>Norte</td><td>LUIS GUILLERMO PÉREZ ECHEVERRI</td><td>Alcalde</td><td>8627704-8627806-8627522</td><td>alcaldia@gomezplata-antioquia.gov.co</td><td>E.S.E. HOSPITAL SANTA ISABEL</td><td>E.S.E. HOSPITAL SANTA ISABEL</td><td>53100501501</td><td>890,902,151</td><td>KR 52 # 48-47</td><td>(6.679196, -75.221613)</td><td>862 82 00</td><td>gerencia@esehospitalsantaisabel.gov.co</td></tr><tr><td>5315</td><td>GUADALUPE</td><td>Norte</td><td>JOSÉ FERNANDO SALAZAR OSPINA</td><td>Alcalde</td><td>8616440 Ext 103 - 8616066</td><td>alcaldia@guadalupe-antioquia.gov.co</td><td>E.S.E. NUESTRA SEÑORA DE GUADALUPE</td><td>E.S.E. HOSPITAL NUESTRA SEÑORA DE GUADALUPE</td><td>53150458601</td><td>890,981,690</td><td>CL 50 # 51-12</td><td>(6.814711, -75.241542)</td><td>5748616110</td><td>hospitalguadalupe@gmail.com</td></tr><tr><td>5318</td><td>GUARNE</td><td>Oriente</td><td>DIEGO MAURICIO GRISALES GALLEGO</td><td>Alcalde</td><td>5510025-5511026-5510044-5511733</td><td>alcaldia@guarne-antioquia.gov.co</td><td>E.S.E. NUETRA SEÑORA DE LA CANDELARIA</td><td>E.S.E. NUETRA SEÑORA DE LA CANDELARIA</td><td>53180243601</td><td>890,981,719</td><td>KR 52 # 52-177</td><td>(6.281456, -75.445352)</td><td>(054)551 13 13 - 576 70 90</td><td>gerencia@hospitalguarne.com</td></tr><tr><td>5321</td><td>GUATAPE</td><td>Oriente</td><td>DAVID ESTEBAN FRANCO VALLEJO</td><td>Alcalde</td><td>8610539-8610555 Ext 12</td><td>alcaldia@guatape-antioquia.gov.co</td><td>E.S.E. HOSPITAL LA INMACULADA</td><td>E.S.E. HOSPITAL LA INMACULADA</td><td>53210442901</td><td>890,981,817</td><td>KR 23A # 31-35</td><td>(6.232029, -75.156559)</td><td>8610800 - 3016242530 - 3122590939</td><td>gerencia@hospitalguatape.com</td></tr><tr><td>5347</td><td>HELICONIA</td><td>Occidente</td><td>JORGE ALEXANDER ÁLVAREZ ARANGO</td><td>Alcalde</td><td>8549635 Ext 115</td><td>alcaldia@heliconia-antioquia.gov.co</td><td>EMPRESA SOCIAL DEL ESTADO HOSPITAL SAN RAFAEL</td><td>EMPRESA SOCIAL DEL ESTADO HOSPITAL SAN RAFAEL</td><td>53470219201</td><td>890,981,074</td><td>CL 22 B No 20-21</td><td>(6.208224, -75.732622)</td><td>5748549897</td><td>eseheliconia@gmail.com</td></tr><tr><td>5353</td><td>HISPANIA</td><td>Suroeste</td><td>ORLANDO ARTURO MARÍN ATEHORTUA</td><td>Alcalde</td><td>8432862-8432249</td><td>alcaldia@hispania-antioquia.gov.co</td><td>ESE HOSPITAL SAN JUAN DEL SUROESTE</td><td>ESE HOSPITAL SAN JUAN DEL SUROESTE</td><td>53530238101</td><td>800,068,653</td><td>CL 50 # 46-47</td><td>(5.799986, -75.904745)</td><td>3113798288</td><td>facturacionhospitalhispania@gmail.com</td></tr><tr><td>5360</td><td>ITAGUI</td><td>Valle de Aburra</td><td>DIEGO LEÓN TORRES SÁNCHEZ</td><td>Alcalde</td><td>3737676-3764879</td><td>contactenos@itagui.gov.co</td><td>E.S.E. HOSPITAL SAN RAFAEL DE ITAGUI</td><td>E.S.E. HOSPITAL SAN RAFAEL DE ITAGUI</td><td>53600433901</td><td>890,980,066</td><td>KR 51A # 45-51</td><td>(6.171281, -75.613242)</td><td>4482224</td><td>gerencia@hsanrafael.gov.co</td></tr><tr><td>5361</td><td>ITUANGO</td><td>Norte</td><td>JAVIER DE JESÚS PARIAS POSSO</td><td>Alcalde</td><td>8643020-8643174-8643175</td><td>alcaldia@ituango-antioquia.gov.co</td><td>E.S.E.  HOSPITAL SAN JUAN DE DIOS DE ITUANGO</td><td>E.S.E.  HOSPITAL SAN JUAN DE DIOS DE ITUANGO</td><td>53610450501</td><td>890,980,840</td><td>KR QUINDIO #  25-54</td><td>(7.170186, -75.764535)</td><td>5748643100</td><td>notificacioneshospitalituango@gmail.com</td></tr><tr><td>5086</td><td>BELMIRA</td><td>Norte</td><td>DARCY ESTEBAN ARBOLEDA RUA</td><td>Alcalde</td><td>8674030</td><td>alcaldia@belmira-antioquia.gov.co</td><td>EMPRESA SOCIAL DEL ESTADO HOSPITAL NUESTRA SEÑORA DEL ROSARIO</td><td>EMPRESA SOCIAL DEL ESTADO HOSPITAL NUESTRA SEÑORA DEL ROSARIO</td><td>50860550701</td><td>890,982,065</td><td>KR 19# 19 93</td><td>(6.607103, -75.666736)</td><td>5748674147</td><td>gerencia@esehospital-belmira-antioquia.gov.co</td></tr><tr><td>5368</td><td>JERICÓ</td><td>Suroeste</td><td>SEBASTIÁN GARCÉS PIEDRAHITA</td><td>Alcalde</td><td>8523101-8523502-8523665-8524278</td><td>alcaldia@jerico-antioquia.gov.co</td><td>NUEVA ESE HOSPITAL SAN RAFAEL JERICO</td><td>NUEVA ESE HOSPITAL SAN RAFAEL JERICO</td><td>53680483301</td><td>890,980,765</td><td>KR 5 # 9-157</td><td>(5.789472, -75.787382)</td><td>60485231656</td><td>hospital@hospitalsanrafaeljerico.gov.co</td></tr><tr><td>5376</td><td>LA CEJA</td><td>Oriente</td><td>MARÍA ILBED SANTA SANTA</td><td>Alcaldesa</td><td>5531414 Ext 101-114</td><td>alcaldia@laceja-antioquia.gov.co</td><td>E.S.E. HOSPITAL DE LA CEJA</td><td>ESE HOSPITAL DE LA CEJA</td><td>53760592601</td><td>890,980,758</td><td>CL 17 # 19-55</td><td>(6.028307, -75.431319)</td><td>5745531444</td><td>hospitalceja@une.net.co</td></tr><tr><td>5380</td><td>LA ESTRELLA</td><td>Valle de Aburra</td><td>CARLOS MARIO GUTIÉRREZ</td><td>Alcalde</td><td>3092687 - 2795841 - 2790058</td><td>alcalde@laestrella.gov.co</td><td>E.S.E. HOSPITAL LA ESTRELLA</td><td>EMPRESA SOCIAL DEL ESTADO HOSPITAL LA ESTRELLA</td><td>53800501601</td><td>800,138,968</td><td>CL 83 A SUR N° 60 - 45</td><td>(6.157163, -75.64302)</td><td>5743106070</td><td>infohospital@eselaestrella.gov.co</td></tr><tr><td>5390</td><td>LA PINTADA</td><td>Suroeste</td><td>HERMÁN ANTONIO CORREA BEDOYA</td><td>Alcalde</td><td>8453562-8454216</td><td>alcaldia@lapintada-antioquia.gov.co</td><td>EMPRESA SOCIAL DEL ESTADO HOSPITAL ANTONIO ROLDAN BETANCUR</td><td>EMPRESA SOCIAL DEL ESTADO HOSPITAL ANTONIO ROLDAN BETANCUR</td><td>53900509001</td><td>811,013,792</td><td>KR 30 # 30A - 45</td><td>(5.740705, -75.606859)</td><td>5748454063</td><td>harbgerencia@gmail.com</td></tr><tr><td>5400</td><td>LA UNIÓN</td><td>Oriente</td><td>CARMEN JUDITH VALENCIA MORENO</td><td>Alcaldesa</td><td>5560610-5560654-5560630</td><td>alcaldia@launion-antioquia.gov.co</td><td>E.S.E. HOSPITAL SAN ROQUE  LA UNION</td><td>E.S.E. HOSPITAL SAN ROQUE</td><td>54000242001</td><td>890,980,866</td><td>CL 2 # 11-54</td><td>(5.967984, -75.359452)</td><td>5745560619</td><td>hospitallaunion890@gmail.com</td></tr><tr><td>5411</td><td>LIBORINA</td><td>Occidente</td><td>NANCY AMPARO AVENDAÑO MORENO</td><td>Alcaldesa</td><td>8561865-8561113</td><td>alcaldia@liborina-antioquia.gov.co</td><td>EMPRESA SOCIAL DEL ESTADO HOSPITAL SAN LORENZO</td><td>EMPRESA SOCIAL DEL ESTADO HOSPITAL SAN LORENZO</td><td>54110157901</td><td>890,982,139</td><td>KR 13 # 6-21</td><td>(6.676713, -75.814548)</td><td>5748561826</td><td>libohs01@edatel.net.co</td></tr><tr><td>5425</td><td>MACEO</td><td>Magdalena Medio</td><td>CAROLINA ANDREA SOSA GÓMEZ</td><td>Alcaldesa</td><td>8640209-8640277-8640217</td><td>alcaldia@maceo-antioquia.gov.co</td><td>EMPRESA SOCIAL DEL ESTADO MARCO A. CARDONA</td><td>EMPRESA SOCIAL DEL ESTADO HOSPITAL  MARCO A. CARDONA</td><td>54250510501</td><td>890,906,966</td><td>KR 30 # 33-237</td><td>(6.556282, -74.788297)</td><td>5748640283</td><td>archivo@hospitalmaceo.gov.co</td></tr><tr><td>5440</td><td>MARINILLA</td><td>Oriente</td><td>JULIO CÉSAR SERNA GÓMEZ</td><td>Alcalde</td><td>5484410-5484101-5484884-5480265</td><td>alcaldia@marinilla-antioquia.gov.co</td><td>E.S.E. SAN JUAN DE DIOS DE MARINILLA</td><td>E.S.E. SAN JUAN DE DIOS DE MARINILLA</td><td>54400527301</td><td>890,980,752</td><td>KR 36 # 28-85</td><td>null</td><td>5745484044</td><td>gerencia@hospitalmarinilla.com</td></tr><tr><td>5467</td><td>MONTEBELLO</td><td>Suroeste</td><td>ÓSCAR ERNESTO CUERVO VILLADA</td><td>Alcalde</td><td>8480564 Ext 103-8480561</td><td>alcaldia@montebello-antioquia.gov.co</td><td>E.S.E. HOSPITAL SAN ANTONIO DE MONTEBELLO</td><td>E.S.E. HOSPITAL SAN ANTONIO</td><td>54670396201</td><td>890,981,096</td><td>CL 18 # 18-85</td><td>(5.948656, -75.52304)</td><td>5748480559</td><td>hospisanantonio@esemontebello.gov.co</td></tr><tr><td>5475</td><td>MURINDÓ</td><td>Uraba</td><td>EMPERATRIZ MENA PALACIO</td><td>Alcaldesa</td><td>8575015-8575021-8575085-8575041 8575017</td><td>alcaldia@murindo-antioquia.gov.co</td><td>ESE HOSPITAL SAN BARTOLOMÉ</td><td>ESE HOSPITAL SAN BARTOLOMÉ</td><td>54750502001</td><td>800,165,050</td><td>CL 2 # 14 - 20</td><td>(6.980954, -76.821213)</td><td>8575093</td><td>hospitalmurindo@hotmail.com</td></tr><tr><td>5480</td><td>MUTATÁ</td><td>Uraba</td><td>JAIRO ENRIQUE ORTIZ PALACIOS</td><td>Alcalde</td><td>8578602-8578812-8578799-8578663-8578113-8578740</td><td>alcaldia@mutata-antioquia.gov.co</td><td>E.S.E. HOSPITAL LA ANUNCIACION</td><td>E.S.E. HOSPITAL LA ANUNCIACION</td><td>54800491601</td><td>890,981,268</td><td>KR 10 # 10-08</td><td>(7.247664, -76.439309)</td><td>8578700 - 8578100</td><td>hospital@eselaanunciacion-mutata-antioquia.gov.co</td></tr><tr><td>5483</td><td>NARIÑO</td><td>Oriente</td><td>ÉRIKA CARDONA PÉREZ</td><td>Alcaldesa</td><td>8680077-8680113-8680084-8680117-8680259</td><td>alcaldia@narino-antioquia.gov.co</td><td>E.S.E. HOSPITAL SAN JOAQUIN</td><td>E.S.E. HOSPITAL SAN JOAQUIN</td><td>54830592801</td><td>890,981,652</td><td>Calle13 No 6-33</td><td>(5.609793, -75.174637)</td><td>8680109 8680273 8680363</td><td>admonesesanjoaquin@gmail.com</td></tr><tr><td>5490</td><td>NECOCLÍ</td><td>Uraba</td><td>GUILLERMO JOSÉ CARDONA MORENO</td><td>Alcalde</td><td>8214166-8214564-8215039</td><td>alcaldia@necocli-antioquia.gov.co</td><td>E.S.E. HOSPITAL SAN SEBASTIAN DE URABA</td><td>E.S.E. HOSPITAL SAN SEBASTIAN DE URABÁ</td><td>54900481101</td><td>890,985,603</td><td>CL 50 # 36 - 37 KM 2 VIA TURBO</td><td>(8.424319, -76.78393)</td><td>5748214546</td><td>neyderpupo@hospitalnecocli.gov.co</td></tr><tr><td>5495</td><td>NECHÍ</td><td>Bajo Cauca</td><td>YUMARIS PATRICIA HENRÍQUEZ BANQUET</td><td>Alcaldesa</td><td>8368156-8680204</td><td>alcaldia@nechi-antioquia.gov.co</td><td>ESE HOSPITAL LA MISERICORDIA</td><td>ESE HOSPITAL LA MISERICORDIA</td><td>54950491501</td><td>800,138,011</td><td>CL LA MISERICORDIA</td><td>(8.092287, -74.781103)</td><td>5748368053</td><td>gerencia@hospitalnechi.gov.co</td></tr><tr><td>5501</td><td>OLAYA</td><td>Occidente</td><td>JESÚS DAVID HERNÁNDEZ LONDOÑO</td><td>Alcalde</td><td>8550117-8550116-8550119-8550221</td><td>alcaldia@olaya-antioquia.gov.co</td><td>ESE HOSPITAL SAN MIGUEL</td><td>ESE HOSPITAL SAN MIGUEL</td><td>55010556901</td><td>800,202,398</td><td>KR 10 # 10 - 34</td><td>(6.613513, -75.764862)</td><td>8550359</td><td>siauhso@gmail.com</td></tr><tr><td>5541</td><td>PEÑOL</td><td>Oriente</td><td>SANDRA ARELIS DUQUE VELÁSQUEZ</td><td>Alcaldesa</td><td>8515855-8515851-8515944</td><td>alcaldia@elpenol-antioquia.gov.co</td><td>EMPRESA SOCIAL DEL ESTADO HOSPITAL SAN JUAN DE DIOS</td><td>E.S.E HOSPITAL SAN JUAN DE DIOS</td><td>55410197901</td><td>890,980,486</td><td>TV 7A # 11-84</td><td>(6.216002, -75.238819)</td><td>5748515750</td><td>gerencia@esesanjuandedios-penol-antioquia.gov.co</td></tr><tr><td>5543</td><td>PEQUE</td><td>Occidente</td><td>EMILSON DE JESÚS HERNÁNDEZ HERNÁNDEZ</td><td>Alcalde</td><td>8552043-8552213-8552136</td><td>alcaldia@peque-antioquia.gov.co</td><td>E.S.E. HOSPITAL SAN FRANCISCO</td><td>E.S.E. HOSPITAL SAN FRANCISCO</td><td>55430629901</td><td>890,983,675</td><td>KR BOLIVAR # 11-170</td><td>null</td><td>6048552045 - 6048552132</td><td>gerencia@hospitalpeque.gov.co</td></tr><tr><td>5576</td><td>PUEBLORRICO</td><td>Suroeste</td><td>CRISTIAN CAMILO ZAPATA RAMÍREZ</td><td>Alcalde</td><td>8498865-8498020-8498324</td><td>alcalde@pueblorrico-antioquia.gov.co</td><td>E.S.E. HOSPITAL SAN VICENTE DE PAUL DE PUEBLO RICO</td><td>E.S.E. HOSPITAL SAN VICENTE DE PAUL</td><td>55760592901</td><td>890,981,532</td><td>CL 32 #  26A-38</td><td>(5.793464, -75.838787)</td><td>8498080-8498326-8499054</td><td>hospitalpueblorrico@gmail.com</td></tr><tr><td>5579</td><td>PUERTO BERRÍO</td><td>Magdalena Medio</td><td>ROBINSON ALBERTO BAENA ZULUAGA</td><td>Alcalde</td><td>8332120-8332517 Ext 205</td><td>alcaldia@puertoberrio-antioquia.gov.co</td><td>EMPRESA SOCIAL DEL ESTADO HOSPITAL LA CRUZ</td><td>E.S.E HOSPITAL LA CRUZ</td><td>55790607001</td><td>890,980,063</td><td>KR 7 # 48-03</td><td>(6.488732, -74.404202)</td><td>5748332490</td><td>pberhs01@edatel.net.co</td></tr><tr><td>5585</td><td>PUERTO NARE</td><td>Magdalena Medio</td><td>JUAN CARLOS ACEVEDO ALZATE</td><td>Alcalde</td><td>8347047-8346201</td><td>alcaldia@puertonare-antioquia.gov.co</td><td>EMPRESA SOCIAL DEL ESTADO HOSPITAL OCTAVIO OLIVARES</td><td>EMPRESA SOCIAL DEL ESTADO HOSPITAL OCTAVIO OLIVARES</td><td>55850472501</td><td>890,985,810</td><td>KR 5 # 45-103</td><td>(6.18466, -74.583856)</td><td>5748347208</td><td>pnarehoo@gmail.com - hoogerencia@gmail.com</td></tr><tr><td>5591</td><td>PUERTO TRIUNFO</td><td>Magdalena Medio</td><td>FRANKLIN PORTILLO GÓMEZ</td><td>Alcalde</td><td>8352025-8352117-8352566</td><td>alcaldia@puertotriunfo-antioquia.gov.co</td><td>ESE HOSPITAL LA PAZ</td><td>ESE HOSPITAL LA PAZ</td><td>55910421901</td><td>800,072,678</td><td>CL 14 # 10 - 25</td><td>(5.872305, -74.64018)</td><td>5748352098</td><td>ptrihs01@edatel.net.co</td></tr><tr><td>5604</td><td>REMEDIOS</td><td>Nordeste</td><td>ALBEIRO ARENAS MOLINA</td><td>Alcalde</td><td>8303130-8303078-8303791-8303130</td><td>alcaldia@remedios-antioquia.gov.co</td><td>EMPRESA SOCIAL DEL ESTADO HOSPITAL SAN VICENTE DE PAUL</td><td>EMPRESA SOCIAL DEL ESTADO HOSPITAL SAN VICENTE DE PAUL</td><td>56040550901</td><td>890,985,092</td><td>CL LAS PALMAS # 12 - 120</td><td>(7.07385, -74.697847)</td><td>8303727 8303899 8303471</td><td>info@hsvpremedios.gov.co</td></tr><tr><td>5607</td><td>RETIRO</td><td>Oriente</td><td>SANTIAGO MONTOYA GIRALDO</td><td>Alcalde</td><td>5411860-5410175-5413067-5410180-5410190</td><td>alcaldia@elretiro.gov.co</td><td>E.S.E. HOSPITAL SAN JUAN DE DIOS DEL RETIRO</td><td>E.S.E. HOSPITAL SAN JUAN DE DIOS DEL RETIRO</td><td>56070238301</td><td>890,982,124</td><td>CL 18 # 21-103</td><td>(6.05621, -75.503709)</td><td>5745410055</td><td>eseretiro@epm.net.co</td></tr><tr><td>5615</td><td>RIONEGRO</td><td>Oriente</td><td>JORGE HUMBERTO RIVAS URREA</td><td>Alcalde</td><td>5204060</td><td>alcaldia@rionegro.gov.co</td><td>E.S.E. HOSPITAL SAN JUAN DE DIOS</td><td>E.S.E. HOSPITAL SAN JUAN DE DIOS</td><td>56150137601</td><td>890,907,254</td><td>KR 48 # 56-59</td><td>(6.158646, -75.371353)</td><td>945313700</td><td>eserionegro@hsjdeserionegro.com</td></tr><tr><td>5628</td><td>SABANALARGA</td><td>Occidente</td><td>CÉSAR ALONSO CUADROS GEORGE</td><td>Alcalde</td><td>8554201 - 8554154</td><td>alcaldia@sabanalarga-antioquia.gov.co</td><td>E.S.E. HOSPITAL SAN PEDRO</td><td>E.S.E. HOSPITAL SAN PEDRO</td><td>56280510701</td><td>890,982,140</td><td>KR 17 # 15-94</td><td>(6.84718, -75.816565)</td><td>6048554209</td><td>gerencia@hspsabanalarga.gov.co</td></tr><tr><td>5631</td><td>SABANETA</td><td>Valle de Aburra</td><td>ALDER JAMES CRUZ OCAMPO</td><td>Alcalde</td><td>2880098-2885294-4440088 Ext 102-2885634</td><td>alcaldia@sabaneta.gov.co</td><td>E.S.E. HOSPITAL VENANCIO DIAZ DIAZ</td><td>E.S.E. HOSPITAL VENACIO DIAZ DIAZ</td><td>56310220601</td><td>800,123,106</td><td>KR 46B # 77 SUR 36</td><td>(6.148166, -75.621836)</td><td>5742889701</td><td>gerencia@hospitalsabaneta.gov.co</td></tr><tr><td>5642</td><td>SALGAR</td><td>Suroeste</td><td>VÍCTOR RAÚL MAYA CEBALLOS</td><td>Alcalde</td><td>8442330-8442301-8442213-8442562</td><td>alcaldia@salgar-antioquia.gov.co</td><td>E.S.E. HOSPITAL SAN JOSE</td><td>E.S.E. HOSPITAL SAN JOSE</td><td>56420457601</td><td>890,981,424</td><td>CL 32A # 33-04</td><td>(5.965121, -75.980536)</td><td>5748442020</td><td>gerencia@hsjsalgar.gov.co</td></tr><tr><td>5652</td><td>SAN FRANCISCO</td><td>Oriente</td><td>ARTURO ALEXANDER ARIAS DUQUE</td><td>Alcalde</td><td>8323030 - 8323236</td><td>alcaldia@sanfrancisco-antioquia.gov.co</td><td>EMPRESA SOCIAL DEL ESTADO HOSPITAL SAN FRANCISCO DE ASIS</td><td>EMPRESA SOCIAL DEL ESTADO HOSPITAL SAN FRANCISCO DE ASIS</td><td>56520601601</td><td>800,133,887</td><td>Carrera 10 No 9 -09</td><td>(5.964372, -75.100077)</td><td>8323027</td><td>gerencia@esehospitaldesanfrancisco-antioquia.gov.co</td></tr><tr><td>5656</td><td>SAN JERÓNIMO</td><td>Occidente</td><td>DONALDO FERNÁN VIVARES GALLEGO</td><td>Alcalde</td><td>8582024-8582580-8582162-8582123</td><td>alcaldia@sanjeronimo-antioquia.gov.co</td><td>E.S.E. HOSPITAL SAN LUIS BELTRAN</td><td>E.S.E. HOSPITAL SAN LUIS BELTRAN</td><td>56560509201</td><td>890,981,848</td><td>KR 10 # 23-08</td><td>(6.444441, -75.729146)</td><td>8585997</td><td>gerencia@hospitaldesanjeronimo.gov.co</td></tr><tr><td>5660</td><td>SAN LUIS</td><td>Oriente</td><td>CÉSAR ABAD BUITRAGO ARIAS</td><td>Alcalde</td><td>8348115-8348102-8348720-8348716</td><td>contactenos@sanluis-antioquia.gov.co</td><td>E.S.E. HOSPITAL SAN RAFAEL DE SAN LUIS</td><td>E.S.E. HOSPITAL SAN RAFAEL DE SAN LUIS</td><td>56600227701</td><td>890,982,091</td><td>KR 19 #17-63</td><td>(6.041148, -74.991914)</td><td>5748348505</td><td>gerencia@hospitaldesanluis.com.co</td></tr><tr><td>5664</td><td>SAN PEDRO DE LOS MILAGROS</td><td>Norte</td><td>JOSÉ DANILO ÁLVAREZ RODRÍGUEZ</td><td>Alcalde</td><td>8687039-8205502-8205033</td><td>alcaldia@sanpedrodelosmilagros-antioquia.gov.co</td><td>E.S.E. HOSPITAL SANTA ISABEL</td><td>E.S.E. HOSPITAL SANTA ISABEL</td><td>56640448101</td><td>800,014,405</td><td>CL 43A #  52A-109</td><td>(6.45668, -75.559802)</td><td>5748687610</td><td>hospital@esesantaisabel.gov.co</td></tr><tr><td>5667</td><td>SAN RAFAEL</td><td>Oriente</td><td>EDUIN ANICENO GIRALDO QUINTANA</td><td>Alcalde</td><td>8586681-8586927-8586836-8586681</td><td>alcaldia@sanrafael-antioquia.gov.co</td><td>E.S.E. HOSPITAL PRESBITERO ALONSO MARIA GIRALDO</td><td>ESE HOSPITAL PBRO ALONSO MARIA GIRALDO</td><td>56670151201</td><td>891,982,128</td><td>KR 29 # 26-189</td><td>(6.294397, -75.026343)</td><td>5748586612</td><td>gerencia@esepresbiteroalonso-sanrafael.gov.co</td></tr><tr><td>5670</td><td>SAN ROQUE</td><td>Nordeste</td><td>LUIS ALEJANDRO VILLEGAS CANO</td><td>Alcalde</td><td>8656562-8656755-8656628</td><td>alcaldia@sanroque-antioquia.gov.co</td><td>E.S.E. HOSPITAL MUNICIPAL SAN ROQUE</td><td>ESE HOSPITAL MUNICIPAL SAN ROQUE</td><td>56700581401</td><td>890,906,211</td><td>CL 25 # 18-30</td><td>(6.487918, -75.018205)</td><td>5748656735</td><td>esehospitalsr@gmail.com</td></tr><tr><td>5674</td><td>SAN VICENTE FERRER</td><td>Oriente</td><td>NELSON DE JESÚS HENAO ZAPATA</td><td>Alcalde</td><td>8544938-8544212-8544154-8544856</td><td>alcaldia@sanvicente-antioquia.gov.co</td><td>E S E HOSPITAL MUNICIPIO DE SAN VICENTE</td><td>E S E HOSPITAL MUNICIPIO DE SAN VICENTE</td><td>56740479201</td><td>890,983,738</td><td>AV CARVAJAL # 31-36</td><td>(6.282818, -75.332085)</td><td>5748544100</td><td>snvihs01@edatel.net.co</td></tr><tr><td>5679</td><td>SANTA BÁRBARA</td><td>Suroeste</td><td>JORGE MARIO QUINTANA CAÑAVERAL</td><td>Alcalde</td><td>8461060-8463607-8464151-8464302</td><td>alcaldia@santabarbara-antioquia.gov.co</td><td>EMPRESA SOCIAL DEL ESTADO HOSPITAL SANTAMARIA</td><td>EMPRESA SOCIAL DEL ESTADO HOSPITAL SANTAMARIA</td><td>56790458201</td><td>890,905,198</td><td>KR 50 # 45 90</td><td>(5.87398, -75.565225)</td><td>5748463131</td><td>jorge.valencia@hospitalsantamaria.gov.co</td></tr><tr><td>5690</td><td>SANTO DOMINGO</td><td>Nordeste</td><td>FABIO IGNACIO MIRA VALENCIA</td><td>Alcalde</td><td>8621069-8621101 Ext 103 - 8621313</td><td>contactenos@santodomingo-antioquia.gov.co</td><td>ESE HOSPITAL SAN RAFAEL DE SANTO DOMINGO</td><td>ESE HOSPITAL SAN RAFAEL</td><td>56900483701</td><td>890,906,560</td><td>KR 16 # 18 29</td><td>(6.474783, -75.162024)</td><td>5748621155</td><td>stdohs01@edatel.net.co</td></tr><tr><td>5697</td><td>EL SANTUARIO</td><td>Oriente</td><td>MARTÍN ALBERTO DUQUE GALLO</td><td>Alcalde</td><td>5460080 Ext 101-5461172-5460201-5461362</td><td>despachoalcaldia@elsantuario-antioquia.gov.co</td><td>E.S.E. HOSPITAL SAN JUAN DE DIOS EL SANTUARIO</td><td>E.S.E. HOSPITAL SAN JUAN DE DIOS EL SANTUARIO</td><td>56970242701</td><td>890,980,326</td><td>CL 49 # 41-63</td><td>(6.136576, -75.261921)</td><td>5745460050</td><td>cadsant@hospitalelsantuario.gov.co</td></tr><tr><td>5736</td><td>SEGOVIA</td><td>Nordeste</td><td>EDWIN ALEXANDER CASTAÑEDA VAHOS</td><td>Alcalde</td><td>8314351-8315613-8317196-8314031</td><td>alcaldia@segovia-antioquia.gov.co</td><td>E.S.E. HOSPITAL SAN JUAN DE DIOS</td><td>E.S.E. HOSPITAL SAN JUAN DE DIOS</td><td>57360612501</td><td>800,080,586</td><td>CAMPAMENTO LA SALADA</td><td>(7.079003, -74.693899)</td><td>8317382 - 8315992</td><td>gerencia@hospitaldesegovia.gov.co</td></tr><tr><td>5761</td><td>SOPETRÁN</td><td>Occidente</td><td>TATIANA ALEXANDRA CARBALLO HOYOS</td><td>Alcaldesa</td><td>8541560 ext. 102 - 8541561</td><td>alcaldia@sopetran-antioquia.gov.co</td><td>EMPRESA SOCIAL DEL ESTADO HORACIO MUÑOZ SUESCUN</td><td>EMPRESA SOCIAL DEL ESTADO HORACIO MUÑOZ SUESCUN</td><td>57610561201</td><td>890,982,184</td><td>CL BENJAMIN HERRERA # 11 - 53</td><td>(6.500707, -75.743845)</td><td>5748541555</td><td>gerencia@hospitalsopetranantioquia.gov.co</td></tr><tr><td>5789</td><td>TÁMESIS</td><td>Suroeste</td><td>JUAN PABLO PÉREZ RÁMIREZ</td><td>Alcalde</td><td>8494595-8496010-</td><td>alcaldia@tamesis-antioquia.gov.co</td><td>EMPRESA SOCIAL DEL ESTADO HOSPITAL SAN JUAN DE DIOS</td><td>E.S.E HOSPITAL SAN JUAN DE DIOS</td><td>57890457901</td><td>890,980,855</td><td>KR 10 # 13 - 52</td><td>(5.664982, -75.713031)</td><td>5748494802</td><td>hospital@tamesis-antioquia.gov.co</td></tr><tr><td>5790</td><td>TARAZÁ</td><td>Bajo Cauca</td><td>YOMER FABIÁN ÁLVAREZ CORREA</td><td>Alcalde</td><td>8365628-8366288-8365817</td><td>alcaldia@taraza-antioquia.gov.co</td><td>E.S.E. HOSPITAL SAN ANTONIO</td><td>E.S.E. HOSPITAL SAN ANTONIO</td><td>57900551301</td><td>890,984,696</td><td>CL 26 # 32-1311</td><td>null</td><td>5748365616</td><td>gerenciahospitaltaraza@gmail.com</td></tr><tr><td>5792</td><td>TARSO</td><td>Suroeste</td><td>HUGO ALEXANDER OCAMPO RÍOS</td><td>Alcalde</td><td>8458541-8458780-8458535-8458718-8458639-8458991</td><td>alcaldia@tarso-antioquia.gov.co</td><td>EMPRESA SOCIAL DEL ESTADO HOSPITAL SAN PABLO</td><td>E.S.E SAN PABLO</td><td>57920458701</td><td>890,982,182</td><td>KR 18 # 21 - 02</td><td>(5.865957, -75.820945)</td><td>5748458606</td><td>hospitaltarso@gmail.com</td></tr><tr><td>5809</td><td>TITIRIBÍ</td><td>Suroeste</td><td>ALEX DAVID RESTREPO SALAZAR</td><td>Alcalde</td><td>8482649-8482344-8482790</td><td>alcaldia@titiribi-antioquia.gov.co</td><td>ESE HOSPITAL SAN JUAN DE DIOS</td><td>ESE HOSPITAL SAN JUAN DE DIOS</td><td>58090434901</td><td>890,980,346</td><td>Kr Bolivar 18-55</td><td>(6.062678, -75.791556)</td><td>(4) 848 27 40</td><td>hospitaltitiribi@hotmail.com</td></tr><tr><td>5819</td><td>TOLEDO</td><td>Norte</td><td>JHONNY ALBERTO MARÍN MUÑETÓN</td><td>Alcalde</td><td>8619020 - 8619012</td><td>alcaldia@toledo-antioquia.gov.co</td><td>E.S.E. HOSPITAL PEDRO CLAVER AGUIRRE</td><td>EMPRESA SOCIAL DEL ESTADO HOSPITAL PEDRO CLAVER AGUIRRE Y</td><td>58190612301</td><td>800,139,704</td><td>CALLE 11 NUMERO 09-07</td><td>(7.011666, -75.691509)</td><td>8619061</td><td>gerenciahpca@gmail.com</td></tr><tr><td>5837</td><td>TURBO</td><td>Uraba</td><td>ALEJANDRO ABUCHAR GONZÁLEZ</td><td>Alcalde</td><td>8273273 Ext 11-8275159-8272140</td><td>alcaldia@turbo-antioquia.gov.co</td><td>EMPRESA SOCIAL DEL ESTADO HOSPITAL FRANCISCO VALDERRAMA</td><td>EMPRESA SOCIAL DEL ESTADO HOSPITAL FRANCISCO VALDERRAMA</td><td>58370228701</td><td>890,981,137</td><td>KM 1 SALIDA TURBO - APARTADO</td><td>(8.094491, -76.714541)</td><td>5748272088</td><td>turbhs01@edatel.net.co</td></tr><tr><td>5842</td><td>URAMITA</td><td>Occidente</td><td>LEONARDO ÚSUGA CORREA</td><td>Alcalde</td><td>8574062-8574066-8574131-8574240-8574169</td><td>alcaldia@uramita-antioquia.gov.co</td><td>EMPRESA SOCIAL DEL ESTADO HOSPITAL TOBIAS PUERTA</td><td>EMPRESA SOCIAL DEL ESTADO HOSPITAL TOBIAS PUERTA</td><td>58420643101</td><td>800,065,395</td><td>CL 20  # 22 170  BRR EL TOTUMO</td><td>(6.902526, -76.174049)</td><td>5748574048</td><td>uramhs01@edatel.net.co</td></tr><tr><td>5847</td><td>URRAO</td><td>Suroeste</td><td>NELSON JAVIER BARRERA HOLGUÍN</td><td>Alcalde</td><td>8502300-8502181-8502145-8502181</td><td>alcaldia@urrao-antioquia.gov.co</td><td>EMPRESA SOCIAL DEL ESTADO IVAN RESTREPO GOMEZ</td><td>ESE HOSPITAL IVAN RESTREPO GOMEZ</td><td>58470483901</td><td>890,980,971</td><td>KR 32 # 23-61</td><td>(6.311033, -76.132915)</td><td>8503898</td><td>gerencia@hospitalurrao.gov.co</td></tr><tr><td>5854</td><td>VALDIVIA</td><td>Norte</td><td>CARLOS DANOBER MOLINA BETANCUR</td><td>Alcalde</td><td>8360412-8360246-8360406-8360400-8360264</td><td>alcaldia@valdivia-antioquia.gov.co</td><td>EMPRESA SOCIAL DEL ESTADO HOSPITAL SAN JAUN DE DIOS VALDIVIA</td><td>E.S.E HOSPITAL SAN JUAN DE DIOS DE VALDIVIA</td><td>58540457701</td><td>891,982,129</td><td>KR 8 # 7 - 18</td><td>(7.289894, -75.392647)</td><td>5748360218</td><td>esevaldivia@gmail.com</td></tr><tr><td>5856</td><td>VALPARAÍSO</td><td>Suroeste</td><td>JOSÉ MARIO HERNÁNDEZ DEVIA</td><td>Alcalde</td><td>8493807-8493882-8492109</td><td>alcaldia@valparaiso-antioquia.gov.co</td><td>E.S.E. HOSPITAL SAN JUAN DE DIOS</td><td>E.S.E. HOSPITAL SAN JUAN DE DIOS</td><td>58560238201</td><td>890,980,828</td><td>CRA 12 NRO 6-31</td><td>(5.614395, -75.624261)</td><td>8493854</td><td>admonesevalparaiso@gmail.com</td></tr><tr><td>5858</td><td>VEGACHÍ</td><td>Nordeste</td><td>JOSÉ MARÍA OCHOA MUÑOZ</td><td>Alcalde</td><td>8305625-8305626-8305006-8305318</td><td>alcaldia@vegachi-antioquia.gov.co</td><td>E.S.E. HOSPITAL SAN CAMILO DE LELIS</td><td>E.S.E. HOSPITAL SAN CAMILO DE LELIS</td><td>58580629401</td><td>800,114,286</td><td>CALLE 49 # 40 - 209</td><td>(6.762892, -74.788828)</td><td>8305122/ 8305698/8305474 3103709160</td><td>gerenciahospitalvegachi@gmail.com</td></tr><tr><td>5861</td><td>VENECIA</td><td>Suroeste</td><td>FERNEY DARIO FERNÁNDEZ</td><td>Alcalde</td><td>8490042-8490023-8490052</td><td>alcaldia@venecia-antioquia.gov.co</td><td>E.S.E.  HOSPITAL SAN RAFAEL DE VENECIA</td><td>ESE HOSPITAL SAN RAFAEL DE VENECIA</td><td>58610145201</td><td>890,980,367</td><td>CL 52 # 50-82</td><td>(5.965161, -75.735084)</td><td>5748490313</td><td>cad@hospitalvenecia.gov.co</td></tr><tr><td>5885</td><td>YALÍ</td><td>Nordeste</td><td>JHON JAIRO GIRALDO POSADA</td><td>Alcalde</td><td>8675023-8675653-8675656</td><td>alcaldia@yali-antioquia.gov.co</td><td>E.S.E. HOSPITAL LA MISERICORDIA</td><td>E.S.E. HOSPITAL LA MISERICORDIA</td><td>58850211201</td><td>890,982,162</td><td>CL 18 # 23-24</td><td>(6.673346, -74.842429)</td><td>5748675655</td><td>yalihs01@edatel.net.co</td></tr><tr><td>5887</td><td>YARUMAL</td><td>Norte</td><td>CRISTIAN DAVID CÉSPEDES CORREA</td><td>Alcalde</td><td>8537429-8537430-8537429</td><td>alcaldia@yarumal.gov.co</td><td>E.S.E. HOSPITAL SAN JUAN DE DIOS YARUMAL</td><td>E.S.E. HOSPITAL SAN JUAN DE DIOS YARUMAL</td><td>58870228401</td><td>890,981,726</td><td>KR 23 # 12 - 13</td><td>(6.957323, -75.414931)</td><td>094 8 53 73 73</td><td>cuentasmedicas@hospitalyarumal.gov.co</td></tr><tr><td>5890</td><td>YOLOMBÓ</td><td>Nordeste</td><td>JESÚS AMADOR PÉREZ PALACIO</td><td>Alcalde</td><td>8654181-8654337-8654200-8655312</td><td>alcaldia@yolombo-antioquia.gov.co</td><td>EMPRESA SOCIAL DEL ESTADO HOSPITAL SAN RAFAEL DE YOLOMBO</td><td>EMPRESA SOCIAL DEL ESTADO HOSPITAL SAN RAFAEL DE YOLOMBO</td><td>58900243101</td><td>890,981,536</td><td>KR 24 # 13 - 466</td><td>(6.597681, -75.017438)</td><td>5748654859</td><td>esehospitalyolombo@gmail.com</td></tr><tr><td>5893</td><td>YONDÓ</td><td>Magdalena Medio</td><td>YERSON ANTONIO ARIZA RIVERA</td><td>Alcalde</td><td>8325109-8325461-8325025-8325212-8325111</td><td>alcaldia@yondo-antioquia.gov.co</td><td>ESE HOSPITAL HECTOR ABAD GOMEZ</td><td>ESE HOSPITAL HECTOR ABAD GOMEZ</td><td>58930322701</td><td>800,014,884</td><td>KR 58 # 47B-50</td><td>(7.005532, -73.914267)</td><td>5748325050</td><td>esehectorabadgomez@hospitalyondo.gov.co</td></tr><tr><td>5895</td><td>ZARAGOZA</td><td>Bajo Cauca</td><td>ANDRÉS EMILIO LUJAN MONROY</td><td>Alcalde</td><td>8388209-8388221-8388209-8388123</td><td>alcaldia@zaragoza-antioquia.gov.co</td><td>ESE HOSPITAL SAN RAFAEL</td><td>ESE HOSPITAL SAN RAFAEL</td><td>58950588401</td><td>890,981,117</td><td>Brr San Gregorio Diagonal Urbanización Miraflores</td><td>(7.491112, -74.868221)</td><td>5748389044</td><td>zarahs01@edatel.net.co</td></tr><tr><td>5665</td><td>SAN PEDRO DE URABA</td><td>Uraba</td><td>NEVER JACINTO CARVAJAL MIRANDA</td><td>Alcalde</td><td>8205502-8205503-8205033</td><td>alcaldia@sanpedrodeuraba-antioquia.gov.co</td><td>E.S.E. HOSPITAL OSCAR EMIRO VERGARA CRUZ</td><td>E.S.E. HOSPITAL OSCAR EMIRO VERGARA CRUZ</td><td>56650551401</td><td>890,985,660</td><td>CL 54 # 47 - 102</td><td>(8.284117, -76.383648)</td><td>5748205065</td><td>gerencia@esehoevc.gov.co</td></tr><tr><td>5042</td><td>SANTAFÉ DE ANTIOQUIA</td><td>Occidente</td><td>YAMID CARVAJAL CARVAJAL</td><td>Alcalde</td><td>8531136-8531793-8531152-8531841</td><td>alcaldia@santafedeantioquia-antioquia.gov.co</td><td>E.S.E. HOSPITAL SAN JUAN DE DIOS ANTIOQUIA</td><td>E.S.E. HOSPITAL SAN JUAN DE DIOS ANTIOQUIA</td><td>50420547801</td><td>890,982,264</td><td>CL 10 # 3-24</td><td>(6.553647, -75.823157)</td><td>5748531020</td><td>info@esehospitalsantafedeantioquia.gov.co</td></tr><tr><td>5686</td><td>SANTA ROSA DE OSOS</td><td>Norte</td><td>LUIS BERNADO MOLINA GRANDA</td><td>Alcalde</td><td>8608020-8608336-8608120-8608416</td><td>alcaldia@santarosadeosos.gov.co</td><td>E.S.E. HOSPITAL SAN JUAN DE DIOS DE SANTA ROSA DE OSOS</td><td>E.S.E. HOSPITAL SAN JUAN DE DIOS DE SANTA ROSA DE OSOS</td><td>56860464901</td><td>890,981,298</td><td>KR 28 # 26A-34</td><td>(6.646108, -75.461059)</td><td>5748609474</td><td>stlo01@edatel.com.co</td></tr><tr><td>5647</td><td>SAN ANDRÉS DE CUERQUÍA</td><td>Norte</td><td>JOSÉ FERNANDO CHAVARRÍA CHAVARRÍA</td><td>Alcalde</td><td>8618206-8618173-8618154-8618232</td><td>alcaldia@sanandresdecuerquia-antioquia.gov.co</td><td>EMPRESA SOCIAL DEL ESTADO GUSTAVO GONZALEZ OCHOA</td><td>E.S.E GUSTAVO GONZALEZ OCHOA</td><td>56470217401</td><td>890,982,113</td><td>BRR EL CRUCERO</td><td>(6.914669, -75.675287)</td><td>5748618101</td><td>hospital.sanandresdecuerquia@gmail.com</td></tr><tr><td>5873</td><td>VIGÍA DEL FUERTE</td><td>Uraba</td><td>JHOSELIN LOZANO MENA</td><td>Alcalde</td><td>8678080-8678034-8678175</td><td>contactenos@vigiadelfuerte-antioquia.gov.co</td><td>EMPRESA SOCIAL DEL ESTADO HOSPITAL ATRATO MEDIO ANTIOQUEÑO</td><td>E.S.E HOSPITAL ATRATO MEDIO ANTIOQUEÑO</td><td>58730436301</td><td>811,020,943</td><td>CRA 1°#20A-66 BARRIO PUERTO CARIBE</td><td>(6.589922, -76.879578)</td><td>5748678151</td><td>esehama@esehama-vigiadelfuerte-antioquia.gov.co</td></tr><tr><td>5658</td><td>SAN JOSÉ DE LA MONTAÑA</td><td>Norte</td><td>JULIÁN ANDRÉS GONZÁLEZ POSADA</td><td>Alcalde</td><td>8622714-8622904</td><td>alcaldia@sanjosedelamontana-antioquia.gov.co</td><td>E.S.E. HOSPITAL LAUREANO PINO</td><td>E.S.E. HOSPITAL LAUREANO PINO</td><td>56580559101</td><td>890,984,427</td><td>KR 21 # 15-11</td><td>(6.847521, -75.681767)</td><td>5748622663</td><td>hospitallaureanopino@gmail.com, snmohs01@edatel.net.co,</td></tr><tr><td>5659</td><td>SAN JUAN DE URABÁ</td><td>Uraba</td><td>LUIS FERNANDO RUIZ DÍAZ</td><td>Alcalde</td><td>8212100 Ext 108-8212375-8212630-8208100</td><td>alcaldia@sanjuandeuraba-antioquia.gov.co</td><td>E.S.E. HOSPITAL HECTOR ABAD GOMEZ</td><td>E.S.E. HOSPITAL HECTOR ABAD GOMEZ</td><td>56590215901</td><td>800,143,438</td><td>KR 20 # 24-20</td><td>(8.762896, -76.525698)</td><td>8212626- 8212627</td><td>contactenos@esehhagsanjuandeuraba-antioquia.gov.co</td></tr><tr><td>5148</td><td>EL CARMEN DE VIBORAL</td><td>Oriente</td><td>HUGO ALFONSO JÍMENEZ CUERVO</td><td>Alcalde</td><td>5432000 Ext 129 - 5432467-5432116-5432020-5432149</td><td>alcaldia@elcarmendeviboral-antioquia.gov.co</td><td>E.S.E. HOSPITAL SAN JUAN DE DIOS DEL CARMEN DE VIBORAL</td><td>E.S.E. HOSPITAL SAN JUAN DE DIOS</td><td>51480431001</td><td>890,907,279</td><td>KR 31 # 19-58</td><td>(6.075086, -75.331621)</td><td>5745434343</td><td>gerencia@hospitalcarmenv.gov.co</td></tr><tr><td>5649</td><td>SAN CARLOS</td><td>Oriente</td><td>SANTIAGO DAZA ESPINOSA</td><td>Alcalde</td><td>8358090-8358051-8358253-8358066</td><td>alcaldia@sancarlos-antioquia.gov.co</td><td>E.S.E. HOSPITAL SAN VICENTE DE PAUL SAN CARLOS</td><td>E.S.E. HOSPITAL SAN VICENTE DE PAUL</td><td>56490398301</td><td>890,981,561</td><td>CL 21 # 24-58</td><td>(6.187542, -74.996393)</td><td>5748358794</td><td>gerencia@hsvpsancarlos.gov.co</td></tr><tr><td>5284</td><td>FRONTINO</td><td>Occidente</td><td>LUZ GABRIELA RIVERA CANO</td><td>Alcaldesa</td><td>8595032 Ext 0-8595037-8595835</td><td>alcaldia@frontino-antioquia.gov.co</td><td>EMPRESA SOCIAL DEL ESTADO HOSPITAL MARIA ANTONIA TORO DE ELEJALDE</td><td>EMPRESA SOCIAL DEL ESTADO HOSPITAL MARIA ANTONIA TORO DE ELEJALDE</td><td>52840217001</td><td>890,906,991</td><td>KR 27 # 31 - 38</td><td>(6.780833, -76.126499)</td><td>5748595050</td><td>gerencia@hospitalfrontino.gov.co</td></tr><tr><td>5313</td><td>GRANADA</td><td>Oriente</td><td>DANIEL ANDRÉS HOYOS YEPES</td><td>Alcalde</td><td>8320549 - 8320802</td><td>alcalde@granada-antioquia.gov.co</td><td>ESE HOSPITAL PADRE CLEMENTE GIRALDO</td><td>ESE HOSPITAL PADRE CLEMENTE GIRALDO</td><td>53130510901</td><td>890,981,182</td><td>CL 21 # 25-02</td><td>(6.140427, -75.183778)</td><td>8320102 8320742</td><td>granhs00@gmail.com</td></tr><tr><td>5364</td><td>JARDÍN</td><td>Suroeste</td><td>CLAUDIA YANETH NARANJO AGUDELO</td><td>Alcaldesa</td><td>8455550-8455684-8455520</td><td>despachoalcalde@eljardin-antioquia.gov.co</td><td>E.S.E HOSPITAL GABRIEL PELÁEZ MONTOYA</td><td>E.S.E HOSPITAL GABRIEL PELÁEZ MONTOYA</td><td>53640476801</td><td>890,980,732</td><td>CL 5 UNION # 1 24</td><td>(5.602425, -75.821784)</td><td>5748455555</td><td>hospital@esehospitalgabrielpelaezmontoya.gov.co</td></tr><tr><td>5756</td><td>SONSON</td><td>Oriente</td><td>JUAN DIEGO ZULUAGA PULGARÍN</td><td>Alcalde</td><td>8694444-8691296</td><td>alcalde@sonson-antioquia.gov.co</td><td>EMPRESA SOCIAL DEL ESTADO SAN JUAN DE DIOS</td><td>EMPRESA SOCIAL DEL ESTADO SAN JUAN DE DIOS</td><td>57560239401</td><td>890,980,003</td><td>CL 16 # 7 - 151</td><td>(5.716899, -75.309005)</td><td>8695050</td><td>institucional@hospitalsonson.gov.co</td></tr></tbody></table></div>"
      ]
     },
     "metadata": {
      "application/vnd.databricks.v1+output": {
       "addedWidgets": {},
       "aggData": [],
       "aggError": "",
       "aggOverflow": false,
       "aggSchema": [],
       "aggSeriesLimitReached": false,
       "aggType": "",
       "arguments": {},
       "columnCustomDisplayInfos": {},
       "data": [
        [
         "5001",
         "MEDELLÍN",
         "Valle de Aburra",
         "FEDERICO GUTIÉRREZ ZULUAGA",
         "Alcalde",
         "4444144-3855208-3855209",
         "federico.gutierrez@medellin.gov.co",
         "EMPRESA SOCIAL DEL ESTADO HOSPITAL GENERAL DE MEDELLIN LUZ CASTRO DE GUTIERREZ",
         "EMPRESA SOCIAL DEL ESTADO HOSPITAL GENERAL DE MEDELLIN LUZ CASTRO DE GUTIERREZ",
         "50010214401",
         "890,904,647",
         "KR 48 # 32-102",
         "(6.23477, -75.572848)",
         "3847302",
         "gestioncalidad@hgm.gov.co"
        ],
        [
         "5002",
         "ABEJORRAL",
         "Oriente",
         "MANUEL ALBERTO GUZMÁN MARÍN",
         "Alcalde",
         "8647611-8647384 Ext 102 - 8647182-8647004)",
         "alcalde@abejorral-antioquia.gov.co",
         "E.S.E HOSPITAL SAN JUAN DE DIOS DE ABEJORRAL",
         "HOSPITAL SAN JUAN DE DIOS ABEJORRAL",
         "50020436001",
         "890,980,643",
         "CL Circular X Kr Calibio",
         "(5.788458, -75.426663)",
         "5748647181",
         "abejhs01@gmail.com"
        ],
        [
         "5004",
         "ABRIAQUÍ",
         "Occidente",
         "DANIEL ALBERTO SALAS GALLEGO",
         "Alcalde",
         "8520024-8520086-8520019-8520120",
         "alcaldia@abriaqui-antioquia.gov.co",
         "ESE HOSPITAL NUEVO HORIZONTE",
         "ESE HOSPITAL NUEVO HORIZONTE",
         "50040588001",
         "811,032,722",
         "CL 9A # 12-59",
         "(6.632296, -76.067405)",
         "3104323014",
         "ese@abriaqui-antioquia.gov.co"
        ],
        [
         "5021",
         "ALEJANDRÍA",
         "Oriente",
         "GLORIA CECILIA NARANJO OSORIO",
         "Alcaldesa",
         "8660102-8660016-866 0140-8660133",
         "alcaldia@alejandria-antioquia.gov.co",
         "ESE HOSPITAL PBRO LUIS FELIPE ARBELAEZ",
         "ESE HOSPITAL PBRO LUIS FELIPE ARBELAEZ",
         "50210509801",
         "800,029,509",
         "KR 19 # 16-70",
         "(6.373932, -75.140366)",
         "5748660077",
         "hospitalalejandria@gmail.com"
        ],
        [
         "5030",
         "AMAGÁ",
         "Suroeste",
         "WILSER DARÍO MOLINA MOLINA",
         "Alcalde",
         "8472122-8474920-8470126",
         "alcaldia@amaga-antioquia.gov.co",
         "E.S.E. HOSPITAL SAN FERNANDO",
         "E.S.E. HOSPITAL SAN FERNANDO",
         "50300437401",
         "890,906,346",
         "Cra 51 No 52 81",
         "(6.040678, -75.704572)",
         "5748300353",
         "hospital@eseamaga-antioquia.gov.co"
        ],
        [
         "5031",
         "AMALFI",
         "Nordeste",
         "WILMAR ALONSO VÉLEZ LONDOÑO",
         "Alcalde",
         "8301919 - 8300155",
         "alcaldia@amalfi-antioquia.gov.co",
         "E.S.E HOSPITAL EL CARMEN",
         "E.S.E HOSPITAL EL CARMEN",
         "50310209101",
         "890,982,101",
         "CL 23 # 23 - 40",
         "(6.910925, -75.077171)",
         "5748301803",
         "gerencia@hospitalelcarmen-amalfi-antioquia.gov.co"
        ],
        [
         "5034",
         "ANDES",
         "Suroeste",
         "GERMÁN ALEXANDER VÉLEZ OROZCO",
         "Alcalde",
         "8414101-8414619-8414291-8414652",
         "alcaldia@andes-antioquia.gov.co",
         "E.S.E. HOSPITAL SAN RAFAEL",
         "E.S.E. HOSPITAL SAN RAFAEL",
         "50340443201",
         "890,980,814",
         "AV MEDELLIN # 48-20",
         "(5.653782, -75.877633)",
         "5748414343",
         "gestiondocumental@hospitaldeandes.gov.co"
        ],
        [
         "5036",
         "ANGELÓPOLIS",
         "Suroeste",
         "JOSÉ LUIS MONTOYA QUICENO",
         "Alcalde",
         "8421948-8421793",
         "alcaldia@angelopolis-antioquia.gov.co",
         "NUEVA EMPRESA SOCIAL DEL ESTADO HOSPITAL LA MISERICORDIA",
         "NUEVA E.S.E HOSPITAL LA MISERICORDIA",
         "50360510801",
         "890,980,959",
         "CL 8 # 7-108",
         "(6.111182, -75.708992)",
         "5748421146",
         "archivodocumental.es@eselamisericordia-angelopolis-antioquia.gov.co"
        ],
        [
         "5038",
         "ANGOSTURA",
         "Norte",
         "VÍCTOR IGNACIO MEDINA GÓMEZ",
         "Alcalde",
         "8645161-8645046-8645162",
         "alcaldia@angostura-antioquia.gov.co",
         "E.S.E. EMPRESA SOCIAL DEL ESTADO HOSPITAL SAN RAFAEL DE  ANGOSTURA",
         "E.S.E. EMPRESA SOCIAL DEL ESTADO HOSPITAL SAN RAFAEL",
         "50380153801",
         "890,982,183",
         "Kr 10 # 16-1",
         "(6.887402, -75.334797)",
         "5748645099",
         "ANGOHS01@EDATEL.NET.CO"
        ],
        [
         "5040",
         "ANORÍ",
         "Nordeste",
         "GUSTAVO ALFREDO SILVA GUTIÉRREZ",
         "Alcalde",
         "8350842-8350404-8350449-8350849",
         "alcaldia@anori-antioquia.gov.co",
         "ESE HOSPITAL SAN JUAN DE DIOS DE ANORI",
         "ESE HOSPITAL SAN JUAN DE DIOS DE ANORI",
         "50400326101",
         "890,982,138",
         "CL ZEA (CALLE 30 CON CARRERA 29)",
         "(7.072657, -75.145669)",
         "5748350803",
         "anorhs@hospitalanori.gov.co"
        ],
        [
         "5044",
         "ANZA",
         "Occidente",
         "JUAN GUILLERMO HINCAPIÉ FIGUEROA",
         "Alcalde",
         "8522082-8522042-8522102",
         "alcaldia@anza-antioquia.gov.co",
         "E.S.E. HOSPITAL SAN FRANCISCO DE ASIS",
         "E.S.E. HOSPITAL SAN FRANCISCO DE ASIS",
         "50440501401",
         "890,397,282",
         "KR 8 # 7-29",
         null,
         "5748522029",
         "hospitalanza@hospitalanza.gov.co"
        ],
        [
         "5045",
         "APARTADÓ",
         "Uraba",
         "HÉCTOR RANGEL PALACIOS RODRÍGUEZ",
         "Alcalde",
         "8280457-8281038-8282188",
         "alcaldia@apartado.gov.co",
         "EMPRESA SOCIAL DEL ESTADO HOSPITAL ANTONIO ROLDAN BETANCUR",
         "EMPRESA SOCIAL DEL ESTADO HOSPITAL ANTONIO ROLDAN BETANCUR",
         "50450214301",
         "890,905,991",
         "KR 98 # 106-176 BARRIO LA CHINITA",
         "(7.887654, -76.628555)",
         "5748283105",
         "apartah01@edatel.net.co"
        ],
        [
         "5051",
         "ARBOLETES",
         "Uraba",
         "ÁLVARO GONZÁLEZ ÁVILA",
         "Alcalde",
         "8200367-8200973-8201289-8200130",
         "alcaldia@arboletes-antioquia.gov.co",
         "E.S.E. HOSPITAL PEDRO NEL CARDONA",
         "E.S.E. HOSPITAL PEDRO NEL CARMONA",
         "50510232301",
         "890,982,134",
         "BARRIO EL DEPORTIVO",
         "(8.851489, -76.421499)",
         "948200026",
         "secretaria@esehpncarboletes-antioquia.gov.co"
        ],
        [
         "5055",
         "ARGELIA",
         "Oriente",
         "DIEGO ALEXANDER LÓPEZ GIRALDO",
         "Alcalde",
         "8650077-8650106-8650405-8650057",
         "alcaldia@argelia-antioquia.gov.co",
         "EMPRESA SOCIAL DEL ESTADO HOSPITAL SAN JULIAN",
         "EMPRESA SOCIAL DEL ESTADO HOSPITAL SAN JULIAN",
         "50550547901",
         "890,981,851",
         "CL 31 # 32-14",
         "(5.731866, -75.144671)",
         "8650000 - 3146182345",
         "gerencia@hospitalsanjulian.gov.co"
        ],
        [
         "5059",
         "ARMENIA",
         "Occidente",
         "MARTHA LIBIA PARRA GIL",
         "Alcaldesa",
         "8559015-8559064",
         "alcaldia@armenia-antioquia.gov.co",
         "EMPRES SOCIAL DEL ESTADO HOSPITAL SAN MARTIN DE PORRES",
         "EMPRES SOCIAL DEL ESTADO HOSPITAL SAN MARTIN DE PORRES",
         "50590550601",
         "890,982,153",
         "CL 11 # 6-69",
         "(6.159244, -75.785966)",
         "5748559352",
         "hsmpgerencia@gmail.com"
        ],
        [
         "5079",
         "BARBOSA",
         "Valle de Aburra",
         "JUAN DAVID ROJAS AGUDELO",
         "Alcalde",
         "4548300-4548311-4548311-4065441-4065441",
         "alcaldia@barbosa.gov.co",
         "ESE HOSPITAL SAN VICENTE DE PAUL",
         "ESE HOSPITAL SAN VICENTE DE PAUL",
         "50790407701",
         "890,905,193",
         "KR 17 # 10 - 34",
         "(6.43651, -75.333209)",
         "5744061341",
         "esebarbosa@une.net.co"
        ],
        [
         "5088",
         "BELLO",
         "Valle de Aburra",
         "YULIETH LORENA GONZÁLEZ OSPINA",
         "Alcaldesa",
         "604 79 44",
         "contactenos@bello.gov.co",
         "E.S.E. HOSPITAL MARCO FIDEL SUAREZ",
         "EMPRESA SOCIAL DEL ESTADO HOSPITAL MARCO FIDEL SUAREZ",
         "50880561801",
         "890,985,703",
         "CL 44 # 49B-90",
         "(6.330313, -75.557731)",
         "4547510",
         "gerencia@hmfs.gov.co"
        ],
        [
         "5091",
         "BETANIA",
         "Suroeste",
         "DIEGO ARLEY DE JESÚS GUERRA GUTIÉRREZ",
         "Alcalde",
         "8435127 Ext 105- 8435180",
         "alcaldia@betania-antioquia.gov.co",
         "E.S.E. HOSPITAL SAN ANTONIO DE BETANIA",
         "E.S.E. HOSPITAL SAN ANTONIO DE BETANIA",
         "50910457201",
         "890,981,494",
         "CL 20 # 26-173",
         "(5.748156, -75.980673)",
         "548435050",
         "betahs01@gmail.com"
        ],
        [
         "5093",
         "BETULIA",
         "Suroeste",
         "NÉSTOR CAMILO SERNA HERNÁNDEZ",
         "Alcalde",
         "8436093-8436157-8430631",
         "alcaldia@betulia-antioquia.gov.co",
         "E.S.E. HOSPITAL GERMAN VELEZ GUTIERREZ",
         "E.S.E. HOSPITAL GERMAN VELEZ GUTIERREZ",
         "50930237101",
         "890,982,116",
         "CL 21 # 15 - 20 SALIDA A MEDELLIN",
         "(6.113337, -75.984712)",
         "604 843 60 85",
         "hospital@esebetulia-antioquia.gov.co"
        ],
        [
         "5101",
         "CIUDAD BOLÍVAR",
         "Suroeste",
         "LEÓN DARÍO ACEVEDO VARGAS",
         "Alcalde",
         "8411183 Ext 12-8412552 - 8411144",
         "alcaldia@ciudadbolivar-antioquia.gov.co",
         "E.S.E. HOSPITAL LA MERCED DE CIUDAD BOLIVAR",
         "E.S.E. HOSPITAL LA MERCED",
         "51010213901",
         "890,907,241",
         "CL 49 # 36-298",
         "(5.846031, -76.007988)",
         "8411182",
         "gerencia@hlamerced.gov.co"
        ],
        [
         "5107",
         "BRICEÑO",
         "Norte",
         "NOÉ DE JESÚS ESPINOSA VÁSQUEZ",
         "Alcalde",
         "8570051-8570140",
         "alcaldia@briceno-antioquia.gov.co",
         "EMPRESA SOCIAL DEL ESTADO HOSPITAL EL SAGRADO CORAZON",
         "ESE HOSPITAL EL SAGRADO CORAZON",
         "51070231101",
         "800,044,320",
         "CL 11 # 8-31",
         "(7.113115, -75.551047)",
         "5748570099",
         "brichs01@edatel.net.co"
        ],
        [
         "5113",
         "BURITICÁ",
         "Occidente",
         "JOSÉ LUIS RODRÍGUEZ ÚSUGA",
         "Alcalde",
         "8527015-8527041",
         "alcaldia@buritica-antioquia.gov.co",
         "E.S.E. HOSPITAL SAN ANTONIO DE BURITICA",
         "E.S.E. HOSPITAL SAN ANTONIO DE BURITICA",
         "51130559601",
         "890,983,843",
         "CL 8 # 3-56",
         "(6.719975, -75.907202)",
         "948527035",
         "hsaburitica@gmail.com"
        ],
        [
         "5120",
         "CÁCERES",
         "Bajo Cauca",
         "DAMIANA MARÍA MONTERROSA PÉREZ",
         "Alcaldesa",
         "8362201-8362203-8362202",
         "alcaldia@caceres-antioquia.gov.co",
         "EMPRESA SOCIAL DEL ESTADO HOSPITAL ISABEL LA CATOLICA",
         "EMPRESA SOCIAL DEL ESTADO HOSPITAL ISABEL LA CATOLICA",
         "51200554701",
         "890,982,430",
         "KR 50 # 52-48",
         "(7.581577, -75.347834)",
         "5748362039",
         "hospitalcaceres@gmail.com"
        ],
        [
         "5125",
         "CAICEDO",
         "Occidente",
         "YÚBER FELIPE MOLINA MURILLO",
         "Alcalde",
         "8572002 Ext 103 - 8572134",
         "alcaldia@caicedo-antioquia.gov.co",
         "E.S.E. HOSPITAL GUILLERMO GAVIRIA CORREA",
         "E.S.E. HOSPITAL GUILLERMO GAVIRIA CORREA",
         "51250831301",
         "800,037,244",
         "KR 5 # 3-23",
         "(6.404312, -75.982647)",
         "5748572123",
         "gerencia@hospitalcaicedo.gov.co"
        ],
        [
         "5129",
         "CALDAS",
         "Valle de Aburra",
         "JORGE MARIO RENDÓN VÉLEZ",
         "Alcalde",
         "3788500 - 3788504 - 3788515 - 3788502",
         "alcaldia@caldasantioquia.gov.co",
         "E.S.E.  HOSPITAL SAN VICENTE DE PAUL DE CALDAS",
         "E.S.E. HOSPITAL SAN VICENTE DE PAUL DE CALDAS",
         "51290214601",
         "890,907,215",
         "KR 48 # 135S-41",
         "(6.08673, -75.634566)",
         "094- 3786301",
         "hospicaldas@esehospicaldas.gov.co"
        ],
        [
         "5134",
         "CAMPAMENTO",
         "Norte",
         "CRISTIÁN ÁNDRÉS AGUDELO POSADA",
         "Alcalde",
         "8614020-8614055-8614229",
         "alcaldia@campamento-antioquia.gov.co",
         "E.S.E. HOSPITAL LA SAGRADA FAMILIA",
         "E.S.E. HOSPITAL LA SAGRADA FAMILIA",
         "51340593001",
         "890,985,457",
         "CL BOLIVAR # 15-07",
         "(6.979421, -75.299327)",
         "094-8614112",
         "hospitalcampamento@hotmail.com"
        ],
        [
         "5138",
         "CAÑASGORDAS",
         "Occidente",
         "DIEGO ALONSO VANEGAS ARANGO",
         "Alcalde",
         "8564101-8564903-8564319",
         "alcaldia@canasgordas-antioquia.gov.co",
         "E.S.E. HOSPITAL SAN CARLOS",
         "E.S.E. HOSPITAL SAN CARLOS",
         "51380491401",
         "890,980,784",
         "KR 31 # 33-140",
         "(6.750362, -76.02582)",
         "5748564181",
         "canahs01@edatel.net.co"
        ],
        [
         "5142",
         "CARACOLÍ",
         "Magdalena Medio",
         "RODRIGO ALVEIRO CADAVID HERRERA",
         "Alcalde",
         "8336025 Ext 102-8336045",
         "alcaldia@caracoli-antioquia.gov.co",
         "HOSPITAL SAN PIO X",
         "HOSPITAL SAN PIO X",
         "51420410301",
         "890,981,266",
         "CL 21# 20-32",
         "(6.411135, -74.754925)",
         "5748336014",
         "gerencia@esesanpioxcaracoli.gov.co"
        ],
        [
         "5145",
         "CARAMANTA",
         "Suroeste",
         "JUAN ESTEBAN CORREA CÁRDENAS",
         "Alcalde",
         "8553354 - 8553414 - 8553310",
         "alcaldia@caramanta-antioquia.gov.co",
         "E.S.E. HOSPITAL SAN ANTONIO",
         "E.S.E. HOSPITAL SAN ANTONIO",
         "51450158501",
         "890,981,163",
         "KR 21 BOLIVAR # 16-33",
         "(5.545532, -75.644077)",
         "3128337704",
         "gerenciaesecaramanta@hotmail.com"
        ],
        [
         "5147",
         "CAREPA",
         "Uraba",
         "AGAPITO MURILLO PALACIOS",
         "Alcalde",
         "8239402- 8236706- 8236581-8237131",
         "alcaldia@carepa-antioquia.gov.co",
         "EMPRESA SOCIAL DEL ESTADO HOSPITAL FRANCISCO LUIS JIMENEZ MARTINEZ",
         "E.S.E HOSPITAL FRANCISCO LUIS JIMENEZ MARTINEZ",
         "51470631101",
         "800,227,877",
         "CL 70  # 68 - 03",
         "(7.750753, -76.65483)",
         "5748236548",
         "gestiondocumental@hospitaldecarepa.gov.co"
        ],
        [
         "5150",
         "CAROLINA",
         "Norte",
         "ANA ISABEL AVENDAÑO DUQUE",
         "Alcaldesa",
         "8634033-8634259 Ext 103 - 8434029",
         "alcaldia@carolinadelprincipe-antioquia.gov.co",
         "EMPRESA SOCIAL DEL ESTADO HOSPITAL SAN RAFAEL",
         "EMPRESA SOCIAL DEL ESTADO HOSPITAL SAN RAFAEL",
         "51500458401",
         "890,906,344",
         "CL 52 B # 54-70",
         "(6.723214, -75.280809)",
         "5748634045",
         "carohs01@edatel.net.co"
        ],
        [
         "5154",
         "CAUCASIA",
         "Bajo Cauca",
         "JHOAN ODERIS MONTES CORTÉS",
         "Alcalde",
         "8391595 - 8394444",
         "alcaldia@caucasia-antioquia.gov.co",
         "E.S.E. HOSPITAL CESAR URIBE PIEDARHITA",
         "HOSPITAL CESAR URIBE PIEDARHITA",
         "51540220101",
         "890,980,757",
         "Carrera 20 # 1A-100 Barrio El Man",
         "(7.995211, -75.19809)",
         "3201212",
         "gerencia@hcup.gov.co"
        ],
        [
         "5172",
         "CHIGORODÓ",
         "Uraba",
         "TULIA IRENE RUIZ GARCÍA",
         "Alcaldesa",
         "8253630 - 8253868 - 8255885",
         "alcaldia@chigorodo-antioquia.gov.co",
         "EMPRESA SOCIAL DEL ESTADO HOSPITAL MARIA AUXILIADORA",
         "EMPRESA SOCIAL DEL ESTADO HOSPITAL MARIA AUXILIADORA",
         "51720630501",
         "890,980,997",
         "KR 108 # 101 A - 57",
         "(7.672513, -76.687805)",
         "5748253191",
         "admin@hospitalma.gov.co"
        ],
        [
         "5190",
         "CISNEROS",
         "Nordeste",
         "LINA MARÍA CORREA VALENCIA",
         "Alcaldesa",
         "8631567",
         "alcaldia@cisneros-antioquia.gov.co",
         "EMPRESA SOCIAL DEL ESTADO HOSPITAL SAN ANTONIO",
         "E.S.E HOSPITAL SAN ANTONIO",
         "51900559201",
         "890,980,444",
         "CL 18 # 17-105",
         "(6.537253, -75.088447)",
         "8631847",
         "gerencia@esesanantonio-cisneros-antioquia.gov.co"
        ],
        [
         "5197",
         "COCORNÁ",
         "Oriente",
         "DAVID ALEJANDRO GÓMEZ HOYOS",
         "Alcalde",
         "8343404-8343425-8343096-8343529",
         "alcaldia@cocorna-antioquia.gov.co",
         "ESE HOSPITAL SAN JUAN DE DIOS DE COCORNA",
         "ESE HOSPITAL SAN JUAN DE DIOS",
         "51970559301",
         "890,981,108",
         "CL 21 # 23-45",
         "(6.057621, -75.186546)",
         "5748343685",
         "gerencia@hospitaldecocorna.com"
        ],
        [
         "5206",
         "CONCEPCIÓN",
         "Oriente",
         "ADRIÁN HENAO CARVAJAL",
         "Alcalde",
         "8567084-8567274-8567176-8567034",
         "alcaldia@concepcion-antioquia.gov.co",
         "ESE HOSPITAL JOSE MARIA CORDOBA",
         "ESE HOSPITAL JOSE MARIA CORDOBA",
         "52060478001",
         "890,980,512",
         "KR 19 # 19-83",
         "(6.041964, -74.992971)",
         "5748567024",
         "administrador@esehospitaljosemariacordobaconcepcionantioquia.gov.co"
        ],
        [
         "5209",
         "CONCORDIA",
         "Suroeste",
         "ALEXANDRA MARÍA HERRERA QUIJANO",
         "Alcaldesa",
         "8446089-8446101-8446275-8447492",
         "alcaldia@concordia-antioquia.gov.co",
         "E.S.E. HOSPITAL SAN JUAN DE DIOS DE CONCORDIA",
         "E.S.E. HOSPITAL SAN JUAN DE DIOS",
         "52090581901",
         "89,090,797",
         "KR 18 # 16-05",
         "(6.045373, -75.904713)",
         "844 77 24",
         "hospitaldeconcordia@hospital-concordia.gov.co"
        ],
        [
         "5212",
         "COPACABANA",
         "Valle de Aburra",
         "JOHNNATAN ANDRÉS PINEDA AGUDELO",
         "Alcalde",
         "2740069-2740041-2742582",
         "alcaldia@copacabana.gov.co",
         "E.S.E. HOSPITAL SANTA MARGARITA",
         "E.S.E. HOSPITAL SANTA MARGARITA",
         "52120230801",
         "890,980,949",
         "KR 64 Nº 48-80 La misericordia",
         "(6.349485, -75.505182)",
         "4802390 ext 176",
         "gerencia@santamargarita.gov.co"
        ],
        [
         "5234",
         "DABEIBA",
         "Occidente",
         "DANIEL HIGUITA HERRERA",
         "Alcalde",
         "8590300-8590475-8591234-8591293",
         "alcaldia@dabeiba-antioquia.gov.co",
         "EMPRESA SOCIAL DEL ESTADO HOSPITAL NUESTRA SEÑORA DEL PERPETUO SOCORRO",
         "E.S.E HOSPITAL NUESTRA SEÑORA DEL PERPETUO SOCORRO",
         "52340231401",
         "890,984,670",
         "KR URIBE URIBE # 622",
         "(6.997737, -76.261725)",
         "5748590045",
         "gerencia@hospitaldabeiba.gov.co"
        ],
        [
         "5237",
         "DONMATÍAS",
         "Norte",
         "JAVIER DARÍO LÓPEZ RESTREPO",
         "Alcalde",
         "8663243-8666230 Ext 109",
         "alcaldia@donmatias-antioquia.gov.co",
         "E.S.E. HOSPITAL FRANCISCO ELADIO BARRERA",
         "E.S.E. HOSPITAL FRANCISCO ELADIO BARRERA",
         "52370594801",
         "890,905,097",
         "CL 36A # 29-55",
         "(6.489024, -75.395705)",
         "5748663737",
         "gerencia@hospitaldonmatias.gov.co"
        ],
        [
         "5240",
         "EBÉJICO",
         "Occidente",
         "DAVID ALONSO RESTREPO CASTRILLÓN",
         "Alcalde",
         "8562190 EXT 101-8562016",
         "alcaldia@ebejico-antioquia.gov.co",
         "EMPRESA SOCIAL DEL ESTADO  HOSPITAL SAN RAFAEL",
         "EMPRESA SOCIAL DEL ESTADO HOSPITAL SAN RAFAEL",
         "52400374401",
         "890,982,370",
         "BRR VEREDA FATIMA",
         "(6.325962, -75.767641)",
         "5748562681",
         "hospebejico@gmail.com"
        ],
        [
         "5250",
         "EL BAGRE",
         "Bajo Cauca",
         "MARCO FIDEL TRESPALACIO BULLOSO",
         "Alcalde",
         "8372429",
         "alcaldia@elbagre-antioquia.gov.co",
         "EMPRESA SOCIAL DEL ESTADO HOSPITAL NUESTRA SEÑORA DEL CARMEN",
         "ESE HOSPITAL NUESTRA SEÑORA DEL CARMEN",
         "52500213301",
         "800,138,311",
         "CL 50 # 46D-37",
         "(7.590835, -74.809856)",
         "5748372381",
         "bagrhs01@edatel.net.co"
        ],
        [
         "5264",
         "ENTRERRIOS",
         "Norte",
         "JULIO CÉSAR LOPERA POSADA",
         "Alcalde",
         "8670411-8670147-8670412",
         "alcaldia@entrerrios-antioquia.gov.co",
         "ESE HOSPITAL PRESBITERO EMIGDIO PALACIO",
         "ESE HOSPITAL PRESBITERO EMIGDIO PALACIO",
         "52640230901",
         "890,984,779",
         "TRANSVERSAL 13 CALLE 2-17",
         "(6.567066, -75.517965)",
         "5748670051",
         "entrhs01@edatel.net.co"
        ],
        [
         "5266",
         "ENVIGADO",
         "Valle de Aburra",
         "RAÚL EDUARDO CARDONA GONZÁLEZ",
         "Alcalde",
         "3394000 - 3394017  - 3394018",
         "alcaldia@envigado.gov.co",
         "E.S.E. HOSPITAL MANUEL URIBE ANGEL",
         "ESE HOSPITAL MANUEL URIBE ANGEL",
         "52660491001",
         "890,906,347",
         "DG 31 # 36 A SUR - 80",
         "(6.166892, -75.580128)",
         "5742703511",
         "radicacion@hospitalmua.gov.co"
        ],
        [
         "5282",
         "FREDONIA",
         "Suroeste",
         "ALDUBAR DE JESÚS VANEGAS MARÍN",
         "Alcalde",
         "8401264-8401026-8402096-8401393-8402334",
         "alcaldia@fredonia-antioquia.gov.co",
         "E.S.E. HOSPITAL DE SANTA LUCIA",
         "E.S.E. HOSPITAL SANTA LUCIA",
         "52820217101",
         "890,980,181",
         "CL 69 # 50-220 VEREDA EL EDEN",
         "(5.932994, -75.679965)",
         "5748401101",
         "esefredonia@gmail.com"
        ],
        [
         "5306",
         "GIRALDO",
         "Occidente",
         "MARÍA CAMILA MANCO SUÁREZ",
         "Alcaldesa",
         "8571107 Ext 108-8571106",
         "alcaldia@giraldo-antioquia.gov.co",
         "E.S.E. HOSPITAL SAN ISIDRO",
         "E.S.E. HOSPITAL SAN ISIDRO",
         "53060447701",
         "800,193,392",
         "CALLE SANTANDER",
         "(6.681158, -75.953248)",
         "3146494249 - 8571325",
         "esehospitalsanisidro@gmail.com"
        ],
        [
         "5308",
         "GIRARDOTA",
         "Valle de Aburra",
         "KEVIN RENÉ BERNAL MORALES",
         "Alcalde",
         "4054200 Ext 102-4052050",
         "contactenos@girardota.gov.co",
         "E.S.E. HOSPITAL SAN RAFAEL",
         "E.S.E. HOSPITAL SAN RAFAEL",
         "53080610401",
         "890,980,727",
         "KR 16 # 11-01",
         "(6.375113, -75.449558)",
         "0514052440 ext:115 102 113",
         "laboratoriohsrg@gmail.com"
        ],
        [
         "5310",
         "GÓMEZ PLATA",
         "Norte",
         "LUIS GUILLERMO PÉREZ ECHEVERRI",
         "Alcalde",
         "8627704-8627806-8627522",
         "alcaldia@gomezplata-antioquia.gov.co",
         "E.S.E. HOSPITAL SANTA ISABEL",
         "E.S.E. HOSPITAL SANTA ISABEL",
         "53100501501",
         "890,902,151",
         "KR 52 # 48-47",
         "(6.679196, -75.221613)",
         "862 82 00",
         "gerencia@esehospitalsantaisabel.gov.co"
        ],
        [
         "5315",
         "GUADALUPE",
         "Norte",
         "JOSÉ FERNANDO SALAZAR OSPINA",
         "Alcalde",
         "8616440 Ext 103 - 8616066",
         "alcaldia@guadalupe-antioquia.gov.co",
         "E.S.E. NUESTRA SEÑORA DE GUADALUPE",
         "E.S.E. HOSPITAL NUESTRA SEÑORA DE GUADALUPE",
         "53150458601",
         "890,981,690",
         "CL 50 # 51-12",
         "(6.814711, -75.241542)",
         "5748616110",
         "hospitalguadalupe@gmail.com"
        ],
        [
         "5318",
         "GUARNE",
         "Oriente",
         "DIEGO MAURICIO GRISALES GALLEGO",
         "Alcalde",
         "5510025-5511026-5510044-5511733",
         "alcaldia@guarne-antioquia.gov.co",
         "E.S.E. NUETRA SEÑORA DE LA CANDELARIA",
         "E.S.E. NUETRA SEÑORA DE LA CANDELARIA",
         "53180243601",
         "890,981,719",
         "KR 52 # 52-177",
         "(6.281456, -75.445352)",
         "(054)551 13 13 - 576 70 90",
         "gerencia@hospitalguarne.com"
        ],
        [
         "5321",
         "GUATAPE",
         "Oriente",
         "DAVID ESTEBAN FRANCO VALLEJO",
         "Alcalde",
         "8610539-8610555 Ext 12",
         "alcaldia@guatape-antioquia.gov.co",
         "E.S.E. HOSPITAL LA INMACULADA",
         "E.S.E. HOSPITAL LA INMACULADA",
         "53210442901",
         "890,981,817",
         "KR 23A # 31-35",
         "(6.232029, -75.156559)",
         "8610800 - 3016242530 - 3122590939",
         "gerencia@hospitalguatape.com"
        ],
        [
         "5347",
         "HELICONIA",
         "Occidente",
         "JORGE ALEXANDER ÁLVAREZ ARANGO",
         "Alcalde",
         "8549635 Ext 115",
         "alcaldia@heliconia-antioquia.gov.co",
         "EMPRESA SOCIAL DEL ESTADO HOSPITAL SAN RAFAEL",
         "EMPRESA SOCIAL DEL ESTADO HOSPITAL SAN RAFAEL",
         "53470219201",
         "890,981,074",
         "CL 22 B No 20-21",
         "(6.208224, -75.732622)",
         "5748549897",
         "eseheliconia@gmail.com"
        ],
        [
         "5353",
         "HISPANIA",
         "Suroeste",
         "ORLANDO ARTURO MARÍN ATEHORTUA",
         "Alcalde",
         "8432862-8432249",
         "alcaldia@hispania-antioquia.gov.co",
         "ESE HOSPITAL SAN JUAN DEL SUROESTE",
         "ESE HOSPITAL SAN JUAN DEL SUROESTE",
         "53530238101",
         "800,068,653",
         "CL 50 # 46-47",
         "(5.799986, -75.904745)",
         "3113798288",
         "facturacionhospitalhispania@gmail.com"
        ],
        [
         "5360",
         "ITAGUI",
         "Valle de Aburra",
         "DIEGO LEÓN TORRES SÁNCHEZ",
         "Alcalde",
         "3737676-3764879",
         "contactenos@itagui.gov.co",
         "E.S.E. HOSPITAL SAN RAFAEL DE ITAGUI",
         "E.S.E. HOSPITAL SAN RAFAEL DE ITAGUI",
         "53600433901",
         "890,980,066",
         "KR 51A # 45-51",
         "(6.171281, -75.613242)",
         "4482224",
         "gerencia@hsanrafael.gov.co"
        ],
        [
         "5361",
         "ITUANGO",
         "Norte",
         "JAVIER DE JESÚS PARIAS POSSO",
         "Alcalde",
         "8643020-8643174-8643175",
         "alcaldia@ituango-antioquia.gov.co",
         "E.S.E.  HOSPITAL SAN JUAN DE DIOS DE ITUANGO",
         "E.S.E.  HOSPITAL SAN JUAN DE DIOS DE ITUANGO",
         "53610450501",
         "890,980,840",
         "KR QUINDIO #  25-54",
         "(7.170186, -75.764535)",
         "5748643100",
         "notificacioneshospitalituango@gmail.com"
        ],
        [
         "5086",
         "BELMIRA",
         "Norte",
         "DARCY ESTEBAN ARBOLEDA RUA",
         "Alcalde",
         "8674030",
         "alcaldia@belmira-antioquia.gov.co",
         "EMPRESA SOCIAL DEL ESTADO HOSPITAL NUESTRA SEÑORA DEL ROSARIO",
         "EMPRESA SOCIAL DEL ESTADO HOSPITAL NUESTRA SEÑORA DEL ROSARIO",
         "50860550701",
         "890,982,065",
         "KR 19# 19 93",
         "(6.607103, -75.666736)",
         "5748674147",
         "gerencia@esehospital-belmira-antioquia.gov.co"
        ],
        [
         "5368",
         "JERICÓ",
         "Suroeste",
         "SEBASTIÁN GARCÉS PIEDRAHITA",
         "Alcalde",
         "8523101-8523502-8523665-8524278",
         "alcaldia@jerico-antioquia.gov.co",
         "NUEVA ESE HOSPITAL SAN RAFAEL JERICO",
         "NUEVA ESE HOSPITAL SAN RAFAEL JERICO",
         "53680483301",
         "890,980,765",
         "KR 5 # 9-157",
         "(5.789472, -75.787382)",
         "60485231656",
         "hospital@hospitalsanrafaeljerico.gov.co"
        ],
        [
         "5376",
         "LA CEJA",
         "Oriente",
         "MARÍA ILBED SANTA SANTA",
         "Alcaldesa",
         "5531414 Ext 101-114",
         "alcaldia@laceja-antioquia.gov.co",
         "E.S.E. HOSPITAL DE LA CEJA",
         "ESE HOSPITAL DE LA CEJA",
         "53760592601",
         "890,980,758",
         "CL 17 # 19-55",
         "(6.028307, -75.431319)",
         "5745531444",
         "hospitalceja@une.net.co"
        ],
        [
         "5380",
         "LA ESTRELLA",
         "Valle de Aburra",
         "CARLOS MARIO GUTIÉRREZ",
         "Alcalde",
         "3092687 - 2795841 - 2790058",
         "alcalde@laestrella.gov.co",
         "E.S.E. HOSPITAL LA ESTRELLA",
         "EMPRESA SOCIAL DEL ESTADO HOSPITAL LA ESTRELLA",
         "53800501601",
         "800,138,968",
         "CL 83 A SUR N° 60 - 45",
         "(6.157163, -75.64302)",
         "5743106070",
         "infohospital@eselaestrella.gov.co"
        ],
        [
         "5390",
         "LA PINTADA",
         "Suroeste",
         "HERMÁN ANTONIO CORREA BEDOYA",
         "Alcalde",
         "8453562-8454216",
         "alcaldia@lapintada-antioquia.gov.co",
         "EMPRESA SOCIAL DEL ESTADO HOSPITAL ANTONIO ROLDAN BETANCUR",
         "EMPRESA SOCIAL DEL ESTADO HOSPITAL ANTONIO ROLDAN BETANCUR",
         "53900509001",
         "811,013,792",
         "KR 30 # 30A - 45",
         "(5.740705, -75.606859)",
         "5748454063",
         "harbgerencia@gmail.com"
        ],
        [
         "5400",
         "LA UNIÓN",
         "Oriente",
         "CARMEN JUDITH VALENCIA MORENO",
         "Alcaldesa",
         "5560610-5560654-5560630",
         "alcaldia@launion-antioquia.gov.co",
         "E.S.E. HOSPITAL SAN ROQUE  LA UNION",
         "E.S.E. HOSPITAL SAN ROQUE",
         "54000242001",
         "890,980,866",
         "CL 2 # 11-54",
         "(5.967984, -75.359452)",
         "5745560619",
         "hospitallaunion890@gmail.com"
        ],
        [
         "5411",
         "LIBORINA",
         "Occidente",
         "NANCY AMPARO AVENDAÑO MORENO",
         "Alcaldesa",
         "8561865-8561113",
         "alcaldia@liborina-antioquia.gov.co",
         "EMPRESA SOCIAL DEL ESTADO HOSPITAL SAN LORENZO",
         "EMPRESA SOCIAL DEL ESTADO HOSPITAL SAN LORENZO",
         "54110157901",
         "890,982,139",
         "KR 13 # 6-21",
         "(6.676713, -75.814548)",
         "5748561826",
         "libohs01@edatel.net.co"
        ],
        [
         "5425",
         "MACEO",
         "Magdalena Medio",
         "CAROLINA ANDREA SOSA GÓMEZ",
         "Alcaldesa",
         "8640209-8640277-8640217",
         "alcaldia@maceo-antioquia.gov.co",
         "EMPRESA SOCIAL DEL ESTADO MARCO A. CARDONA",
         "EMPRESA SOCIAL DEL ESTADO HOSPITAL  MARCO A. CARDONA",
         "54250510501",
         "890,906,966",
         "KR 30 # 33-237",
         "(6.556282, -74.788297)",
         "5748640283",
         "archivo@hospitalmaceo.gov.co"
        ],
        [
         "5440",
         "MARINILLA",
         "Oriente",
         "JULIO CÉSAR SERNA GÓMEZ",
         "Alcalde",
         "5484410-5484101-5484884-5480265",
         "alcaldia@marinilla-antioquia.gov.co",
         "E.S.E. SAN JUAN DE DIOS DE MARINILLA",
         "E.S.E. SAN JUAN DE DIOS DE MARINILLA",
         "54400527301",
         "890,980,752",
         "KR 36 # 28-85",
         null,
         "5745484044",
         "gerencia@hospitalmarinilla.com"
        ],
        [
         "5467",
         "MONTEBELLO",
         "Suroeste",
         "ÓSCAR ERNESTO CUERVO VILLADA",
         "Alcalde",
         "8480564 Ext 103-8480561",
         "alcaldia@montebello-antioquia.gov.co",
         "E.S.E. HOSPITAL SAN ANTONIO DE MONTEBELLO",
         "E.S.E. HOSPITAL SAN ANTONIO",
         "54670396201",
         "890,981,096",
         "CL 18 # 18-85",
         "(5.948656, -75.52304)",
         "5748480559",
         "hospisanantonio@esemontebello.gov.co"
        ],
        [
         "5475",
         "MURINDÓ",
         "Uraba",
         "EMPERATRIZ MENA PALACIO",
         "Alcaldesa",
         "8575015-8575021-8575085-8575041 8575017",
         "alcaldia@murindo-antioquia.gov.co",
         "ESE HOSPITAL SAN BARTOLOMÉ",
         "ESE HOSPITAL SAN BARTOLOMÉ",
         "54750502001",
         "800,165,050",
         "CL 2 # 14 - 20",
         "(6.980954, -76.821213)",
         "8575093",
         "hospitalmurindo@hotmail.com"
        ],
        [
         "5480",
         "MUTATÁ",
         "Uraba",
         "JAIRO ENRIQUE ORTIZ PALACIOS",
         "Alcalde",
         "8578602-8578812-8578799-8578663-8578113-8578740",
         "alcaldia@mutata-antioquia.gov.co",
         "E.S.E. HOSPITAL LA ANUNCIACION",
         "E.S.E. HOSPITAL LA ANUNCIACION",
         "54800491601",
         "890,981,268",
         "KR 10 # 10-08",
         "(7.247664, -76.439309)",
         "8578700 - 8578100",
         "hospital@eselaanunciacion-mutata-antioquia.gov.co"
        ],
        [
         "5483",
         "NARIÑO",
         "Oriente",
         "ÉRIKA CARDONA PÉREZ",
         "Alcaldesa",
         "8680077-8680113-8680084-8680117-8680259",
         "alcaldia@narino-antioquia.gov.co",
         "E.S.E. HOSPITAL SAN JOAQUIN",
         "E.S.E. HOSPITAL SAN JOAQUIN",
         "54830592801",
         "890,981,652",
         "Calle13 No 6-33",
         "(5.609793, -75.174637)",
         "8680109 8680273 8680363",
         "admonesesanjoaquin@gmail.com"
        ],
        [
         "5490",
         "NECOCLÍ",
         "Uraba",
         "GUILLERMO JOSÉ CARDONA MORENO",
         "Alcalde",
         "8214166-8214564-8215039",
         "alcaldia@necocli-antioquia.gov.co",
         "E.S.E. HOSPITAL SAN SEBASTIAN DE URABA",
         "E.S.E. HOSPITAL SAN SEBASTIAN DE URABÁ",
         "54900481101",
         "890,985,603",
         "CL 50 # 36 - 37 KM 2 VIA TURBO",
         "(8.424319, -76.78393)",
         "5748214546",
         "neyderpupo@hospitalnecocli.gov.co"
        ],
        [
         "5495",
         "NECHÍ",
         "Bajo Cauca",
         "YUMARIS PATRICIA HENRÍQUEZ BANQUET",
         "Alcaldesa",
         "8368156-8680204",
         "alcaldia@nechi-antioquia.gov.co",
         "ESE HOSPITAL LA MISERICORDIA",
         "ESE HOSPITAL LA MISERICORDIA",
         "54950491501",
         "800,138,011",
         "CL LA MISERICORDIA",
         "(8.092287, -74.781103)",
         "5748368053",
         "gerencia@hospitalnechi.gov.co"
        ],
        [
         "5501",
         "OLAYA",
         "Occidente",
         "JESÚS DAVID HERNÁNDEZ LONDOÑO",
         "Alcalde",
         "8550117-8550116-8550119-8550221",
         "alcaldia@olaya-antioquia.gov.co",
         "ESE HOSPITAL SAN MIGUEL",
         "ESE HOSPITAL SAN MIGUEL",
         "55010556901",
         "800,202,398",
         "KR 10 # 10 - 34",
         "(6.613513, -75.764862)",
         "8550359",
         "siauhso@gmail.com"
        ],
        [
         "5541",
         "PEÑOL",
         "Oriente",
         "SANDRA ARELIS DUQUE VELÁSQUEZ",
         "Alcaldesa",
         "8515855-8515851-8515944",
         "alcaldia@elpenol-antioquia.gov.co",
         "EMPRESA SOCIAL DEL ESTADO HOSPITAL SAN JUAN DE DIOS",
         "E.S.E HOSPITAL SAN JUAN DE DIOS",
         "55410197901",
         "890,980,486",
         "TV 7A # 11-84",
         "(6.216002, -75.238819)",
         "5748515750",
         "gerencia@esesanjuandedios-penol-antioquia.gov.co"
        ],
        [
         "5543",
         "PEQUE",
         "Occidente",
         "EMILSON DE JESÚS HERNÁNDEZ HERNÁNDEZ",
         "Alcalde",
         "8552043-8552213-8552136",
         "alcaldia@peque-antioquia.gov.co",
         "E.S.E. HOSPITAL SAN FRANCISCO",
         "E.S.E. HOSPITAL SAN FRANCISCO",
         "55430629901",
         "890,983,675",
         "KR BOLIVAR # 11-170",
         null,
         "6048552045 - 6048552132",
         "gerencia@hospitalpeque.gov.co"
        ],
        [
         "5576",
         "PUEBLORRICO",
         "Suroeste",
         "CRISTIAN CAMILO ZAPATA RAMÍREZ",
         "Alcalde",
         "8498865-8498020-8498324",
         "alcalde@pueblorrico-antioquia.gov.co",
         "E.S.E. HOSPITAL SAN VICENTE DE PAUL DE PUEBLO RICO",
         "E.S.E. HOSPITAL SAN VICENTE DE PAUL",
         "55760592901",
         "890,981,532",
         "CL 32 #  26A-38",
         "(5.793464, -75.838787)",
         "8498080-8498326-8499054",
         "hospitalpueblorrico@gmail.com"
        ],
        [
         "5579",
         "PUERTO BERRÍO",
         "Magdalena Medio",
         "ROBINSON ALBERTO BAENA ZULUAGA",
         "Alcalde",
         "8332120-8332517 Ext 205",
         "alcaldia@puertoberrio-antioquia.gov.co",
         "EMPRESA SOCIAL DEL ESTADO HOSPITAL LA CRUZ",
         "E.S.E HOSPITAL LA CRUZ",
         "55790607001",
         "890,980,063",
         "KR 7 # 48-03",
         "(6.488732, -74.404202)",
         "5748332490",
         "pberhs01@edatel.net.co"
        ],
        [
         "5585",
         "PUERTO NARE",
         "Magdalena Medio",
         "JUAN CARLOS ACEVEDO ALZATE",
         "Alcalde",
         "8347047-8346201",
         "alcaldia@puertonare-antioquia.gov.co",
         "EMPRESA SOCIAL DEL ESTADO HOSPITAL OCTAVIO OLIVARES",
         "EMPRESA SOCIAL DEL ESTADO HOSPITAL OCTAVIO OLIVARES",
         "55850472501",
         "890,985,810",
         "KR 5 # 45-103",
         "(6.18466, -74.583856)",
         "5748347208",
         "pnarehoo@gmail.com - hoogerencia@gmail.com"
        ],
        [
         "5591",
         "PUERTO TRIUNFO",
         "Magdalena Medio",
         "FRANKLIN PORTILLO GÓMEZ",
         "Alcalde",
         "8352025-8352117-8352566",
         "alcaldia@puertotriunfo-antioquia.gov.co",
         "ESE HOSPITAL LA PAZ",
         "ESE HOSPITAL LA PAZ",
         "55910421901",
         "800,072,678",
         "CL 14 # 10 - 25",
         "(5.872305, -74.64018)",
         "5748352098",
         "ptrihs01@edatel.net.co"
        ],
        [
         "5604",
         "REMEDIOS",
         "Nordeste",
         "ALBEIRO ARENAS MOLINA",
         "Alcalde",
         "8303130-8303078-8303791-8303130",
         "alcaldia@remedios-antioquia.gov.co",
         "EMPRESA SOCIAL DEL ESTADO HOSPITAL SAN VICENTE DE PAUL",
         "EMPRESA SOCIAL DEL ESTADO HOSPITAL SAN VICENTE DE PAUL",
         "56040550901",
         "890,985,092",
         "CL LAS PALMAS # 12 - 120",
         "(7.07385, -74.697847)",
         "8303727 8303899 8303471",
         "info@hsvpremedios.gov.co"
        ],
        [
         "5607",
         "RETIRO",
         "Oriente",
         "SANTIAGO MONTOYA GIRALDO",
         "Alcalde",
         "5411860-5410175-5413067-5410180-5410190",
         "alcaldia@elretiro.gov.co",
         "E.S.E. HOSPITAL SAN JUAN DE DIOS DEL RETIRO",
         "E.S.E. HOSPITAL SAN JUAN DE DIOS DEL RETIRO",
         "56070238301",
         "890,982,124",
         "CL 18 # 21-103",
         "(6.05621, -75.503709)",
         "5745410055",
         "eseretiro@epm.net.co"
        ],
        [
         "5615",
         "RIONEGRO",
         "Oriente",
         "JORGE HUMBERTO RIVAS URREA",
         "Alcalde",
         "5204060",
         "alcaldia@rionegro.gov.co",
         "E.S.E. HOSPITAL SAN JUAN DE DIOS",
         "E.S.E. HOSPITAL SAN JUAN DE DIOS",
         "56150137601",
         "890,907,254",
         "KR 48 # 56-59",
         "(6.158646, -75.371353)",
         "945313700",
         "eserionegro@hsjdeserionegro.com"
        ],
        [
         "5628",
         "SABANALARGA",
         "Occidente",
         "CÉSAR ALONSO CUADROS GEORGE",
         "Alcalde",
         "8554201 - 8554154",
         "alcaldia@sabanalarga-antioquia.gov.co",
         "E.S.E. HOSPITAL SAN PEDRO",
         "E.S.E. HOSPITAL SAN PEDRO",
         "56280510701",
         "890,982,140",
         "KR 17 # 15-94",
         "(6.84718, -75.816565)",
         "6048554209",
         "gerencia@hspsabanalarga.gov.co"
        ],
        [
         "5631",
         "SABANETA",
         "Valle de Aburra",
         "ALDER JAMES CRUZ OCAMPO",
         "Alcalde",
         "2880098-2885294-4440088 Ext 102-2885634",
         "alcaldia@sabaneta.gov.co",
         "E.S.E. HOSPITAL VENANCIO DIAZ DIAZ",
         "E.S.E. HOSPITAL VENACIO DIAZ DIAZ",
         "56310220601",
         "800,123,106",
         "KR 46B # 77 SUR 36",
         "(6.148166, -75.621836)",
         "5742889701",
         "gerencia@hospitalsabaneta.gov.co"
        ],
        [
         "5642",
         "SALGAR",
         "Suroeste",
         "VÍCTOR RAÚL MAYA CEBALLOS",
         "Alcalde",
         "8442330-8442301-8442213-8442562",
         "alcaldia@salgar-antioquia.gov.co",
         "E.S.E. HOSPITAL SAN JOSE",
         "E.S.E. HOSPITAL SAN JOSE",
         "56420457601",
         "890,981,424",
         "CL 32A # 33-04",
         "(5.965121, -75.980536)",
         "5748442020",
         "gerencia@hsjsalgar.gov.co"
        ],
        [
         "5652",
         "SAN FRANCISCO",
         "Oriente",
         "ARTURO ALEXANDER ARIAS DUQUE",
         "Alcalde",
         "8323030 - 8323236",
         "alcaldia@sanfrancisco-antioquia.gov.co",
         "EMPRESA SOCIAL DEL ESTADO HOSPITAL SAN FRANCISCO DE ASIS",
         "EMPRESA SOCIAL DEL ESTADO HOSPITAL SAN FRANCISCO DE ASIS",
         "56520601601",
         "800,133,887",
         "Carrera 10 No 9 -09",
         "(5.964372, -75.100077)",
         "8323027",
         "gerencia@esehospitaldesanfrancisco-antioquia.gov.co"
        ],
        [
         "5656",
         "SAN JERÓNIMO",
         "Occidente",
         "DONALDO FERNÁN VIVARES GALLEGO",
         "Alcalde",
         "8582024-8582580-8582162-8582123",
         "alcaldia@sanjeronimo-antioquia.gov.co",
         "E.S.E. HOSPITAL SAN LUIS BELTRAN",
         "E.S.E. HOSPITAL SAN LUIS BELTRAN",
         "56560509201",
         "890,981,848",
         "KR 10 # 23-08",
         "(6.444441, -75.729146)",
         "8585997",
         "gerencia@hospitaldesanjeronimo.gov.co"
        ],
        [
         "5660",
         "SAN LUIS",
         "Oriente",
         "CÉSAR ABAD BUITRAGO ARIAS",
         "Alcalde",
         "8348115-8348102-8348720-8348716",
         "contactenos@sanluis-antioquia.gov.co",
         "E.S.E. HOSPITAL SAN RAFAEL DE SAN LUIS",
         "E.S.E. HOSPITAL SAN RAFAEL DE SAN LUIS",
         "56600227701",
         "890,982,091",
         "KR 19 #17-63",
         "(6.041148, -74.991914)",
         "5748348505",
         "gerencia@hospitaldesanluis.com.co"
        ],
        [
         "5664",
         "SAN PEDRO DE LOS MILAGROS",
         "Norte",
         "JOSÉ DANILO ÁLVAREZ RODRÍGUEZ",
         "Alcalde",
         "8687039-8205502-8205033",
         "alcaldia@sanpedrodelosmilagros-antioquia.gov.co",
         "E.S.E. HOSPITAL SANTA ISABEL",
         "E.S.E. HOSPITAL SANTA ISABEL",
         "56640448101",
         "800,014,405",
         "CL 43A #  52A-109",
         "(6.45668, -75.559802)",
         "5748687610",
         "hospital@esesantaisabel.gov.co"
        ],
        [
         "5667",
         "SAN RAFAEL",
         "Oriente",
         "EDUIN ANICENO GIRALDO QUINTANA",
         "Alcalde",
         "8586681-8586927-8586836-8586681",
         "alcaldia@sanrafael-antioquia.gov.co",
         "E.S.E. HOSPITAL PRESBITERO ALONSO MARIA GIRALDO",
         "ESE HOSPITAL PBRO ALONSO MARIA GIRALDO",
         "56670151201",
         "891,982,128",
         "KR 29 # 26-189",
         "(6.294397, -75.026343)",
         "5748586612",
         "gerencia@esepresbiteroalonso-sanrafael.gov.co"
        ],
        [
         "5670",
         "SAN ROQUE",
         "Nordeste",
         "LUIS ALEJANDRO VILLEGAS CANO",
         "Alcalde",
         "8656562-8656755-8656628",
         "alcaldia@sanroque-antioquia.gov.co",
         "E.S.E. HOSPITAL MUNICIPAL SAN ROQUE",
         "ESE HOSPITAL MUNICIPAL SAN ROQUE",
         "56700581401",
         "890,906,211",
         "CL 25 # 18-30",
         "(6.487918, -75.018205)",
         "5748656735",
         "esehospitalsr@gmail.com"
        ],
        [
         "5674",
         "SAN VICENTE FERRER",
         "Oriente",
         "NELSON DE JESÚS HENAO ZAPATA",
         "Alcalde",
         "8544938-8544212-8544154-8544856",
         "alcaldia@sanvicente-antioquia.gov.co",
         "E S E HOSPITAL MUNICIPIO DE SAN VICENTE",
         "E S E HOSPITAL MUNICIPIO DE SAN VICENTE",
         "56740479201",
         "890,983,738",
         "AV CARVAJAL # 31-36",
         "(6.282818, -75.332085)",
         "5748544100",
         "snvihs01@edatel.net.co"
        ],
        [
         "5679",
         "SANTA BÁRBARA",
         "Suroeste",
         "JORGE MARIO QUINTANA CAÑAVERAL",
         "Alcalde",
         "8461060-8463607-8464151-8464302",
         "alcaldia@santabarbara-antioquia.gov.co",
         "EMPRESA SOCIAL DEL ESTADO HOSPITAL SANTAMARIA",
         "EMPRESA SOCIAL DEL ESTADO HOSPITAL SANTAMARIA",
         "56790458201",
         "890,905,198",
         "KR 50 # 45 90",
         "(5.87398, -75.565225)",
         "5748463131",
         "jorge.valencia@hospitalsantamaria.gov.co"
        ],
        [
         "5690",
         "SANTO DOMINGO",
         "Nordeste",
         "FABIO IGNACIO MIRA VALENCIA",
         "Alcalde",
         "8621069-8621101 Ext 103 - 8621313",
         "contactenos@santodomingo-antioquia.gov.co",
         "ESE HOSPITAL SAN RAFAEL DE SANTO DOMINGO",
         "ESE HOSPITAL SAN RAFAEL",
         "56900483701",
         "890,906,560",
         "KR 16 # 18 29",
         "(6.474783, -75.162024)",
         "5748621155",
         "stdohs01@edatel.net.co"
        ],
        [
         "5697",
         "EL SANTUARIO",
         "Oriente",
         "MARTÍN ALBERTO DUQUE GALLO",
         "Alcalde",
         "5460080 Ext 101-5461172-5460201-5461362",
         "despachoalcaldia@elsantuario-antioquia.gov.co",
         "E.S.E. HOSPITAL SAN JUAN DE DIOS EL SANTUARIO",
         "E.S.E. HOSPITAL SAN JUAN DE DIOS EL SANTUARIO",
         "56970242701",
         "890,980,326",
         "CL 49 # 41-63",
         "(6.136576, -75.261921)",
         "5745460050",
         "cadsant@hospitalelsantuario.gov.co"
        ],
        [
         "5736",
         "SEGOVIA",
         "Nordeste",
         "EDWIN ALEXANDER CASTAÑEDA VAHOS",
         "Alcalde",
         "8314351-8315613-8317196-8314031",
         "alcaldia@segovia-antioquia.gov.co",
         "E.S.E. HOSPITAL SAN JUAN DE DIOS",
         "E.S.E. HOSPITAL SAN JUAN DE DIOS",
         "57360612501",
         "800,080,586",
         "CAMPAMENTO LA SALADA",
         "(7.079003, -74.693899)",
         "8317382 - 8315992",
         "gerencia@hospitaldesegovia.gov.co"
        ],
        [
         "5761",
         "SOPETRÁN",
         "Occidente",
         "TATIANA ALEXANDRA CARBALLO HOYOS",
         "Alcaldesa",
         "8541560 ext. 102 - 8541561",
         "alcaldia@sopetran-antioquia.gov.co",
         "EMPRESA SOCIAL DEL ESTADO HORACIO MUÑOZ SUESCUN",
         "EMPRESA SOCIAL DEL ESTADO HORACIO MUÑOZ SUESCUN",
         "57610561201",
         "890,982,184",
         "CL BENJAMIN HERRERA # 11 - 53",
         "(6.500707, -75.743845)",
         "5748541555",
         "gerencia@hospitalsopetranantioquia.gov.co"
        ],
        [
         "5789",
         "TÁMESIS",
         "Suroeste",
         "JUAN PABLO PÉREZ RÁMIREZ",
         "Alcalde",
         "8494595-8496010-",
         "alcaldia@tamesis-antioquia.gov.co",
         "EMPRESA SOCIAL DEL ESTADO HOSPITAL SAN JUAN DE DIOS",
         "E.S.E HOSPITAL SAN JUAN DE DIOS",
         "57890457901",
         "890,980,855",
         "KR 10 # 13 - 52",
         "(5.664982, -75.713031)",
         "5748494802",
         "hospital@tamesis-antioquia.gov.co"
        ],
        [
         "5790",
         "TARAZÁ",
         "Bajo Cauca",
         "YOMER FABIÁN ÁLVAREZ CORREA",
         "Alcalde",
         "8365628-8366288-8365817",
         "alcaldia@taraza-antioquia.gov.co",
         "E.S.E. HOSPITAL SAN ANTONIO",
         "E.S.E. HOSPITAL SAN ANTONIO",
         "57900551301",
         "890,984,696",
         "CL 26 # 32-1311",
         null,
         "5748365616",
         "gerenciahospitaltaraza@gmail.com"
        ],
        [
         "5792",
         "TARSO",
         "Suroeste",
         "HUGO ALEXANDER OCAMPO RÍOS",
         "Alcalde",
         "8458541-8458780-8458535-8458718-8458639-8458991",
         "alcaldia@tarso-antioquia.gov.co",
         "EMPRESA SOCIAL DEL ESTADO HOSPITAL SAN PABLO",
         "E.S.E SAN PABLO",
         "57920458701",
         "890,982,182",
         "KR 18 # 21 - 02",
         "(5.865957, -75.820945)",
         "5748458606",
         "hospitaltarso@gmail.com"
        ],
        [
         "5809",
         "TITIRIBÍ",
         "Suroeste",
         "ALEX DAVID RESTREPO SALAZAR",
         "Alcalde",
         "8482649-8482344-8482790",
         "alcaldia@titiribi-antioquia.gov.co",
         "ESE HOSPITAL SAN JUAN DE DIOS",
         "ESE HOSPITAL SAN JUAN DE DIOS",
         "58090434901",
         "890,980,346",
         "Kr Bolivar 18-55",
         "(6.062678, -75.791556)",
         "(4) 848 27 40",
         "hospitaltitiribi@hotmail.com"
        ],
        [
         "5819",
         "TOLEDO",
         "Norte",
         "JHONNY ALBERTO MARÍN MUÑETÓN",
         "Alcalde",
         "8619020 - 8619012",
         "alcaldia@toledo-antioquia.gov.co",
         "E.S.E. HOSPITAL PEDRO CLAVER AGUIRRE",
         "EMPRESA SOCIAL DEL ESTADO HOSPITAL PEDRO CLAVER AGUIRRE Y",
         "58190612301",
         "800,139,704",
         "CALLE 11 NUMERO 09-07",
         "(7.011666, -75.691509)",
         "8619061",
         "gerenciahpca@gmail.com"
        ],
        [
         "5837",
         "TURBO",
         "Uraba",
         "ALEJANDRO ABUCHAR GONZÁLEZ",
         "Alcalde",
         "8273273 Ext 11-8275159-8272140",
         "alcaldia@turbo-antioquia.gov.co",
         "EMPRESA SOCIAL DEL ESTADO HOSPITAL FRANCISCO VALDERRAMA",
         "EMPRESA SOCIAL DEL ESTADO HOSPITAL FRANCISCO VALDERRAMA",
         "58370228701",
         "890,981,137",
         "KM 1 SALIDA TURBO - APARTADO",
         "(8.094491, -76.714541)",
         "5748272088",
         "turbhs01@edatel.net.co"
        ],
        [
         "5842",
         "URAMITA",
         "Occidente",
         "LEONARDO ÚSUGA CORREA",
         "Alcalde",
         "8574062-8574066-8574131-8574240-8574169",
         "alcaldia@uramita-antioquia.gov.co",
         "EMPRESA SOCIAL DEL ESTADO HOSPITAL TOBIAS PUERTA",
         "EMPRESA SOCIAL DEL ESTADO HOSPITAL TOBIAS PUERTA",
         "58420643101",
         "800,065,395",
         "CL 20  # 22 170  BRR EL TOTUMO",
         "(6.902526, -76.174049)",
         "5748574048",
         "uramhs01@edatel.net.co"
        ],
        [
         "5847",
         "URRAO",
         "Suroeste",
         "NELSON JAVIER BARRERA HOLGUÍN",
         "Alcalde",
         "8502300-8502181-8502145-8502181",
         "alcaldia@urrao-antioquia.gov.co",
         "EMPRESA SOCIAL DEL ESTADO IVAN RESTREPO GOMEZ",
         "ESE HOSPITAL IVAN RESTREPO GOMEZ",
         "58470483901",
         "890,980,971",
         "KR 32 # 23-61",
         "(6.311033, -76.132915)",
         "8503898",
         "gerencia@hospitalurrao.gov.co"
        ],
        [
         "5854",
         "VALDIVIA",
         "Norte",
         "CARLOS DANOBER MOLINA BETANCUR",
         "Alcalde",
         "8360412-8360246-8360406-8360400-8360264",
         "alcaldia@valdivia-antioquia.gov.co",
         "EMPRESA SOCIAL DEL ESTADO HOSPITAL SAN JAUN DE DIOS VALDIVIA",
         "E.S.E HOSPITAL SAN JUAN DE DIOS DE VALDIVIA",
         "58540457701",
         "891,982,129",
         "KR 8 # 7 - 18",
         "(7.289894, -75.392647)",
         "5748360218",
         "esevaldivia@gmail.com"
        ],
        [
         "5856",
         "VALPARAÍSO",
         "Suroeste",
         "JOSÉ MARIO HERNÁNDEZ DEVIA",
         "Alcalde",
         "8493807-8493882-8492109",
         "alcaldia@valparaiso-antioquia.gov.co",
         "E.S.E. HOSPITAL SAN JUAN DE DIOS",
         "E.S.E. HOSPITAL SAN JUAN DE DIOS",
         "58560238201",
         "890,980,828",
         "CRA 12 NRO 6-31",
         "(5.614395, -75.624261)",
         "8493854",
         "admonesevalparaiso@gmail.com"
        ],
        [
         "5858",
         "VEGACHÍ",
         "Nordeste",
         "JOSÉ MARÍA OCHOA MUÑOZ",
         "Alcalde",
         "8305625-8305626-8305006-8305318",
         "alcaldia@vegachi-antioquia.gov.co",
         "E.S.E. HOSPITAL SAN CAMILO DE LELIS",
         "E.S.E. HOSPITAL SAN CAMILO DE LELIS",
         "58580629401",
         "800,114,286",
         "CALLE 49 # 40 - 209",
         "(6.762892, -74.788828)",
         "8305122/ 8305698/8305474 3103709160",
         "gerenciahospitalvegachi@gmail.com"
        ],
        [
         "5861",
         "VENECIA",
         "Suroeste",
         "FERNEY DARIO FERNÁNDEZ",
         "Alcalde",
         "8490042-8490023-8490052",
         "alcaldia@venecia-antioquia.gov.co",
         "E.S.E.  HOSPITAL SAN RAFAEL DE VENECIA",
         "ESE HOSPITAL SAN RAFAEL DE VENECIA",
         "58610145201",
         "890,980,367",
         "CL 52 # 50-82",
         "(5.965161, -75.735084)",
         "5748490313",
         "cad@hospitalvenecia.gov.co"
        ],
        [
         "5885",
         "YALÍ",
         "Nordeste",
         "JHON JAIRO GIRALDO POSADA",
         "Alcalde",
         "8675023-8675653-8675656",
         "alcaldia@yali-antioquia.gov.co",
         "E.S.E. HOSPITAL LA MISERICORDIA",
         "E.S.E. HOSPITAL LA MISERICORDIA",
         "58850211201",
         "890,982,162",
         "CL 18 # 23-24",
         "(6.673346, -74.842429)",
         "5748675655",
         "yalihs01@edatel.net.co"
        ],
        [
         "5887",
         "YARUMAL",
         "Norte",
         "CRISTIAN DAVID CÉSPEDES CORREA",
         "Alcalde",
         "8537429-8537430-8537429",
         "alcaldia@yarumal.gov.co",
         "E.S.E. HOSPITAL SAN JUAN DE DIOS YARUMAL",
         "E.S.E. HOSPITAL SAN JUAN DE DIOS YARUMAL",
         "58870228401",
         "890,981,726",
         "KR 23 # 12 - 13",
         "(6.957323, -75.414931)",
         "094 8 53 73 73",
         "cuentasmedicas@hospitalyarumal.gov.co"
        ],
        [
         "5890",
         "YOLOMBÓ",
         "Nordeste",
         "JESÚS AMADOR PÉREZ PALACIO",
         "Alcalde",
         "8654181-8654337-8654200-8655312",
         "alcaldia@yolombo-antioquia.gov.co",
         "EMPRESA SOCIAL DEL ESTADO HOSPITAL SAN RAFAEL DE YOLOMBO",
         "EMPRESA SOCIAL DEL ESTADO HOSPITAL SAN RAFAEL DE YOLOMBO",
         "58900243101",
         "890,981,536",
         "KR 24 # 13 - 466",
         "(6.597681, -75.017438)",
         "5748654859",
         "esehospitalyolombo@gmail.com"
        ],
        [
         "5893",
         "YONDÓ",
         "Magdalena Medio",
         "YERSON ANTONIO ARIZA RIVERA",
         "Alcalde",
         "8325109-8325461-8325025-8325212-8325111",
         "alcaldia@yondo-antioquia.gov.co",
         "ESE HOSPITAL HECTOR ABAD GOMEZ",
         "ESE HOSPITAL HECTOR ABAD GOMEZ",
         "58930322701",
         "800,014,884",
         "KR 58 # 47B-50",
         "(7.005532, -73.914267)",
         "5748325050",
         "esehectorabadgomez@hospitalyondo.gov.co"
        ],
        [
         "5895",
         "ZARAGOZA",
         "Bajo Cauca",
         "ANDRÉS EMILIO LUJAN MONROY",
         "Alcalde",
         "8388209-8388221-8388209-8388123",
         "alcaldia@zaragoza-antioquia.gov.co",
         "ESE HOSPITAL SAN RAFAEL",
         "ESE HOSPITAL SAN RAFAEL",
         "58950588401",
         "890,981,117",
         "Brr San Gregorio Diagonal Urbanización Miraflores",
         "(7.491112, -74.868221)",
         "5748389044",
         "zarahs01@edatel.net.co"
        ],
        [
         "5665",
         "SAN PEDRO DE URABA",
         "Uraba",
         "NEVER JACINTO CARVAJAL MIRANDA",
         "Alcalde",
         "8205502-8205503-8205033",
         "alcaldia@sanpedrodeuraba-antioquia.gov.co",
         "E.S.E. HOSPITAL OSCAR EMIRO VERGARA CRUZ",
         "E.S.E. HOSPITAL OSCAR EMIRO VERGARA CRUZ",
         "56650551401",
         "890,985,660",
         "CL 54 # 47 - 102",
         "(8.284117, -76.383648)",
         "5748205065",
         "gerencia@esehoevc.gov.co"
        ],
        [
         "5042",
         "SANTAFÉ DE ANTIOQUIA",
         "Occidente",
         "YAMID CARVAJAL CARVAJAL",
         "Alcalde",
         "8531136-8531793-8531152-8531841",
         "alcaldia@santafedeantioquia-antioquia.gov.co",
         "E.S.E. HOSPITAL SAN JUAN DE DIOS ANTIOQUIA",
         "E.S.E. HOSPITAL SAN JUAN DE DIOS ANTIOQUIA",
         "50420547801",
         "890,982,264",
         "CL 10 # 3-24",
         "(6.553647, -75.823157)",
         "5748531020",
         "info@esehospitalsantafedeantioquia.gov.co"
        ],
        [
         "5686",
         "SANTA ROSA DE OSOS",
         "Norte",
         "LUIS BERNADO MOLINA GRANDA",
         "Alcalde",
         "8608020-8608336-8608120-8608416",
         "alcaldia@santarosadeosos.gov.co",
         "E.S.E. HOSPITAL SAN JUAN DE DIOS DE SANTA ROSA DE OSOS",
         "E.S.E. HOSPITAL SAN JUAN DE DIOS DE SANTA ROSA DE OSOS",
         "56860464901",
         "890,981,298",
         "KR 28 # 26A-34",
         "(6.646108, -75.461059)",
         "5748609474",
         "stlo01@edatel.com.co"
        ],
        [
         "5647",
         "SAN ANDRÉS DE CUERQUÍA",
         "Norte",
         "JOSÉ FERNANDO CHAVARRÍA CHAVARRÍA",
         "Alcalde",
         "8618206-8618173-8618154-8618232",
         "alcaldia@sanandresdecuerquia-antioquia.gov.co",
         "EMPRESA SOCIAL DEL ESTADO GUSTAVO GONZALEZ OCHOA",
         "E.S.E GUSTAVO GONZALEZ OCHOA",
         "56470217401",
         "890,982,113",
         "BRR EL CRUCERO",
         "(6.914669, -75.675287)",
         "5748618101",
         "hospital.sanandresdecuerquia@gmail.com"
        ],
        [
         "5873",
         "VIGÍA DEL FUERTE",
         "Uraba",
         "JHOSELIN LOZANO MENA",
         "Alcalde",
         "8678080-8678034-8678175",
         "contactenos@vigiadelfuerte-antioquia.gov.co",
         "EMPRESA SOCIAL DEL ESTADO HOSPITAL ATRATO MEDIO ANTIOQUEÑO",
         "E.S.E HOSPITAL ATRATO MEDIO ANTIOQUEÑO",
         "58730436301",
         "811,020,943",
         "CRA 1°#20A-66 BARRIO PUERTO CARIBE",
         "(6.589922, -76.879578)",
         "5748678151",
         "esehama@esehama-vigiadelfuerte-antioquia.gov.co"
        ],
        [
         "5658",
         "SAN JOSÉ DE LA MONTAÑA",
         "Norte",
         "JULIÁN ANDRÉS GONZÁLEZ POSADA",
         "Alcalde",
         "8622714-8622904",
         "alcaldia@sanjosedelamontana-antioquia.gov.co",
         "E.S.E. HOSPITAL LAUREANO PINO",
         "E.S.E. HOSPITAL LAUREANO PINO",
         "56580559101",
         "890,984,427",
         "KR 21 # 15-11",
         "(6.847521, -75.681767)",
         "5748622663",
         "hospitallaureanopino@gmail.com, snmohs01@edatel.net.co,"
        ],
        [
         "5659",
         "SAN JUAN DE URABÁ",
         "Uraba",
         "LUIS FERNANDO RUIZ DÍAZ",
         "Alcalde",
         "8212100 Ext 108-8212375-8212630-8208100",
         "alcaldia@sanjuandeuraba-antioquia.gov.co",
         "E.S.E. HOSPITAL HECTOR ABAD GOMEZ",
         "E.S.E. HOSPITAL HECTOR ABAD GOMEZ",
         "56590215901",
         "800,143,438",
         "KR 20 # 24-20",
         "(8.762896, -76.525698)",
         "8212626- 8212627",
         "contactenos@esehhagsanjuandeuraba-antioquia.gov.co"
        ],
        [
         "5148",
         "EL CARMEN DE VIBORAL",
         "Oriente",
         "HUGO ALFONSO JÍMENEZ CUERVO",
         "Alcalde",
         "5432000 Ext 129 - 5432467-5432116-5432020-5432149",
         "alcaldia@elcarmendeviboral-antioquia.gov.co",
         "E.S.E. HOSPITAL SAN JUAN DE DIOS DEL CARMEN DE VIBORAL",
         "E.S.E. HOSPITAL SAN JUAN DE DIOS",
         "51480431001",
         "890,907,279",
         "KR 31 # 19-58",
         "(6.075086, -75.331621)",
         "5745434343",
         "gerencia@hospitalcarmenv.gov.co"
        ],
        [
         "5649",
         "SAN CARLOS",
         "Oriente",
         "SANTIAGO DAZA ESPINOSA",
         "Alcalde",
         "8358090-8358051-8358253-8358066",
         "alcaldia@sancarlos-antioquia.gov.co",
         "E.S.E. HOSPITAL SAN VICENTE DE PAUL SAN CARLOS",
         "E.S.E. HOSPITAL SAN VICENTE DE PAUL",
         "56490398301",
         "890,981,561",
         "CL 21 # 24-58",
         "(6.187542, -74.996393)",
         "5748358794",
         "gerencia@hsvpsancarlos.gov.co"
        ],
        [
         "5284",
         "FRONTINO",
         "Occidente",
         "LUZ GABRIELA RIVERA CANO",
         "Alcaldesa",
         "8595032 Ext 0-8595037-8595835",
         "alcaldia@frontino-antioquia.gov.co",
         "EMPRESA SOCIAL DEL ESTADO HOSPITAL MARIA ANTONIA TORO DE ELEJALDE",
         "EMPRESA SOCIAL DEL ESTADO HOSPITAL MARIA ANTONIA TORO DE ELEJALDE",
         "52840217001",
         "890,906,991",
         "KR 27 # 31 - 38",
         "(6.780833, -76.126499)",
         "5748595050",
         "gerencia@hospitalfrontino.gov.co"
        ],
        [
         "5313",
         "GRANADA",
         "Oriente",
         "DANIEL ANDRÉS HOYOS YEPES",
         "Alcalde",
         "8320549 - 8320802",
         "alcalde@granada-antioquia.gov.co",
         "ESE HOSPITAL PADRE CLEMENTE GIRALDO",
         "ESE HOSPITAL PADRE CLEMENTE GIRALDO",
         "53130510901",
         "890,981,182",
         "CL 21 # 25-02",
         "(6.140427, -75.183778)",
         "8320102 8320742",
         "granhs00@gmail.com"
        ],
        [
         "5364",
         "JARDÍN",
         "Suroeste",
         "CLAUDIA YANETH NARANJO AGUDELO",
         "Alcaldesa",
         "8455550-8455684-8455520",
         "despachoalcalde@eljardin-antioquia.gov.co",
         "E.S.E HOSPITAL GABRIEL PELÁEZ MONTOYA",
         "E.S.E HOSPITAL GABRIEL PELÁEZ MONTOYA",
         "53640476801",
         "890,980,732",
         "CL 5 UNION # 1 24",
         "(5.602425, -75.821784)",
         "5748455555",
         "hospital@esehospitalgabrielpelaezmontoya.gov.co"
        ],
        [
         "5756",
         "SONSON",
         "Oriente",
         "JUAN DIEGO ZULUAGA PULGARÍN",
         "Alcalde",
         "8694444-8691296",
         "alcalde@sonson-antioquia.gov.co",
         "EMPRESA SOCIAL DEL ESTADO SAN JUAN DE DIOS",
         "EMPRESA SOCIAL DEL ESTADO SAN JUAN DE DIOS",
         "57560239401",
         "890,980,003",
         "CL 16 # 7 - 151",
         "(5.716899, -75.309005)",
         "8695050",
         "institucional@hospitalsonson.gov.co"
        ]
       ],
       "datasetInfos": [],
       "dbfsResultPath": null,
       "isJsonSchema": true,
       "metadata": {},
       "overflow": false,
       "plotOptions": {
        "customPlotOptions": {},
        "displayType": "table",
        "pivotAggregation": null,
        "pivotColumns": null,
        "xColumns": null,
        "yColumns": null
       },
       "removedWidgets": [],
       "schema": [
        {
         "metadata": "{}",
         "name": "codigo_municipio",
         "type": "\"string\""
        },
        {
         "metadata": "{}",
         "name": "nombre_municipio",
         "type": "\"string\""
        },
        {
         "metadata": "{}",
         "name": "nombre_region",
         "type": "\"string\""
        },
        {
         "metadata": "{}",
         "name": "nombre_alcalde",
         "type": "\"string\""
        },
        {
         "metadata": "{}",
         "name": "titulo_alcalde",
         "type": "\"string\""
        },
        {
         "metadata": "{}",
         "name": "telefono_alcalde",
         "type": "\"string\""
        },
        {
         "metadata": "{}",
         "name": "email_alcalde",
         "type": "\"string\""
        },
        {
         "metadata": "{}",
         "name": "razon_social_hospital",
         "type": "\"string\""
        },
        {
         "metadata": "{}",
         "name": "nombre_hospital",
         "type": "\"string\""
        },
        {
         "metadata": "{}",
         "name": "codigo_habilitacion",
         "type": "\"string\""
        },
        {
         "metadata": "{}",
         "name": "nit_hospital",
         "type": "\"string\""
        },
        {
         "metadata": "{}",
         "name": "direccion_hospital",
         "type": "\"string\""
        },
        {
         "metadata": "{}",
         "name": "coordenadas_hospital",
         "type": "\"string\""
        },
        {
         "metadata": "{}",
         "name": "telefono_hospital",
         "type": "\"string\""
        },
        {
         "metadata": "{}",
         "name": "email_hospital",
         "type": "\"string\""
        }
       ],
       "type": "table"
      }
     },
     "output_type": "display_data"
    }
   ],
   "source": [
    "%sql\n",
    "\n",
    "/* Query the created temp table in a SQL cell */\n",
    "CREATE TABLE municipios_info AS\n",
    "SELECT m.codigo_municipio, m.nombre_municipio, h.nombre_region, a.nombre_alcalde, a.titulo_alcalde, a.telefono_alcalde, a.email_alcalde, h.razon_social_hospital, h.nombre_hospital, h.codigo_habilitacion, h.nit_hospital, h.direccion_hospital, h.coordenadas_hospital, h. telefono_hospital, h.email_hospital\n",
    "FROM municipios_csv m\n",
    "LEFT JOIN alcaldes_csv a ON m.codigo_municipio = a.codigo_municipio\n",
    "LEFT JOIN hospitales_csv h ON  m.codigo_municipio = h.codigo_municipio\n"
   ]
  },
  {
   "cell_type": "markdown",
   "metadata": {
    "application/vnd.databricks.v1+cell": {
     "cellMetadata": {},
     "inputWidgets": {},
     "nuid": "0681badd-ec24-409e-9de1-a3f6e43f5301",
     "showTitle": false,
     "title": ""
    }
   },
   "source": [
    "## Resultado de la tabla"
   ]
  },
  {
   "cell_type": "code",
   "execution_count": 0,
   "metadata": {
    "application/vnd.databricks.v1+cell": {
     "cellMetadata": {
      "byteLimit": 2048000,
      "implicitDf": true,
      "rowLimit": 10000
     },
     "inputWidgets": {},
     "nuid": "d8fcb42c-648b-4244-9047-9d5faf9367ac",
     "showTitle": false,
     "title": ""
    }
   },
   "outputs": [
    {
     "output_type": "display_data",
     "data": {
      "text/html": [
       "<style scoped>\n",
       "  .table-result-container {\n",
       "    max-height: 300px;\n",
       "    overflow: auto;\n",
       "  }\n",
       "  table, th, td {\n",
       "    border: 1px solid black;\n",
       "    border-collapse: collapse;\n",
       "  }\n",
       "  th, td {\n",
       "    padding: 5px;\n",
       "  }\n",
       "  th {\n",
       "    text-align: left;\n",
       "  }\n",
       "</style><div class='table-result-container'><table class='table-result'><thead style='background-color: white'><tr><th>codigo_municipio</th><th>nombre_municipio</th><th>nombre_region</th><th>nombre_alcalde</th><th>titulo_alcalde</th><th>telefono_alcalde</th><th>email_alcalde</th><th>razon_social_hospital</th><th>nombre_hospital</th><th>codigo_habilitacion</th><th>nit_hospital</th><th>direccion_hospital</th><th>coordenadas_hospital</th><th>telefono_hospital</th><th>email_hospital</th></tr></thead><tbody><tr><td>5001</td><td>MEDELLÍN</td><td>Valle de Aburra</td><td>FEDERICO GUTIÉRREZ ZULUAGA</td><td>Alcalde</td><td>4444144-3855208-3855209</td><td>federico.gutierrez@medellin.gov.co</td><td>EMPRESA SOCIAL DEL ESTADO HOSPITAL GENERAL DE MEDELLIN LUZ CASTRO DE GUTIERREZ</td><td>EMPRESA SOCIAL DEL ESTADO HOSPITAL GENERAL DE MEDELLIN LUZ CASTRO DE GUTIERREZ</td><td>50010214401</td><td>890,904,647</td><td>KR 48 # 32-102</td><td>(6.23477, -75.572848)</td><td>3847302</td><td>gestioncalidad@hgm.gov.co</td></tr><tr><td>5002</td><td>ABEJORRAL</td><td>Oriente</td><td>MANUEL ALBERTO GUZMÁN MARÍN</td><td>Alcalde</td><td>8647611-8647384 Ext 102 - 8647182-8647004)</td><td>alcalde@abejorral-antioquia.gov.co</td><td>E.S.E HOSPITAL SAN JUAN DE DIOS DE ABEJORRAL</td><td>HOSPITAL SAN JUAN DE DIOS ABEJORRAL</td><td>50020436001</td><td>890,980,643</td><td>CL Circular X Kr Calibio</td><td>(5.788458, -75.426663)</td><td>5748647181</td><td>abejhs01@gmail.com</td></tr><tr><td>5004</td><td>ABRIAQUÍ</td><td>Occidente</td><td>DANIEL ALBERTO SALAS GALLEGO</td><td>Alcalde</td><td>8520024-8520086-8520019-8520120</td><td>alcaldia@abriaqui-antioquia.gov.co</td><td>ESE HOSPITAL NUEVO HORIZONTE</td><td>ESE HOSPITAL NUEVO HORIZONTE</td><td>50040588001</td><td>811,032,722</td><td>CL 9A # 12-59</td><td>(6.632296, -76.067405)</td><td>3104323014</td><td>ese@abriaqui-antioquia.gov.co</td></tr><tr><td>5021</td><td>ALEJANDRÍA</td><td>Oriente</td><td>GLORIA CECILIA NARANJO OSORIO</td><td>Alcaldesa</td><td>8660102-8660016-866 0140-8660133</td><td>alcaldia@alejandria-antioquia.gov.co</td><td>ESE HOSPITAL PBRO LUIS FELIPE ARBELAEZ</td><td>ESE HOSPITAL PBRO LUIS FELIPE ARBELAEZ</td><td>50210509801</td><td>800,029,509</td><td>KR 19 # 16-70</td><td>(6.373932, -75.140366)</td><td>5748660077</td><td>hospitalalejandria@gmail.com</td></tr><tr><td>5030</td><td>AMAGÁ</td><td>Suroeste</td><td>WILSER DARÍO MOLINA MOLINA</td><td>Alcalde</td><td>8472122-8474920-8470126</td><td>alcaldia@amaga-antioquia.gov.co</td><td>E.S.E. HOSPITAL SAN FERNANDO</td><td>E.S.E. HOSPITAL SAN FERNANDO</td><td>50300437401</td><td>890,906,346</td><td>Cra 51 No 52 81</td><td>(6.040678, -75.704572)</td><td>5748300353</td><td>hospital@eseamaga-antioquia.gov.co</td></tr><tr><td>5031</td><td>AMALFI</td><td>Nordeste</td><td>WILMAR ALONSO VÉLEZ LONDOÑO</td><td>Alcalde</td><td>8301919 - 8300155</td><td>alcaldia@amalfi-antioquia.gov.co</td><td>E.S.E HOSPITAL EL CARMEN</td><td>E.S.E HOSPITAL EL CARMEN</td><td>50310209101</td><td>890,982,101</td><td>CL 23 # 23 - 40</td><td>(6.910925, -75.077171)</td><td>5748301803</td><td>gerencia@hospitalelcarmen-amalfi-antioquia.gov.co</td></tr><tr><td>5034</td><td>ANDES</td><td>Suroeste</td><td>GERMÁN ALEXANDER VÉLEZ OROZCO</td><td>Alcalde</td><td>8414101-8414619-8414291-8414652</td><td>alcaldia@andes-antioquia.gov.co</td><td>E.S.E. HOSPITAL SAN RAFAEL</td><td>E.S.E. HOSPITAL SAN RAFAEL</td><td>50340443201</td><td>890,980,814</td><td>AV MEDELLIN # 48-20</td><td>(5.653782, -75.877633)</td><td>5748414343</td><td>gestiondocumental@hospitaldeandes.gov.co</td></tr><tr><td>5036</td><td>ANGELÓPOLIS</td><td>Suroeste</td><td>JOSÉ LUIS MONTOYA QUICENO</td><td>Alcalde</td><td>8421948-8421793</td><td>alcaldia@angelopolis-antioquia.gov.co</td><td>NUEVA EMPRESA SOCIAL DEL ESTADO HOSPITAL LA MISERICORDIA</td><td>NUEVA E.S.E HOSPITAL LA MISERICORDIA</td><td>50360510801</td><td>890,980,959</td><td>CL 8 # 7-108</td><td>(6.111182, -75.708992)</td><td>5748421146</td><td>archivodocumental.es@eselamisericordia-angelopolis-antioquia.gov.co</td></tr><tr><td>5038</td><td>ANGOSTURA</td><td>Norte</td><td>VÍCTOR IGNACIO MEDINA GÓMEZ</td><td>Alcalde</td><td>8645161-8645046-8645162</td><td>alcaldia@angostura-antioquia.gov.co</td><td>E.S.E. EMPRESA SOCIAL DEL ESTADO HOSPITAL SAN RAFAEL DE  ANGOSTURA</td><td>E.S.E. EMPRESA SOCIAL DEL ESTADO HOSPITAL SAN RAFAEL</td><td>50380153801</td><td>890,982,183</td><td>Kr 10 # 16-1</td><td>(6.887402, -75.334797)</td><td>5748645099</td><td>ANGOHS01@EDATEL.NET.CO</td></tr><tr><td>5040</td><td>ANORÍ</td><td>Nordeste</td><td>GUSTAVO ALFREDO SILVA GUTIÉRREZ</td><td>Alcalde</td><td>8350842-8350404-8350449-8350849</td><td>alcaldia@anori-antioquia.gov.co</td><td>ESE HOSPITAL SAN JUAN DE DIOS DE ANORI</td><td>ESE HOSPITAL SAN JUAN DE DIOS DE ANORI</td><td>50400326101</td><td>890,982,138</td><td>CL ZEA (CALLE 30 CON CARRERA 29)</td><td>(7.072657, -75.145669)</td><td>5748350803</td><td>anorhs@hospitalanori.gov.co</td></tr><tr><td>5044</td><td>ANZA</td><td>Occidente</td><td>JUAN GUILLERMO HINCAPIÉ FIGUEROA</td><td>Alcalde</td><td>8522082-8522042-8522102</td><td>alcaldia@anza-antioquia.gov.co</td><td>E.S.E. HOSPITAL SAN FRANCISCO DE ASIS</td><td>E.S.E. HOSPITAL SAN FRANCISCO DE ASIS</td><td>50440501401</td><td>890,397,282</td><td>KR 8 # 7-29</td><td>null</td><td>5748522029</td><td>hospitalanza@hospitalanza.gov.co</td></tr><tr><td>5045</td><td>APARTADÓ</td><td>Uraba</td><td>HÉCTOR RANGEL PALACIOS RODRÍGUEZ</td><td>Alcalde</td><td>8280457-8281038-8282188</td><td>alcaldia@apartado.gov.co</td><td>EMPRESA SOCIAL DEL ESTADO HOSPITAL ANTONIO ROLDAN BETANCUR</td><td>EMPRESA SOCIAL DEL ESTADO HOSPITAL ANTONIO ROLDAN BETANCUR</td><td>50450214301</td><td>890,905,991</td><td>KR 98 # 106-176 BARRIO LA CHINITA</td><td>(7.887654, -76.628555)</td><td>5748283105</td><td>apartah01@edatel.net.co</td></tr><tr><td>5051</td><td>ARBOLETES</td><td>Uraba</td><td>ÁLVARO GONZÁLEZ ÁVILA</td><td>Alcalde</td><td>8200367-8200973-8201289-8200130</td><td>alcaldia@arboletes-antioquia.gov.co</td><td>E.S.E. HOSPITAL PEDRO NEL CARDONA</td><td>E.S.E. HOSPITAL PEDRO NEL CARMONA</td><td>50510232301</td><td>890,982,134</td><td>BARRIO EL DEPORTIVO</td><td>(8.851489, -76.421499)</td><td>948200026</td><td>secretaria@esehpncarboletes-antioquia.gov.co</td></tr><tr><td>5055</td><td>ARGELIA</td><td>Oriente</td><td>DIEGO ALEXANDER LÓPEZ GIRALDO</td><td>Alcalde</td><td>8650077-8650106-8650405-8650057</td><td>alcaldia@argelia-antioquia.gov.co</td><td>EMPRESA SOCIAL DEL ESTADO HOSPITAL SAN JULIAN</td><td>EMPRESA SOCIAL DEL ESTADO HOSPITAL SAN JULIAN</td><td>50550547901</td><td>890,981,851</td><td>CL 31 # 32-14</td><td>(5.731866, -75.144671)</td><td>8650000 - 3146182345</td><td>gerencia@hospitalsanjulian.gov.co</td></tr><tr><td>5059</td><td>ARMENIA</td><td>Occidente</td><td>MARTHA LIBIA PARRA GIL</td><td>Alcaldesa</td><td>8559015-8559064</td><td>alcaldia@armenia-antioquia.gov.co</td><td>EMPRES SOCIAL DEL ESTADO HOSPITAL SAN MARTIN DE PORRES</td><td>EMPRES SOCIAL DEL ESTADO HOSPITAL SAN MARTIN DE PORRES</td><td>50590550601</td><td>890,982,153</td><td>CL 11 # 6-69</td><td>(6.159244, -75.785966)</td><td>5748559352</td><td>hsmpgerencia@gmail.com</td></tr><tr><td>5079</td><td>BARBOSA</td><td>Valle de Aburra</td><td>JUAN DAVID ROJAS AGUDELO</td><td>Alcalde</td><td>4548300-4548311-4548311-4065441-4065441</td><td>alcaldia@barbosa.gov.co</td><td>ESE HOSPITAL SAN VICENTE DE PAUL</td><td>ESE HOSPITAL SAN VICENTE DE PAUL</td><td>50790407701</td><td>890,905,193</td><td>KR 17 # 10 - 34</td><td>(6.43651, -75.333209)</td><td>5744061341</td><td>esebarbosa@une.net.co</td></tr><tr><td>5088</td><td>BELLO</td><td>Valle de Aburra</td><td>YULIETH LORENA GONZÁLEZ OSPINA</td><td>Alcaldesa</td><td>604 79 44</td><td>contactenos@bello.gov.co</td><td>E.S.E. HOSPITAL MARCO FIDEL SUAREZ</td><td>EMPRESA SOCIAL DEL ESTADO HOSPITAL MARCO FIDEL SUAREZ</td><td>50880561801</td><td>890,985,703</td><td>CL 44 # 49B-90</td><td>(6.330313, -75.557731)</td><td>4547510</td><td>gerencia@hmfs.gov.co</td></tr><tr><td>5091</td><td>BETANIA</td><td>Suroeste</td><td>DIEGO ARLEY DE JESÚS GUERRA GUTIÉRREZ</td><td>Alcalde</td><td>8435127 Ext 105- 8435180</td><td>alcaldia@betania-antioquia.gov.co</td><td>E.S.E. HOSPITAL SAN ANTONIO DE BETANIA</td><td>E.S.E. HOSPITAL SAN ANTONIO DE BETANIA</td><td>50910457201</td><td>890,981,494</td><td>CL 20 # 26-173</td><td>(5.748156, -75.980673)</td><td>548435050</td><td>betahs01@gmail.com</td></tr><tr><td>5093</td><td>BETULIA</td><td>Suroeste</td><td>NÉSTOR CAMILO SERNA HERNÁNDEZ</td><td>Alcalde</td><td>8436093-8436157-8430631</td><td>alcaldia@betulia-antioquia.gov.co</td><td>E.S.E. HOSPITAL GERMAN VELEZ GUTIERREZ</td><td>E.S.E. HOSPITAL GERMAN VELEZ GUTIERREZ</td><td>50930237101</td><td>890,982,116</td><td>CL 21 # 15 - 20 SALIDA A MEDELLIN</td><td>(6.113337, -75.984712)</td><td>604 843 60 85</td><td>hospital@esebetulia-antioquia.gov.co</td></tr><tr><td>5101</td><td>CIUDAD BOLÍVAR</td><td>Suroeste</td><td>LEÓN DARÍO ACEVEDO VARGAS</td><td>Alcalde</td><td>8411183 Ext 12-8412552 - 8411144</td><td>alcaldia@ciudadbolivar-antioquia.gov.co</td><td>E.S.E. HOSPITAL LA MERCED DE CIUDAD BOLIVAR</td><td>E.S.E. HOSPITAL LA MERCED</td><td>51010213901</td><td>890,907,241</td><td>CL 49 # 36-298</td><td>(5.846031, -76.007988)</td><td>8411182</td><td>gerencia@hlamerced.gov.co</td></tr><tr><td>5107</td><td>BRICEÑO</td><td>Norte</td><td>NOÉ DE JESÚS ESPINOSA VÁSQUEZ</td><td>Alcalde</td><td>8570051-8570140</td><td>alcaldia@briceno-antioquia.gov.co</td><td>EMPRESA SOCIAL DEL ESTADO HOSPITAL EL SAGRADO CORAZON</td><td>ESE HOSPITAL EL SAGRADO CORAZON</td><td>51070231101</td><td>800,044,320</td><td>CL 11 # 8-31</td><td>(7.113115, -75.551047)</td><td>5748570099</td><td>brichs01@edatel.net.co</td></tr><tr><td>5113</td><td>BURITICÁ</td><td>Occidente</td><td>JOSÉ LUIS RODRÍGUEZ ÚSUGA</td><td>Alcalde</td><td>8527015-8527041</td><td>alcaldia@buritica-antioquia.gov.co</td><td>E.S.E. HOSPITAL SAN ANTONIO DE BURITICA</td><td>E.S.E. HOSPITAL SAN ANTONIO DE BURITICA</td><td>51130559601</td><td>890,983,843</td><td>CL 8 # 3-56</td><td>(6.719975, -75.907202)</td><td>948527035</td><td>hsaburitica@gmail.com</td></tr><tr><td>5120</td><td>CÁCERES</td><td>Bajo Cauca</td><td>DAMIANA MARÍA MONTERROSA PÉREZ</td><td>Alcaldesa</td><td>8362201-8362203-8362202</td><td>alcaldia@caceres-antioquia.gov.co</td><td>EMPRESA SOCIAL DEL ESTADO HOSPITAL ISABEL LA CATOLICA</td><td>EMPRESA SOCIAL DEL ESTADO HOSPITAL ISABEL LA CATOLICA</td><td>51200554701</td><td>890,982,430</td><td>KR 50 # 52-48</td><td>(7.581577, -75.347834)</td><td>5748362039</td><td>hospitalcaceres@gmail.com</td></tr><tr><td>5125</td><td>CAICEDO</td><td>Occidente</td><td>YÚBER FELIPE MOLINA MURILLO</td><td>Alcalde</td><td>8572002 Ext 103 - 8572134</td><td>alcaldia@caicedo-antioquia.gov.co</td><td>E.S.E. HOSPITAL GUILLERMO GAVIRIA CORREA</td><td>E.S.E. HOSPITAL GUILLERMO GAVIRIA CORREA</td><td>51250831301</td><td>800,037,244</td><td>KR 5 # 3-23</td><td>(6.404312, -75.982647)</td><td>5748572123</td><td>gerencia@hospitalcaicedo.gov.co</td></tr><tr><td>5129</td><td>CALDAS</td><td>Valle de Aburra</td><td>JORGE MARIO RENDÓN VÉLEZ</td><td>Alcalde</td><td>3788500 - 3788504 - 3788515 - 3788502</td><td>alcaldia@caldasantioquia.gov.co</td><td>E.S.E.  HOSPITAL SAN VICENTE DE PAUL DE CALDAS</td><td>E.S.E. HOSPITAL SAN VICENTE DE PAUL DE CALDAS</td><td>51290214601</td><td>890,907,215</td><td>KR 48 # 135S-41</td><td>(6.08673, -75.634566)</td><td>094- 3786301</td><td>hospicaldas@esehospicaldas.gov.co</td></tr><tr><td>5134</td><td>CAMPAMENTO</td><td>Norte</td><td>CRISTIÁN ÁNDRÉS AGUDELO POSADA</td><td>Alcalde</td><td>8614020-8614055-8614229</td><td>alcaldia@campamento-antioquia.gov.co</td><td>E.S.E. HOSPITAL LA SAGRADA FAMILIA</td><td>E.S.E. HOSPITAL LA SAGRADA FAMILIA</td><td>51340593001</td><td>890,985,457</td><td>CL BOLIVAR # 15-07</td><td>(6.979421, -75.299327)</td><td>094-8614112</td><td>hospitalcampamento@hotmail.com</td></tr><tr><td>5138</td><td>CAÑASGORDAS</td><td>Occidente</td><td>DIEGO ALONSO VANEGAS ARANGO</td><td>Alcalde</td><td>8564101-8564903-8564319</td><td>alcaldia@canasgordas-antioquia.gov.co</td><td>E.S.E. HOSPITAL SAN CARLOS</td><td>E.S.E. HOSPITAL SAN CARLOS</td><td>51380491401</td><td>890,980,784</td><td>KR 31 # 33-140</td><td>(6.750362, -76.02582)</td><td>5748564181</td><td>canahs01@edatel.net.co</td></tr><tr><td>5142</td><td>CARACOLÍ</td><td>Magdalena Medio</td><td>RODRIGO ALVEIRO CADAVID HERRERA</td><td>Alcalde</td><td>8336025 Ext 102-8336045</td><td>alcaldia@caracoli-antioquia.gov.co</td><td>HOSPITAL SAN PIO X</td><td>HOSPITAL SAN PIO X</td><td>51420410301</td><td>890,981,266</td><td>CL 21# 20-32</td><td>(6.411135, -74.754925)</td><td>5748336014</td><td>gerencia@esesanpioxcaracoli.gov.co</td></tr><tr><td>5145</td><td>CARAMANTA</td><td>Suroeste</td><td>JUAN ESTEBAN CORREA CÁRDENAS</td><td>Alcalde</td><td>8553354 - 8553414 - 8553310</td><td>alcaldia@caramanta-antioquia.gov.co</td><td>E.S.E. HOSPITAL SAN ANTONIO</td><td>E.S.E. HOSPITAL SAN ANTONIO</td><td>51450158501</td><td>890,981,163</td><td>KR 21 BOLIVAR # 16-33</td><td>(5.545532, -75.644077)</td><td>3128337704</td><td>gerenciaesecaramanta@hotmail.com</td></tr><tr><td>5147</td><td>CAREPA</td><td>Uraba</td><td>AGAPITO MURILLO PALACIOS</td><td>Alcalde</td><td>8239402- 8236706- 8236581-8237131</td><td>alcaldia@carepa-antioquia.gov.co</td><td>EMPRESA SOCIAL DEL ESTADO HOSPITAL FRANCISCO LUIS JIMENEZ MARTINEZ</td><td>E.S.E HOSPITAL FRANCISCO LUIS JIMENEZ MARTINEZ</td><td>51470631101</td><td>800,227,877</td><td>CL 70  # 68 - 03</td><td>(7.750753, -76.65483)</td><td>5748236548</td><td>gestiondocumental@hospitaldecarepa.gov.co</td></tr><tr><td>5150</td><td>CAROLINA</td><td>Norte</td><td>ANA ISABEL AVENDAÑO DUQUE</td><td>Alcaldesa</td><td>8634033-8634259 Ext 103 - 8434029</td><td>alcaldia@carolinadelprincipe-antioquia.gov.co</td><td>EMPRESA SOCIAL DEL ESTADO HOSPITAL SAN RAFAEL</td><td>EMPRESA SOCIAL DEL ESTADO HOSPITAL SAN RAFAEL</td><td>51500458401</td><td>890,906,344</td><td>CL 52 B # 54-70</td><td>(6.723214, -75.280809)</td><td>5748634045</td><td>carohs01@edatel.net.co</td></tr><tr><td>5154</td><td>CAUCASIA</td><td>Bajo Cauca</td><td>JHOAN ODERIS MONTES CORTÉS</td><td>Alcalde</td><td>8391595 - 8394444</td><td>alcaldia@caucasia-antioquia.gov.co</td><td>E.S.E. HOSPITAL CESAR URIBE PIEDARHITA</td><td>HOSPITAL CESAR URIBE PIEDARHITA</td><td>51540220101</td><td>890,980,757</td><td>Carrera 20 # 1A-100 Barrio El Man</td><td>(7.995211, -75.19809)</td><td>3201212</td><td>gerencia@hcup.gov.co</td></tr><tr><td>5172</td><td>CHIGORODÓ</td><td>Uraba</td><td>TULIA IRENE RUIZ GARCÍA</td><td>Alcaldesa</td><td>8253630 - 8253868 - 8255885</td><td>alcaldia@chigorodo-antioquia.gov.co</td><td>EMPRESA SOCIAL DEL ESTADO HOSPITAL MARIA AUXILIADORA</td><td>EMPRESA SOCIAL DEL ESTADO HOSPITAL MARIA AUXILIADORA</td><td>51720630501</td><td>890,980,997</td><td>KR 108 # 101 A - 57</td><td>(7.672513, -76.687805)</td><td>5748253191</td><td>admin@hospitalma.gov.co</td></tr><tr><td>5190</td><td>CISNEROS</td><td>Nordeste</td><td>LINA MARÍA CORREA VALENCIA</td><td>Alcaldesa</td><td>8631567</td><td>alcaldia@cisneros-antioquia.gov.co</td><td>EMPRESA SOCIAL DEL ESTADO HOSPITAL SAN ANTONIO</td><td>E.S.E HOSPITAL SAN ANTONIO</td><td>51900559201</td><td>890,980,444</td><td>CL 18 # 17-105</td><td>(6.537253, -75.088447)</td><td>8631847</td><td>gerencia@esesanantonio-cisneros-antioquia.gov.co</td></tr><tr><td>5197</td><td>COCORNÁ</td><td>Oriente</td><td>DAVID ALEJANDRO GÓMEZ HOYOS</td><td>Alcalde</td><td>8343404-8343425-8343096-8343529</td><td>alcaldia@cocorna-antioquia.gov.co</td><td>ESE HOSPITAL SAN JUAN DE DIOS DE COCORNA</td><td>ESE HOSPITAL SAN JUAN DE DIOS</td><td>51970559301</td><td>890,981,108</td><td>CL 21 # 23-45</td><td>(6.057621, -75.186546)</td><td>5748343685</td><td>gerencia@hospitaldecocorna.com</td></tr><tr><td>5206</td><td>CONCEPCIÓN</td><td>Oriente</td><td>ADRIÁN HENAO CARVAJAL</td><td>Alcalde</td><td>8567084-8567274-8567176-8567034</td><td>alcaldia@concepcion-antioquia.gov.co</td><td>ESE HOSPITAL JOSE MARIA CORDOBA</td><td>ESE HOSPITAL JOSE MARIA CORDOBA</td><td>52060478001</td><td>890,980,512</td><td>KR 19 # 19-83</td><td>(6.041964, -74.992971)</td><td>5748567024</td><td>administrador@esehospitaljosemariacordobaconcepcionantioquia.gov.co</td></tr><tr><td>5209</td><td>CONCORDIA</td><td>Suroeste</td><td>ALEXANDRA MARÍA HERRERA QUIJANO</td><td>Alcaldesa</td><td>8446089-8446101-8446275-8447492</td><td>alcaldia@concordia-antioquia.gov.co</td><td>E.S.E. HOSPITAL SAN JUAN DE DIOS DE CONCORDIA</td><td>E.S.E. HOSPITAL SAN JUAN DE DIOS</td><td>52090581901</td><td>89,090,797</td><td>KR 18 # 16-05</td><td>(6.045373, -75.904713)</td><td>844 77 24</td><td>hospitaldeconcordia@hospital-concordia.gov.co</td></tr><tr><td>5212</td><td>COPACABANA</td><td>Valle de Aburra</td><td>JOHNNATAN ANDRÉS PINEDA AGUDELO</td><td>Alcalde</td><td>2740069-2740041-2742582</td><td>alcaldia@copacabana.gov.co</td><td>E.S.E. HOSPITAL SANTA MARGARITA</td><td>E.S.E. HOSPITAL SANTA MARGARITA</td><td>52120230801</td><td>890,980,949</td><td>KR 64 Nº 48-80 La misericordia</td><td>(6.349485, -75.505182)</td><td>4802390 ext 176</td><td>gerencia@santamargarita.gov.co</td></tr><tr><td>5234</td><td>DABEIBA</td><td>Occidente</td><td>DANIEL HIGUITA HERRERA</td><td>Alcalde</td><td>8590300-8590475-8591234-8591293</td><td>alcaldia@dabeiba-antioquia.gov.co</td><td>EMPRESA SOCIAL DEL ESTADO HOSPITAL NUESTRA SEÑORA DEL PERPETUO SOCORRO</td><td>E.S.E HOSPITAL NUESTRA SEÑORA DEL PERPETUO SOCORRO</td><td>52340231401</td><td>890,984,670</td><td>KR URIBE URIBE # 622</td><td>(6.997737, -76.261725)</td><td>5748590045</td><td>gerencia@hospitaldabeiba.gov.co</td></tr><tr><td>5237</td><td>DONMATÍAS</td><td>Norte</td><td>JAVIER DARÍO LÓPEZ RESTREPO</td><td>Alcalde</td><td>8663243-8666230 Ext 109</td><td>alcaldia@donmatias-antioquia.gov.co</td><td>E.S.E. HOSPITAL FRANCISCO ELADIO BARRERA</td><td>E.S.E. HOSPITAL FRANCISCO ELADIO BARRERA</td><td>52370594801</td><td>890,905,097</td><td>CL 36A # 29-55</td><td>(6.489024, -75.395705)</td><td>5748663737</td><td>gerencia@hospitaldonmatias.gov.co</td></tr><tr><td>5240</td><td>EBÉJICO</td><td>Occidente</td><td>DAVID ALONSO RESTREPO CASTRILLÓN</td><td>Alcalde</td><td>8562190 EXT 101-8562016</td><td>alcaldia@ebejico-antioquia.gov.co</td><td>EMPRESA SOCIAL DEL ESTADO  HOSPITAL SAN RAFAEL</td><td>EMPRESA SOCIAL DEL ESTADO HOSPITAL SAN RAFAEL</td><td>52400374401</td><td>890,982,370</td><td>BRR VEREDA FATIMA</td><td>(6.325962, -75.767641)</td><td>5748562681</td><td>hospebejico@gmail.com</td></tr><tr><td>5250</td><td>EL BAGRE</td><td>Bajo Cauca</td><td>MARCO FIDEL TRESPALACIO BULLOSO</td><td>Alcalde</td><td>8372429</td><td>alcaldia@elbagre-antioquia.gov.co</td><td>EMPRESA SOCIAL DEL ESTADO HOSPITAL NUESTRA SEÑORA DEL CARMEN</td><td>ESE HOSPITAL NUESTRA SEÑORA DEL CARMEN</td><td>52500213301</td><td>800,138,311</td><td>CL 50 # 46D-37</td><td>(7.590835, -74.809856)</td><td>5748372381</td><td>bagrhs01@edatel.net.co</td></tr><tr><td>5264</td><td>ENTRERRIOS</td><td>Norte</td><td>JULIO CÉSAR LOPERA POSADA</td><td>Alcalde</td><td>8670411-8670147-8670412</td><td>alcaldia@entrerrios-antioquia.gov.co</td><td>ESE HOSPITAL PRESBITERO EMIGDIO PALACIO</td><td>ESE HOSPITAL PRESBITERO EMIGDIO PALACIO</td><td>52640230901</td><td>890,984,779</td><td>TRANSVERSAL 13 CALLE 2-17</td><td>(6.567066, -75.517965)</td><td>5748670051</td><td>entrhs01@edatel.net.co</td></tr><tr><td>5266</td><td>ENVIGADO</td><td>Valle de Aburra</td><td>RAÚL EDUARDO CARDONA GONZÁLEZ</td><td>Alcalde</td><td>3394000 - 3394017  - 3394018</td><td>alcaldia@envigado.gov.co</td><td>E.S.E. HOSPITAL MANUEL URIBE ANGEL</td><td>ESE HOSPITAL MANUEL URIBE ANGEL</td><td>52660491001</td><td>890,906,347</td><td>DG 31 # 36 A SUR - 80</td><td>(6.166892, -75.580128)</td><td>5742703511</td><td>radicacion@hospitalmua.gov.co</td></tr><tr><td>5282</td><td>FREDONIA</td><td>Suroeste</td><td>ALDUBAR DE JESÚS VANEGAS MARÍN</td><td>Alcalde</td><td>8401264-8401026-8402096-8401393-8402334</td><td>alcaldia@fredonia-antioquia.gov.co</td><td>E.S.E. HOSPITAL DE SANTA LUCIA</td><td>E.S.E. HOSPITAL SANTA LUCIA</td><td>52820217101</td><td>890,980,181</td><td>CL 69 # 50-220 VEREDA EL EDEN</td><td>(5.932994, -75.679965)</td><td>5748401101</td><td>esefredonia@gmail.com</td></tr><tr><td>5306</td><td>GIRALDO</td><td>Occidente</td><td>MARÍA CAMILA MANCO SUÁREZ</td><td>Alcaldesa</td><td>8571107 Ext 108-8571106</td><td>alcaldia@giraldo-antioquia.gov.co</td><td>E.S.E. HOSPITAL SAN ISIDRO</td><td>E.S.E. HOSPITAL SAN ISIDRO</td><td>53060447701</td><td>800,193,392</td><td>CALLE SANTANDER</td><td>(6.681158, -75.953248)</td><td>3146494249 - 8571325</td><td>esehospitalsanisidro@gmail.com</td></tr><tr><td>5308</td><td>GIRARDOTA</td><td>Valle de Aburra</td><td>KEVIN RENÉ BERNAL MORALES</td><td>Alcalde</td><td>4054200 Ext 102-4052050</td><td>contactenos@girardota.gov.co</td><td>E.S.E. HOSPITAL SAN RAFAEL</td><td>E.S.E. HOSPITAL SAN RAFAEL</td><td>53080610401</td><td>890,980,727</td><td>KR 16 # 11-01</td><td>(6.375113, -75.449558)</td><td>0514052440 ext:115 102 113</td><td>laboratoriohsrg@gmail.com</td></tr><tr><td>5310</td><td>GÓMEZ PLATA</td><td>Norte</td><td>LUIS GUILLERMO PÉREZ ECHEVERRI</td><td>Alcalde</td><td>8627704-8627806-8627522</td><td>alcaldia@gomezplata-antioquia.gov.co</td><td>E.S.E. HOSPITAL SANTA ISABEL</td><td>E.S.E. HOSPITAL SANTA ISABEL</td><td>53100501501</td><td>890,902,151</td><td>KR 52 # 48-47</td><td>(6.679196, -75.221613)</td><td>862 82 00</td><td>gerencia@esehospitalsantaisabel.gov.co</td></tr><tr><td>5315</td><td>GUADALUPE</td><td>Norte</td><td>JOSÉ FERNANDO SALAZAR OSPINA</td><td>Alcalde</td><td>8616440 Ext 103 - 8616066</td><td>alcaldia@guadalupe-antioquia.gov.co</td><td>E.S.E. NUESTRA SEÑORA DE GUADALUPE</td><td>E.S.E. HOSPITAL NUESTRA SEÑORA DE GUADALUPE</td><td>53150458601</td><td>890,981,690</td><td>CL 50 # 51-12</td><td>(6.814711, -75.241542)</td><td>5748616110</td><td>hospitalguadalupe@gmail.com</td></tr><tr><td>5318</td><td>GUARNE</td><td>Oriente</td><td>DIEGO MAURICIO GRISALES GALLEGO</td><td>Alcalde</td><td>5510025-5511026-5510044-5511733</td><td>alcaldia@guarne-antioquia.gov.co</td><td>E.S.E. NUETRA SEÑORA DE LA CANDELARIA</td><td>E.S.E. NUETRA SEÑORA DE LA CANDELARIA</td><td>53180243601</td><td>890,981,719</td><td>KR 52 # 52-177</td><td>(6.281456, -75.445352)</td><td>(054)551 13 13 - 576 70 90</td><td>gerencia@hospitalguarne.com</td></tr><tr><td>5321</td><td>GUATAPE</td><td>Oriente</td><td>DAVID ESTEBAN FRANCO VALLEJO</td><td>Alcalde</td><td>8610539-8610555 Ext 12</td><td>alcaldia@guatape-antioquia.gov.co</td><td>E.S.E. HOSPITAL LA INMACULADA</td><td>E.S.E. HOSPITAL LA INMACULADA</td><td>53210442901</td><td>890,981,817</td><td>KR 23A # 31-35</td><td>(6.232029, -75.156559)</td><td>8610800 - 3016242530 - 3122590939</td><td>gerencia@hospitalguatape.com</td></tr><tr><td>5347</td><td>HELICONIA</td><td>Occidente</td><td>JORGE ALEXANDER ÁLVAREZ ARANGO</td><td>Alcalde</td><td>8549635 Ext 115</td><td>alcaldia@heliconia-antioquia.gov.co</td><td>EMPRESA SOCIAL DEL ESTADO HOSPITAL SAN RAFAEL</td><td>EMPRESA SOCIAL DEL ESTADO HOSPITAL SAN RAFAEL</td><td>53470219201</td><td>890,981,074</td><td>CL 22 B No 20-21</td><td>(6.208224, -75.732622)</td><td>5748549897</td><td>eseheliconia@gmail.com</td></tr><tr><td>5353</td><td>HISPANIA</td><td>Suroeste</td><td>ORLANDO ARTURO MARÍN ATEHORTUA</td><td>Alcalde</td><td>8432862-8432249</td><td>alcaldia@hispania-antioquia.gov.co</td><td>ESE HOSPITAL SAN JUAN DEL SUROESTE</td><td>ESE HOSPITAL SAN JUAN DEL SUROESTE</td><td>53530238101</td><td>800,068,653</td><td>CL 50 # 46-47</td><td>(5.799986, -75.904745)</td><td>3113798288</td><td>facturacionhospitalhispania@gmail.com</td></tr><tr><td>5360</td><td>ITAGUI</td><td>Valle de Aburra</td><td>DIEGO LEÓN TORRES SÁNCHEZ</td><td>Alcalde</td><td>3737676-3764879</td><td>contactenos@itagui.gov.co</td><td>E.S.E. HOSPITAL SAN RAFAEL DE ITAGUI</td><td>E.S.E. HOSPITAL SAN RAFAEL DE ITAGUI</td><td>53600433901</td><td>890,980,066</td><td>KR 51A # 45-51</td><td>(6.171281, -75.613242)</td><td>4482224</td><td>gerencia@hsanrafael.gov.co</td></tr><tr><td>5361</td><td>ITUANGO</td><td>Norte</td><td>JAVIER DE JESÚS PARIAS POSSO</td><td>Alcalde</td><td>8643020-8643174-8643175</td><td>alcaldia@ituango-antioquia.gov.co</td><td>E.S.E.  HOSPITAL SAN JUAN DE DIOS DE ITUANGO</td><td>E.S.E.  HOSPITAL SAN JUAN DE DIOS DE ITUANGO</td><td>53610450501</td><td>890,980,840</td><td>KR QUINDIO #  25-54</td><td>(7.170186, -75.764535)</td><td>5748643100</td><td>notificacioneshospitalituango@gmail.com</td></tr><tr><td>5086</td><td>BELMIRA</td><td>Norte</td><td>DARCY ESTEBAN ARBOLEDA RUA</td><td>Alcalde</td><td>8674030</td><td>alcaldia@belmira-antioquia.gov.co</td><td>EMPRESA SOCIAL DEL ESTADO HOSPITAL NUESTRA SEÑORA DEL ROSARIO</td><td>EMPRESA SOCIAL DEL ESTADO HOSPITAL NUESTRA SEÑORA DEL ROSARIO</td><td>50860550701</td><td>890,982,065</td><td>KR 19# 19 93</td><td>(6.607103, -75.666736)</td><td>5748674147</td><td>gerencia@esehospital-belmira-antioquia.gov.co</td></tr><tr><td>5368</td><td>JERICÓ</td><td>Suroeste</td><td>SEBASTIÁN GARCÉS PIEDRAHITA</td><td>Alcalde</td><td>8523101-8523502-8523665-8524278</td><td>alcaldia@jerico-antioquia.gov.co</td><td>NUEVA ESE HOSPITAL SAN RAFAEL JERICO</td><td>NUEVA ESE HOSPITAL SAN RAFAEL JERICO</td><td>53680483301</td><td>890,980,765</td><td>KR 5 # 9-157</td><td>(5.789472, -75.787382)</td><td>60485231656</td><td>hospital@hospitalsanrafaeljerico.gov.co</td></tr><tr><td>5376</td><td>LA CEJA</td><td>Oriente</td><td>MARÍA ILBED SANTA SANTA</td><td>Alcaldesa</td><td>5531414 Ext 101-114</td><td>alcaldia@laceja-antioquia.gov.co</td><td>E.S.E. HOSPITAL DE LA CEJA</td><td>ESE HOSPITAL DE LA CEJA</td><td>53760592601</td><td>890,980,758</td><td>CL 17 # 19-55</td><td>(6.028307, -75.431319)</td><td>5745531444</td><td>hospitalceja@une.net.co</td></tr><tr><td>5380</td><td>LA ESTRELLA</td><td>Valle de Aburra</td><td>CARLOS MARIO GUTIÉRREZ</td><td>Alcalde</td><td>3092687 - 2795841 - 2790058</td><td>alcalde@laestrella.gov.co</td><td>E.S.E. HOSPITAL LA ESTRELLA</td><td>EMPRESA SOCIAL DEL ESTADO HOSPITAL LA ESTRELLA</td><td>53800501601</td><td>800,138,968</td><td>CL 83 A SUR N° 60 - 45</td><td>(6.157163, -75.64302)</td><td>5743106070</td><td>infohospital@eselaestrella.gov.co</td></tr><tr><td>5390</td><td>LA PINTADA</td><td>Suroeste</td><td>HERMÁN ANTONIO CORREA BEDOYA</td><td>Alcalde</td><td>8453562-8454216</td><td>alcaldia@lapintada-antioquia.gov.co</td><td>EMPRESA SOCIAL DEL ESTADO HOSPITAL ANTONIO ROLDAN BETANCUR</td><td>EMPRESA SOCIAL DEL ESTADO HOSPITAL ANTONIO ROLDAN BETANCUR</td><td>53900509001</td><td>811,013,792</td><td>KR 30 # 30A - 45</td><td>(5.740705, -75.606859)</td><td>5748454063</td><td>harbgerencia@gmail.com</td></tr><tr><td>5400</td><td>LA UNIÓN</td><td>Oriente</td><td>CARMEN JUDITH VALENCIA MORENO</td><td>Alcaldesa</td><td>5560610-5560654-5560630</td><td>alcaldia@launion-antioquia.gov.co</td><td>E.S.E. HOSPITAL SAN ROQUE  LA UNION</td><td>E.S.E. HOSPITAL SAN ROQUE</td><td>54000242001</td><td>890,980,866</td><td>CL 2 # 11-54</td><td>(5.967984, -75.359452)</td><td>5745560619</td><td>hospitallaunion890@gmail.com</td></tr><tr><td>5411</td><td>LIBORINA</td><td>Occidente</td><td>NANCY AMPARO AVENDAÑO MORENO</td><td>Alcaldesa</td><td>8561865-8561113</td><td>alcaldia@liborina-antioquia.gov.co</td><td>EMPRESA SOCIAL DEL ESTADO HOSPITAL SAN LORENZO</td><td>EMPRESA SOCIAL DEL ESTADO HOSPITAL SAN LORENZO</td><td>54110157901</td><td>890,982,139</td><td>KR 13 # 6-21</td><td>(6.676713, -75.814548)</td><td>5748561826</td><td>libohs01@edatel.net.co</td></tr><tr><td>5425</td><td>MACEO</td><td>Magdalena Medio</td><td>CAROLINA ANDREA SOSA GÓMEZ</td><td>Alcaldesa</td><td>8640209-8640277-8640217</td><td>alcaldia@maceo-antioquia.gov.co</td><td>EMPRESA SOCIAL DEL ESTADO MARCO A. CARDONA</td><td>EMPRESA SOCIAL DEL ESTADO HOSPITAL  MARCO A. CARDONA</td><td>54250510501</td><td>890,906,966</td><td>KR 30 # 33-237</td><td>(6.556282, -74.788297)</td><td>5748640283</td><td>archivo@hospitalmaceo.gov.co</td></tr><tr><td>5440</td><td>MARINILLA</td><td>Oriente</td><td>JULIO CÉSAR SERNA GÓMEZ</td><td>Alcalde</td><td>5484410-5484101-5484884-5480265</td><td>alcaldia@marinilla-antioquia.gov.co</td><td>E.S.E. SAN JUAN DE DIOS DE MARINILLA</td><td>E.S.E. SAN JUAN DE DIOS DE MARINILLA</td><td>54400527301</td><td>890,980,752</td><td>KR 36 # 28-85</td><td>null</td><td>5745484044</td><td>gerencia@hospitalmarinilla.com</td></tr><tr><td>5467</td><td>MONTEBELLO</td><td>Suroeste</td><td>ÓSCAR ERNESTO CUERVO VILLADA</td><td>Alcalde</td><td>8480564 Ext 103-8480561</td><td>alcaldia@montebello-antioquia.gov.co</td><td>E.S.E. HOSPITAL SAN ANTONIO DE MONTEBELLO</td><td>E.S.E. HOSPITAL SAN ANTONIO</td><td>54670396201</td><td>890,981,096</td><td>CL 18 # 18-85</td><td>(5.948656, -75.52304)</td><td>5748480559</td><td>hospisanantonio@esemontebello.gov.co</td></tr><tr><td>5475</td><td>MURINDÓ</td><td>Uraba</td><td>EMPERATRIZ MENA PALACIO</td><td>Alcaldesa</td><td>8575015-8575021-8575085-8575041 8575017</td><td>alcaldia@murindo-antioquia.gov.co</td><td>ESE HOSPITAL SAN BARTOLOMÉ</td><td>ESE HOSPITAL SAN BARTOLOMÉ</td><td>54750502001</td><td>800,165,050</td><td>CL 2 # 14 - 20</td><td>(6.980954, -76.821213)</td><td>8575093</td><td>hospitalmurindo@hotmail.com</td></tr><tr><td>5480</td><td>MUTATÁ</td><td>Uraba</td><td>JAIRO ENRIQUE ORTIZ PALACIOS</td><td>Alcalde</td><td>8578602-8578812-8578799-8578663-8578113-8578740</td><td>alcaldia@mutata-antioquia.gov.co</td><td>E.S.E. HOSPITAL LA ANUNCIACION</td><td>E.S.E. HOSPITAL LA ANUNCIACION</td><td>54800491601</td><td>890,981,268</td><td>KR 10 # 10-08</td><td>(7.247664, -76.439309)</td><td>8578700 - 8578100</td><td>hospital@eselaanunciacion-mutata-antioquia.gov.co</td></tr><tr><td>5483</td><td>NARIÑO</td><td>Oriente</td><td>ÉRIKA CARDONA PÉREZ</td><td>Alcaldesa</td><td>8680077-8680113-8680084-8680117-8680259</td><td>alcaldia@narino-antioquia.gov.co</td><td>E.S.E. HOSPITAL SAN JOAQUIN</td><td>E.S.E. HOSPITAL SAN JOAQUIN</td><td>54830592801</td><td>890,981,652</td><td>Calle13 No 6-33</td><td>(5.609793, -75.174637)</td><td>8680109 8680273 8680363</td><td>admonesesanjoaquin@gmail.com</td></tr><tr><td>5490</td><td>NECOCLÍ</td><td>Uraba</td><td>GUILLERMO JOSÉ CARDONA MORENO</td><td>Alcalde</td><td>8214166-8214564-8215039</td><td>alcaldia@necocli-antioquia.gov.co</td><td>E.S.E. HOSPITAL SAN SEBASTIAN DE URABA</td><td>E.S.E. HOSPITAL SAN SEBASTIAN DE URABÁ</td><td>54900481101</td><td>890,985,603</td><td>CL 50 # 36 - 37 KM 2 VIA TURBO</td><td>(8.424319, -76.78393)</td><td>5748214546</td><td>neyderpupo@hospitalnecocli.gov.co</td></tr><tr><td>5495</td><td>NECHÍ</td><td>Bajo Cauca</td><td>YUMARIS PATRICIA HENRÍQUEZ BANQUET</td><td>Alcaldesa</td><td>8368156-8680204</td><td>alcaldia@nechi-antioquia.gov.co</td><td>ESE HOSPITAL LA MISERICORDIA</td><td>ESE HOSPITAL LA MISERICORDIA</td><td>54950491501</td><td>800,138,011</td><td>CL LA MISERICORDIA</td><td>(8.092287, -74.781103)</td><td>5748368053</td><td>gerencia@hospitalnechi.gov.co</td></tr><tr><td>5501</td><td>OLAYA</td><td>Occidente</td><td>JESÚS DAVID HERNÁNDEZ LONDOÑO</td><td>Alcalde</td><td>8550117-8550116-8550119-8550221</td><td>alcaldia@olaya-antioquia.gov.co</td><td>ESE HOSPITAL SAN MIGUEL</td><td>ESE HOSPITAL SAN MIGUEL</td><td>55010556901</td><td>800,202,398</td><td>KR 10 # 10 - 34</td><td>(6.613513, -75.764862)</td><td>8550359</td><td>siauhso@gmail.com</td></tr><tr><td>5541</td><td>PEÑOL</td><td>Oriente</td><td>SANDRA ARELIS DUQUE VELÁSQUEZ</td><td>Alcaldesa</td><td>8515855-8515851-8515944</td><td>alcaldia@elpenol-antioquia.gov.co</td><td>EMPRESA SOCIAL DEL ESTADO HOSPITAL SAN JUAN DE DIOS</td><td>E.S.E HOSPITAL SAN JUAN DE DIOS</td><td>55410197901</td><td>890,980,486</td><td>TV 7A # 11-84</td><td>(6.216002, -75.238819)</td><td>5748515750</td><td>gerencia@esesanjuandedios-penol-antioquia.gov.co</td></tr><tr><td>5543</td><td>PEQUE</td><td>Occidente</td><td>EMILSON DE JESÚS HERNÁNDEZ HERNÁNDEZ</td><td>Alcalde</td><td>8552043-8552213-8552136</td><td>alcaldia@peque-antioquia.gov.co</td><td>E.S.E. HOSPITAL SAN FRANCISCO</td><td>E.S.E. HOSPITAL SAN FRANCISCO</td><td>55430629901</td><td>890,983,675</td><td>KR BOLIVAR # 11-170</td><td>null</td><td>6048552045 - 6048552132</td><td>gerencia@hospitalpeque.gov.co</td></tr><tr><td>5576</td><td>PUEBLORRICO</td><td>Suroeste</td><td>CRISTIAN CAMILO ZAPATA RAMÍREZ</td><td>Alcalde</td><td>8498865-8498020-8498324</td><td>alcalde@pueblorrico-antioquia.gov.co</td><td>E.S.E. HOSPITAL SAN VICENTE DE PAUL DE PUEBLO RICO</td><td>E.S.E. HOSPITAL SAN VICENTE DE PAUL</td><td>55760592901</td><td>890,981,532</td><td>CL 32 #  26A-38</td><td>(5.793464, -75.838787)</td><td>8498080-8498326-8499054</td><td>hospitalpueblorrico@gmail.com</td></tr><tr><td>5579</td><td>PUERTO BERRÍO</td><td>Magdalena Medio</td><td>ROBINSON ALBERTO BAENA ZULUAGA</td><td>Alcalde</td><td>8332120-8332517 Ext 205</td><td>alcaldia@puertoberrio-antioquia.gov.co</td><td>EMPRESA SOCIAL DEL ESTADO HOSPITAL LA CRUZ</td><td>E.S.E HOSPITAL LA CRUZ</td><td>55790607001</td><td>890,980,063</td><td>KR 7 # 48-03</td><td>(6.488732, -74.404202)</td><td>5748332490</td><td>pberhs01@edatel.net.co</td></tr><tr><td>5585</td><td>PUERTO NARE</td><td>Magdalena Medio</td><td>JUAN CARLOS ACEVEDO ALZATE</td><td>Alcalde</td><td>8347047-8346201</td><td>alcaldia@puertonare-antioquia.gov.co</td><td>EMPRESA SOCIAL DEL ESTADO HOSPITAL OCTAVIO OLIVARES</td><td>EMPRESA SOCIAL DEL ESTADO HOSPITAL OCTAVIO OLIVARES</td><td>55850472501</td><td>890,985,810</td><td>KR 5 # 45-103</td><td>(6.18466, -74.583856)</td><td>5748347208</td><td>pnarehoo@gmail.com - hoogerencia@gmail.com</td></tr><tr><td>5591</td><td>PUERTO TRIUNFO</td><td>Magdalena Medio</td><td>FRANKLIN PORTILLO GÓMEZ</td><td>Alcalde</td><td>8352025-8352117-8352566</td><td>alcaldia@puertotriunfo-antioquia.gov.co</td><td>ESE HOSPITAL LA PAZ</td><td>ESE HOSPITAL LA PAZ</td><td>55910421901</td><td>800,072,678</td><td>CL 14 # 10 - 25</td><td>(5.872305, -74.64018)</td><td>5748352098</td><td>ptrihs01@edatel.net.co</td></tr><tr><td>5604</td><td>REMEDIOS</td><td>Nordeste</td><td>ALBEIRO ARENAS MOLINA</td><td>Alcalde</td><td>8303130-8303078-8303791-8303130</td><td>alcaldia@remedios-antioquia.gov.co</td><td>EMPRESA SOCIAL DEL ESTADO HOSPITAL SAN VICENTE DE PAUL</td><td>EMPRESA SOCIAL DEL ESTADO HOSPITAL SAN VICENTE DE PAUL</td><td>56040550901</td><td>890,985,092</td><td>CL LAS PALMAS # 12 - 120</td><td>(7.07385, -74.697847)</td><td>8303727 8303899 8303471</td><td>info@hsvpremedios.gov.co</td></tr><tr><td>5607</td><td>RETIRO</td><td>Oriente</td><td>SANTIAGO MONTOYA GIRALDO</td><td>Alcalde</td><td>5411860-5410175-5413067-5410180-5410190</td><td>alcaldia@elretiro.gov.co</td><td>E.S.E. HOSPITAL SAN JUAN DE DIOS DEL RETIRO</td><td>E.S.E. HOSPITAL SAN JUAN DE DIOS DEL RETIRO</td><td>56070238301</td><td>890,982,124</td><td>CL 18 # 21-103</td><td>(6.05621, -75.503709)</td><td>5745410055</td><td>eseretiro@epm.net.co</td></tr><tr><td>5615</td><td>RIONEGRO</td><td>Oriente</td><td>JORGE HUMBERTO RIVAS URREA</td><td>Alcalde</td><td>5204060</td><td>alcaldia@rionegro.gov.co</td><td>E.S.E. HOSPITAL SAN JUAN DE DIOS</td><td>E.S.E. HOSPITAL SAN JUAN DE DIOS</td><td>56150137601</td><td>890,907,254</td><td>KR 48 # 56-59</td><td>(6.158646, -75.371353)</td><td>945313700</td><td>eserionegro@hsjdeserionegro.com</td></tr><tr><td>5628</td><td>SABANALARGA</td><td>Occidente</td><td>CÉSAR ALONSO CUADROS GEORGE</td><td>Alcalde</td><td>8554201 - 8554154</td><td>alcaldia@sabanalarga-antioquia.gov.co</td><td>E.S.E. HOSPITAL SAN PEDRO</td><td>E.S.E. HOSPITAL SAN PEDRO</td><td>56280510701</td><td>890,982,140</td><td>KR 17 # 15-94</td><td>(6.84718, -75.816565)</td><td>6048554209</td><td>gerencia@hspsabanalarga.gov.co</td></tr><tr><td>5631</td><td>SABANETA</td><td>Valle de Aburra</td><td>ALDER JAMES CRUZ OCAMPO</td><td>Alcalde</td><td>2880098-2885294-4440088 Ext 102-2885634</td><td>alcaldia@sabaneta.gov.co</td><td>E.S.E. HOSPITAL VENANCIO DIAZ DIAZ</td><td>E.S.E. HOSPITAL VENACIO DIAZ DIAZ</td><td>56310220601</td><td>800,123,106</td><td>KR 46B # 77 SUR 36</td><td>(6.148166, -75.621836)</td><td>5742889701</td><td>gerencia@hospitalsabaneta.gov.co</td></tr><tr><td>5642</td><td>SALGAR</td><td>Suroeste</td><td>VÍCTOR RAÚL MAYA CEBALLOS</td><td>Alcalde</td><td>8442330-8442301-8442213-8442562</td><td>alcaldia@salgar-antioquia.gov.co</td><td>E.S.E. HOSPITAL SAN JOSE</td><td>E.S.E. HOSPITAL SAN JOSE</td><td>56420457601</td><td>890,981,424</td><td>CL 32A # 33-04</td><td>(5.965121, -75.980536)</td><td>5748442020</td><td>gerencia@hsjsalgar.gov.co</td></tr><tr><td>5652</td><td>SAN FRANCISCO</td><td>Oriente</td><td>ARTURO ALEXANDER ARIAS DUQUE</td><td>Alcalde</td><td>8323030 - 8323236</td><td>alcaldia@sanfrancisco-antioquia.gov.co</td><td>EMPRESA SOCIAL DEL ESTADO HOSPITAL SAN FRANCISCO DE ASIS</td><td>EMPRESA SOCIAL DEL ESTADO HOSPITAL SAN FRANCISCO DE ASIS</td><td>56520601601</td><td>800,133,887</td><td>Carrera 10 No 9 -09</td><td>(5.964372, -75.100077)</td><td>8323027</td><td>gerencia@esehospitaldesanfrancisco-antioquia.gov.co</td></tr><tr><td>5656</td><td>SAN JERÓNIMO</td><td>Occidente</td><td>DONALDO FERNÁN VIVARES GALLEGO</td><td>Alcalde</td><td>8582024-8582580-8582162-8582123</td><td>alcaldia@sanjeronimo-antioquia.gov.co</td><td>E.S.E. HOSPITAL SAN LUIS BELTRAN</td><td>E.S.E. HOSPITAL SAN LUIS BELTRAN</td><td>56560509201</td><td>890,981,848</td><td>KR 10 # 23-08</td><td>(6.444441, -75.729146)</td><td>8585997</td><td>gerencia@hospitaldesanjeronimo.gov.co</td></tr><tr><td>5660</td><td>SAN LUIS</td><td>Oriente</td><td>CÉSAR ABAD BUITRAGO ARIAS</td><td>Alcalde</td><td>8348115-8348102-8348720-8348716</td><td>contactenos@sanluis-antioquia.gov.co</td><td>E.S.E. HOSPITAL SAN RAFAEL DE SAN LUIS</td><td>E.S.E. HOSPITAL SAN RAFAEL DE SAN LUIS</td><td>56600227701</td><td>890,982,091</td><td>KR 19 #17-63</td><td>(6.041148, -74.991914)</td><td>5748348505</td><td>gerencia@hospitaldesanluis.com.co</td></tr><tr><td>5664</td><td>SAN PEDRO DE LOS MILAGROS</td><td>Norte</td><td>JOSÉ DANILO ÁLVAREZ RODRÍGUEZ</td><td>Alcalde</td><td>8687039-8205502-8205033</td><td>alcaldia@sanpedrodelosmilagros-antioquia.gov.co</td><td>E.S.E. HOSPITAL SANTA ISABEL</td><td>E.S.E. HOSPITAL SANTA ISABEL</td><td>56640448101</td><td>800,014,405</td><td>CL 43A #  52A-109</td><td>(6.45668, -75.559802)</td><td>5748687610</td><td>hospital@esesantaisabel.gov.co</td></tr><tr><td>5667</td><td>SAN RAFAEL</td><td>Oriente</td><td>EDUIN ANICENO GIRALDO QUINTANA</td><td>Alcalde</td><td>8586681-8586927-8586836-8586681</td><td>alcaldia@sanrafael-antioquia.gov.co</td><td>E.S.E. HOSPITAL PRESBITERO ALONSO MARIA GIRALDO</td><td>ESE HOSPITAL PBRO ALONSO MARIA GIRALDO</td><td>56670151201</td><td>891,982,128</td><td>KR 29 # 26-189</td><td>(6.294397, -75.026343)</td><td>5748586612</td><td>gerencia@esepresbiteroalonso-sanrafael.gov.co</td></tr><tr><td>5670</td><td>SAN ROQUE</td><td>Nordeste</td><td>LUIS ALEJANDRO VILLEGAS CANO</td><td>Alcalde</td><td>8656562-8656755-8656628</td><td>alcaldia@sanroque-antioquia.gov.co</td><td>E.S.E. HOSPITAL MUNICIPAL SAN ROQUE</td><td>ESE HOSPITAL MUNICIPAL SAN ROQUE</td><td>56700581401</td><td>890,906,211</td><td>CL 25 # 18-30</td><td>(6.487918, -75.018205)</td><td>5748656735</td><td>esehospitalsr@gmail.com</td></tr><tr><td>5674</td><td>SAN VICENTE FERRER</td><td>Oriente</td><td>NELSON DE JESÚS HENAO ZAPATA</td><td>Alcalde</td><td>8544938-8544212-8544154-8544856</td><td>alcaldia@sanvicente-antioquia.gov.co</td><td>E S E HOSPITAL MUNICIPIO DE SAN VICENTE</td><td>E S E HOSPITAL MUNICIPIO DE SAN VICENTE</td><td>56740479201</td><td>890,983,738</td><td>AV CARVAJAL # 31-36</td><td>(6.282818, -75.332085)</td><td>5748544100</td><td>snvihs01@edatel.net.co</td></tr><tr><td>5679</td><td>SANTA BÁRBARA</td><td>Suroeste</td><td>JORGE MARIO QUINTANA CAÑAVERAL</td><td>Alcalde</td><td>8461060-8463607-8464151-8464302</td><td>alcaldia@santabarbara-antioquia.gov.co</td><td>EMPRESA SOCIAL DEL ESTADO HOSPITAL SANTAMARIA</td><td>EMPRESA SOCIAL DEL ESTADO HOSPITAL SANTAMARIA</td><td>56790458201</td><td>890,905,198</td><td>KR 50 # 45 90</td><td>(5.87398, -75.565225)</td><td>5748463131</td><td>jorge.valencia@hospitalsantamaria.gov.co</td></tr><tr><td>5690</td><td>SANTO DOMINGO</td><td>Nordeste</td><td>FABIO IGNACIO MIRA VALENCIA</td><td>Alcalde</td><td>8621069-8621101 Ext 103 - 8621313</td><td>contactenos@santodomingo-antioquia.gov.co</td><td>ESE HOSPITAL SAN RAFAEL DE SANTO DOMINGO</td><td>ESE HOSPITAL SAN RAFAEL</td><td>56900483701</td><td>890,906,560</td><td>KR 16 # 18 29</td><td>(6.474783, -75.162024)</td><td>5748621155</td><td>stdohs01@edatel.net.co</td></tr><tr><td>5697</td><td>EL SANTUARIO</td><td>Oriente</td><td>MARTÍN ALBERTO DUQUE GALLO</td><td>Alcalde</td><td>5460080 Ext 101-5461172-5460201-5461362</td><td>despachoalcaldia@elsantuario-antioquia.gov.co</td><td>E.S.E. HOSPITAL SAN JUAN DE DIOS EL SANTUARIO</td><td>E.S.E. HOSPITAL SAN JUAN DE DIOS EL SANTUARIO</td><td>56970242701</td><td>890,980,326</td><td>CL 49 # 41-63</td><td>(6.136576, -75.261921)</td><td>5745460050</td><td>cadsant@hospitalelsantuario.gov.co</td></tr><tr><td>5736</td><td>SEGOVIA</td><td>Nordeste</td><td>EDWIN ALEXANDER CASTAÑEDA VAHOS</td><td>Alcalde</td><td>8314351-8315613-8317196-8314031</td><td>alcaldia@segovia-antioquia.gov.co</td><td>E.S.E. HOSPITAL SAN JUAN DE DIOS</td><td>E.S.E. HOSPITAL SAN JUAN DE DIOS</td><td>57360612501</td><td>800,080,586</td><td>CAMPAMENTO LA SALADA</td><td>(7.079003, -74.693899)</td><td>8317382 - 8315992</td><td>gerencia@hospitaldesegovia.gov.co</td></tr><tr><td>5761</td><td>SOPETRÁN</td><td>Occidente</td><td>TATIANA ALEXANDRA CARBALLO HOYOS</td><td>Alcaldesa</td><td>8541560 ext. 102 - 8541561</td><td>alcaldia@sopetran-antioquia.gov.co</td><td>EMPRESA SOCIAL DEL ESTADO HORACIO MUÑOZ SUESCUN</td><td>EMPRESA SOCIAL DEL ESTADO HORACIO MUÑOZ SUESCUN</td><td>57610561201</td><td>890,982,184</td><td>CL BENJAMIN HERRERA # 11 - 53</td><td>(6.500707, -75.743845)</td><td>5748541555</td><td>gerencia@hospitalsopetranantioquia.gov.co</td></tr><tr><td>5789</td><td>TÁMESIS</td><td>Suroeste</td><td>JUAN PABLO PÉREZ RÁMIREZ</td><td>Alcalde</td><td>8494595-8496010-</td><td>alcaldia@tamesis-antioquia.gov.co</td><td>EMPRESA SOCIAL DEL ESTADO HOSPITAL SAN JUAN DE DIOS</td><td>E.S.E HOSPITAL SAN JUAN DE DIOS</td><td>57890457901</td><td>890,980,855</td><td>KR 10 # 13 - 52</td><td>(5.664982, -75.713031)</td><td>5748494802</td><td>hospital@tamesis-antioquia.gov.co</td></tr><tr><td>5790</td><td>TARAZÁ</td><td>Bajo Cauca</td><td>YOMER FABIÁN ÁLVAREZ CORREA</td><td>Alcalde</td><td>8365628-8366288-8365817</td><td>alcaldia@taraza-antioquia.gov.co</td><td>E.S.E. HOSPITAL SAN ANTONIO</td><td>E.S.E. HOSPITAL SAN ANTONIO</td><td>57900551301</td><td>890,984,696</td><td>CL 26 # 32-1311</td><td>null</td><td>5748365616</td><td>gerenciahospitaltaraza@gmail.com</td></tr><tr><td>5792</td><td>TARSO</td><td>Suroeste</td><td>HUGO ALEXANDER OCAMPO RÍOS</td><td>Alcalde</td><td>8458541-8458780-8458535-8458718-8458639-8458991</td><td>alcaldia@tarso-antioquia.gov.co</td><td>EMPRESA SOCIAL DEL ESTADO HOSPITAL SAN PABLO</td><td>E.S.E SAN PABLO</td><td>57920458701</td><td>890,982,182</td><td>KR 18 # 21 - 02</td><td>(5.865957, -75.820945)</td><td>5748458606</td><td>hospitaltarso@gmail.com</td></tr><tr><td>5809</td><td>TITIRIBÍ</td><td>Suroeste</td><td>ALEX DAVID RESTREPO SALAZAR</td><td>Alcalde</td><td>8482649-8482344-8482790</td><td>alcaldia@titiribi-antioquia.gov.co</td><td>ESE HOSPITAL SAN JUAN DE DIOS</td><td>ESE HOSPITAL SAN JUAN DE DIOS</td><td>58090434901</td><td>890,980,346</td><td>Kr Bolivar 18-55</td><td>(6.062678, -75.791556)</td><td>(4) 848 27 40</td><td>hospitaltitiribi@hotmail.com</td></tr><tr><td>5819</td><td>TOLEDO</td><td>Norte</td><td>JHONNY ALBERTO MARÍN MUÑETÓN</td><td>Alcalde</td><td>8619020 - 8619012</td><td>alcaldia@toledo-antioquia.gov.co</td><td>E.S.E. HOSPITAL PEDRO CLAVER AGUIRRE</td><td>EMPRESA SOCIAL DEL ESTADO HOSPITAL PEDRO CLAVER AGUIRRE Y</td><td>58190612301</td><td>800,139,704</td><td>CALLE 11 NUMERO 09-07</td><td>(7.011666, -75.691509)</td><td>8619061</td><td>gerenciahpca@gmail.com</td></tr><tr><td>5837</td><td>TURBO</td><td>Uraba</td><td>ALEJANDRO ABUCHAR GONZÁLEZ</td><td>Alcalde</td><td>8273273 Ext 11-8275159-8272140</td><td>alcaldia@turbo-antioquia.gov.co</td><td>EMPRESA SOCIAL DEL ESTADO HOSPITAL FRANCISCO VALDERRAMA</td><td>EMPRESA SOCIAL DEL ESTADO HOSPITAL FRANCISCO VALDERRAMA</td><td>58370228701</td><td>890,981,137</td><td>KM 1 SALIDA TURBO - APARTADO</td><td>(8.094491, -76.714541)</td><td>5748272088</td><td>turbhs01@edatel.net.co</td></tr><tr><td>5842</td><td>URAMITA</td><td>Occidente</td><td>LEONARDO ÚSUGA CORREA</td><td>Alcalde</td><td>8574062-8574066-8574131-8574240-8574169</td><td>alcaldia@uramita-antioquia.gov.co</td><td>EMPRESA SOCIAL DEL ESTADO HOSPITAL TOBIAS PUERTA</td><td>EMPRESA SOCIAL DEL ESTADO HOSPITAL TOBIAS PUERTA</td><td>58420643101</td><td>800,065,395</td><td>CL 20  # 22 170  BRR EL TOTUMO</td><td>(6.902526, -76.174049)</td><td>5748574048</td><td>uramhs01@edatel.net.co</td></tr><tr><td>5847</td><td>URRAO</td><td>Suroeste</td><td>NELSON JAVIER BARRERA HOLGUÍN</td><td>Alcalde</td><td>8502300-8502181-8502145-8502181</td><td>alcaldia@urrao-antioquia.gov.co</td><td>EMPRESA SOCIAL DEL ESTADO IVAN RESTREPO GOMEZ</td><td>ESE HOSPITAL IVAN RESTREPO GOMEZ</td><td>58470483901</td><td>890,980,971</td><td>KR 32 # 23-61</td><td>(6.311033, -76.132915)</td><td>8503898</td><td>gerencia@hospitalurrao.gov.co</td></tr><tr><td>5854</td><td>VALDIVIA</td><td>Norte</td><td>CARLOS DANOBER MOLINA BETANCUR</td><td>Alcalde</td><td>8360412-8360246-8360406-8360400-8360264</td><td>alcaldia@valdivia-antioquia.gov.co</td><td>EMPRESA SOCIAL DEL ESTADO HOSPITAL SAN JAUN DE DIOS VALDIVIA</td><td>E.S.E HOSPITAL SAN JUAN DE DIOS DE VALDIVIA</td><td>58540457701</td><td>891,982,129</td><td>KR 8 # 7 - 18</td><td>(7.289894, -75.392647)</td><td>5748360218</td><td>esevaldivia@gmail.com</td></tr><tr><td>5856</td><td>VALPARAÍSO</td><td>Suroeste</td><td>JOSÉ MARIO HERNÁNDEZ DEVIA</td><td>Alcalde</td><td>8493807-8493882-8492109</td><td>alcaldia@valparaiso-antioquia.gov.co</td><td>E.S.E. HOSPITAL SAN JUAN DE DIOS</td><td>E.S.E. HOSPITAL SAN JUAN DE DIOS</td><td>58560238201</td><td>890,980,828</td><td>CRA 12 NRO 6-31</td><td>(5.614395, -75.624261)</td><td>8493854</td><td>admonesevalparaiso@gmail.com</td></tr><tr><td>5858</td><td>VEGACHÍ</td><td>Nordeste</td><td>JOSÉ MARÍA OCHOA MUÑOZ</td><td>Alcalde</td><td>8305625-8305626-8305006-8305318</td><td>alcaldia@vegachi-antioquia.gov.co</td><td>E.S.E. HOSPITAL SAN CAMILO DE LELIS</td><td>E.S.E. HOSPITAL SAN CAMILO DE LELIS</td><td>58580629401</td><td>800,114,286</td><td>CALLE 49 # 40 - 209</td><td>(6.762892, -74.788828)</td><td>8305122/ 8305698/8305474 3103709160</td><td>gerenciahospitalvegachi@gmail.com</td></tr><tr><td>5861</td><td>VENECIA</td><td>Suroeste</td><td>FERNEY DARIO FERNÁNDEZ</td><td>Alcalde</td><td>8490042-8490023-8490052</td><td>alcaldia@venecia-antioquia.gov.co</td><td>E.S.E.  HOSPITAL SAN RAFAEL DE VENECIA</td><td>ESE HOSPITAL SAN RAFAEL DE VENECIA</td><td>58610145201</td><td>890,980,367</td><td>CL 52 # 50-82</td><td>(5.965161, -75.735084)</td><td>5748490313</td><td>cad@hospitalvenecia.gov.co</td></tr><tr><td>5885</td><td>YALÍ</td><td>Nordeste</td><td>JHON JAIRO GIRALDO POSADA</td><td>Alcalde</td><td>8675023-8675653-8675656</td><td>alcaldia@yali-antioquia.gov.co</td><td>E.S.E. HOSPITAL LA MISERICORDIA</td><td>E.S.E. HOSPITAL LA MISERICORDIA</td><td>58850211201</td><td>890,982,162</td><td>CL 18 # 23-24</td><td>(6.673346, -74.842429)</td><td>5748675655</td><td>yalihs01@edatel.net.co</td></tr><tr><td>5887</td><td>YARUMAL</td><td>Norte</td><td>CRISTIAN DAVID CÉSPEDES CORREA</td><td>Alcalde</td><td>8537429-8537430-8537429</td><td>alcaldia@yarumal.gov.co</td><td>E.S.E. HOSPITAL SAN JUAN DE DIOS YARUMAL</td><td>E.S.E. HOSPITAL SAN JUAN DE DIOS YARUMAL</td><td>58870228401</td><td>890,981,726</td><td>KR 23 # 12 - 13</td><td>(6.957323, -75.414931)</td><td>094 8 53 73 73</td><td>cuentasmedicas@hospitalyarumal.gov.co</td></tr><tr><td>5890</td><td>YOLOMBÓ</td><td>Nordeste</td><td>JESÚS AMADOR PÉREZ PALACIO</td><td>Alcalde</td><td>8654181-8654337-8654200-8655312</td><td>alcaldia@yolombo-antioquia.gov.co</td><td>EMPRESA SOCIAL DEL ESTADO HOSPITAL SAN RAFAEL DE YOLOMBO</td><td>EMPRESA SOCIAL DEL ESTADO HOSPITAL SAN RAFAEL DE YOLOMBO</td><td>58900243101</td><td>890,981,536</td><td>KR 24 # 13 - 466</td><td>(6.597681, -75.017438)</td><td>5748654859</td><td>esehospitalyolombo@gmail.com</td></tr><tr><td>5893</td><td>YONDÓ</td><td>Magdalena Medio</td><td>YERSON ANTONIO ARIZA RIVERA</td><td>Alcalde</td><td>8325109-8325461-8325025-8325212-8325111</td><td>alcaldia@yondo-antioquia.gov.co</td><td>ESE HOSPITAL HECTOR ABAD GOMEZ</td><td>ESE HOSPITAL HECTOR ABAD GOMEZ</td><td>58930322701</td><td>800,014,884</td><td>KR 58 # 47B-50</td><td>(7.005532, -73.914267)</td><td>5748325050</td><td>esehectorabadgomez@hospitalyondo.gov.co</td></tr><tr><td>5895</td><td>ZARAGOZA</td><td>Bajo Cauca</td><td>ANDRÉS EMILIO LUJAN MONROY</td><td>Alcalde</td><td>8388209-8388221-8388209-8388123</td><td>alcaldia@zaragoza-antioquia.gov.co</td><td>ESE HOSPITAL SAN RAFAEL</td><td>ESE HOSPITAL SAN RAFAEL</td><td>58950588401</td><td>890,981,117</td><td>Brr San Gregorio Diagonal Urbanización Miraflores</td><td>(7.491112, -74.868221)</td><td>5748389044</td><td>zarahs01@edatel.net.co</td></tr><tr><td>5665</td><td>SAN PEDRO DE URABA</td><td>Uraba</td><td>NEVER JACINTO CARVAJAL MIRANDA</td><td>Alcalde</td><td>8205502-8205503-8205033</td><td>alcaldia@sanpedrodeuraba-antioquia.gov.co</td><td>E.S.E. HOSPITAL OSCAR EMIRO VERGARA CRUZ</td><td>E.S.E. HOSPITAL OSCAR EMIRO VERGARA CRUZ</td><td>56650551401</td><td>890,985,660</td><td>CL 54 # 47 - 102</td><td>(8.284117, -76.383648)</td><td>5748205065</td><td>gerencia@esehoevc.gov.co</td></tr><tr><td>5042</td><td>SANTAFÉ DE ANTIOQUIA</td><td>Occidente</td><td>YAMID CARVAJAL CARVAJAL</td><td>Alcalde</td><td>8531136-8531793-8531152-8531841</td><td>alcaldia@santafedeantioquia-antioquia.gov.co</td><td>E.S.E. HOSPITAL SAN JUAN DE DIOS ANTIOQUIA</td><td>E.S.E. HOSPITAL SAN JUAN DE DIOS ANTIOQUIA</td><td>50420547801</td><td>890,982,264</td><td>CL 10 # 3-24</td><td>(6.553647, -75.823157)</td><td>5748531020</td><td>info@esehospitalsantafedeantioquia.gov.co</td></tr><tr><td>5686</td><td>SANTA ROSA DE OSOS</td><td>Norte</td><td>LUIS BERNADO MOLINA GRANDA</td><td>Alcalde</td><td>8608020-8608336-8608120-8608416</td><td>alcaldia@santarosadeosos.gov.co</td><td>E.S.E. HOSPITAL SAN JUAN DE DIOS DE SANTA ROSA DE OSOS</td><td>E.S.E. HOSPITAL SAN JUAN DE DIOS DE SANTA ROSA DE OSOS</td><td>56860464901</td><td>890,981,298</td><td>KR 28 # 26A-34</td><td>(6.646108, -75.461059)</td><td>5748609474</td><td>stlo01@edatel.com.co</td></tr><tr><td>5647</td><td>SAN ANDRÉS DE CUERQUÍA</td><td>Norte</td><td>JOSÉ FERNANDO CHAVARRÍA CHAVARRÍA</td><td>Alcalde</td><td>8618206-8618173-8618154-8618232</td><td>alcaldia@sanandresdecuerquia-antioquia.gov.co</td><td>EMPRESA SOCIAL DEL ESTADO GUSTAVO GONZALEZ OCHOA</td><td>E.S.E GUSTAVO GONZALEZ OCHOA</td><td>56470217401</td><td>890,982,113</td><td>BRR EL CRUCERO</td><td>(6.914669, -75.675287)</td><td>5748618101</td><td>hospital.sanandresdecuerquia@gmail.com</td></tr><tr><td>5873</td><td>VIGÍA DEL FUERTE</td><td>Uraba</td><td>JHOSELIN LOZANO MENA</td><td>Alcalde</td><td>8678080-8678034-8678175</td><td>contactenos@vigiadelfuerte-antioquia.gov.co</td><td>EMPRESA SOCIAL DEL ESTADO HOSPITAL ATRATO MEDIO ANTIOQUEÑO</td><td>E.S.E HOSPITAL ATRATO MEDIO ANTIOQUEÑO</td><td>58730436301</td><td>811,020,943</td><td>CRA 1°#20A-66 BARRIO PUERTO CARIBE</td><td>(6.589922, -76.879578)</td><td>5748678151</td><td>esehama@esehama-vigiadelfuerte-antioquia.gov.co</td></tr><tr><td>5658</td><td>SAN JOSÉ DE LA MONTAÑA</td><td>Norte</td><td>JULIÁN ANDRÉS GONZÁLEZ POSADA</td><td>Alcalde</td><td>8622714-8622904</td><td>alcaldia@sanjosedelamontana-antioquia.gov.co</td><td>E.S.E. HOSPITAL LAUREANO PINO</td><td>E.S.E. HOSPITAL LAUREANO PINO</td><td>56580559101</td><td>890,984,427</td><td>KR 21 # 15-11</td><td>(6.847521, -75.681767)</td><td>5748622663</td><td>hospitallaureanopino@gmail.com, snmohs01@edatel.net.co,</td></tr><tr><td>5659</td><td>SAN JUAN DE URABÁ</td><td>Uraba</td><td>LUIS FERNANDO RUIZ DÍAZ</td><td>Alcalde</td><td>8212100 Ext 108-8212375-8212630-8208100</td><td>alcaldia@sanjuandeuraba-antioquia.gov.co</td><td>E.S.E. HOSPITAL HECTOR ABAD GOMEZ</td><td>E.S.E. HOSPITAL HECTOR ABAD GOMEZ</td><td>56590215901</td><td>800,143,438</td><td>KR 20 # 24-20</td><td>(8.762896, -76.525698)</td><td>8212626- 8212627</td><td>contactenos@esehhagsanjuandeuraba-antioquia.gov.co</td></tr><tr><td>5148</td><td>EL CARMEN DE VIBORAL</td><td>Oriente</td><td>HUGO ALFONSO JÍMENEZ CUERVO</td><td>Alcalde</td><td>5432000 Ext 129 - 5432467-5432116-5432020-5432149</td><td>alcaldia@elcarmendeviboral-antioquia.gov.co</td><td>E.S.E. HOSPITAL SAN JUAN DE DIOS DEL CARMEN DE VIBORAL</td><td>E.S.E. HOSPITAL SAN JUAN DE DIOS</td><td>51480431001</td><td>890,907,279</td><td>KR 31 # 19-58</td><td>(6.075086, -75.331621)</td><td>5745434343</td><td>gerencia@hospitalcarmenv.gov.co</td></tr><tr><td>5649</td><td>SAN CARLOS</td><td>Oriente</td><td>SANTIAGO DAZA ESPINOSA</td><td>Alcalde</td><td>8358090-8358051-8358253-8358066</td><td>alcaldia@sancarlos-antioquia.gov.co</td><td>E.S.E. HOSPITAL SAN VICENTE DE PAUL SAN CARLOS</td><td>E.S.E. HOSPITAL SAN VICENTE DE PAUL</td><td>56490398301</td><td>890,981,561</td><td>CL 21 # 24-58</td><td>(6.187542, -74.996393)</td><td>5748358794</td><td>gerencia@hsvpsancarlos.gov.co</td></tr><tr><td>5284</td><td>FRONTINO</td><td>Occidente</td><td>LUZ GABRIELA RIVERA CANO</td><td>Alcaldesa</td><td>8595032 Ext 0-8595037-8595835</td><td>alcaldia@frontino-antioquia.gov.co</td><td>EMPRESA SOCIAL DEL ESTADO HOSPITAL MARIA ANTONIA TORO DE ELEJALDE</td><td>EMPRESA SOCIAL DEL ESTADO HOSPITAL MARIA ANTONIA TORO DE ELEJALDE</td><td>52840217001</td><td>890,906,991</td><td>KR 27 # 31 - 38</td><td>(6.780833, -76.126499)</td><td>5748595050</td><td>gerencia@hospitalfrontino.gov.co</td></tr><tr><td>5313</td><td>GRANADA</td><td>Oriente</td><td>DANIEL ANDRÉS HOYOS YEPES</td><td>Alcalde</td><td>8320549 - 8320802</td><td>alcalde@granada-antioquia.gov.co</td><td>ESE HOSPITAL PADRE CLEMENTE GIRALDO</td><td>ESE HOSPITAL PADRE CLEMENTE GIRALDO</td><td>53130510901</td><td>890,981,182</td><td>CL 21 # 25-02</td><td>(6.140427, -75.183778)</td><td>8320102 8320742</td><td>granhs00@gmail.com</td></tr><tr><td>5364</td><td>JARDÍN</td><td>Suroeste</td><td>CLAUDIA YANETH NARANJO AGUDELO</td><td>Alcaldesa</td><td>8455550-8455684-8455520</td><td>despachoalcalde@eljardin-antioquia.gov.co</td><td>E.S.E HOSPITAL GABRIEL PELÁEZ MONTOYA</td><td>E.S.E HOSPITAL GABRIEL PELÁEZ MONTOYA</td><td>53640476801</td><td>890,980,732</td><td>CL 5 UNION # 1 24</td><td>(5.602425, -75.821784)</td><td>5748455555</td><td>hospital@esehospitalgabrielpelaezmontoya.gov.co</td></tr><tr><td>5756</td><td>SONSON</td><td>Oriente</td><td>JUAN DIEGO ZULUAGA PULGARÍN</td><td>Alcalde</td><td>8694444-8691296</td><td>alcalde@sonson-antioquia.gov.co</td><td>EMPRESA SOCIAL DEL ESTADO SAN JUAN DE DIOS</td><td>EMPRESA SOCIAL DEL ESTADO SAN JUAN DE DIOS</td><td>57560239401</td><td>890,980,003</td><td>CL 16 # 7 - 151</td><td>(5.716899, -75.309005)</td><td>8695050</td><td>institucional@hospitalsonson.gov.co</td></tr></tbody></table></div>"
      ]
     },
     "metadata": {
      "application/vnd.databricks.v1+output": {
       "addedWidgets": {},
       "aggData": [],
       "aggError": "",
       "aggOverflow": false,
       "aggSchema": [],
       "aggSeriesLimitReached": false,
       "aggType": "",
       "arguments": {},
       "columnCustomDisplayInfos": {},
       "data": [
        [
         "5001",
         "MEDELLÍN",
         "Valle de Aburra",
         "FEDERICO GUTIÉRREZ ZULUAGA",
         "Alcalde",
         "4444144-3855208-3855209",
         "federico.gutierrez@medellin.gov.co",
         "EMPRESA SOCIAL DEL ESTADO HOSPITAL GENERAL DE MEDELLIN LUZ CASTRO DE GUTIERREZ",
         "EMPRESA SOCIAL DEL ESTADO HOSPITAL GENERAL DE MEDELLIN LUZ CASTRO DE GUTIERREZ",
         "50010214401",
         "890,904,647",
         "KR 48 # 32-102",
         "(6.23477, -75.572848)",
         "3847302",
         "gestioncalidad@hgm.gov.co"
        ],
        [
         "5002",
         "ABEJORRAL",
         "Oriente",
         "MANUEL ALBERTO GUZMÁN MARÍN",
         "Alcalde",
         "8647611-8647384 Ext 102 - 8647182-8647004)",
         "alcalde@abejorral-antioquia.gov.co",
         "E.S.E HOSPITAL SAN JUAN DE DIOS DE ABEJORRAL",
         "HOSPITAL SAN JUAN DE DIOS ABEJORRAL",
         "50020436001",
         "890,980,643",
         "CL Circular X Kr Calibio",
         "(5.788458, -75.426663)",
         "5748647181",
         "abejhs01@gmail.com"
        ],
        [
         "5004",
         "ABRIAQUÍ",
         "Occidente",
         "DANIEL ALBERTO SALAS GALLEGO",
         "Alcalde",
         "8520024-8520086-8520019-8520120",
         "alcaldia@abriaqui-antioquia.gov.co",
         "ESE HOSPITAL NUEVO HORIZONTE",
         "ESE HOSPITAL NUEVO HORIZONTE",
         "50040588001",
         "811,032,722",
         "CL 9A # 12-59",
         "(6.632296, -76.067405)",
         "3104323014",
         "ese@abriaqui-antioquia.gov.co"
        ],
        [
         "5021",
         "ALEJANDRÍA",
         "Oriente",
         "GLORIA CECILIA NARANJO OSORIO",
         "Alcaldesa",
         "8660102-8660016-866 0140-8660133",
         "alcaldia@alejandria-antioquia.gov.co",
         "ESE HOSPITAL PBRO LUIS FELIPE ARBELAEZ",
         "ESE HOSPITAL PBRO LUIS FELIPE ARBELAEZ",
         "50210509801",
         "800,029,509",
         "KR 19 # 16-70",
         "(6.373932, -75.140366)",
         "5748660077",
         "hospitalalejandria@gmail.com"
        ],
        [
         "5030",
         "AMAGÁ",
         "Suroeste",
         "WILSER DARÍO MOLINA MOLINA",
         "Alcalde",
         "8472122-8474920-8470126",
         "alcaldia@amaga-antioquia.gov.co",
         "E.S.E. HOSPITAL SAN FERNANDO",
         "E.S.E. HOSPITAL SAN FERNANDO",
         "50300437401",
         "890,906,346",
         "Cra 51 No 52 81",
         "(6.040678, -75.704572)",
         "5748300353",
         "hospital@eseamaga-antioquia.gov.co"
        ],
        [
         "5031",
         "AMALFI",
         "Nordeste",
         "WILMAR ALONSO VÉLEZ LONDOÑO",
         "Alcalde",
         "8301919 - 8300155",
         "alcaldia@amalfi-antioquia.gov.co",
         "E.S.E HOSPITAL EL CARMEN",
         "E.S.E HOSPITAL EL CARMEN",
         "50310209101",
         "890,982,101",
         "CL 23 # 23 - 40",
         "(6.910925, -75.077171)",
         "5748301803",
         "gerencia@hospitalelcarmen-amalfi-antioquia.gov.co"
        ],
        [
         "5034",
         "ANDES",
         "Suroeste",
         "GERMÁN ALEXANDER VÉLEZ OROZCO",
         "Alcalde",
         "8414101-8414619-8414291-8414652",
         "alcaldia@andes-antioquia.gov.co",
         "E.S.E. HOSPITAL SAN RAFAEL",
         "E.S.E. HOSPITAL SAN RAFAEL",
         "50340443201",
         "890,980,814",
         "AV MEDELLIN # 48-20",
         "(5.653782, -75.877633)",
         "5748414343",
         "gestiondocumental@hospitaldeandes.gov.co"
        ],
        [
         "5036",
         "ANGELÓPOLIS",
         "Suroeste",
         "JOSÉ LUIS MONTOYA QUICENO",
         "Alcalde",
         "8421948-8421793",
         "alcaldia@angelopolis-antioquia.gov.co",
         "NUEVA EMPRESA SOCIAL DEL ESTADO HOSPITAL LA MISERICORDIA",
         "NUEVA E.S.E HOSPITAL LA MISERICORDIA",
         "50360510801",
         "890,980,959",
         "CL 8 # 7-108",
         "(6.111182, -75.708992)",
         "5748421146",
         "archivodocumental.es@eselamisericordia-angelopolis-antioquia.gov.co"
        ],
        [
         "5038",
         "ANGOSTURA",
         "Norte",
         "VÍCTOR IGNACIO MEDINA GÓMEZ",
         "Alcalde",
         "8645161-8645046-8645162",
         "alcaldia@angostura-antioquia.gov.co",
         "E.S.E. EMPRESA SOCIAL DEL ESTADO HOSPITAL SAN RAFAEL DE  ANGOSTURA",
         "E.S.E. EMPRESA SOCIAL DEL ESTADO HOSPITAL SAN RAFAEL",
         "50380153801",
         "890,982,183",
         "Kr 10 # 16-1",
         "(6.887402, -75.334797)",
         "5748645099",
         "ANGOHS01@EDATEL.NET.CO"
        ],
        [
         "5040",
         "ANORÍ",
         "Nordeste",
         "GUSTAVO ALFREDO SILVA GUTIÉRREZ",
         "Alcalde",
         "8350842-8350404-8350449-8350849",
         "alcaldia@anori-antioquia.gov.co",
         "ESE HOSPITAL SAN JUAN DE DIOS DE ANORI",
         "ESE HOSPITAL SAN JUAN DE DIOS DE ANORI",
         "50400326101",
         "890,982,138",
         "CL ZEA (CALLE 30 CON CARRERA 29)",
         "(7.072657, -75.145669)",
         "5748350803",
         "anorhs@hospitalanori.gov.co"
        ],
        [
         "5044",
         "ANZA",
         "Occidente",
         "JUAN GUILLERMO HINCAPIÉ FIGUEROA",
         "Alcalde",
         "8522082-8522042-8522102",
         "alcaldia@anza-antioquia.gov.co",
         "E.S.E. HOSPITAL SAN FRANCISCO DE ASIS",
         "E.S.E. HOSPITAL SAN FRANCISCO DE ASIS",
         "50440501401",
         "890,397,282",
         "KR 8 # 7-29",
         null,
         "5748522029",
         "hospitalanza@hospitalanza.gov.co"
        ],
        [
         "5045",
         "APARTADÓ",
         "Uraba",
         "HÉCTOR RANGEL PALACIOS RODRÍGUEZ",
         "Alcalde",
         "8280457-8281038-8282188",
         "alcaldia@apartado.gov.co",
         "EMPRESA SOCIAL DEL ESTADO HOSPITAL ANTONIO ROLDAN BETANCUR",
         "EMPRESA SOCIAL DEL ESTADO HOSPITAL ANTONIO ROLDAN BETANCUR",
         "50450214301",
         "890,905,991",
         "KR 98 # 106-176 BARRIO LA CHINITA",
         "(7.887654, -76.628555)",
         "5748283105",
         "apartah01@edatel.net.co"
        ],
        [
         "5051",
         "ARBOLETES",
         "Uraba",
         "ÁLVARO GONZÁLEZ ÁVILA",
         "Alcalde",
         "8200367-8200973-8201289-8200130",
         "alcaldia@arboletes-antioquia.gov.co",
         "E.S.E. HOSPITAL PEDRO NEL CARDONA",
         "E.S.E. HOSPITAL PEDRO NEL CARMONA",
         "50510232301",
         "890,982,134",
         "BARRIO EL DEPORTIVO",
         "(8.851489, -76.421499)",
         "948200026",
         "secretaria@esehpncarboletes-antioquia.gov.co"
        ],
        [
         "5055",
         "ARGELIA",
         "Oriente",
         "DIEGO ALEXANDER LÓPEZ GIRALDO",
         "Alcalde",
         "8650077-8650106-8650405-8650057",
         "alcaldia@argelia-antioquia.gov.co",
         "EMPRESA SOCIAL DEL ESTADO HOSPITAL SAN JULIAN",
         "EMPRESA SOCIAL DEL ESTADO HOSPITAL SAN JULIAN",
         "50550547901",
         "890,981,851",
         "CL 31 # 32-14",
         "(5.731866, -75.144671)",
         "8650000 - 3146182345",
         "gerencia@hospitalsanjulian.gov.co"
        ],
        [
         "5059",
         "ARMENIA",
         "Occidente",
         "MARTHA LIBIA PARRA GIL",
         "Alcaldesa",
         "8559015-8559064",
         "alcaldia@armenia-antioquia.gov.co",
         "EMPRES SOCIAL DEL ESTADO HOSPITAL SAN MARTIN DE PORRES",
         "EMPRES SOCIAL DEL ESTADO HOSPITAL SAN MARTIN DE PORRES",
         "50590550601",
         "890,982,153",
         "CL 11 # 6-69",
         "(6.159244, -75.785966)",
         "5748559352",
         "hsmpgerencia@gmail.com"
        ],
        [
         "5079",
         "BARBOSA",
         "Valle de Aburra",
         "JUAN DAVID ROJAS AGUDELO",
         "Alcalde",
         "4548300-4548311-4548311-4065441-4065441",
         "alcaldia@barbosa.gov.co",
         "ESE HOSPITAL SAN VICENTE DE PAUL",
         "ESE HOSPITAL SAN VICENTE DE PAUL",
         "50790407701",
         "890,905,193",
         "KR 17 # 10 - 34",
         "(6.43651, -75.333209)",
         "5744061341",
         "esebarbosa@une.net.co"
        ],
        [
         "5088",
         "BELLO",
         "Valle de Aburra",
         "YULIETH LORENA GONZÁLEZ OSPINA",
         "Alcaldesa",
         "604 79 44",
         "contactenos@bello.gov.co",
         "E.S.E. HOSPITAL MARCO FIDEL SUAREZ",
         "EMPRESA SOCIAL DEL ESTADO HOSPITAL MARCO FIDEL SUAREZ",
         "50880561801",
         "890,985,703",
         "CL 44 # 49B-90",
         "(6.330313, -75.557731)",
         "4547510",
         "gerencia@hmfs.gov.co"
        ],
        [
         "5091",
         "BETANIA",
         "Suroeste",
         "DIEGO ARLEY DE JESÚS GUERRA GUTIÉRREZ",
         "Alcalde",
         "8435127 Ext 105- 8435180",
         "alcaldia@betania-antioquia.gov.co",
         "E.S.E. HOSPITAL SAN ANTONIO DE BETANIA",
         "E.S.E. HOSPITAL SAN ANTONIO DE BETANIA",
         "50910457201",
         "890,981,494",
         "CL 20 # 26-173",
         "(5.748156, -75.980673)",
         "548435050",
         "betahs01@gmail.com"
        ],
        [
         "5093",
         "BETULIA",
         "Suroeste",
         "NÉSTOR CAMILO SERNA HERNÁNDEZ",
         "Alcalde",
         "8436093-8436157-8430631",
         "alcaldia@betulia-antioquia.gov.co",
         "E.S.E. HOSPITAL GERMAN VELEZ GUTIERREZ",
         "E.S.E. HOSPITAL GERMAN VELEZ GUTIERREZ",
         "50930237101",
         "890,982,116",
         "CL 21 # 15 - 20 SALIDA A MEDELLIN",
         "(6.113337, -75.984712)",
         "604 843 60 85",
         "hospital@esebetulia-antioquia.gov.co"
        ],
        [
         "5101",
         "CIUDAD BOLÍVAR",
         "Suroeste",
         "LEÓN DARÍO ACEVEDO VARGAS",
         "Alcalde",
         "8411183 Ext 12-8412552 - 8411144",
         "alcaldia@ciudadbolivar-antioquia.gov.co",
         "E.S.E. HOSPITAL LA MERCED DE CIUDAD BOLIVAR",
         "E.S.E. HOSPITAL LA MERCED",
         "51010213901",
         "890,907,241",
         "CL 49 # 36-298",
         "(5.846031, -76.007988)",
         "8411182",
         "gerencia@hlamerced.gov.co"
        ],
        [
         "5107",
         "BRICEÑO",
         "Norte",
         "NOÉ DE JESÚS ESPINOSA VÁSQUEZ",
         "Alcalde",
         "8570051-8570140",
         "alcaldia@briceno-antioquia.gov.co",
         "EMPRESA SOCIAL DEL ESTADO HOSPITAL EL SAGRADO CORAZON",
         "ESE HOSPITAL EL SAGRADO CORAZON",
         "51070231101",
         "800,044,320",
         "CL 11 # 8-31",
         "(7.113115, -75.551047)",
         "5748570099",
         "brichs01@edatel.net.co"
        ],
        [
         "5113",
         "BURITICÁ",
         "Occidente",
         "JOSÉ LUIS RODRÍGUEZ ÚSUGA",
         "Alcalde",
         "8527015-8527041",
         "alcaldia@buritica-antioquia.gov.co",
         "E.S.E. HOSPITAL SAN ANTONIO DE BURITICA",
         "E.S.E. HOSPITAL SAN ANTONIO DE BURITICA",
         "51130559601",
         "890,983,843",
         "CL 8 # 3-56",
         "(6.719975, -75.907202)",
         "948527035",
         "hsaburitica@gmail.com"
        ],
        [
         "5120",
         "CÁCERES",
         "Bajo Cauca",
         "DAMIANA MARÍA MONTERROSA PÉREZ",
         "Alcaldesa",
         "8362201-8362203-8362202",
         "alcaldia@caceres-antioquia.gov.co",
         "EMPRESA SOCIAL DEL ESTADO HOSPITAL ISABEL LA CATOLICA",
         "EMPRESA SOCIAL DEL ESTADO HOSPITAL ISABEL LA CATOLICA",
         "51200554701",
         "890,982,430",
         "KR 50 # 52-48",
         "(7.581577, -75.347834)",
         "5748362039",
         "hospitalcaceres@gmail.com"
        ],
        [
         "5125",
         "CAICEDO",
         "Occidente",
         "YÚBER FELIPE MOLINA MURILLO",
         "Alcalde",
         "8572002 Ext 103 - 8572134",
         "alcaldia@caicedo-antioquia.gov.co",
         "E.S.E. HOSPITAL GUILLERMO GAVIRIA CORREA",
         "E.S.E. HOSPITAL GUILLERMO GAVIRIA CORREA",
         "51250831301",
         "800,037,244",
         "KR 5 # 3-23",
         "(6.404312, -75.982647)",
         "5748572123",
         "gerencia@hospitalcaicedo.gov.co"
        ],
        [
         "5129",
         "CALDAS",
         "Valle de Aburra",
         "JORGE MARIO RENDÓN VÉLEZ",
         "Alcalde",
         "3788500 - 3788504 - 3788515 - 3788502",
         "alcaldia@caldasantioquia.gov.co",
         "E.S.E.  HOSPITAL SAN VICENTE DE PAUL DE CALDAS",
         "E.S.E. HOSPITAL SAN VICENTE DE PAUL DE CALDAS",
         "51290214601",
         "890,907,215",
         "KR 48 # 135S-41",
         "(6.08673, -75.634566)",
         "094- 3786301",
         "hospicaldas@esehospicaldas.gov.co"
        ],
        [
         "5134",
         "CAMPAMENTO",
         "Norte",
         "CRISTIÁN ÁNDRÉS AGUDELO POSADA",
         "Alcalde",
         "8614020-8614055-8614229",
         "alcaldia@campamento-antioquia.gov.co",
         "E.S.E. HOSPITAL LA SAGRADA FAMILIA",
         "E.S.E. HOSPITAL LA SAGRADA FAMILIA",
         "51340593001",
         "890,985,457",
         "CL BOLIVAR # 15-07",
         "(6.979421, -75.299327)",
         "094-8614112",
         "hospitalcampamento@hotmail.com"
        ],
        [
         "5138",
         "CAÑASGORDAS",
         "Occidente",
         "DIEGO ALONSO VANEGAS ARANGO",
         "Alcalde",
         "8564101-8564903-8564319",
         "alcaldia@canasgordas-antioquia.gov.co",
         "E.S.E. HOSPITAL SAN CARLOS",
         "E.S.E. HOSPITAL SAN CARLOS",
         "51380491401",
         "890,980,784",
         "KR 31 # 33-140",
         "(6.750362, -76.02582)",
         "5748564181",
         "canahs01@edatel.net.co"
        ],
        [
         "5142",
         "CARACOLÍ",
         "Magdalena Medio",
         "RODRIGO ALVEIRO CADAVID HERRERA",
         "Alcalde",
         "8336025 Ext 102-8336045",
         "alcaldia@caracoli-antioquia.gov.co",
         "HOSPITAL SAN PIO X",
         "HOSPITAL SAN PIO X",
         "51420410301",
         "890,981,266",
         "CL 21# 20-32",
         "(6.411135, -74.754925)",
         "5748336014",
         "gerencia@esesanpioxcaracoli.gov.co"
        ],
        [
         "5145",
         "CARAMANTA",
         "Suroeste",
         "JUAN ESTEBAN CORREA CÁRDENAS",
         "Alcalde",
         "8553354 - 8553414 - 8553310",
         "alcaldia@caramanta-antioquia.gov.co",
         "E.S.E. HOSPITAL SAN ANTONIO",
         "E.S.E. HOSPITAL SAN ANTONIO",
         "51450158501",
         "890,981,163",
         "KR 21 BOLIVAR # 16-33",
         "(5.545532, -75.644077)",
         "3128337704",
         "gerenciaesecaramanta@hotmail.com"
        ],
        [
         "5147",
         "CAREPA",
         "Uraba",
         "AGAPITO MURILLO PALACIOS",
         "Alcalde",
         "8239402- 8236706- 8236581-8237131",
         "alcaldia@carepa-antioquia.gov.co",
         "EMPRESA SOCIAL DEL ESTADO HOSPITAL FRANCISCO LUIS JIMENEZ MARTINEZ",
         "E.S.E HOSPITAL FRANCISCO LUIS JIMENEZ MARTINEZ",
         "51470631101",
         "800,227,877",
         "CL 70  # 68 - 03",
         "(7.750753, -76.65483)",
         "5748236548",
         "gestiondocumental@hospitaldecarepa.gov.co"
        ],
        [
         "5150",
         "CAROLINA",
         "Norte",
         "ANA ISABEL AVENDAÑO DUQUE",
         "Alcaldesa",
         "8634033-8634259 Ext 103 - 8434029",
         "alcaldia@carolinadelprincipe-antioquia.gov.co",
         "EMPRESA SOCIAL DEL ESTADO HOSPITAL SAN RAFAEL",
         "EMPRESA SOCIAL DEL ESTADO HOSPITAL SAN RAFAEL",
         "51500458401",
         "890,906,344",
         "CL 52 B # 54-70",
         "(6.723214, -75.280809)",
         "5748634045",
         "carohs01@edatel.net.co"
        ],
        [
         "5154",
         "CAUCASIA",
         "Bajo Cauca",
         "JHOAN ODERIS MONTES CORTÉS",
         "Alcalde",
         "8391595 - 8394444",
         "alcaldia@caucasia-antioquia.gov.co",
         "E.S.E. HOSPITAL CESAR URIBE PIEDARHITA",
         "HOSPITAL CESAR URIBE PIEDARHITA",
         "51540220101",
         "890,980,757",
         "Carrera 20 # 1A-100 Barrio El Man",
         "(7.995211, -75.19809)",
         "3201212",
         "gerencia@hcup.gov.co"
        ],
        [
         "5172",
         "CHIGORODÓ",
         "Uraba",
         "TULIA IRENE RUIZ GARCÍA",
         "Alcaldesa",
         "8253630 - 8253868 - 8255885",
         "alcaldia@chigorodo-antioquia.gov.co",
         "EMPRESA SOCIAL DEL ESTADO HOSPITAL MARIA AUXILIADORA",
         "EMPRESA SOCIAL DEL ESTADO HOSPITAL MARIA AUXILIADORA",
         "51720630501",
         "890,980,997",
         "KR 108 # 101 A - 57",
         "(7.672513, -76.687805)",
         "5748253191",
         "admin@hospitalma.gov.co"
        ],
        [
         "5190",
         "CISNEROS",
         "Nordeste",
         "LINA MARÍA CORREA VALENCIA",
         "Alcaldesa",
         "8631567",
         "alcaldia@cisneros-antioquia.gov.co",
         "EMPRESA SOCIAL DEL ESTADO HOSPITAL SAN ANTONIO",
         "E.S.E HOSPITAL SAN ANTONIO",
         "51900559201",
         "890,980,444",
         "CL 18 # 17-105",
         "(6.537253, -75.088447)",
         "8631847",
         "gerencia@esesanantonio-cisneros-antioquia.gov.co"
        ],
        [
         "5197",
         "COCORNÁ",
         "Oriente",
         "DAVID ALEJANDRO GÓMEZ HOYOS",
         "Alcalde",
         "8343404-8343425-8343096-8343529",
         "alcaldia@cocorna-antioquia.gov.co",
         "ESE HOSPITAL SAN JUAN DE DIOS DE COCORNA",
         "ESE HOSPITAL SAN JUAN DE DIOS",
         "51970559301",
         "890,981,108",
         "CL 21 # 23-45",
         "(6.057621, -75.186546)",
         "5748343685",
         "gerencia@hospitaldecocorna.com"
        ],
        [
         "5206",
         "CONCEPCIÓN",
         "Oriente",
         "ADRIÁN HENAO CARVAJAL",
         "Alcalde",
         "8567084-8567274-8567176-8567034",
         "alcaldia@concepcion-antioquia.gov.co",
         "ESE HOSPITAL JOSE MARIA CORDOBA",
         "ESE HOSPITAL JOSE MARIA CORDOBA",
         "52060478001",
         "890,980,512",
         "KR 19 # 19-83",
         "(6.041964, -74.992971)",
         "5748567024",
         "administrador@esehospitaljosemariacordobaconcepcionantioquia.gov.co"
        ],
        [
         "5209",
         "CONCORDIA",
         "Suroeste",
         "ALEXANDRA MARÍA HERRERA QUIJANO",
         "Alcaldesa",
         "8446089-8446101-8446275-8447492",
         "alcaldia@concordia-antioquia.gov.co",
         "E.S.E. HOSPITAL SAN JUAN DE DIOS DE CONCORDIA",
         "E.S.E. HOSPITAL SAN JUAN DE DIOS",
         "52090581901",
         "89,090,797",
         "KR 18 # 16-05",
         "(6.045373, -75.904713)",
         "844 77 24",
         "hospitaldeconcordia@hospital-concordia.gov.co"
        ],
        [
         "5212",
         "COPACABANA",
         "Valle de Aburra",
         "JOHNNATAN ANDRÉS PINEDA AGUDELO",
         "Alcalde",
         "2740069-2740041-2742582",
         "alcaldia@copacabana.gov.co",
         "E.S.E. HOSPITAL SANTA MARGARITA",
         "E.S.E. HOSPITAL SANTA MARGARITA",
         "52120230801",
         "890,980,949",
         "KR 64 Nº 48-80 La misericordia",
         "(6.349485, -75.505182)",
         "4802390 ext 176",
         "gerencia@santamargarita.gov.co"
        ],
        [
         "5234",
         "DABEIBA",
         "Occidente",
         "DANIEL HIGUITA HERRERA",
         "Alcalde",
         "8590300-8590475-8591234-8591293",
         "alcaldia@dabeiba-antioquia.gov.co",
         "EMPRESA SOCIAL DEL ESTADO HOSPITAL NUESTRA SEÑORA DEL PERPETUO SOCORRO",
         "E.S.E HOSPITAL NUESTRA SEÑORA DEL PERPETUO SOCORRO",
         "52340231401",
         "890,984,670",
         "KR URIBE URIBE # 622",
         "(6.997737, -76.261725)",
         "5748590045",
         "gerencia@hospitaldabeiba.gov.co"
        ],
        [
         "5237",
         "DONMATÍAS",
         "Norte",
         "JAVIER DARÍO LÓPEZ RESTREPO",
         "Alcalde",
         "8663243-8666230 Ext 109",
         "alcaldia@donmatias-antioquia.gov.co",
         "E.S.E. HOSPITAL FRANCISCO ELADIO BARRERA",
         "E.S.E. HOSPITAL FRANCISCO ELADIO BARRERA",
         "52370594801",
         "890,905,097",
         "CL 36A # 29-55",
         "(6.489024, -75.395705)",
         "5748663737",
         "gerencia@hospitaldonmatias.gov.co"
        ],
        [
         "5240",
         "EBÉJICO",
         "Occidente",
         "DAVID ALONSO RESTREPO CASTRILLÓN",
         "Alcalde",
         "8562190 EXT 101-8562016",
         "alcaldia@ebejico-antioquia.gov.co",
         "EMPRESA SOCIAL DEL ESTADO  HOSPITAL SAN RAFAEL",
         "EMPRESA SOCIAL DEL ESTADO HOSPITAL SAN RAFAEL",
         "52400374401",
         "890,982,370",
         "BRR VEREDA FATIMA",
         "(6.325962, -75.767641)",
         "5748562681",
         "hospebejico@gmail.com"
        ],
        [
         "5250",
         "EL BAGRE",
         "Bajo Cauca",
         "MARCO FIDEL TRESPALACIO BULLOSO",
         "Alcalde",
         "8372429",
         "alcaldia@elbagre-antioquia.gov.co",
         "EMPRESA SOCIAL DEL ESTADO HOSPITAL NUESTRA SEÑORA DEL CARMEN",
         "ESE HOSPITAL NUESTRA SEÑORA DEL CARMEN",
         "52500213301",
         "800,138,311",
         "CL 50 # 46D-37",
         "(7.590835, -74.809856)",
         "5748372381",
         "bagrhs01@edatel.net.co"
        ],
        [
         "5264",
         "ENTRERRIOS",
         "Norte",
         "JULIO CÉSAR LOPERA POSADA",
         "Alcalde",
         "8670411-8670147-8670412",
         "alcaldia@entrerrios-antioquia.gov.co",
         "ESE HOSPITAL PRESBITERO EMIGDIO PALACIO",
         "ESE HOSPITAL PRESBITERO EMIGDIO PALACIO",
         "52640230901",
         "890,984,779",
         "TRANSVERSAL 13 CALLE 2-17",
         "(6.567066, -75.517965)",
         "5748670051",
         "entrhs01@edatel.net.co"
        ],
        [
         "5266",
         "ENVIGADO",
         "Valle de Aburra",
         "RAÚL EDUARDO CARDONA GONZÁLEZ",
         "Alcalde",
         "3394000 - 3394017  - 3394018",
         "alcaldia@envigado.gov.co",
         "E.S.E. HOSPITAL MANUEL URIBE ANGEL",
         "ESE HOSPITAL MANUEL URIBE ANGEL",
         "52660491001",
         "890,906,347",
         "DG 31 # 36 A SUR - 80",
         "(6.166892, -75.580128)",
         "5742703511",
         "radicacion@hospitalmua.gov.co"
        ],
        [
         "5282",
         "FREDONIA",
         "Suroeste",
         "ALDUBAR DE JESÚS VANEGAS MARÍN",
         "Alcalde",
         "8401264-8401026-8402096-8401393-8402334",
         "alcaldia@fredonia-antioquia.gov.co",
         "E.S.E. HOSPITAL DE SANTA LUCIA",
         "E.S.E. HOSPITAL SANTA LUCIA",
         "52820217101",
         "890,980,181",
         "CL 69 # 50-220 VEREDA EL EDEN",
         "(5.932994, -75.679965)",
         "5748401101",
         "esefredonia@gmail.com"
        ],
        [
         "5306",
         "GIRALDO",
         "Occidente",
         "MARÍA CAMILA MANCO SUÁREZ",
         "Alcaldesa",
         "8571107 Ext 108-8571106",
         "alcaldia@giraldo-antioquia.gov.co",
         "E.S.E. HOSPITAL SAN ISIDRO",
         "E.S.E. HOSPITAL SAN ISIDRO",
         "53060447701",
         "800,193,392",
         "CALLE SANTANDER",
         "(6.681158, -75.953248)",
         "3146494249 - 8571325",
         "esehospitalsanisidro@gmail.com"
        ],
        [
         "5308",
         "GIRARDOTA",
         "Valle de Aburra",
         "KEVIN RENÉ BERNAL MORALES",
         "Alcalde",
         "4054200 Ext 102-4052050",
         "contactenos@girardota.gov.co",
         "E.S.E. HOSPITAL SAN RAFAEL",
         "E.S.E. HOSPITAL SAN RAFAEL",
         "53080610401",
         "890,980,727",
         "KR 16 # 11-01",
         "(6.375113, -75.449558)",
         "0514052440 ext:115 102 113",
         "laboratoriohsrg@gmail.com"
        ],
        [
         "5310",
         "GÓMEZ PLATA",
         "Norte",
         "LUIS GUILLERMO PÉREZ ECHEVERRI",
         "Alcalde",
         "8627704-8627806-8627522",
         "alcaldia@gomezplata-antioquia.gov.co",
         "E.S.E. HOSPITAL SANTA ISABEL",
         "E.S.E. HOSPITAL SANTA ISABEL",
         "53100501501",
         "890,902,151",
         "KR 52 # 48-47",
         "(6.679196, -75.221613)",
         "862 82 00",
         "gerencia@esehospitalsantaisabel.gov.co"
        ],
        [
         "5315",
         "GUADALUPE",
         "Norte",
         "JOSÉ FERNANDO SALAZAR OSPINA",
         "Alcalde",
         "8616440 Ext 103 - 8616066",
         "alcaldia@guadalupe-antioquia.gov.co",
         "E.S.E. NUESTRA SEÑORA DE GUADALUPE",
         "E.S.E. HOSPITAL NUESTRA SEÑORA DE GUADALUPE",
         "53150458601",
         "890,981,690",
         "CL 50 # 51-12",
         "(6.814711, -75.241542)",
         "5748616110",
         "hospitalguadalupe@gmail.com"
        ],
        [
         "5318",
         "GUARNE",
         "Oriente",
         "DIEGO MAURICIO GRISALES GALLEGO",
         "Alcalde",
         "5510025-5511026-5510044-5511733",
         "alcaldia@guarne-antioquia.gov.co",
         "E.S.E. NUETRA SEÑORA DE LA CANDELARIA",
         "E.S.E. NUETRA SEÑORA DE LA CANDELARIA",
         "53180243601",
         "890,981,719",
         "KR 52 # 52-177",
         "(6.281456, -75.445352)",
         "(054)551 13 13 - 576 70 90",
         "gerencia@hospitalguarne.com"
        ],
        [
         "5321",
         "GUATAPE",
         "Oriente",
         "DAVID ESTEBAN FRANCO VALLEJO",
         "Alcalde",
         "8610539-8610555 Ext 12",
         "alcaldia@guatape-antioquia.gov.co",
         "E.S.E. HOSPITAL LA INMACULADA",
         "E.S.E. HOSPITAL LA INMACULADA",
         "53210442901",
         "890,981,817",
         "KR 23A # 31-35",
         "(6.232029, -75.156559)",
         "8610800 - 3016242530 - 3122590939",
         "gerencia@hospitalguatape.com"
        ],
        [
         "5347",
         "HELICONIA",
         "Occidente",
         "JORGE ALEXANDER ÁLVAREZ ARANGO",
         "Alcalde",
         "8549635 Ext 115",
         "alcaldia@heliconia-antioquia.gov.co",
         "EMPRESA SOCIAL DEL ESTADO HOSPITAL SAN RAFAEL",
         "EMPRESA SOCIAL DEL ESTADO HOSPITAL SAN RAFAEL",
         "53470219201",
         "890,981,074",
         "CL 22 B No 20-21",
         "(6.208224, -75.732622)",
         "5748549897",
         "eseheliconia@gmail.com"
        ],
        [
         "5353",
         "HISPANIA",
         "Suroeste",
         "ORLANDO ARTURO MARÍN ATEHORTUA",
         "Alcalde",
         "8432862-8432249",
         "alcaldia@hispania-antioquia.gov.co",
         "ESE HOSPITAL SAN JUAN DEL SUROESTE",
         "ESE HOSPITAL SAN JUAN DEL SUROESTE",
         "53530238101",
         "800,068,653",
         "CL 50 # 46-47",
         "(5.799986, -75.904745)",
         "3113798288",
         "facturacionhospitalhispania@gmail.com"
        ],
        [
         "5360",
         "ITAGUI",
         "Valle de Aburra",
         "DIEGO LEÓN TORRES SÁNCHEZ",
         "Alcalde",
         "3737676-3764879",
         "contactenos@itagui.gov.co",
         "E.S.E. HOSPITAL SAN RAFAEL DE ITAGUI",
         "E.S.E. HOSPITAL SAN RAFAEL DE ITAGUI",
         "53600433901",
         "890,980,066",
         "KR 51A # 45-51",
         "(6.171281, -75.613242)",
         "4482224",
         "gerencia@hsanrafael.gov.co"
        ],
        [
         "5361",
         "ITUANGO",
         "Norte",
         "JAVIER DE JESÚS PARIAS POSSO",
         "Alcalde",
         "8643020-8643174-8643175",
         "alcaldia@ituango-antioquia.gov.co",
         "E.S.E.  HOSPITAL SAN JUAN DE DIOS DE ITUANGO",
         "E.S.E.  HOSPITAL SAN JUAN DE DIOS DE ITUANGO",
         "53610450501",
         "890,980,840",
         "KR QUINDIO #  25-54",
         "(7.170186, -75.764535)",
         "5748643100",
         "notificacioneshospitalituango@gmail.com"
        ],
        [
         "5086",
         "BELMIRA",
         "Norte",
         "DARCY ESTEBAN ARBOLEDA RUA",
         "Alcalde",
         "8674030",
         "alcaldia@belmira-antioquia.gov.co",
         "EMPRESA SOCIAL DEL ESTADO HOSPITAL NUESTRA SEÑORA DEL ROSARIO",
         "EMPRESA SOCIAL DEL ESTADO HOSPITAL NUESTRA SEÑORA DEL ROSARIO",
         "50860550701",
         "890,982,065",
         "KR 19# 19 93",
         "(6.607103, -75.666736)",
         "5748674147",
         "gerencia@esehospital-belmira-antioquia.gov.co"
        ],
        [
         "5368",
         "JERICÓ",
         "Suroeste",
         "SEBASTIÁN GARCÉS PIEDRAHITA",
         "Alcalde",
         "8523101-8523502-8523665-8524278",
         "alcaldia@jerico-antioquia.gov.co",
         "NUEVA ESE HOSPITAL SAN RAFAEL JERICO",
         "NUEVA ESE HOSPITAL SAN RAFAEL JERICO",
         "53680483301",
         "890,980,765",
         "KR 5 # 9-157",
         "(5.789472, -75.787382)",
         "60485231656",
         "hospital@hospitalsanrafaeljerico.gov.co"
        ],
        [
         "5376",
         "LA CEJA",
         "Oriente",
         "MARÍA ILBED SANTA SANTA",
         "Alcaldesa",
         "5531414 Ext 101-114",
         "alcaldia@laceja-antioquia.gov.co",
         "E.S.E. HOSPITAL DE LA CEJA",
         "ESE HOSPITAL DE LA CEJA",
         "53760592601",
         "890,980,758",
         "CL 17 # 19-55",
         "(6.028307, -75.431319)",
         "5745531444",
         "hospitalceja@une.net.co"
        ],
        [
         "5380",
         "LA ESTRELLA",
         "Valle de Aburra",
         "CARLOS MARIO GUTIÉRREZ",
         "Alcalde",
         "3092687 - 2795841 - 2790058",
         "alcalde@laestrella.gov.co",
         "E.S.E. HOSPITAL LA ESTRELLA",
         "EMPRESA SOCIAL DEL ESTADO HOSPITAL LA ESTRELLA",
         "53800501601",
         "800,138,968",
         "CL 83 A SUR N° 60 - 45",
         "(6.157163, -75.64302)",
         "5743106070",
         "infohospital@eselaestrella.gov.co"
        ],
        [
         "5390",
         "LA PINTADA",
         "Suroeste",
         "HERMÁN ANTONIO CORREA BEDOYA",
         "Alcalde",
         "8453562-8454216",
         "alcaldia@lapintada-antioquia.gov.co",
         "EMPRESA SOCIAL DEL ESTADO HOSPITAL ANTONIO ROLDAN BETANCUR",
         "EMPRESA SOCIAL DEL ESTADO HOSPITAL ANTONIO ROLDAN BETANCUR",
         "53900509001",
         "811,013,792",
         "KR 30 # 30A - 45",
         "(5.740705, -75.606859)",
         "5748454063",
         "harbgerencia@gmail.com"
        ],
        [
         "5400",
         "LA UNIÓN",
         "Oriente",
         "CARMEN JUDITH VALENCIA MORENO",
         "Alcaldesa",
         "5560610-5560654-5560630",
         "alcaldia@launion-antioquia.gov.co",
         "E.S.E. HOSPITAL SAN ROQUE  LA UNION",
         "E.S.E. HOSPITAL SAN ROQUE",
         "54000242001",
         "890,980,866",
         "CL 2 # 11-54",
         "(5.967984, -75.359452)",
         "5745560619",
         "hospitallaunion890@gmail.com"
        ],
        [
         "5411",
         "LIBORINA",
         "Occidente",
         "NANCY AMPARO AVENDAÑO MORENO",
         "Alcaldesa",
         "8561865-8561113",
         "alcaldia@liborina-antioquia.gov.co",
         "EMPRESA SOCIAL DEL ESTADO HOSPITAL SAN LORENZO",
         "EMPRESA SOCIAL DEL ESTADO HOSPITAL SAN LORENZO",
         "54110157901",
         "890,982,139",
         "KR 13 # 6-21",
         "(6.676713, -75.814548)",
         "5748561826",
         "libohs01@edatel.net.co"
        ],
        [
         "5425",
         "MACEO",
         "Magdalena Medio",
         "CAROLINA ANDREA SOSA GÓMEZ",
         "Alcaldesa",
         "8640209-8640277-8640217",
         "alcaldia@maceo-antioquia.gov.co",
         "EMPRESA SOCIAL DEL ESTADO MARCO A. CARDONA",
         "EMPRESA SOCIAL DEL ESTADO HOSPITAL  MARCO A. CARDONA",
         "54250510501",
         "890,906,966",
         "KR 30 # 33-237",
         "(6.556282, -74.788297)",
         "5748640283",
         "archivo@hospitalmaceo.gov.co"
        ],
        [
         "5440",
         "MARINILLA",
         "Oriente",
         "JULIO CÉSAR SERNA GÓMEZ",
         "Alcalde",
         "5484410-5484101-5484884-5480265",
         "alcaldia@marinilla-antioquia.gov.co",
         "E.S.E. SAN JUAN DE DIOS DE MARINILLA",
         "E.S.E. SAN JUAN DE DIOS DE MARINILLA",
         "54400527301",
         "890,980,752",
         "KR 36 # 28-85",
         null,
         "5745484044",
         "gerencia@hospitalmarinilla.com"
        ],
        [
         "5467",
         "MONTEBELLO",
         "Suroeste",
         "ÓSCAR ERNESTO CUERVO VILLADA",
         "Alcalde",
         "8480564 Ext 103-8480561",
         "alcaldia@montebello-antioquia.gov.co",
         "E.S.E. HOSPITAL SAN ANTONIO DE MONTEBELLO",
         "E.S.E. HOSPITAL SAN ANTONIO",
         "54670396201",
         "890,981,096",
         "CL 18 # 18-85",
         "(5.948656, -75.52304)",
         "5748480559",
         "hospisanantonio@esemontebello.gov.co"
        ],
        [
         "5475",
         "MURINDÓ",
         "Uraba",
         "EMPERATRIZ MENA PALACIO",
         "Alcaldesa",
         "8575015-8575021-8575085-8575041 8575017",
         "alcaldia@murindo-antioquia.gov.co",
         "ESE HOSPITAL SAN BARTOLOMÉ",
         "ESE HOSPITAL SAN BARTOLOMÉ",
         "54750502001",
         "800,165,050",
         "CL 2 # 14 - 20",
         "(6.980954, -76.821213)",
         "8575093",
         "hospitalmurindo@hotmail.com"
        ],
        [
         "5480",
         "MUTATÁ",
         "Uraba",
         "JAIRO ENRIQUE ORTIZ PALACIOS",
         "Alcalde",
         "8578602-8578812-8578799-8578663-8578113-8578740",
         "alcaldia@mutata-antioquia.gov.co",
         "E.S.E. HOSPITAL LA ANUNCIACION",
         "E.S.E. HOSPITAL LA ANUNCIACION",
         "54800491601",
         "890,981,268",
         "KR 10 # 10-08",
         "(7.247664, -76.439309)",
         "8578700 - 8578100",
         "hospital@eselaanunciacion-mutata-antioquia.gov.co"
        ],
        [
         "5483",
         "NARIÑO",
         "Oriente",
         "ÉRIKA CARDONA PÉREZ",
         "Alcaldesa",
         "8680077-8680113-8680084-8680117-8680259",
         "alcaldia@narino-antioquia.gov.co",
         "E.S.E. HOSPITAL SAN JOAQUIN",
         "E.S.E. HOSPITAL SAN JOAQUIN",
         "54830592801",
         "890,981,652",
         "Calle13 No 6-33",
         "(5.609793, -75.174637)",
         "8680109 8680273 8680363",
         "admonesesanjoaquin@gmail.com"
        ],
        [
         "5490",
         "NECOCLÍ",
         "Uraba",
         "GUILLERMO JOSÉ CARDONA MORENO",
         "Alcalde",
         "8214166-8214564-8215039",
         "alcaldia@necocli-antioquia.gov.co",
         "E.S.E. HOSPITAL SAN SEBASTIAN DE URABA",
         "E.S.E. HOSPITAL SAN SEBASTIAN DE URABÁ",
         "54900481101",
         "890,985,603",
         "CL 50 # 36 - 37 KM 2 VIA TURBO",
         "(8.424319, -76.78393)",
         "5748214546",
         "neyderpupo@hospitalnecocli.gov.co"
        ],
        [
         "5495",
         "NECHÍ",
         "Bajo Cauca",
         "YUMARIS PATRICIA HENRÍQUEZ BANQUET",
         "Alcaldesa",
         "8368156-8680204",
         "alcaldia@nechi-antioquia.gov.co",
         "ESE HOSPITAL LA MISERICORDIA",
         "ESE HOSPITAL LA MISERICORDIA",
         "54950491501",
         "800,138,011",
         "CL LA MISERICORDIA",
         "(8.092287, -74.781103)",
         "5748368053",
         "gerencia@hospitalnechi.gov.co"
        ],
        [
         "5501",
         "OLAYA",
         "Occidente",
         "JESÚS DAVID HERNÁNDEZ LONDOÑO",
         "Alcalde",
         "8550117-8550116-8550119-8550221",
         "alcaldia@olaya-antioquia.gov.co",
         "ESE HOSPITAL SAN MIGUEL",
         "ESE HOSPITAL SAN MIGUEL",
         "55010556901",
         "800,202,398",
         "KR 10 # 10 - 34",
         "(6.613513, -75.764862)",
         "8550359",
         "siauhso@gmail.com"
        ],
        [
         "5541",
         "PEÑOL",
         "Oriente",
         "SANDRA ARELIS DUQUE VELÁSQUEZ",
         "Alcaldesa",
         "8515855-8515851-8515944",
         "alcaldia@elpenol-antioquia.gov.co",
         "EMPRESA SOCIAL DEL ESTADO HOSPITAL SAN JUAN DE DIOS",
         "E.S.E HOSPITAL SAN JUAN DE DIOS",
         "55410197901",
         "890,980,486",
         "TV 7A # 11-84",
         "(6.216002, -75.238819)",
         "5748515750",
         "gerencia@esesanjuandedios-penol-antioquia.gov.co"
        ],
        [
         "5543",
         "PEQUE",
         "Occidente",
         "EMILSON DE JESÚS HERNÁNDEZ HERNÁNDEZ",
         "Alcalde",
         "8552043-8552213-8552136",
         "alcaldia@peque-antioquia.gov.co",
         "E.S.E. HOSPITAL SAN FRANCISCO",
         "E.S.E. HOSPITAL SAN FRANCISCO",
         "55430629901",
         "890,983,675",
         "KR BOLIVAR # 11-170",
         null,
         "6048552045 - 6048552132",
         "gerencia@hospitalpeque.gov.co"
        ],
        [
         "5576",
         "PUEBLORRICO",
         "Suroeste",
         "CRISTIAN CAMILO ZAPATA RAMÍREZ",
         "Alcalde",
         "8498865-8498020-8498324",
         "alcalde@pueblorrico-antioquia.gov.co",
         "E.S.E. HOSPITAL SAN VICENTE DE PAUL DE PUEBLO RICO",
         "E.S.E. HOSPITAL SAN VICENTE DE PAUL",
         "55760592901",
         "890,981,532",
         "CL 32 #  26A-38",
         "(5.793464, -75.838787)",
         "8498080-8498326-8499054",
         "hospitalpueblorrico@gmail.com"
        ],
        [
         "5579",
         "PUERTO BERRÍO",
         "Magdalena Medio",
         "ROBINSON ALBERTO BAENA ZULUAGA",
         "Alcalde",
         "8332120-8332517 Ext 205",
         "alcaldia@puertoberrio-antioquia.gov.co",
         "EMPRESA SOCIAL DEL ESTADO HOSPITAL LA CRUZ",
         "E.S.E HOSPITAL LA CRUZ",
         "55790607001",
         "890,980,063",
         "KR 7 # 48-03",
         "(6.488732, -74.404202)",
         "5748332490",
         "pberhs01@edatel.net.co"
        ],
        [
         "5585",
         "PUERTO NARE",
         "Magdalena Medio",
         "JUAN CARLOS ACEVEDO ALZATE",
         "Alcalde",
         "8347047-8346201",
         "alcaldia@puertonare-antioquia.gov.co",
         "EMPRESA SOCIAL DEL ESTADO HOSPITAL OCTAVIO OLIVARES",
         "EMPRESA SOCIAL DEL ESTADO HOSPITAL OCTAVIO OLIVARES",
         "55850472501",
         "890,985,810",
         "KR 5 # 45-103",
         "(6.18466, -74.583856)",
         "5748347208",
         "pnarehoo@gmail.com - hoogerencia@gmail.com"
        ],
        [
         "5591",
         "PUERTO TRIUNFO",
         "Magdalena Medio",
         "FRANKLIN PORTILLO GÓMEZ",
         "Alcalde",
         "8352025-8352117-8352566",
         "alcaldia@puertotriunfo-antioquia.gov.co",
         "ESE HOSPITAL LA PAZ",
         "ESE HOSPITAL LA PAZ",
         "55910421901",
         "800,072,678",
         "CL 14 # 10 - 25",
         "(5.872305, -74.64018)",
         "5748352098",
         "ptrihs01@edatel.net.co"
        ],
        [
         "5604",
         "REMEDIOS",
         "Nordeste",
         "ALBEIRO ARENAS MOLINA",
         "Alcalde",
         "8303130-8303078-8303791-8303130",
         "alcaldia@remedios-antioquia.gov.co",
         "EMPRESA SOCIAL DEL ESTADO HOSPITAL SAN VICENTE DE PAUL",
         "EMPRESA SOCIAL DEL ESTADO HOSPITAL SAN VICENTE DE PAUL",
         "56040550901",
         "890,985,092",
         "CL LAS PALMAS # 12 - 120",
         "(7.07385, -74.697847)",
         "8303727 8303899 8303471",
         "info@hsvpremedios.gov.co"
        ],
        [
         "5607",
         "RETIRO",
         "Oriente",
         "SANTIAGO MONTOYA GIRALDO",
         "Alcalde",
         "5411860-5410175-5413067-5410180-5410190",
         "alcaldia@elretiro.gov.co",
         "E.S.E. HOSPITAL SAN JUAN DE DIOS DEL RETIRO",
         "E.S.E. HOSPITAL SAN JUAN DE DIOS DEL RETIRO",
         "56070238301",
         "890,982,124",
         "CL 18 # 21-103",
         "(6.05621, -75.503709)",
         "5745410055",
         "eseretiro@epm.net.co"
        ],
        [
         "5615",
         "RIONEGRO",
         "Oriente",
         "JORGE HUMBERTO RIVAS URREA",
         "Alcalde",
         "5204060",
         "alcaldia@rionegro.gov.co",
         "E.S.E. HOSPITAL SAN JUAN DE DIOS",
         "E.S.E. HOSPITAL SAN JUAN DE DIOS",
         "56150137601",
         "890,907,254",
         "KR 48 # 56-59",
         "(6.158646, -75.371353)",
         "945313700",
         "eserionegro@hsjdeserionegro.com"
        ],
        [
         "5628",
         "SABANALARGA",
         "Occidente",
         "CÉSAR ALONSO CUADROS GEORGE",
         "Alcalde",
         "8554201 - 8554154",
         "alcaldia@sabanalarga-antioquia.gov.co",
         "E.S.E. HOSPITAL SAN PEDRO",
         "E.S.E. HOSPITAL SAN PEDRO",
         "56280510701",
         "890,982,140",
         "KR 17 # 15-94",
         "(6.84718, -75.816565)",
         "6048554209",
         "gerencia@hspsabanalarga.gov.co"
        ],
        [
         "5631",
         "SABANETA",
         "Valle de Aburra",
         "ALDER JAMES CRUZ OCAMPO",
         "Alcalde",
         "2880098-2885294-4440088 Ext 102-2885634",
         "alcaldia@sabaneta.gov.co",
         "E.S.E. HOSPITAL VENANCIO DIAZ DIAZ",
         "E.S.E. HOSPITAL VENACIO DIAZ DIAZ",
         "56310220601",
         "800,123,106",
         "KR 46B # 77 SUR 36",
         "(6.148166, -75.621836)",
         "5742889701",
         "gerencia@hospitalsabaneta.gov.co"
        ],
        [
         "5642",
         "SALGAR",
         "Suroeste",
         "VÍCTOR RAÚL MAYA CEBALLOS",
         "Alcalde",
         "8442330-8442301-8442213-8442562",
         "alcaldia@salgar-antioquia.gov.co",
         "E.S.E. HOSPITAL SAN JOSE",
         "E.S.E. HOSPITAL SAN JOSE",
         "56420457601",
         "890,981,424",
         "CL 32A # 33-04",
         "(5.965121, -75.980536)",
         "5748442020",
         "gerencia@hsjsalgar.gov.co"
        ],
        [
         "5652",
         "SAN FRANCISCO",
         "Oriente",
         "ARTURO ALEXANDER ARIAS DUQUE",
         "Alcalde",
         "8323030 - 8323236",
         "alcaldia@sanfrancisco-antioquia.gov.co",
         "EMPRESA SOCIAL DEL ESTADO HOSPITAL SAN FRANCISCO DE ASIS",
         "EMPRESA SOCIAL DEL ESTADO HOSPITAL SAN FRANCISCO DE ASIS",
         "56520601601",
         "800,133,887",
         "Carrera 10 No 9 -09",
         "(5.964372, -75.100077)",
         "8323027",
         "gerencia@esehospitaldesanfrancisco-antioquia.gov.co"
        ],
        [
         "5656",
         "SAN JERÓNIMO",
         "Occidente",
         "DONALDO FERNÁN VIVARES GALLEGO",
         "Alcalde",
         "8582024-8582580-8582162-8582123",
         "alcaldia@sanjeronimo-antioquia.gov.co",
         "E.S.E. HOSPITAL SAN LUIS BELTRAN",
         "E.S.E. HOSPITAL SAN LUIS BELTRAN",
         "56560509201",
         "890,981,848",
         "KR 10 # 23-08",
         "(6.444441, -75.729146)",
         "8585997",
         "gerencia@hospitaldesanjeronimo.gov.co"
        ],
        [
         "5660",
         "SAN LUIS",
         "Oriente",
         "CÉSAR ABAD BUITRAGO ARIAS",
         "Alcalde",
         "8348115-8348102-8348720-8348716",
         "contactenos@sanluis-antioquia.gov.co",
         "E.S.E. HOSPITAL SAN RAFAEL DE SAN LUIS",
         "E.S.E. HOSPITAL SAN RAFAEL DE SAN LUIS",
         "56600227701",
         "890,982,091",
         "KR 19 #17-63",
         "(6.041148, -74.991914)",
         "5748348505",
         "gerencia@hospitaldesanluis.com.co"
        ],
        [
         "5664",
         "SAN PEDRO DE LOS MILAGROS",
         "Norte",
         "JOSÉ DANILO ÁLVAREZ RODRÍGUEZ",
         "Alcalde",
         "8687039-8205502-8205033",
         "alcaldia@sanpedrodelosmilagros-antioquia.gov.co",
         "E.S.E. HOSPITAL SANTA ISABEL",
         "E.S.E. HOSPITAL SANTA ISABEL",
         "56640448101",
         "800,014,405",
         "CL 43A #  52A-109",
         "(6.45668, -75.559802)",
         "5748687610",
         "hospital@esesantaisabel.gov.co"
        ],
        [
         "5667",
         "SAN RAFAEL",
         "Oriente",
         "EDUIN ANICENO GIRALDO QUINTANA",
         "Alcalde",
         "8586681-8586927-8586836-8586681",
         "alcaldia@sanrafael-antioquia.gov.co",
         "E.S.E. HOSPITAL PRESBITERO ALONSO MARIA GIRALDO",
         "ESE HOSPITAL PBRO ALONSO MARIA GIRALDO",
         "56670151201",
         "891,982,128",
         "KR 29 # 26-189",
         "(6.294397, -75.026343)",
         "5748586612",
         "gerencia@esepresbiteroalonso-sanrafael.gov.co"
        ],
        [
         "5670",
         "SAN ROQUE",
         "Nordeste",
         "LUIS ALEJANDRO VILLEGAS CANO",
         "Alcalde",
         "8656562-8656755-8656628",
         "alcaldia@sanroque-antioquia.gov.co",
         "E.S.E. HOSPITAL MUNICIPAL SAN ROQUE",
         "ESE HOSPITAL MUNICIPAL SAN ROQUE",
         "56700581401",
         "890,906,211",
         "CL 25 # 18-30",
         "(6.487918, -75.018205)",
         "5748656735",
         "esehospitalsr@gmail.com"
        ],
        [
         "5674",
         "SAN VICENTE FERRER",
         "Oriente",
         "NELSON DE JESÚS HENAO ZAPATA",
         "Alcalde",
         "8544938-8544212-8544154-8544856",
         "alcaldia@sanvicente-antioquia.gov.co",
         "E S E HOSPITAL MUNICIPIO DE SAN VICENTE",
         "E S E HOSPITAL MUNICIPIO DE SAN VICENTE",
         "56740479201",
         "890,983,738",
         "AV CARVAJAL # 31-36",
         "(6.282818, -75.332085)",
         "5748544100",
         "snvihs01@edatel.net.co"
        ],
        [
         "5679",
         "SANTA BÁRBARA",
         "Suroeste",
         "JORGE MARIO QUINTANA CAÑAVERAL",
         "Alcalde",
         "8461060-8463607-8464151-8464302",
         "alcaldia@santabarbara-antioquia.gov.co",
         "EMPRESA SOCIAL DEL ESTADO HOSPITAL SANTAMARIA",
         "EMPRESA SOCIAL DEL ESTADO HOSPITAL SANTAMARIA",
         "56790458201",
         "890,905,198",
         "KR 50 # 45 90",
         "(5.87398, -75.565225)",
         "5748463131",
         "jorge.valencia@hospitalsantamaria.gov.co"
        ],
        [
         "5690",
         "SANTO DOMINGO",
         "Nordeste",
         "FABIO IGNACIO MIRA VALENCIA",
         "Alcalde",
         "8621069-8621101 Ext 103 - 8621313",
         "contactenos@santodomingo-antioquia.gov.co",
         "ESE HOSPITAL SAN RAFAEL DE SANTO DOMINGO",
         "ESE HOSPITAL SAN RAFAEL",
         "56900483701",
         "890,906,560",
         "KR 16 # 18 29",
         "(6.474783, -75.162024)",
         "5748621155",
         "stdohs01@edatel.net.co"
        ],
        [
         "5697",
         "EL SANTUARIO",
         "Oriente",
         "MARTÍN ALBERTO DUQUE GALLO",
         "Alcalde",
         "5460080 Ext 101-5461172-5460201-5461362",
         "despachoalcaldia@elsantuario-antioquia.gov.co",
         "E.S.E. HOSPITAL SAN JUAN DE DIOS EL SANTUARIO",
         "E.S.E. HOSPITAL SAN JUAN DE DIOS EL SANTUARIO",
         "56970242701",
         "890,980,326",
         "CL 49 # 41-63",
         "(6.136576, -75.261921)",
         "5745460050",
         "cadsant@hospitalelsantuario.gov.co"
        ],
        [
         "5736",
         "SEGOVIA",
         "Nordeste",
         "EDWIN ALEXANDER CASTAÑEDA VAHOS",
         "Alcalde",
         "8314351-8315613-8317196-8314031",
         "alcaldia@segovia-antioquia.gov.co",
         "E.S.E. HOSPITAL SAN JUAN DE DIOS",
         "E.S.E. HOSPITAL SAN JUAN DE DIOS",
         "57360612501",
         "800,080,586",
         "CAMPAMENTO LA SALADA",
         "(7.079003, -74.693899)",
         "8317382 - 8315992",
         "gerencia@hospitaldesegovia.gov.co"
        ],
        [
         "5761",
         "SOPETRÁN",
         "Occidente",
         "TATIANA ALEXANDRA CARBALLO HOYOS",
         "Alcaldesa",
         "8541560 ext. 102 - 8541561",
         "alcaldia@sopetran-antioquia.gov.co",
         "EMPRESA SOCIAL DEL ESTADO HORACIO MUÑOZ SUESCUN",
         "EMPRESA SOCIAL DEL ESTADO HORACIO MUÑOZ SUESCUN",
         "57610561201",
         "890,982,184",
         "CL BENJAMIN HERRERA # 11 - 53",
         "(6.500707, -75.743845)",
         "5748541555",
         "gerencia@hospitalsopetranantioquia.gov.co"
        ],
        [
         "5789",
         "TÁMESIS",
         "Suroeste",
         "JUAN PABLO PÉREZ RÁMIREZ",
         "Alcalde",
         "8494595-8496010-",
         "alcaldia@tamesis-antioquia.gov.co",
         "EMPRESA SOCIAL DEL ESTADO HOSPITAL SAN JUAN DE DIOS",
         "E.S.E HOSPITAL SAN JUAN DE DIOS",
         "57890457901",
         "890,980,855",
         "KR 10 # 13 - 52",
         "(5.664982, -75.713031)",
         "5748494802",
         "hospital@tamesis-antioquia.gov.co"
        ],
        [
         "5790",
         "TARAZÁ",
         "Bajo Cauca",
         "YOMER FABIÁN ÁLVAREZ CORREA",
         "Alcalde",
         "8365628-8366288-8365817",
         "alcaldia@taraza-antioquia.gov.co",
         "E.S.E. HOSPITAL SAN ANTONIO",
         "E.S.E. HOSPITAL SAN ANTONIO",
         "57900551301",
         "890,984,696",
         "CL 26 # 32-1311",
         null,
         "5748365616",
         "gerenciahospitaltaraza@gmail.com"
        ],
        [
         "5792",
         "TARSO",
         "Suroeste",
         "HUGO ALEXANDER OCAMPO RÍOS",
         "Alcalde",
         "8458541-8458780-8458535-8458718-8458639-8458991",
         "alcaldia@tarso-antioquia.gov.co",
         "EMPRESA SOCIAL DEL ESTADO HOSPITAL SAN PABLO",
         "E.S.E SAN PABLO",
         "57920458701",
         "890,982,182",
         "KR 18 # 21 - 02",
         "(5.865957, -75.820945)",
         "5748458606",
         "hospitaltarso@gmail.com"
        ],
        [
         "5809",
         "TITIRIBÍ",
         "Suroeste",
         "ALEX DAVID RESTREPO SALAZAR",
         "Alcalde",
         "8482649-8482344-8482790",
         "alcaldia@titiribi-antioquia.gov.co",
         "ESE HOSPITAL SAN JUAN DE DIOS",
         "ESE HOSPITAL SAN JUAN DE DIOS",
         "58090434901",
         "890,980,346",
         "Kr Bolivar 18-55",
         "(6.062678, -75.791556)",
         "(4) 848 27 40",
         "hospitaltitiribi@hotmail.com"
        ],
        [
         "5819",
         "TOLEDO",
         "Norte",
         "JHONNY ALBERTO MARÍN MUÑETÓN",
         "Alcalde",
         "8619020 - 8619012",
         "alcaldia@toledo-antioquia.gov.co",
         "E.S.E. HOSPITAL PEDRO CLAVER AGUIRRE",
         "EMPRESA SOCIAL DEL ESTADO HOSPITAL PEDRO CLAVER AGUIRRE Y",
         "58190612301",
         "800,139,704",
         "CALLE 11 NUMERO 09-07",
         "(7.011666, -75.691509)",
         "8619061",
         "gerenciahpca@gmail.com"
        ],
        [
         "5837",
         "TURBO",
         "Uraba",
         "ALEJANDRO ABUCHAR GONZÁLEZ",
         "Alcalde",
         "8273273 Ext 11-8275159-8272140",
         "alcaldia@turbo-antioquia.gov.co",
         "EMPRESA SOCIAL DEL ESTADO HOSPITAL FRANCISCO VALDERRAMA",
         "EMPRESA SOCIAL DEL ESTADO HOSPITAL FRANCISCO VALDERRAMA",
         "58370228701",
         "890,981,137",
         "KM 1 SALIDA TURBO - APARTADO",
         "(8.094491, -76.714541)",
         "5748272088",
         "turbhs01@edatel.net.co"
        ],
        [
         "5842",
         "URAMITA",
         "Occidente",
         "LEONARDO ÚSUGA CORREA",
         "Alcalde",
         "8574062-8574066-8574131-8574240-8574169",
         "alcaldia@uramita-antioquia.gov.co",
         "EMPRESA SOCIAL DEL ESTADO HOSPITAL TOBIAS PUERTA",
         "EMPRESA SOCIAL DEL ESTADO HOSPITAL TOBIAS PUERTA",
         "58420643101",
         "800,065,395",
         "CL 20  # 22 170  BRR EL TOTUMO",
         "(6.902526, -76.174049)",
         "5748574048",
         "uramhs01@edatel.net.co"
        ],
        [
         "5847",
         "URRAO",
         "Suroeste",
         "NELSON JAVIER BARRERA HOLGUÍN",
         "Alcalde",
         "8502300-8502181-8502145-8502181",
         "alcaldia@urrao-antioquia.gov.co",
         "EMPRESA SOCIAL DEL ESTADO IVAN RESTREPO GOMEZ",
         "ESE HOSPITAL IVAN RESTREPO GOMEZ",
         "58470483901",
         "890,980,971",
         "KR 32 # 23-61",
         "(6.311033, -76.132915)",
         "8503898",
         "gerencia@hospitalurrao.gov.co"
        ],
        [
         "5854",
         "VALDIVIA",
         "Norte",
         "CARLOS DANOBER MOLINA BETANCUR",
         "Alcalde",
         "8360412-8360246-8360406-8360400-8360264",
         "alcaldia@valdivia-antioquia.gov.co",
         "EMPRESA SOCIAL DEL ESTADO HOSPITAL SAN JAUN DE DIOS VALDIVIA",
         "E.S.E HOSPITAL SAN JUAN DE DIOS DE VALDIVIA",
         "58540457701",
         "891,982,129",
         "KR 8 # 7 - 18",
         "(7.289894, -75.392647)",
         "5748360218",
         "esevaldivia@gmail.com"
        ],
        [
         "5856",
         "VALPARAÍSO",
         "Suroeste",
         "JOSÉ MARIO HERNÁNDEZ DEVIA",
         "Alcalde",
         "8493807-8493882-8492109",
         "alcaldia@valparaiso-antioquia.gov.co",
         "E.S.E. HOSPITAL SAN JUAN DE DIOS",
         "E.S.E. HOSPITAL SAN JUAN DE DIOS",
         "58560238201",
         "890,980,828",
         "CRA 12 NRO 6-31",
         "(5.614395, -75.624261)",
         "8493854",
         "admonesevalparaiso@gmail.com"
        ],
        [
         "5858",
         "VEGACHÍ",
         "Nordeste",
         "JOSÉ MARÍA OCHOA MUÑOZ",
         "Alcalde",
         "8305625-8305626-8305006-8305318",
         "alcaldia@vegachi-antioquia.gov.co",
         "E.S.E. HOSPITAL SAN CAMILO DE LELIS",
         "E.S.E. HOSPITAL SAN CAMILO DE LELIS",
         "58580629401",
         "800,114,286",
         "CALLE 49 # 40 - 209",
         "(6.762892, -74.788828)",
         "8305122/ 8305698/8305474 3103709160",
         "gerenciahospitalvegachi@gmail.com"
        ],
        [
         "5861",
         "VENECIA",
         "Suroeste",
         "FERNEY DARIO FERNÁNDEZ",
         "Alcalde",
         "8490042-8490023-8490052",
         "alcaldia@venecia-antioquia.gov.co",
         "E.S.E.  HOSPITAL SAN RAFAEL DE VENECIA",
         "ESE HOSPITAL SAN RAFAEL DE VENECIA",
         "58610145201",
         "890,980,367",
         "CL 52 # 50-82",
         "(5.965161, -75.735084)",
         "5748490313",
         "cad@hospitalvenecia.gov.co"
        ],
        [
         "5885",
         "YALÍ",
         "Nordeste",
         "JHON JAIRO GIRALDO POSADA",
         "Alcalde",
         "8675023-8675653-8675656",
         "alcaldia@yali-antioquia.gov.co",
         "E.S.E. HOSPITAL LA MISERICORDIA",
         "E.S.E. HOSPITAL LA MISERICORDIA",
         "58850211201",
         "890,982,162",
         "CL 18 # 23-24",
         "(6.673346, -74.842429)",
         "5748675655",
         "yalihs01@edatel.net.co"
        ],
        [
         "5887",
         "YARUMAL",
         "Norte",
         "CRISTIAN DAVID CÉSPEDES CORREA",
         "Alcalde",
         "8537429-8537430-8537429",
         "alcaldia@yarumal.gov.co",
         "E.S.E. HOSPITAL SAN JUAN DE DIOS YARUMAL",
         "E.S.E. HOSPITAL SAN JUAN DE DIOS YARUMAL",
         "58870228401",
         "890,981,726",
         "KR 23 # 12 - 13",
         "(6.957323, -75.414931)",
         "094 8 53 73 73",
         "cuentasmedicas@hospitalyarumal.gov.co"
        ],
        [
         "5890",
         "YOLOMBÓ",
         "Nordeste",
         "JESÚS AMADOR PÉREZ PALACIO",
         "Alcalde",
         "8654181-8654337-8654200-8655312",
         "alcaldia@yolombo-antioquia.gov.co",
         "EMPRESA SOCIAL DEL ESTADO HOSPITAL SAN RAFAEL DE YOLOMBO",
         "EMPRESA SOCIAL DEL ESTADO HOSPITAL SAN RAFAEL DE YOLOMBO",
         "58900243101",
         "890,981,536",
         "KR 24 # 13 - 466",
         "(6.597681, -75.017438)",
         "5748654859",
         "esehospitalyolombo@gmail.com"
        ],
        [
         "5893",
         "YONDÓ",
         "Magdalena Medio",
         "YERSON ANTONIO ARIZA RIVERA",
         "Alcalde",
         "8325109-8325461-8325025-8325212-8325111",
         "alcaldia@yondo-antioquia.gov.co",
         "ESE HOSPITAL HECTOR ABAD GOMEZ",
         "ESE HOSPITAL HECTOR ABAD GOMEZ",
         "58930322701",
         "800,014,884",
         "KR 58 # 47B-50",
         "(7.005532, -73.914267)",
         "5748325050",
         "esehectorabadgomez@hospitalyondo.gov.co"
        ],
        [
         "5895",
         "ZARAGOZA",
         "Bajo Cauca",
         "ANDRÉS EMILIO LUJAN MONROY",
         "Alcalde",
         "8388209-8388221-8388209-8388123",
         "alcaldia@zaragoza-antioquia.gov.co",
         "ESE HOSPITAL SAN RAFAEL",
         "ESE HOSPITAL SAN RAFAEL",
         "58950588401",
         "890,981,117",
         "Brr San Gregorio Diagonal Urbanización Miraflores",
         "(7.491112, -74.868221)",
         "5748389044",
         "zarahs01@edatel.net.co"
        ],
        [
         "5665",
         "SAN PEDRO DE URABA",
         "Uraba",
         "NEVER JACINTO CARVAJAL MIRANDA",
         "Alcalde",
         "8205502-8205503-8205033",
         "alcaldia@sanpedrodeuraba-antioquia.gov.co",
         "E.S.E. HOSPITAL OSCAR EMIRO VERGARA CRUZ",
         "E.S.E. HOSPITAL OSCAR EMIRO VERGARA CRUZ",
         "56650551401",
         "890,985,660",
         "CL 54 # 47 - 102",
         "(8.284117, -76.383648)",
         "5748205065",
         "gerencia@esehoevc.gov.co"
        ],
        [
         "5042",
         "SANTAFÉ DE ANTIOQUIA",
         "Occidente",
         "YAMID CARVAJAL CARVAJAL",
         "Alcalde",
         "8531136-8531793-8531152-8531841",
         "alcaldia@santafedeantioquia-antioquia.gov.co",
         "E.S.E. HOSPITAL SAN JUAN DE DIOS ANTIOQUIA",
         "E.S.E. HOSPITAL SAN JUAN DE DIOS ANTIOQUIA",
         "50420547801",
         "890,982,264",
         "CL 10 # 3-24",
         "(6.553647, -75.823157)",
         "5748531020",
         "info@esehospitalsantafedeantioquia.gov.co"
        ],
        [
         "5686",
         "SANTA ROSA DE OSOS",
         "Norte",
         "LUIS BERNADO MOLINA GRANDA",
         "Alcalde",
         "8608020-8608336-8608120-8608416",
         "alcaldia@santarosadeosos.gov.co",
         "E.S.E. HOSPITAL SAN JUAN DE DIOS DE SANTA ROSA DE OSOS",
         "E.S.E. HOSPITAL SAN JUAN DE DIOS DE SANTA ROSA DE OSOS",
         "56860464901",
         "890,981,298",
         "KR 28 # 26A-34",
         "(6.646108, -75.461059)",
         "5748609474",
         "stlo01@edatel.com.co"
        ],
        [
         "5647",
         "SAN ANDRÉS DE CUERQUÍA",
         "Norte",
         "JOSÉ FERNANDO CHAVARRÍA CHAVARRÍA",
         "Alcalde",
         "8618206-8618173-8618154-8618232",
         "alcaldia@sanandresdecuerquia-antioquia.gov.co",
         "EMPRESA SOCIAL DEL ESTADO GUSTAVO GONZALEZ OCHOA",
         "E.S.E GUSTAVO GONZALEZ OCHOA",
         "56470217401",
         "890,982,113",
         "BRR EL CRUCERO",
         "(6.914669, -75.675287)",
         "5748618101",
         "hospital.sanandresdecuerquia@gmail.com"
        ],
        [
         "5873",
         "VIGÍA DEL FUERTE",
         "Uraba",
         "JHOSELIN LOZANO MENA",
         "Alcalde",
         "8678080-8678034-8678175",
         "contactenos@vigiadelfuerte-antioquia.gov.co",
         "EMPRESA SOCIAL DEL ESTADO HOSPITAL ATRATO MEDIO ANTIOQUEÑO",
         "E.S.E HOSPITAL ATRATO MEDIO ANTIOQUEÑO",
         "58730436301",
         "811,020,943",
         "CRA 1°#20A-66 BARRIO PUERTO CARIBE",
         "(6.589922, -76.879578)",
         "5748678151",
         "esehama@esehama-vigiadelfuerte-antioquia.gov.co"
        ],
        [
         "5658",
         "SAN JOSÉ DE LA MONTAÑA",
         "Norte",
         "JULIÁN ANDRÉS GONZÁLEZ POSADA",
         "Alcalde",
         "8622714-8622904",
         "alcaldia@sanjosedelamontana-antioquia.gov.co",
         "E.S.E. HOSPITAL LAUREANO PINO",
         "E.S.E. HOSPITAL LAUREANO PINO",
         "56580559101",
         "890,984,427",
         "KR 21 # 15-11",
         "(6.847521, -75.681767)",
         "5748622663",
         "hospitallaureanopino@gmail.com, snmohs01@edatel.net.co,"
        ],
        [
         "5659",
         "SAN JUAN DE URABÁ",
         "Uraba",
         "LUIS FERNANDO RUIZ DÍAZ",
         "Alcalde",
         "8212100 Ext 108-8212375-8212630-8208100",
         "alcaldia@sanjuandeuraba-antioquia.gov.co",
         "E.S.E. HOSPITAL HECTOR ABAD GOMEZ",
         "E.S.E. HOSPITAL HECTOR ABAD GOMEZ",
         "56590215901",
         "800,143,438",
         "KR 20 # 24-20",
         "(8.762896, -76.525698)",
         "8212626- 8212627",
         "contactenos@esehhagsanjuandeuraba-antioquia.gov.co"
        ],
        [
         "5148",
         "EL CARMEN DE VIBORAL",
         "Oriente",
         "HUGO ALFONSO JÍMENEZ CUERVO",
         "Alcalde",
         "5432000 Ext 129 - 5432467-5432116-5432020-5432149",
         "alcaldia@elcarmendeviboral-antioquia.gov.co",
         "E.S.E. HOSPITAL SAN JUAN DE DIOS DEL CARMEN DE VIBORAL",
         "E.S.E. HOSPITAL SAN JUAN DE DIOS",
         "51480431001",
         "890,907,279",
         "KR 31 # 19-58",
         "(6.075086, -75.331621)",
         "5745434343",
         "gerencia@hospitalcarmenv.gov.co"
        ],
        [
         "5649",
         "SAN CARLOS",
         "Oriente",
         "SANTIAGO DAZA ESPINOSA",
         "Alcalde",
         "8358090-8358051-8358253-8358066",
         "alcaldia@sancarlos-antioquia.gov.co",
         "E.S.E. HOSPITAL SAN VICENTE DE PAUL SAN CARLOS",
         "E.S.E. HOSPITAL SAN VICENTE DE PAUL",
         "56490398301",
         "890,981,561",
         "CL 21 # 24-58",
         "(6.187542, -74.996393)",
         "5748358794",
         "gerencia@hsvpsancarlos.gov.co"
        ],
        [
         "5284",
         "FRONTINO",
         "Occidente",
         "LUZ GABRIELA RIVERA CANO",
         "Alcaldesa",
         "8595032 Ext 0-8595037-8595835",
         "alcaldia@frontino-antioquia.gov.co",
         "EMPRESA SOCIAL DEL ESTADO HOSPITAL MARIA ANTONIA TORO DE ELEJALDE",
         "EMPRESA SOCIAL DEL ESTADO HOSPITAL MARIA ANTONIA TORO DE ELEJALDE",
         "52840217001",
         "890,906,991",
         "KR 27 # 31 - 38",
         "(6.780833, -76.126499)",
         "5748595050",
         "gerencia@hospitalfrontino.gov.co"
        ],
        [
         "5313",
         "GRANADA",
         "Oriente",
         "DANIEL ANDRÉS HOYOS YEPES",
         "Alcalde",
         "8320549 - 8320802",
         "alcalde@granada-antioquia.gov.co",
         "ESE HOSPITAL PADRE CLEMENTE GIRALDO",
         "ESE HOSPITAL PADRE CLEMENTE GIRALDO",
         "53130510901",
         "890,981,182",
         "CL 21 # 25-02",
         "(6.140427, -75.183778)",
         "8320102 8320742",
         "granhs00@gmail.com"
        ],
        [
         "5364",
         "JARDÍN",
         "Suroeste",
         "CLAUDIA YANETH NARANJO AGUDELO",
         "Alcaldesa",
         "8455550-8455684-8455520",
         "despachoalcalde@eljardin-antioquia.gov.co",
         "E.S.E HOSPITAL GABRIEL PELÁEZ MONTOYA",
         "E.S.E HOSPITAL GABRIEL PELÁEZ MONTOYA",
         "53640476801",
         "890,980,732",
         "CL 5 UNION # 1 24",
         "(5.602425, -75.821784)",
         "5748455555",
         "hospital@esehospitalgabrielpelaezmontoya.gov.co"
        ],
        [
         "5756",
         "SONSON",
         "Oriente",
         "JUAN DIEGO ZULUAGA PULGARÍN",
         "Alcalde",
         "8694444-8691296",
         "alcalde@sonson-antioquia.gov.co",
         "EMPRESA SOCIAL DEL ESTADO SAN JUAN DE DIOS",
         "EMPRESA SOCIAL DEL ESTADO SAN JUAN DE DIOS",
         "57560239401",
         "890,980,003",
         "CL 16 # 7 - 151",
         "(5.716899, -75.309005)",
         "8695050",
         "institucional@hospitalsonson.gov.co"
        ]
       ],
       "datasetInfos": [],
       "dbfsResultPath": null,
       "isJsonSchema": true,
       "metadata": {},
       "overflow": false,
       "plotOptions": {
        "customPlotOptions": {},
        "displayType": "table",
        "pivotAggregation": null,
        "pivotColumns": null,
        "xColumns": null,
        "yColumns": null
       },
       "removedWidgets": [],
       "schema": [
        {
         "metadata": "{}",
         "name": "codigo_municipio",
         "type": "\"string\""
        },
        {
         "metadata": "{}",
         "name": "nombre_municipio",
         "type": "\"string\""
        },
        {
         "metadata": "{}",
         "name": "nombre_region",
         "type": "\"string\""
        },
        {
         "metadata": "{}",
         "name": "nombre_alcalde",
         "type": "\"string\""
        },
        {
         "metadata": "{}",
         "name": "titulo_alcalde",
         "type": "\"string\""
        },
        {
         "metadata": "{}",
         "name": "telefono_alcalde",
         "type": "\"string\""
        },
        {
         "metadata": "{}",
         "name": "email_alcalde",
         "type": "\"string\""
        },
        {
         "metadata": "{}",
         "name": "razon_social_hospital",
         "type": "\"string\""
        },
        {
         "metadata": "{}",
         "name": "nombre_hospital",
         "type": "\"string\""
        },
        {
         "metadata": "{}",
         "name": "codigo_habilitacion",
         "type": "\"string\""
        },
        {
         "metadata": "{}",
         "name": "nit_hospital",
         "type": "\"string\""
        },
        {
         "metadata": "{}",
         "name": "direccion_hospital",
         "type": "\"string\""
        },
        {
         "metadata": "{}",
         "name": "coordenadas_hospital",
         "type": "\"string\""
        },
        {
         "metadata": "{}",
         "name": "telefono_hospital",
         "type": "\"string\""
        },
        {
         "metadata": "{}",
         "name": "email_hospital",
         "type": "\"string\""
        }
       ],
       "type": "table"
      }
     },
     "output_type": "display_data"
    }
   ],
   "source": [
    "%sql\n",
    "SELECT * FROM municipios_info"
   ]
  },
  {
   "cell_type": "markdown",
   "metadata": {
    "application/vnd.databricks.v1+cell": {
     "cellMetadata": {},
     "inputWidgets": {},
     "nuid": "a3cf0130-9a2b-44c0-9430-d70eb9369de8",
     "showTitle": false,
     "title": ""
    }
   },
   "source": [
    "## Prueba de que la tabla final tiene la misma cantidad de registros que las tablas originales, al ser un join se conservan la cantidad de registros"
   ]
  },
  {
   "cell_type": "code",
   "execution_count": 0,
   "metadata": {
    "application/vnd.databricks.v1+cell": {
     "cellMetadata": {
      "byteLimit": 2048000,
      "rowLimit": 10000
     },
     "inputWidgets": {},
     "nuid": "a96ca0c7-085c-4c92-981c-4c89477a8bac",
     "showTitle": false,
     "title": ""
    }
   },
   "outputs": [
    {
     "output_type": "stream",
     "name": "stdout",
     "output_type": "stream",
     "text": [
      "125' '125' '125' '"
     ]
    }
   ],
   "source": [
    "display(df_alcaldes.count(),\" \")\n",
    "display(df_municipios.count(), \" \")\n",
    "display(df_hospitales.count(), \" \")"
   ]
  },
  {
   "cell_type": "code",
   "execution_count": 0,
   "metadata": {
    "application/vnd.databricks.v1+cell": {
     "cellMetadata": {
      "byteLimit": 2048000,
      "implicitDf": true,
      "rowLimit": 10000
     },
     "inputWidgets": {},
     "nuid": "4e3b8169-7f8f-44d6-a346-5828624e1e3d",
     "showTitle": false,
     "title": ""
    }
   },
   "outputs": [
    {
     "output_type": "display_data",
     "data": {
      "text/html": [
       "<style scoped>\n",
       "  .table-result-container {\n",
       "    max-height: 300px;\n",
       "    overflow: auto;\n",
       "  }\n",
       "  table, th, td {\n",
       "    border: 1px solid black;\n",
       "    border-collapse: collapse;\n",
       "  }\n",
       "  th, td {\n",
       "    padding: 5px;\n",
       "  }\n",
       "  th {\n",
       "    text-align: left;\n",
       "  }\n",
       "</style><div class='table-result-container'><table class='table-result'><thead style='background-color: white'><tr><th>count(1)</th></tr></thead><tbody><tr><td>125</td></tr></tbody></table></div>"
      ]
     },
     "metadata": {
      "application/vnd.databricks.v1+output": {
       "addedWidgets": {},
       "aggData": [],
       "aggError": "",
       "aggOverflow": false,
       "aggSchema": [],
       "aggSeriesLimitReached": false,
       "aggType": "",
       "arguments": {},
       "columnCustomDisplayInfos": {},
       "data": [
        [
         125
        ]
       ],
       "datasetInfos": [],
       "dbfsResultPath": null,
       "isJsonSchema": true,
       "metadata": {},
       "overflow": false,
       "plotOptions": {
        "customPlotOptions": {},
        "displayType": "table",
        "pivotAggregation": null,
        "pivotColumns": null,
        "xColumns": null,
        "yColumns": null
       },
       "removedWidgets": [],
       "schema": [
        {
         "metadata": "{\"__autoGeneratedAlias\":\"true\"}",
         "name": "count(1)",
         "type": "\"long\""
        }
       ],
       "type": "table"
      }
     },
     "output_type": "display_data"
    }
   ],
   "source": [
    "%sql\n",
    "\n",
    "SELECT COUNT(*) FROM municipios_info"
   ]
  },
  {
   "cell_type": "markdown",
   "metadata": {
    "application/vnd.databricks.v1+cell": {
     "cellMetadata": {},
     "inputWidgets": {},
     "nuid": "dd0eaec7-206b-45c4-9456-deefb06d3b97",
     "showTitle": false,
     "title": ""
    }
   },
   "source": [
    "## Posibilidad de filtrar datos de la misma tabla"
   ]
  },
  {
   "cell_type": "code",
   "execution_count": 0,
   "metadata": {
    "application/vnd.databricks.v1+cell": {
     "cellMetadata": {
      "byteLimit": 2048000,
      "implicitDf": true,
      "rowLimit": 10000
     },
     "inputWidgets": {},
     "nuid": "02aad7a7-d4d2-433e-be16-75b510494fba",
     "showTitle": false,
     "title": ""
    }
   },
   "outputs": [
    {
     "output_type": "display_data",
     "data": {
      "text/html": [
       "<style scoped>\n",
       "  .table-result-container {\n",
       "    max-height: 300px;\n",
       "    overflow: auto;\n",
       "  }\n",
       "  table, th, td {\n",
       "    border: 1px solid black;\n",
       "    border-collapse: collapse;\n",
       "  }\n",
       "  th, td {\n",
       "    padding: 5px;\n",
       "  }\n",
       "  th {\n",
       "    text-align: left;\n",
       "  }\n",
       "</style><div class='table-result-container'><table class='table-result'><thead style='background-color: white'><tr><th>codigo_municipio</th><th>nombre_municipio</th><th>nombre_region</th><th>nombre_alcalde</th><th>nombre_hospital</th></tr></thead><tbody><tr><td>5001</td><td>MEDELLÍN</td><td>Valle de Aburra</td><td>FEDERICO GUTIÉRREZ ZULUAGA</td><td>EMPRESA SOCIAL DEL ESTADO HOSPITAL GENERAL DE MEDELLIN LUZ CASTRO DE GUTIERREZ</td></tr><tr><td>5002</td><td>ABEJORRAL</td><td>Oriente</td><td>MANUEL ALBERTO GUZMÁN MARÍN</td><td>HOSPITAL SAN JUAN DE DIOS ABEJORRAL</td></tr><tr><td>5004</td><td>ABRIAQUÍ</td><td>Occidente</td><td>DANIEL ALBERTO SALAS GALLEGO</td><td>ESE HOSPITAL NUEVO HORIZONTE</td></tr><tr><td>5021</td><td>ALEJANDRÍA</td><td>Oriente</td><td>GLORIA CECILIA NARANJO OSORIO</td><td>ESE HOSPITAL PBRO LUIS FELIPE ARBELAEZ</td></tr><tr><td>5030</td><td>AMAGÁ</td><td>Suroeste</td><td>WILSER DARÍO MOLINA MOLINA</td><td>E.S.E. HOSPITAL SAN FERNANDO</td></tr><tr><td>5031</td><td>AMALFI</td><td>Nordeste</td><td>WILMAR ALONSO VÉLEZ LONDOÑO</td><td>E.S.E HOSPITAL EL CARMEN</td></tr><tr><td>5034</td><td>ANDES</td><td>Suroeste</td><td>GERMÁN ALEXANDER VÉLEZ OROZCO</td><td>E.S.E. HOSPITAL SAN RAFAEL</td></tr><tr><td>5036</td><td>ANGELÓPOLIS</td><td>Suroeste</td><td>JOSÉ LUIS MONTOYA QUICENO</td><td>NUEVA E.S.E HOSPITAL LA MISERICORDIA</td></tr><tr><td>5038</td><td>ANGOSTURA</td><td>Norte</td><td>VÍCTOR IGNACIO MEDINA GÓMEZ</td><td>E.S.E. EMPRESA SOCIAL DEL ESTADO HOSPITAL SAN RAFAEL</td></tr><tr><td>5040</td><td>ANORÍ</td><td>Nordeste</td><td>GUSTAVO ALFREDO SILVA GUTIÉRREZ</td><td>ESE HOSPITAL SAN JUAN DE DIOS DE ANORI</td></tr><tr><td>5044</td><td>ANZA</td><td>Occidente</td><td>JUAN GUILLERMO HINCAPIÉ FIGUEROA</td><td>E.S.E. HOSPITAL SAN FRANCISCO DE ASIS</td></tr><tr><td>5045</td><td>APARTADÓ</td><td>Uraba</td><td>HÉCTOR RANGEL PALACIOS RODRÍGUEZ</td><td>EMPRESA SOCIAL DEL ESTADO HOSPITAL ANTONIO ROLDAN BETANCUR</td></tr><tr><td>5051</td><td>ARBOLETES</td><td>Uraba</td><td>ÁLVARO GONZÁLEZ ÁVILA</td><td>E.S.E. HOSPITAL PEDRO NEL CARMONA</td></tr><tr><td>5055</td><td>ARGELIA</td><td>Oriente</td><td>DIEGO ALEXANDER LÓPEZ GIRALDO</td><td>EMPRESA SOCIAL DEL ESTADO HOSPITAL SAN JULIAN</td></tr><tr><td>5059</td><td>ARMENIA</td><td>Occidente</td><td>MARTHA LIBIA PARRA GIL</td><td>EMPRES SOCIAL DEL ESTADO HOSPITAL SAN MARTIN DE PORRES</td></tr><tr><td>5079</td><td>BARBOSA</td><td>Valle de Aburra</td><td>JUAN DAVID ROJAS AGUDELO</td><td>ESE HOSPITAL SAN VICENTE DE PAUL</td></tr><tr><td>5088</td><td>BELLO</td><td>Valle de Aburra</td><td>YULIETH LORENA GONZÁLEZ OSPINA</td><td>EMPRESA SOCIAL DEL ESTADO HOSPITAL MARCO FIDEL SUAREZ</td></tr><tr><td>5091</td><td>BETANIA</td><td>Suroeste</td><td>DIEGO ARLEY DE JESÚS GUERRA GUTIÉRREZ</td><td>E.S.E. HOSPITAL SAN ANTONIO DE BETANIA</td></tr><tr><td>5093</td><td>BETULIA</td><td>Suroeste</td><td>NÉSTOR CAMILO SERNA HERNÁNDEZ</td><td>E.S.E. HOSPITAL GERMAN VELEZ GUTIERREZ</td></tr><tr><td>5101</td><td>CIUDAD BOLÍVAR</td><td>Suroeste</td><td>LEÓN DARÍO ACEVEDO VARGAS</td><td>E.S.E. HOSPITAL LA MERCED</td></tr><tr><td>5107</td><td>BRICEÑO</td><td>Norte</td><td>NOÉ DE JESÚS ESPINOSA VÁSQUEZ</td><td>ESE HOSPITAL EL SAGRADO CORAZON</td></tr><tr><td>5113</td><td>BURITICÁ</td><td>Occidente</td><td>JOSÉ LUIS RODRÍGUEZ ÚSUGA</td><td>E.S.E. HOSPITAL SAN ANTONIO DE BURITICA</td></tr><tr><td>5120</td><td>CÁCERES</td><td>Bajo Cauca</td><td>DAMIANA MARÍA MONTERROSA PÉREZ</td><td>EMPRESA SOCIAL DEL ESTADO HOSPITAL ISABEL LA CATOLICA</td></tr><tr><td>5125</td><td>CAICEDO</td><td>Occidente</td><td>YÚBER FELIPE MOLINA MURILLO</td><td>E.S.E. HOSPITAL GUILLERMO GAVIRIA CORREA</td></tr><tr><td>5129</td><td>CALDAS</td><td>Valle de Aburra</td><td>JORGE MARIO RENDÓN VÉLEZ</td><td>E.S.E. HOSPITAL SAN VICENTE DE PAUL DE CALDAS</td></tr><tr><td>5134</td><td>CAMPAMENTO</td><td>Norte</td><td>CRISTIÁN ÁNDRÉS AGUDELO POSADA</td><td>E.S.E. HOSPITAL LA SAGRADA FAMILIA</td></tr><tr><td>5138</td><td>CAÑASGORDAS</td><td>Occidente</td><td>DIEGO ALONSO VANEGAS ARANGO</td><td>E.S.E. HOSPITAL SAN CARLOS</td></tr><tr><td>5142</td><td>CARACOLÍ</td><td>Magdalena Medio</td><td>RODRIGO ALVEIRO CADAVID HERRERA</td><td>HOSPITAL SAN PIO X</td></tr><tr><td>5145</td><td>CARAMANTA</td><td>Suroeste</td><td>JUAN ESTEBAN CORREA CÁRDENAS</td><td>E.S.E. HOSPITAL SAN ANTONIO</td></tr><tr><td>5147</td><td>CAREPA</td><td>Uraba</td><td>AGAPITO MURILLO PALACIOS</td><td>E.S.E HOSPITAL FRANCISCO LUIS JIMENEZ MARTINEZ</td></tr><tr><td>5150</td><td>CAROLINA</td><td>Norte</td><td>ANA ISABEL AVENDAÑO DUQUE</td><td>EMPRESA SOCIAL DEL ESTADO HOSPITAL SAN RAFAEL</td></tr><tr><td>5154</td><td>CAUCASIA</td><td>Bajo Cauca</td><td>JHOAN ODERIS MONTES CORTÉS</td><td>HOSPITAL CESAR URIBE PIEDARHITA</td></tr><tr><td>5172</td><td>CHIGORODÓ</td><td>Uraba</td><td>TULIA IRENE RUIZ GARCÍA</td><td>EMPRESA SOCIAL DEL ESTADO HOSPITAL MARIA AUXILIADORA</td></tr><tr><td>5190</td><td>CISNEROS</td><td>Nordeste</td><td>LINA MARÍA CORREA VALENCIA</td><td>E.S.E HOSPITAL SAN ANTONIO</td></tr><tr><td>5197</td><td>COCORNÁ</td><td>Oriente</td><td>DAVID ALEJANDRO GÓMEZ HOYOS</td><td>ESE HOSPITAL SAN JUAN DE DIOS</td></tr><tr><td>5206</td><td>CONCEPCIÓN</td><td>Oriente</td><td>ADRIÁN HENAO CARVAJAL</td><td>ESE HOSPITAL JOSE MARIA CORDOBA</td></tr><tr><td>5209</td><td>CONCORDIA</td><td>Suroeste</td><td>ALEXANDRA MARÍA HERRERA QUIJANO</td><td>E.S.E. HOSPITAL SAN JUAN DE DIOS</td></tr><tr><td>5212</td><td>COPACABANA</td><td>Valle de Aburra</td><td>JOHNNATAN ANDRÉS PINEDA AGUDELO</td><td>E.S.E. HOSPITAL SANTA MARGARITA</td></tr><tr><td>5234</td><td>DABEIBA</td><td>Occidente</td><td>DANIEL HIGUITA HERRERA</td><td>E.S.E HOSPITAL NUESTRA SEÑORA DEL PERPETUO SOCORRO</td></tr><tr><td>5237</td><td>DONMATÍAS</td><td>Norte</td><td>JAVIER DARÍO LÓPEZ RESTREPO</td><td>E.S.E. HOSPITAL FRANCISCO ELADIO BARRERA</td></tr><tr><td>5240</td><td>EBÉJICO</td><td>Occidente</td><td>DAVID ALONSO RESTREPO CASTRILLÓN</td><td>EMPRESA SOCIAL DEL ESTADO HOSPITAL SAN RAFAEL</td></tr><tr><td>5250</td><td>EL BAGRE</td><td>Bajo Cauca</td><td>MARCO FIDEL TRESPALACIO BULLOSO</td><td>ESE HOSPITAL NUESTRA SEÑORA DEL CARMEN</td></tr><tr><td>5264</td><td>ENTRERRIOS</td><td>Norte</td><td>JULIO CÉSAR LOPERA POSADA</td><td>ESE HOSPITAL PRESBITERO EMIGDIO PALACIO</td></tr><tr><td>5266</td><td>ENVIGADO</td><td>Valle de Aburra</td><td>RAÚL EDUARDO CARDONA GONZÁLEZ</td><td>ESE HOSPITAL MANUEL URIBE ANGEL</td></tr><tr><td>5282</td><td>FREDONIA</td><td>Suroeste</td><td>ALDUBAR DE JESÚS VANEGAS MARÍN</td><td>E.S.E. HOSPITAL SANTA LUCIA</td></tr><tr><td>5306</td><td>GIRALDO</td><td>Occidente</td><td>MARÍA CAMILA MANCO SUÁREZ</td><td>E.S.E. HOSPITAL SAN ISIDRO</td></tr><tr><td>5308</td><td>GIRARDOTA</td><td>Valle de Aburra</td><td>KEVIN RENÉ BERNAL MORALES</td><td>E.S.E. HOSPITAL SAN RAFAEL</td></tr><tr><td>5310</td><td>GÓMEZ PLATA</td><td>Norte</td><td>LUIS GUILLERMO PÉREZ ECHEVERRI</td><td>E.S.E. HOSPITAL SANTA ISABEL</td></tr><tr><td>5315</td><td>GUADALUPE</td><td>Norte</td><td>JOSÉ FERNANDO SALAZAR OSPINA</td><td>E.S.E. HOSPITAL NUESTRA SEÑORA DE GUADALUPE</td></tr><tr><td>5318</td><td>GUARNE</td><td>Oriente</td><td>DIEGO MAURICIO GRISALES GALLEGO</td><td>E.S.E. NUETRA SEÑORA DE LA CANDELARIA</td></tr><tr><td>5321</td><td>GUATAPE</td><td>Oriente</td><td>DAVID ESTEBAN FRANCO VALLEJO</td><td>E.S.E. HOSPITAL LA INMACULADA</td></tr><tr><td>5347</td><td>HELICONIA</td><td>Occidente</td><td>JORGE ALEXANDER ÁLVAREZ ARANGO</td><td>EMPRESA SOCIAL DEL ESTADO HOSPITAL SAN RAFAEL</td></tr><tr><td>5353</td><td>HISPANIA</td><td>Suroeste</td><td>ORLANDO ARTURO MARÍN ATEHORTUA</td><td>ESE HOSPITAL SAN JUAN DEL SUROESTE</td></tr><tr><td>5360</td><td>ITAGUI</td><td>Valle de Aburra</td><td>DIEGO LEÓN TORRES SÁNCHEZ</td><td>E.S.E. HOSPITAL SAN RAFAEL DE ITAGUI</td></tr><tr><td>5361</td><td>ITUANGO</td><td>Norte</td><td>JAVIER DE JESÚS PARIAS POSSO</td><td>E.S.E.  HOSPITAL SAN JUAN DE DIOS DE ITUANGO</td></tr><tr><td>5086</td><td>BELMIRA</td><td>Norte</td><td>DARCY ESTEBAN ARBOLEDA RUA</td><td>EMPRESA SOCIAL DEL ESTADO HOSPITAL NUESTRA SEÑORA DEL ROSARIO</td></tr><tr><td>5368</td><td>JERICÓ</td><td>Suroeste</td><td>SEBASTIÁN GARCÉS PIEDRAHITA</td><td>NUEVA ESE HOSPITAL SAN RAFAEL JERICO</td></tr><tr><td>5376</td><td>LA CEJA</td><td>Oriente</td><td>MARÍA ILBED SANTA SANTA</td><td>ESE HOSPITAL DE LA CEJA</td></tr><tr><td>5380</td><td>LA ESTRELLA</td><td>Valle de Aburra</td><td>CARLOS MARIO GUTIÉRREZ</td><td>EMPRESA SOCIAL DEL ESTADO HOSPITAL LA ESTRELLA</td></tr><tr><td>5390</td><td>LA PINTADA</td><td>Suroeste</td><td>HERMÁN ANTONIO CORREA BEDOYA</td><td>EMPRESA SOCIAL DEL ESTADO HOSPITAL ANTONIO ROLDAN BETANCUR</td></tr><tr><td>5400</td><td>LA UNIÓN</td><td>Oriente</td><td>CARMEN JUDITH VALENCIA MORENO</td><td>E.S.E. HOSPITAL SAN ROQUE</td></tr><tr><td>5411</td><td>LIBORINA</td><td>Occidente</td><td>NANCY AMPARO AVENDAÑO MORENO</td><td>EMPRESA SOCIAL DEL ESTADO HOSPITAL SAN LORENZO</td></tr><tr><td>5425</td><td>MACEO</td><td>Magdalena Medio</td><td>CAROLINA ANDREA SOSA GÓMEZ</td><td>EMPRESA SOCIAL DEL ESTADO HOSPITAL  MARCO A. CARDONA</td></tr><tr><td>5440</td><td>MARINILLA</td><td>Oriente</td><td>JULIO CÉSAR SERNA GÓMEZ</td><td>E.S.E. SAN JUAN DE DIOS DE MARINILLA</td></tr><tr><td>5467</td><td>MONTEBELLO</td><td>Suroeste</td><td>ÓSCAR ERNESTO CUERVO VILLADA</td><td>E.S.E. HOSPITAL SAN ANTONIO</td></tr><tr><td>5475</td><td>MURINDÓ</td><td>Uraba</td><td>EMPERATRIZ MENA PALACIO</td><td>ESE HOSPITAL SAN BARTOLOMÉ</td></tr><tr><td>5480</td><td>MUTATÁ</td><td>Uraba</td><td>JAIRO ENRIQUE ORTIZ PALACIOS</td><td>E.S.E. HOSPITAL LA ANUNCIACION</td></tr><tr><td>5483</td><td>NARIÑO</td><td>Oriente</td><td>ÉRIKA CARDONA PÉREZ</td><td>E.S.E. HOSPITAL SAN JOAQUIN</td></tr><tr><td>5490</td><td>NECOCLÍ</td><td>Uraba</td><td>GUILLERMO JOSÉ CARDONA MORENO</td><td>E.S.E. HOSPITAL SAN SEBASTIAN DE URABÁ</td></tr><tr><td>5495</td><td>NECHÍ</td><td>Bajo Cauca</td><td>YUMARIS PATRICIA HENRÍQUEZ BANQUET</td><td>ESE HOSPITAL LA MISERICORDIA</td></tr><tr><td>5501</td><td>OLAYA</td><td>Occidente</td><td>JESÚS DAVID HERNÁNDEZ LONDOÑO</td><td>ESE HOSPITAL SAN MIGUEL</td></tr><tr><td>5541</td><td>PEÑOL</td><td>Oriente</td><td>SANDRA ARELIS DUQUE VELÁSQUEZ</td><td>E.S.E HOSPITAL SAN JUAN DE DIOS</td></tr><tr><td>5543</td><td>PEQUE</td><td>Occidente</td><td>EMILSON DE JESÚS HERNÁNDEZ HERNÁNDEZ</td><td>E.S.E. HOSPITAL SAN FRANCISCO</td></tr><tr><td>5576</td><td>PUEBLORRICO</td><td>Suroeste</td><td>CRISTIAN CAMILO ZAPATA RAMÍREZ</td><td>E.S.E. HOSPITAL SAN VICENTE DE PAUL</td></tr><tr><td>5579</td><td>PUERTO BERRÍO</td><td>Magdalena Medio</td><td>ROBINSON ALBERTO BAENA ZULUAGA</td><td>E.S.E HOSPITAL LA CRUZ</td></tr><tr><td>5585</td><td>PUERTO NARE</td><td>Magdalena Medio</td><td>JUAN CARLOS ACEVEDO ALZATE</td><td>EMPRESA SOCIAL DEL ESTADO HOSPITAL OCTAVIO OLIVARES</td></tr><tr><td>5591</td><td>PUERTO TRIUNFO</td><td>Magdalena Medio</td><td>FRANKLIN PORTILLO GÓMEZ</td><td>ESE HOSPITAL LA PAZ</td></tr><tr><td>5604</td><td>REMEDIOS</td><td>Nordeste</td><td>ALBEIRO ARENAS MOLINA</td><td>EMPRESA SOCIAL DEL ESTADO HOSPITAL SAN VICENTE DE PAUL</td></tr><tr><td>5607</td><td>RETIRO</td><td>Oriente</td><td>SANTIAGO MONTOYA GIRALDO</td><td>E.S.E. HOSPITAL SAN JUAN DE DIOS DEL RETIRO</td></tr><tr><td>5615</td><td>RIONEGRO</td><td>Oriente</td><td>JORGE HUMBERTO RIVAS URREA</td><td>E.S.E. HOSPITAL SAN JUAN DE DIOS</td></tr><tr><td>5628</td><td>SABANALARGA</td><td>Occidente</td><td>CÉSAR ALONSO CUADROS GEORGE</td><td>E.S.E. HOSPITAL SAN PEDRO</td></tr><tr><td>5631</td><td>SABANETA</td><td>Valle de Aburra</td><td>ALDER JAMES CRUZ OCAMPO</td><td>E.S.E. HOSPITAL VENACIO DIAZ DIAZ</td></tr><tr><td>5642</td><td>SALGAR</td><td>Suroeste</td><td>VÍCTOR RAÚL MAYA CEBALLOS</td><td>E.S.E. HOSPITAL SAN JOSE</td></tr><tr><td>5652</td><td>SAN FRANCISCO</td><td>Oriente</td><td>ARTURO ALEXANDER ARIAS DUQUE</td><td>EMPRESA SOCIAL DEL ESTADO HOSPITAL SAN FRANCISCO DE ASIS</td></tr><tr><td>5656</td><td>SAN JERÓNIMO</td><td>Occidente</td><td>DONALDO FERNÁN VIVARES GALLEGO</td><td>E.S.E. HOSPITAL SAN LUIS BELTRAN</td></tr><tr><td>5660</td><td>SAN LUIS</td><td>Oriente</td><td>CÉSAR ABAD BUITRAGO ARIAS</td><td>E.S.E. HOSPITAL SAN RAFAEL DE SAN LUIS</td></tr><tr><td>5664</td><td>SAN PEDRO DE LOS MILAGROS</td><td>Norte</td><td>JOSÉ DANILO ÁLVAREZ RODRÍGUEZ</td><td>E.S.E. HOSPITAL SANTA ISABEL</td></tr><tr><td>5667</td><td>SAN RAFAEL</td><td>Oriente</td><td>EDUIN ANICENO GIRALDO QUINTANA</td><td>ESE HOSPITAL PBRO ALONSO MARIA GIRALDO</td></tr><tr><td>5670</td><td>SAN ROQUE</td><td>Nordeste</td><td>LUIS ALEJANDRO VILLEGAS CANO</td><td>ESE HOSPITAL MUNICIPAL SAN ROQUE</td></tr><tr><td>5674</td><td>SAN VICENTE FERRER</td><td>Oriente</td><td>NELSON DE JESÚS HENAO ZAPATA</td><td>E S E HOSPITAL MUNICIPIO DE SAN VICENTE</td></tr><tr><td>5679</td><td>SANTA BÁRBARA</td><td>Suroeste</td><td>JORGE MARIO QUINTANA CAÑAVERAL</td><td>EMPRESA SOCIAL DEL ESTADO HOSPITAL SANTAMARIA</td></tr><tr><td>5690</td><td>SANTO DOMINGO</td><td>Nordeste</td><td>FABIO IGNACIO MIRA VALENCIA</td><td>ESE HOSPITAL SAN RAFAEL</td></tr><tr><td>5697</td><td>EL SANTUARIO</td><td>Oriente</td><td>MARTÍN ALBERTO DUQUE GALLO</td><td>E.S.E. HOSPITAL SAN JUAN DE DIOS EL SANTUARIO</td></tr><tr><td>5736</td><td>SEGOVIA</td><td>Nordeste</td><td>EDWIN ALEXANDER CASTAÑEDA VAHOS</td><td>E.S.E. HOSPITAL SAN JUAN DE DIOS</td></tr><tr><td>5761</td><td>SOPETRÁN</td><td>Occidente</td><td>TATIANA ALEXANDRA CARBALLO HOYOS</td><td>EMPRESA SOCIAL DEL ESTADO HORACIO MUÑOZ SUESCUN</td></tr><tr><td>5789</td><td>TÁMESIS</td><td>Suroeste</td><td>JUAN PABLO PÉREZ RÁMIREZ</td><td>E.S.E HOSPITAL SAN JUAN DE DIOS</td></tr><tr><td>5790</td><td>TARAZÁ</td><td>Bajo Cauca</td><td>YOMER FABIÁN ÁLVAREZ CORREA</td><td>E.S.E. HOSPITAL SAN ANTONIO</td></tr><tr><td>5792</td><td>TARSO</td><td>Suroeste</td><td>HUGO ALEXANDER OCAMPO RÍOS</td><td>E.S.E SAN PABLO</td></tr><tr><td>5809</td><td>TITIRIBÍ</td><td>Suroeste</td><td>ALEX DAVID RESTREPO SALAZAR</td><td>ESE HOSPITAL SAN JUAN DE DIOS</td></tr><tr><td>5819</td><td>TOLEDO</td><td>Norte</td><td>JHONNY ALBERTO MARÍN MUÑETÓN</td><td>EMPRESA SOCIAL DEL ESTADO HOSPITAL PEDRO CLAVER AGUIRRE Y</td></tr><tr><td>5837</td><td>TURBO</td><td>Uraba</td><td>ALEJANDRO ABUCHAR GONZÁLEZ</td><td>EMPRESA SOCIAL DEL ESTADO HOSPITAL FRANCISCO VALDERRAMA</td></tr><tr><td>5842</td><td>URAMITA</td><td>Occidente</td><td>LEONARDO ÚSUGA CORREA</td><td>EMPRESA SOCIAL DEL ESTADO HOSPITAL TOBIAS PUERTA</td></tr><tr><td>5847</td><td>URRAO</td><td>Suroeste</td><td>NELSON JAVIER BARRERA HOLGUÍN</td><td>ESE HOSPITAL IVAN RESTREPO GOMEZ</td></tr><tr><td>5854</td><td>VALDIVIA</td><td>Norte</td><td>CARLOS DANOBER MOLINA BETANCUR</td><td>E.S.E HOSPITAL SAN JUAN DE DIOS DE VALDIVIA</td></tr><tr><td>5856</td><td>VALPARAÍSO</td><td>Suroeste</td><td>JOSÉ MARIO HERNÁNDEZ DEVIA</td><td>E.S.E. HOSPITAL SAN JUAN DE DIOS</td></tr><tr><td>5858</td><td>VEGACHÍ</td><td>Nordeste</td><td>JOSÉ MARÍA OCHOA MUÑOZ</td><td>E.S.E. HOSPITAL SAN CAMILO DE LELIS</td></tr><tr><td>5861</td><td>VENECIA</td><td>Suroeste</td><td>FERNEY DARIO FERNÁNDEZ</td><td>ESE HOSPITAL SAN RAFAEL DE VENECIA</td></tr><tr><td>5885</td><td>YALÍ</td><td>Nordeste</td><td>JHON JAIRO GIRALDO POSADA</td><td>E.S.E. HOSPITAL LA MISERICORDIA</td></tr><tr><td>5887</td><td>YARUMAL</td><td>Norte</td><td>CRISTIAN DAVID CÉSPEDES CORREA</td><td>E.S.E. HOSPITAL SAN JUAN DE DIOS YARUMAL</td></tr><tr><td>5890</td><td>YOLOMBÓ</td><td>Nordeste</td><td>JESÚS AMADOR PÉREZ PALACIO</td><td>EMPRESA SOCIAL DEL ESTADO HOSPITAL SAN RAFAEL DE YOLOMBO</td></tr><tr><td>5893</td><td>YONDÓ</td><td>Magdalena Medio</td><td>YERSON ANTONIO ARIZA RIVERA</td><td>ESE HOSPITAL HECTOR ABAD GOMEZ</td></tr><tr><td>5895</td><td>ZARAGOZA</td><td>Bajo Cauca</td><td>ANDRÉS EMILIO LUJAN MONROY</td><td>ESE HOSPITAL SAN RAFAEL</td></tr><tr><td>5665</td><td>SAN PEDRO DE URABA</td><td>Uraba</td><td>NEVER JACINTO CARVAJAL MIRANDA</td><td>E.S.E. HOSPITAL OSCAR EMIRO VERGARA CRUZ</td></tr><tr><td>5042</td><td>SANTAFÉ DE ANTIOQUIA</td><td>Occidente</td><td>YAMID CARVAJAL CARVAJAL</td><td>E.S.E. HOSPITAL SAN JUAN DE DIOS ANTIOQUIA</td></tr><tr><td>5686</td><td>SANTA ROSA DE OSOS</td><td>Norte</td><td>LUIS BERNADO MOLINA GRANDA</td><td>E.S.E. HOSPITAL SAN JUAN DE DIOS DE SANTA ROSA DE OSOS</td></tr><tr><td>5647</td><td>SAN ANDRÉS DE CUERQUÍA</td><td>Norte</td><td>JOSÉ FERNANDO CHAVARRÍA CHAVARRÍA</td><td>E.S.E GUSTAVO GONZALEZ OCHOA</td></tr><tr><td>5873</td><td>VIGÍA DEL FUERTE</td><td>Uraba</td><td>JHOSELIN LOZANO MENA</td><td>E.S.E HOSPITAL ATRATO MEDIO ANTIOQUEÑO</td></tr><tr><td>5658</td><td>SAN JOSÉ DE LA MONTAÑA</td><td>Norte</td><td>JULIÁN ANDRÉS GONZÁLEZ POSADA</td><td>E.S.E. HOSPITAL LAUREANO PINO</td></tr><tr><td>5659</td><td>SAN JUAN DE URABÁ</td><td>Uraba</td><td>LUIS FERNANDO RUIZ DÍAZ</td><td>E.S.E. HOSPITAL HECTOR ABAD GOMEZ</td></tr><tr><td>5148</td><td>EL CARMEN DE VIBORAL</td><td>Oriente</td><td>HUGO ALFONSO JÍMENEZ CUERVO</td><td>E.S.E. HOSPITAL SAN JUAN DE DIOS</td></tr><tr><td>5649</td><td>SAN CARLOS</td><td>Oriente</td><td>SANTIAGO DAZA ESPINOSA</td><td>E.S.E. HOSPITAL SAN VICENTE DE PAUL</td></tr><tr><td>5284</td><td>FRONTINO</td><td>Occidente</td><td>LUZ GABRIELA RIVERA CANO</td><td>EMPRESA SOCIAL DEL ESTADO HOSPITAL MARIA ANTONIA TORO DE ELEJALDE</td></tr><tr><td>5313</td><td>GRANADA</td><td>Oriente</td><td>DANIEL ANDRÉS HOYOS YEPES</td><td>ESE HOSPITAL PADRE CLEMENTE GIRALDO</td></tr><tr><td>5364</td><td>JARDÍN</td><td>Suroeste</td><td>CLAUDIA YANETH NARANJO AGUDELO</td><td>E.S.E HOSPITAL GABRIEL PELÁEZ MONTOYA</td></tr><tr><td>5756</td><td>SONSON</td><td>Oriente</td><td>JUAN DIEGO ZULUAGA PULGARÍN</td><td>EMPRESA SOCIAL DEL ESTADO SAN JUAN DE DIOS</td></tr></tbody></table></div>"
      ]
     },
     "metadata": {
      "application/vnd.databricks.v1+output": {
       "addedWidgets": {},
       "aggData": [],
       "aggError": "",
       "aggOverflow": false,
       "aggSchema": [],
       "aggSeriesLimitReached": false,
       "aggType": "",
       "arguments": {},
       "columnCustomDisplayInfos": {},
       "data": [
        [
         "5001",
         "MEDELLÍN",
         "Valle de Aburra",
         "FEDERICO GUTIÉRREZ ZULUAGA",
         "EMPRESA SOCIAL DEL ESTADO HOSPITAL GENERAL DE MEDELLIN LUZ CASTRO DE GUTIERREZ"
        ],
        [
         "5002",
         "ABEJORRAL",
         "Oriente",
         "MANUEL ALBERTO GUZMÁN MARÍN",
         "HOSPITAL SAN JUAN DE DIOS ABEJORRAL"
        ],
        [
         "5004",
         "ABRIAQUÍ",
         "Occidente",
         "DANIEL ALBERTO SALAS GALLEGO",
         "ESE HOSPITAL NUEVO HORIZONTE"
        ],
        [
         "5021",
         "ALEJANDRÍA",
         "Oriente",
         "GLORIA CECILIA NARANJO OSORIO",
         "ESE HOSPITAL PBRO LUIS FELIPE ARBELAEZ"
        ],
        [
         "5030",
         "AMAGÁ",
         "Suroeste",
         "WILSER DARÍO MOLINA MOLINA",
         "E.S.E. HOSPITAL SAN FERNANDO"
        ],
        [
         "5031",
         "AMALFI",
         "Nordeste",
         "WILMAR ALONSO VÉLEZ LONDOÑO",
         "E.S.E HOSPITAL EL CARMEN"
        ],
        [
         "5034",
         "ANDES",
         "Suroeste",
         "GERMÁN ALEXANDER VÉLEZ OROZCO",
         "E.S.E. HOSPITAL SAN RAFAEL"
        ],
        [
         "5036",
         "ANGELÓPOLIS",
         "Suroeste",
         "JOSÉ LUIS MONTOYA QUICENO",
         "NUEVA E.S.E HOSPITAL LA MISERICORDIA"
        ],
        [
         "5038",
         "ANGOSTURA",
         "Norte",
         "VÍCTOR IGNACIO MEDINA GÓMEZ",
         "E.S.E. EMPRESA SOCIAL DEL ESTADO HOSPITAL SAN RAFAEL"
        ],
        [
         "5040",
         "ANORÍ",
         "Nordeste",
         "GUSTAVO ALFREDO SILVA GUTIÉRREZ",
         "ESE HOSPITAL SAN JUAN DE DIOS DE ANORI"
        ],
        [
         "5044",
         "ANZA",
         "Occidente",
         "JUAN GUILLERMO HINCAPIÉ FIGUEROA",
         "E.S.E. HOSPITAL SAN FRANCISCO DE ASIS"
        ],
        [
         "5045",
         "APARTADÓ",
         "Uraba",
         "HÉCTOR RANGEL PALACIOS RODRÍGUEZ",
         "EMPRESA SOCIAL DEL ESTADO HOSPITAL ANTONIO ROLDAN BETANCUR"
        ],
        [
         "5051",
         "ARBOLETES",
         "Uraba",
         "ÁLVARO GONZÁLEZ ÁVILA",
         "E.S.E. HOSPITAL PEDRO NEL CARMONA"
        ],
        [
         "5055",
         "ARGELIA",
         "Oriente",
         "DIEGO ALEXANDER LÓPEZ GIRALDO",
         "EMPRESA SOCIAL DEL ESTADO HOSPITAL SAN JULIAN"
        ],
        [
         "5059",
         "ARMENIA",
         "Occidente",
         "MARTHA LIBIA PARRA GIL",
         "EMPRES SOCIAL DEL ESTADO HOSPITAL SAN MARTIN DE PORRES"
        ],
        [
         "5079",
         "BARBOSA",
         "Valle de Aburra",
         "JUAN DAVID ROJAS AGUDELO",
         "ESE HOSPITAL SAN VICENTE DE PAUL"
        ],
        [
         "5088",
         "BELLO",
         "Valle de Aburra",
         "YULIETH LORENA GONZÁLEZ OSPINA",
         "EMPRESA SOCIAL DEL ESTADO HOSPITAL MARCO FIDEL SUAREZ"
        ],
        [
         "5091",
         "BETANIA",
         "Suroeste",
         "DIEGO ARLEY DE JESÚS GUERRA GUTIÉRREZ",
         "E.S.E. HOSPITAL SAN ANTONIO DE BETANIA"
        ],
        [
         "5093",
         "BETULIA",
         "Suroeste",
         "NÉSTOR CAMILO SERNA HERNÁNDEZ",
         "E.S.E. HOSPITAL GERMAN VELEZ GUTIERREZ"
        ],
        [
         "5101",
         "CIUDAD BOLÍVAR",
         "Suroeste",
         "LEÓN DARÍO ACEVEDO VARGAS",
         "E.S.E. HOSPITAL LA MERCED"
        ],
        [
         "5107",
         "BRICEÑO",
         "Norte",
         "NOÉ DE JESÚS ESPINOSA VÁSQUEZ",
         "ESE HOSPITAL EL SAGRADO CORAZON"
        ],
        [
         "5113",
         "BURITICÁ",
         "Occidente",
         "JOSÉ LUIS RODRÍGUEZ ÚSUGA",
         "E.S.E. HOSPITAL SAN ANTONIO DE BURITICA"
        ],
        [
         "5120",
         "CÁCERES",
         "Bajo Cauca",
         "DAMIANA MARÍA MONTERROSA PÉREZ",
         "EMPRESA SOCIAL DEL ESTADO HOSPITAL ISABEL LA CATOLICA"
        ],
        [
         "5125",
         "CAICEDO",
         "Occidente",
         "YÚBER FELIPE MOLINA MURILLO",
         "E.S.E. HOSPITAL GUILLERMO GAVIRIA CORREA"
        ],
        [
         "5129",
         "CALDAS",
         "Valle de Aburra",
         "JORGE MARIO RENDÓN VÉLEZ",
         "E.S.E. HOSPITAL SAN VICENTE DE PAUL DE CALDAS"
        ],
        [
         "5134",
         "CAMPAMENTO",
         "Norte",
         "CRISTIÁN ÁNDRÉS AGUDELO POSADA",
         "E.S.E. HOSPITAL LA SAGRADA FAMILIA"
        ],
        [
         "5138",
         "CAÑASGORDAS",
         "Occidente",
         "DIEGO ALONSO VANEGAS ARANGO",
         "E.S.E. HOSPITAL SAN CARLOS"
        ],
        [
         "5142",
         "CARACOLÍ",
         "Magdalena Medio",
         "RODRIGO ALVEIRO CADAVID HERRERA",
         "HOSPITAL SAN PIO X"
        ],
        [
         "5145",
         "CARAMANTA",
         "Suroeste",
         "JUAN ESTEBAN CORREA CÁRDENAS",
         "E.S.E. HOSPITAL SAN ANTONIO"
        ],
        [
         "5147",
         "CAREPA",
         "Uraba",
         "AGAPITO MURILLO PALACIOS",
         "E.S.E HOSPITAL FRANCISCO LUIS JIMENEZ MARTINEZ"
        ],
        [
         "5150",
         "CAROLINA",
         "Norte",
         "ANA ISABEL AVENDAÑO DUQUE",
         "EMPRESA SOCIAL DEL ESTADO HOSPITAL SAN RAFAEL"
        ],
        [
         "5154",
         "CAUCASIA",
         "Bajo Cauca",
         "JHOAN ODERIS MONTES CORTÉS",
         "HOSPITAL CESAR URIBE PIEDARHITA"
        ],
        [
         "5172",
         "CHIGORODÓ",
         "Uraba",
         "TULIA IRENE RUIZ GARCÍA",
         "EMPRESA SOCIAL DEL ESTADO HOSPITAL MARIA AUXILIADORA"
        ],
        [
         "5190",
         "CISNEROS",
         "Nordeste",
         "LINA MARÍA CORREA VALENCIA",
         "E.S.E HOSPITAL SAN ANTONIO"
        ],
        [
         "5197",
         "COCORNÁ",
         "Oriente",
         "DAVID ALEJANDRO GÓMEZ HOYOS",
         "ESE HOSPITAL SAN JUAN DE DIOS"
        ],
        [
         "5206",
         "CONCEPCIÓN",
         "Oriente",
         "ADRIÁN HENAO CARVAJAL",
         "ESE HOSPITAL JOSE MARIA CORDOBA"
        ],
        [
         "5209",
         "CONCORDIA",
         "Suroeste",
         "ALEXANDRA MARÍA HERRERA QUIJANO",
         "E.S.E. HOSPITAL SAN JUAN DE DIOS"
        ],
        [
         "5212",
         "COPACABANA",
         "Valle de Aburra",
         "JOHNNATAN ANDRÉS PINEDA AGUDELO",
         "E.S.E. HOSPITAL SANTA MARGARITA"
        ],
        [
         "5234",
         "DABEIBA",
         "Occidente",
         "DANIEL HIGUITA HERRERA",
         "E.S.E HOSPITAL NUESTRA SEÑORA DEL PERPETUO SOCORRO"
        ],
        [
         "5237",
         "DONMATÍAS",
         "Norte",
         "JAVIER DARÍO LÓPEZ RESTREPO",
         "E.S.E. HOSPITAL FRANCISCO ELADIO BARRERA"
        ],
        [
         "5240",
         "EBÉJICO",
         "Occidente",
         "DAVID ALONSO RESTREPO CASTRILLÓN",
         "EMPRESA SOCIAL DEL ESTADO HOSPITAL SAN RAFAEL"
        ],
        [
         "5250",
         "EL BAGRE",
         "Bajo Cauca",
         "MARCO FIDEL TRESPALACIO BULLOSO",
         "ESE HOSPITAL NUESTRA SEÑORA DEL CARMEN"
        ],
        [
         "5264",
         "ENTRERRIOS",
         "Norte",
         "JULIO CÉSAR LOPERA POSADA",
         "ESE HOSPITAL PRESBITERO EMIGDIO PALACIO"
        ],
        [
         "5266",
         "ENVIGADO",
         "Valle de Aburra",
         "RAÚL EDUARDO CARDONA GONZÁLEZ",
         "ESE HOSPITAL MANUEL URIBE ANGEL"
        ],
        [
         "5282",
         "FREDONIA",
         "Suroeste",
         "ALDUBAR DE JESÚS VANEGAS MARÍN",
         "E.S.E. HOSPITAL SANTA LUCIA"
        ],
        [
         "5306",
         "GIRALDO",
         "Occidente",
         "MARÍA CAMILA MANCO SUÁREZ",
         "E.S.E. HOSPITAL SAN ISIDRO"
        ],
        [
         "5308",
         "GIRARDOTA",
         "Valle de Aburra",
         "KEVIN RENÉ BERNAL MORALES",
         "E.S.E. HOSPITAL SAN RAFAEL"
        ],
        [
         "5310",
         "GÓMEZ PLATA",
         "Norte",
         "LUIS GUILLERMO PÉREZ ECHEVERRI",
         "E.S.E. HOSPITAL SANTA ISABEL"
        ],
        [
         "5315",
         "GUADALUPE",
         "Norte",
         "JOSÉ FERNANDO SALAZAR OSPINA",
         "E.S.E. HOSPITAL NUESTRA SEÑORA DE GUADALUPE"
        ],
        [
         "5318",
         "GUARNE",
         "Oriente",
         "DIEGO MAURICIO GRISALES GALLEGO",
         "E.S.E. NUETRA SEÑORA DE LA CANDELARIA"
        ],
        [
         "5321",
         "GUATAPE",
         "Oriente",
         "DAVID ESTEBAN FRANCO VALLEJO",
         "E.S.E. HOSPITAL LA INMACULADA"
        ],
        [
         "5347",
         "HELICONIA",
         "Occidente",
         "JORGE ALEXANDER ÁLVAREZ ARANGO",
         "EMPRESA SOCIAL DEL ESTADO HOSPITAL SAN RAFAEL"
        ],
        [
         "5353",
         "HISPANIA",
         "Suroeste",
         "ORLANDO ARTURO MARÍN ATEHORTUA",
         "ESE HOSPITAL SAN JUAN DEL SUROESTE"
        ],
        [
         "5360",
         "ITAGUI",
         "Valle de Aburra",
         "DIEGO LEÓN TORRES SÁNCHEZ",
         "E.S.E. HOSPITAL SAN RAFAEL DE ITAGUI"
        ],
        [
         "5361",
         "ITUANGO",
         "Norte",
         "JAVIER DE JESÚS PARIAS POSSO",
         "E.S.E.  HOSPITAL SAN JUAN DE DIOS DE ITUANGO"
        ],
        [
         "5086",
         "BELMIRA",
         "Norte",
         "DARCY ESTEBAN ARBOLEDA RUA",
         "EMPRESA SOCIAL DEL ESTADO HOSPITAL NUESTRA SEÑORA DEL ROSARIO"
        ],
        [
         "5368",
         "JERICÓ",
         "Suroeste",
         "SEBASTIÁN GARCÉS PIEDRAHITA",
         "NUEVA ESE HOSPITAL SAN RAFAEL JERICO"
        ],
        [
         "5376",
         "LA CEJA",
         "Oriente",
         "MARÍA ILBED SANTA SANTA",
         "ESE HOSPITAL DE LA CEJA"
        ],
        [
         "5380",
         "LA ESTRELLA",
         "Valle de Aburra",
         "CARLOS MARIO GUTIÉRREZ",
         "EMPRESA SOCIAL DEL ESTADO HOSPITAL LA ESTRELLA"
        ],
        [
         "5390",
         "LA PINTADA",
         "Suroeste",
         "HERMÁN ANTONIO CORREA BEDOYA",
         "EMPRESA SOCIAL DEL ESTADO HOSPITAL ANTONIO ROLDAN BETANCUR"
        ],
        [
         "5400",
         "LA UNIÓN",
         "Oriente",
         "CARMEN JUDITH VALENCIA MORENO",
         "E.S.E. HOSPITAL SAN ROQUE"
        ],
        [
         "5411",
         "LIBORINA",
         "Occidente",
         "NANCY AMPARO AVENDAÑO MORENO",
         "EMPRESA SOCIAL DEL ESTADO HOSPITAL SAN LORENZO"
        ],
        [
         "5425",
         "MACEO",
         "Magdalena Medio",
         "CAROLINA ANDREA SOSA GÓMEZ",
         "EMPRESA SOCIAL DEL ESTADO HOSPITAL  MARCO A. CARDONA"
        ],
        [
         "5440",
         "MARINILLA",
         "Oriente",
         "JULIO CÉSAR SERNA GÓMEZ",
         "E.S.E. SAN JUAN DE DIOS DE MARINILLA"
        ],
        [
         "5467",
         "MONTEBELLO",
         "Suroeste",
         "ÓSCAR ERNESTO CUERVO VILLADA",
         "E.S.E. HOSPITAL SAN ANTONIO"
        ],
        [
         "5475",
         "MURINDÓ",
         "Uraba",
         "EMPERATRIZ MENA PALACIO",
         "ESE HOSPITAL SAN BARTOLOMÉ"
        ],
        [
         "5480",
         "MUTATÁ",
         "Uraba",
         "JAIRO ENRIQUE ORTIZ PALACIOS",
         "E.S.E. HOSPITAL LA ANUNCIACION"
        ],
        [
         "5483",
         "NARIÑO",
         "Oriente",
         "ÉRIKA CARDONA PÉREZ",
         "E.S.E. HOSPITAL SAN JOAQUIN"
        ],
        [
         "5490",
         "NECOCLÍ",
         "Uraba",
         "GUILLERMO JOSÉ CARDONA MORENO",
         "E.S.E. HOSPITAL SAN SEBASTIAN DE URABÁ"
        ],
        [
         "5495",
         "NECHÍ",
         "Bajo Cauca",
         "YUMARIS PATRICIA HENRÍQUEZ BANQUET",
         "ESE HOSPITAL LA MISERICORDIA"
        ],
        [
         "5501",
         "OLAYA",
         "Occidente",
         "JESÚS DAVID HERNÁNDEZ LONDOÑO",
         "ESE HOSPITAL SAN MIGUEL"
        ],
        [
         "5541",
         "PEÑOL",
         "Oriente",
         "SANDRA ARELIS DUQUE VELÁSQUEZ",
         "E.S.E HOSPITAL SAN JUAN DE DIOS"
        ],
        [
         "5543",
         "PEQUE",
         "Occidente",
         "EMILSON DE JESÚS HERNÁNDEZ HERNÁNDEZ",
         "E.S.E. HOSPITAL SAN FRANCISCO"
        ],
        [
         "5576",
         "PUEBLORRICO",
         "Suroeste",
         "CRISTIAN CAMILO ZAPATA RAMÍREZ",
         "E.S.E. HOSPITAL SAN VICENTE DE PAUL"
        ],
        [
         "5579",
         "PUERTO BERRÍO",
         "Magdalena Medio",
         "ROBINSON ALBERTO BAENA ZULUAGA",
         "E.S.E HOSPITAL LA CRUZ"
        ],
        [
         "5585",
         "PUERTO NARE",
         "Magdalena Medio",
         "JUAN CARLOS ACEVEDO ALZATE",
         "EMPRESA SOCIAL DEL ESTADO HOSPITAL OCTAVIO OLIVARES"
        ],
        [
         "5591",
         "PUERTO TRIUNFO",
         "Magdalena Medio",
         "FRANKLIN PORTILLO GÓMEZ",
         "ESE HOSPITAL LA PAZ"
        ],
        [
         "5604",
         "REMEDIOS",
         "Nordeste",
         "ALBEIRO ARENAS MOLINA",
         "EMPRESA SOCIAL DEL ESTADO HOSPITAL SAN VICENTE DE PAUL"
        ],
        [
         "5607",
         "RETIRO",
         "Oriente",
         "SANTIAGO MONTOYA GIRALDO",
         "E.S.E. HOSPITAL SAN JUAN DE DIOS DEL RETIRO"
        ],
        [
         "5615",
         "RIONEGRO",
         "Oriente",
         "JORGE HUMBERTO RIVAS URREA",
         "E.S.E. HOSPITAL SAN JUAN DE DIOS"
        ],
        [
         "5628",
         "SABANALARGA",
         "Occidente",
         "CÉSAR ALONSO CUADROS GEORGE",
         "E.S.E. HOSPITAL SAN PEDRO"
        ],
        [
         "5631",
         "SABANETA",
         "Valle de Aburra",
         "ALDER JAMES CRUZ OCAMPO",
         "E.S.E. HOSPITAL VENACIO DIAZ DIAZ"
        ],
        [
         "5642",
         "SALGAR",
         "Suroeste",
         "VÍCTOR RAÚL MAYA CEBALLOS",
         "E.S.E. HOSPITAL SAN JOSE"
        ],
        [
         "5652",
         "SAN FRANCISCO",
         "Oriente",
         "ARTURO ALEXANDER ARIAS DUQUE",
         "EMPRESA SOCIAL DEL ESTADO HOSPITAL SAN FRANCISCO DE ASIS"
        ],
        [
         "5656",
         "SAN JERÓNIMO",
         "Occidente",
         "DONALDO FERNÁN VIVARES GALLEGO",
         "E.S.E. HOSPITAL SAN LUIS BELTRAN"
        ],
        [
         "5660",
         "SAN LUIS",
         "Oriente",
         "CÉSAR ABAD BUITRAGO ARIAS",
         "E.S.E. HOSPITAL SAN RAFAEL DE SAN LUIS"
        ],
        [
         "5664",
         "SAN PEDRO DE LOS MILAGROS",
         "Norte",
         "JOSÉ DANILO ÁLVAREZ RODRÍGUEZ",
         "E.S.E. HOSPITAL SANTA ISABEL"
        ],
        [
         "5667",
         "SAN RAFAEL",
         "Oriente",
         "EDUIN ANICENO GIRALDO QUINTANA",
         "ESE HOSPITAL PBRO ALONSO MARIA GIRALDO"
        ],
        [
         "5670",
         "SAN ROQUE",
         "Nordeste",
         "LUIS ALEJANDRO VILLEGAS CANO",
         "ESE HOSPITAL MUNICIPAL SAN ROQUE"
        ],
        [
         "5674",
         "SAN VICENTE FERRER",
         "Oriente",
         "NELSON DE JESÚS HENAO ZAPATA",
         "E S E HOSPITAL MUNICIPIO DE SAN VICENTE"
        ],
        [
         "5679",
         "SANTA BÁRBARA",
         "Suroeste",
         "JORGE MARIO QUINTANA CAÑAVERAL",
         "EMPRESA SOCIAL DEL ESTADO HOSPITAL SANTAMARIA"
        ],
        [
         "5690",
         "SANTO DOMINGO",
         "Nordeste",
         "FABIO IGNACIO MIRA VALENCIA",
         "ESE HOSPITAL SAN RAFAEL"
        ],
        [
         "5697",
         "EL SANTUARIO",
         "Oriente",
         "MARTÍN ALBERTO DUQUE GALLO",
         "E.S.E. HOSPITAL SAN JUAN DE DIOS EL SANTUARIO"
        ],
        [
         "5736",
         "SEGOVIA",
         "Nordeste",
         "EDWIN ALEXANDER CASTAÑEDA VAHOS",
         "E.S.E. HOSPITAL SAN JUAN DE DIOS"
        ],
        [
         "5761",
         "SOPETRÁN",
         "Occidente",
         "TATIANA ALEXANDRA CARBALLO HOYOS",
         "EMPRESA SOCIAL DEL ESTADO HORACIO MUÑOZ SUESCUN"
        ],
        [
         "5789",
         "TÁMESIS",
         "Suroeste",
         "JUAN PABLO PÉREZ RÁMIREZ",
         "E.S.E HOSPITAL SAN JUAN DE DIOS"
        ],
        [
         "5790",
         "TARAZÁ",
         "Bajo Cauca",
         "YOMER FABIÁN ÁLVAREZ CORREA",
         "E.S.E. HOSPITAL SAN ANTONIO"
        ],
        [
         "5792",
         "TARSO",
         "Suroeste",
         "HUGO ALEXANDER OCAMPO RÍOS",
         "E.S.E SAN PABLO"
        ],
        [
         "5809",
         "TITIRIBÍ",
         "Suroeste",
         "ALEX DAVID RESTREPO SALAZAR",
         "ESE HOSPITAL SAN JUAN DE DIOS"
        ],
        [
         "5819",
         "TOLEDO",
         "Norte",
         "JHONNY ALBERTO MARÍN MUÑETÓN",
         "EMPRESA SOCIAL DEL ESTADO HOSPITAL PEDRO CLAVER AGUIRRE Y"
        ],
        [
         "5837",
         "TURBO",
         "Uraba",
         "ALEJANDRO ABUCHAR GONZÁLEZ",
         "EMPRESA SOCIAL DEL ESTADO HOSPITAL FRANCISCO VALDERRAMA"
        ],
        [
         "5842",
         "URAMITA",
         "Occidente",
         "LEONARDO ÚSUGA CORREA",
         "EMPRESA SOCIAL DEL ESTADO HOSPITAL TOBIAS PUERTA"
        ],
        [
         "5847",
         "URRAO",
         "Suroeste",
         "NELSON JAVIER BARRERA HOLGUÍN",
         "ESE HOSPITAL IVAN RESTREPO GOMEZ"
        ],
        [
         "5854",
         "VALDIVIA",
         "Norte",
         "CARLOS DANOBER MOLINA BETANCUR",
         "E.S.E HOSPITAL SAN JUAN DE DIOS DE VALDIVIA"
        ],
        [
         "5856",
         "VALPARAÍSO",
         "Suroeste",
         "JOSÉ MARIO HERNÁNDEZ DEVIA",
         "E.S.E. HOSPITAL SAN JUAN DE DIOS"
        ],
        [
         "5858",
         "VEGACHÍ",
         "Nordeste",
         "JOSÉ MARÍA OCHOA MUÑOZ",
         "E.S.E. HOSPITAL SAN CAMILO DE LELIS"
        ],
        [
         "5861",
         "VENECIA",
         "Suroeste",
         "FERNEY DARIO FERNÁNDEZ",
         "ESE HOSPITAL SAN RAFAEL DE VENECIA"
        ],
        [
         "5885",
         "YALÍ",
         "Nordeste",
         "JHON JAIRO GIRALDO POSADA",
         "E.S.E. HOSPITAL LA MISERICORDIA"
        ],
        [
         "5887",
         "YARUMAL",
         "Norte",
         "CRISTIAN DAVID CÉSPEDES CORREA",
         "E.S.E. HOSPITAL SAN JUAN DE DIOS YARUMAL"
        ],
        [
         "5890",
         "YOLOMBÓ",
         "Nordeste",
         "JESÚS AMADOR PÉREZ PALACIO",
         "EMPRESA SOCIAL DEL ESTADO HOSPITAL SAN RAFAEL DE YOLOMBO"
        ],
        [
         "5893",
         "YONDÓ",
         "Magdalena Medio",
         "YERSON ANTONIO ARIZA RIVERA",
         "ESE HOSPITAL HECTOR ABAD GOMEZ"
        ],
        [
         "5895",
         "ZARAGOZA",
         "Bajo Cauca",
         "ANDRÉS EMILIO LUJAN MONROY",
         "ESE HOSPITAL SAN RAFAEL"
        ],
        [
         "5665",
         "SAN PEDRO DE URABA",
         "Uraba",
         "NEVER JACINTO CARVAJAL MIRANDA",
         "E.S.E. HOSPITAL OSCAR EMIRO VERGARA CRUZ"
        ],
        [
         "5042",
         "SANTAFÉ DE ANTIOQUIA",
         "Occidente",
         "YAMID CARVAJAL CARVAJAL",
         "E.S.E. HOSPITAL SAN JUAN DE DIOS ANTIOQUIA"
        ],
        [
         "5686",
         "SANTA ROSA DE OSOS",
         "Norte",
         "LUIS BERNADO MOLINA GRANDA",
         "E.S.E. HOSPITAL SAN JUAN DE DIOS DE SANTA ROSA DE OSOS"
        ],
        [
         "5647",
         "SAN ANDRÉS DE CUERQUÍA",
         "Norte",
         "JOSÉ FERNANDO CHAVARRÍA CHAVARRÍA",
         "E.S.E GUSTAVO GONZALEZ OCHOA"
        ],
        [
         "5873",
         "VIGÍA DEL FUERTE",
         "Uraba",
         "JHOSELIN LOZANO MENA",
         "E.S.E HOSPITAL ATRATO MEDIO ANTIOQUEÑO"
        ],
        [
         "5658",
         "SAN JOSÉ DE LA MONTAÑA",
         "Norte",
         "JULIÁN ANDRÉS GONZÁLEZ POSADA",
         "E.S.E. HOSPITAL LAUREANO PINO"
        ],
        [
         "5659",
         "SAN JUAN DE URABÁ",
         "Uraba",
         "LUIS FERNANDO RUIZ DÍAZ",
         "E.S.E. HOSPITAL HECTOR ABAD GOMEZ"
        ],
        [
         "5148",
         "EL CARMEN DE VIBORAL",
         "Oriente",
         "HUGO ALFONSO JÍMENEZ CUERVO",
         "E.S.E. HOSPITAL SAN JUAN DE DIOS"
        ],
        [
         "5649",
         "SAN CARLOS",
         "Oriente",
         "SANTIAGO DAZA ESPINOSA",
         "E.S.E. HOSPITAL SAN VICENTE DE PAUL"
        ],
        [
         "5284",
         "FRONTINO",
         "Occidente",
         "LUZ GABRIELA RIVERA CANO",
         "EMPRESA SOCIAL DEL ESTADO HOSPITAL MARIA ANTONIA TORO DE ELEJALDE"
        ],
        [
         "5313",
         "GRANADA",
         "Oriente",
         "DANIEL ANDRÉS HOYOS YEPES",
         "ESE HOSPITAL PADRE CLEMENTE GIRALDO"
        ],
        [
         "5364",
         "JARDÍN",
         "Suroeste",
         "CLAUDIA YANETH NARANJO AGUDELO",
         "E.S.E HOSPITAL GABRIEL PELÁEZ MONTOYA"
        ],
        [
         "5756",
         "SONSON",
         "Oriente",
         "JUAN DIEGO ZULUAGA PULGARÍN",
         "EMPRESA SOCIAL DEL ESTADO SAN JUAN DE DIOS"
        ]
       ],
       "datasetInfos": [],
       "dbfsResultPath": null,
       "isJsonSchema": true,
       "metadata": {},
       "overflow": false,
       "plotOptions": {
        "customPlotOptions": {},
        "displayType": "table",
        "pivotAggregation": null,
        "pivotColumns": null,
        "xColumns": null,
        "yColumns": null
       },
       "removedWidgets": [],
       "schema": [
        {
         "metadata": "{}",
         "name": "codigo_municipio",
         "type": "\"string\""
        },
        {
         "metadata": "{}",
         "name": "nombre_municipio",
         "type": "\"string\""
        },
        {
         "metadata": "{}",
         "name": "nombre_region",
         "type": "\"string\""
        },
        {
         "metadata": "{}",
         "name": "nombre_alcalde",
         "type": "\"string\""
        },
        {
         "metadata": "{}",
         "name": "nombre_hospital",
         "type": "\"string\""
        }
       ],
       "type": "table"
      }
     },
     "output_type": "display_data"
    }
   ],
   "source": [
    "%sql\n",
    "SELECT codigo_municipio,nombre_municipio,nombre_region,nombre_alcalde,nombre_hospital\n",
    "FROM municipios_info"
   ]
  }
 ],
 "metadata": {
  "application/vnd.databricks.v1+notebook": {
   "dashboards": [],
   "environmentMetadata": null,
   "language": "python",
   "notebookMetadata": {
    "mostRecentlyExecutedCommandWithImplicitDF": {
     "commandId": 279813603798225,
     "dataframes": [
      "_sqldf"
     ]
    },
    "pythonIndentUnit": 4
   },
   "notebookName": "Notebook_EA3",
   "widgets": {}
  }
 },
 "nbformat": 4,
 "nbformat_minor": 0
}
